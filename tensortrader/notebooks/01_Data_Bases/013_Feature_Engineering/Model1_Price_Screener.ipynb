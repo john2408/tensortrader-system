{
 "cells": [
  {
   "cell_type": "code",
   "execution_count": 239,
   "metadata": {},
   "outputs": [],
   "source": [
    "import warnings\n",
    "warnings.filterwarnings('ignore')\n",
    "import numpy as np\n",
    "import pandas as pd\n",
    "from datetime import datetime\n",
    "import re\n",
    "\n",
    "%matplotlib inline"
   ]
  },
  {
   "cell_type": "code",
   "execution_count": 240,
   "metadata": {},
   "outputs": [
    {
     "name": "stdout",
     "output_type": "stream",
     "text": [
      "Reading file /media/john/Data/Tensor_Invest_Fund/data/Micro_Mini_Future_ES/2021_Micro_Mini_Future_ES.parquet\n",
      "Reading file /media/john/Data/Tensor_Invest_Fund/data/Micro_Mini_Future_ES/2022_Micro_Mini_Future_ES.parquet\n"
     ]
    }
   ],
   "source": [
    "input_folder_db = '/media/john/Data/Tensor_Invest_Fund/data/'\n",
    "\n",
    "stocks = ['NQ', 'ES']\n",
    "stocks = ['ES']\n",
    "ticker = {'NQ': 'MNQ', 'ES':'MES'} \n",
    "\n",
    "folder_path = 'Micro_Mini_Future_'\n",
    "parquet_file_name = '_Micro_Mini_Future_'\n",
    "\n",
    "years_filter = [2021,2022]\n",
    "\n",
    "\n",
    "dfs = []\n",
    "\n",
    "for stock in stocks:\n",
    "    for year in years_filter:\n",
    "\n",
    "        file_name = os.path.join(input_folder_db, f'{folder_path}{stock}', f'{year}{parquet_file_name}{stock}.parquet'  )\n",
    "\n",
    "        print(\"Reading file\", file_name)\n",
    "        \n",
    "        df = pd.read_parquet(file_name)\n",
    "\n",
    "        df['ticker'] = ticker[stock]\n",
    "\n",
    "        dfs.append(df)\n",
    "\n",
    "        del df\n",
    "\n",
    "data = pd.concat(dfs, ignore_index = True)\n"
   ]
  },
  {
   "cell_type": "code",
   "execution_count": 241,
   "metadata": {},
   "outputs": [],
   "source": [
    "def convert_time_format(x):\n",
    "\n",
    "    if re.search('\\d{6}', x):\n",
    "        return x[:2] + \":\" + x[2:4]\n",
    "    else:\n",
    "        return x\n",
    "\n",
    "data.loc[:,'Time'] = data['Time'].apply(lambda x: convert_time_format(x) )\n",
    "\n",
    "# Convert to Datetime\n",
    "data['timestamp'] = pd.to_datetime((data['Date'].astype(str) + \" \" + data['Time'].astype(str) ), format = \"%Y-%m-%d %H:%M\")\n",
    "\n",
    "# Convert Time to tuple\n",
    "data['Time_tuple'] = data['Time'].apply(lambda x: tuple([int(x[:2]) , int(x[-2:])] ))"
   ]
  },
  {
   "cell_type": "code",
   "execution_count": 242,
   "metadata": {},
   "outputs": [
    {
     "name": "stdout",
     "output_type": "stream",
     "text": [
      "<class 'pandas.core.frame.DataFrame'>\n",
      "Int64Index: 390964 entries, 0 to 390963\n",
      "Data columns (total 16 columns):\n",
      " #   Column      Non-Null Count   Dtype         \n",
      "---  ------      --------------   -----         \n",
      " 0   Date        390964 non-null  datetime64[ns]\n",
      " 1   Time        390964 non-null  object        \n",
      " 2   Open        390964 non-null  float64       \n",
      " 3   High        390964 non-null  float64       \n",
      " 4   Low         390964 non-null  float64       \n",
      " 5   Close       390964 non-null  float64       \n",
      " 6   Vol         390964 non-null  float64       \n",
      " 7   OI          0 non-null       float64       \n",
      " 8   year        390964 non-null  int64         \n",
      " 9   month       390964 non-null  int64         \n",
      " 10  day         390964 non-null  int64         \n",
      " 11  hour        390964 non-null  object        \n",
      " 12  minute      390964 non-null  object        \n",
      " 13  ticker      390964 non-null  object        \n",
      " 14  timestamp   390964 non-null  datetime64[ns]\n",
      " 15  Time_tuple  390964 non-null  object        \n",
      "dtypes: datetime64[ns](2), float64(6), int64(3), object(5)\n",
      "memory usage: 50.7+ MB\n"
     ]
    }
   ],
   "source": [
    "data[data['ticker'] == 'MES'].info()"
   ]
  },
  {
   "cell_type": "code",
   "execution_count": 243,
   "metadata": {},
   "outputs": [
    {
     "data": {
      "text/plain": [
       "Timestamp('2022-02-09 00:00:00')"
      ]
     },
     "execution_count": 243,
     "metadata": {},
     "output_type": "execute_result"
    }
   ],
   "source": [
    "data['Date'].max()"
   ]
  },
  {
   "cell_type": "markdown",
   "metadata": {},
   "source": [
    "# Model 1\n",
    "\n",
    "Defining Profit-Stop Strategy \n",
    "\n",
    "Profit-Strop Ratio 3:1"
   ]
  },
  {
   "cell_type": "code",
   "execution_count": 5,
   "metadata": {},
   "outputs": [],
   "source": [
    "# TODO: Add for short \n",
    "\n",
    "# Target points\n",
    "tp = 10\n",
    "\n",
    "# Stop points\n",
    "sp = 10  # [0,10] - nidrieges Risiko / > 10 hohes Risiko\n",
    "\n",
    "# Window Time Frame ( in minutes)\n",
    "w = 5\n",
    "\n",
    "strategy = f\"t{tp}-r{sp}_w{w}\"\n",
    "\n",
    "# Select Ticker\n",
    "ticker = 'MNQ'\n",
    "\n",
    "# Select Training/Testing Data\n",
    "start_date = datetime(2021,6,1)\n",
    "end_date = datetime(2021,10,14)\n",
    "\n",
    "time_filter = True\n",
    "\n",
    "start_time = tuple([15,10])\n",
    "end_time = tuple([21,50])\n",
    "\n",
    "max_end_win_time = tuple([end_time[0],end_time[1]-w])\n",
    "\n",
    "# Filter for ticke MNQ\n",
    "df_input = data[(data['Date'] >= start_date) & (data['Date'] <= end_date)].copy(deep = True)\n",
    "\n",
    "if time_filter: \n",
    "    df_input = df_input[(df_input['Time_tuple'] >= start_time) & (df_input['Time_tuple'] <= end_time) ]\n",
    "\n",
    "df_input = df_input[df_input['ticker'] == ticker].copy(deep = True).reset_index(drop = True)"
   ]
  },
  {
   "cell_type": "code",
   "execution_count": 6,
   "metadata": {},
   "outputs": [
    {
     "data": {
      "text/plain": [
       "(21, 45)"
      ]
     },
     "execution_count": 6,
     "metadata": {},
     "output_type": "execute_result"
    }
   ],
   "source": [
    "max_end_win_time"
   ]
  },
  {
   "cell_type": "code",
   "execution_count": 7,
   "metadata": {},
   "outputs": [
    {
     "name": "stdout",
     "output_type": "stream",
     "text": [
      " Data Available from  2021-06-01 15:10:00  to  2021-10-14 21:50:00\n",
      " Time available from (15, 10)  until  (21, 50)\n",
      " Number of possibble entries:  38958\n"
     ]
    }
   ],
   "source": [
    "min_date = df_input['datetime'].min()\n",
    "max_date = df_input['datetime'].max()\n",
    "\n",
    "print(\" Data Available from \", min_date, \" to \", max_date)\n",
    "print(\" Time available from\", df_input['Time_tuple'].min(), \" until \", df_input['Time_tuple'].max())\n",
    "print(\" Number of possibble entries: \", df_input.shape[0])"
   ]
  },
  {
   "cell_type": "code",
   "execution_count": 8,
   "metadata": {},
   "outputs": [
    {
     "name": "stdout",
     "output_type": "stream",
     "text": [
      "<class 'pandas.core.frame.DataFrame'>\n",
      "RangeIndex: 38958 entries, 0 to 38957\n",
      "Data columns (total 16 columns):\n",
      " #   Column      Non-Null Count  Dtype         \n",
      "---  ------      --------------  -----         \n",
      " 0   Date        38958 non-null  datetime64[ns]\n",
      " 1   Time        38958 non-null  object        \n",
      " 2   Open        38958 non-null  float64       \n",
      " 3   High        38958 non-null  float64       \n",
      " 4   Low         38958 non-null  float64       \n",
      " 5   Close       38958 non-null  float64       \n",
      " 6   Vol         38958 non-null  float64       \n",
      " 7   OI          38958 non-null  float64       \n",
      " 8   year        38958 non-null  int64         \n",
      " 9   month       38958 non-null  int64         \n",
      " 10  day         38958 non-null  int64         \n",
      " 11  hour        38958 non-null  object        \n",
      " 12  minute      38958 non-null  object        \n",
      " 13  ticker      38958 non-null  object        \n",
      " 14  datetime    38958 non-null  datetime64[ns]\n",
      " 15  Time_tuple  38958 non-null  object        \n",
      "dtypes: datetime64[ns](2), float64(6), int64(3), object(5)\n",
      "memory usage: 4.8+ MB\n"
     ]
    }
   ],
   "source": [
    "df_input.info()"
   ]
  },
  {
   "cell_type": "code",
   "execution_count": 9,
   "metadata": {},
   "outputs": [],
   "source": [
    "def model_1_price_change_region(x, bar_price_type):\n",
    "\n",
    "    if x[bar_price_type] >= x['target_price']:\n",
    "        return 2\n",
    "\n",
    "    if x[bar_price_type] < x['target_price'] and x[bar_price_type] >= x['entry_price']:\n",
    "        return 1\n",
    "    \n",
    "    if x[bar_price_type] > x['stop_price'] and x[bar_price_type] < x['entry_price']:\n",
    "        return 0\n",
    "\n",
    "    if x[bar_price_type] <= x['stop_price']:\n",
    "        return -1\n",
    "\n",
    "def model_1_target_classification(df_window):\n",
    "\n",
    "    Z_matrix = np.array(df_window[['price_region_high','price_region_low']])\n",
    "\n",
    "    # The Target profit cannot be reached in the same minute as entry position\n",
    "    condition_profit = 2 in Z_matrix[1:]\n",
    "\n",
    "    if condition_profit:\n",
    "        return 1\n",
    "    else:\n",
    "        return 0\n",
    "\n",
    "def model_1_risk_classification(df_window):\n",
    "\n",
    "    Z_matrix = np.array(df_window[['price_region_high','price_region_low']])\n",
    "\n",
    "    # There should not be any -1\n",
    "    condition_low_risk = 0 in Z_matrix\n",
    "    condition_high_risk = -1 in Z_matrix\n",
    "\n",
    "    # First test for high risk condition\n",
    "    # if high risk condition is not met \n",
    "    # then it should be a low risk condition\n",
    "    if condition_high_risk:\n",
    "        return 0\n",
    "    elif condition_low_risk:\n",
    "        return 1\n",
    "    else:\n",
    "        return 1\n",
    "\n",
    "\n",
    "def model1(df_input, max_end_win_time, time_filter, verbose = 0):\n",
    "    \"\"\"\n",
    "    \"\"\"\n",
    "\n",
    "    # Define Entry at Market Price as mean values between High and Low\n",
    "    df_input['entry_market'] = df_input[['High','Low']].mean(axis = 1)\n",
    "    # Define Target Price\n",
    "    df_input['target'] = df_input['entry_market'].apply(lambda x: x + tp)\n",
    "    # Define Stop price\n",
    "    df_input['stop'] =  df_input['entry_market'].apply(lambda x: x - sp)\n",
    "\n",
    "    # Set Limit for Screener\n",
    "    # Screener alwasy needs w bars in the future\n",
    "    # to be able to classify a point\n",
    "    limit_loop = df_input.shape[0] - w -1\n",
    "\n",
    "    df_windows = []\n",
    "\n",
    "    df_classified = pd.DataFrame()\n",
    "\n",
    "    for index, row in df_input.iterrows():\n",
    "\n",
    "        if index == limit_loop:\n",
    "            break\n",
    "            \n",
    "        if time_filter:\n",
    "            if row['Time_tuple'] > max_end_win_time:\n",
    "                continue\n",
    "        \n",
    "        target = row['target']\n",
    "        entry_market = row['entry_market'] \n",
    "        stop = row['stop'] \n",
    "        _datetime = row['datetime']\n",
    "\n",
    "        df_window = df_input.iloc[index + 1:index + w +1,:].copy(deep = True)\n",
    "\n",
    "        df_window.drop( columns = ['entry_market','target','stop'], inplace = True)\n",
    "\n",
    "        df_window.loc[:,'target_price'] = target\n",
    "        df_window.loc[:,'stop_price'] = stop\n",
    "        df_window.loc[:,'entry_price'] = entry_market\n",
    "        df_window.loc[:,'entry_time'] = _datetime\n",
    "\n",
    "        # Classify Price Region for all highs\n",
    "        df_window.loc[:,'price_region_high'] = (df_window[['High','target_price','stop_price','entry_price']]\n",
    "                                .apply(lambda x: model_1_price_change_region(x, bar_price_type = 'High'), \n",
    "                                axis = 1 ))\n",
    "\n",
    "        # Classify Price Region for all lows\n",
    "        df_window.loc[:,'price_region_low'] = (df_window[['Low','target_price','stop_price','entry_price']]\n",
    "                                        .apply(lambda x: model_1_price_change_region(x, bar_price_type = 'Low'), \n",
    "                                        axis = 1 ))\n",
    "\n",
    "        entry_type = model_1_target_classification(df_window)\n",
    "        risk_type  = model_1_risk_classification(df_window)\n",
    "        \n",
    "        df_class = pd.DataFrame({'datetime': [_datetime]})\n",
    "\n",
    "        # Entry can be: 1: Target filled, 0: Target not filled\n",
    "        df_class['entry_type'] = entry_type\n",
    "        df_class['entry_market'] = entry_market\n",
    "\n",
    "        # Risk can be 1: Low Risk, 0: High Risk\n",
    "        df_class['risk_type'] = risk_type\n",
    "\n",
    "        if df_classified.empty:\n",
    "            df_classified = df_class.copy()\n",
    "        else:\n",
    "            df_classified = df_classified.append(df_class)\n",
    "\n",
    "        if verbose > 0:\n",
    "            print(index, \": \" ,row['datetime'], \" - Entry Price\" , row['entry_market'], \"is an entry type\", entry_type)\n",
    "\n",
    "        df_windows.append(df_window)\n",
    "\n",
    "        #break\n",
    "\n",
    "    # For all Z(t) Values\n",
    "    # Concat them in one data frame\n",
    "    df_windows = pd.concat(df_windows, ignore_index = True)\n",
    "\n",
    "    # Join Entry Classification back to input data frame\n",
    "    df_input = pd.merge( df_input, df_classified, on = ['datetime','entry_market'], how = 'left')\n",
    "\n",
    "    return df_input, df_windows\n",
    "\n",
    "        "
   ]
  },
  {
   "cell_type": "code",
   "execution_count": 10,
   "metadata": {},
   "outputs": [],
   "source": [
    "df_input_class, df_windows = model1(df_input, max_end_win_time, time_filter, verbose = 0)"
   ]
  },
  {
   "cell_type": "code",
   "execution_count": 11,
   "metadata": {},
   "outputs": [
    {
     "data": {
      "text/plain": [
       "0.0    28017\n",
       "1.0    10460\n",
       "Name: entry_type, dtype: int64"
      ]
     },
     "execution_count": 11,
     "metadata": {},
     "output_type": "execute_result"
    }
   ],
   "source": [
    "df_input_class['entry_type'].value_counts()"
   ]
  },
  {
   "cell_type": "code",
   "execution_count": 12,
   "metadata": {},
   "outputs": [
    {
     "data": {
      "text/plain": [
       "1.0    27379\n",
       "0.0    11098\n",
       "Name: risk_type, dtype: int64"
      ]
     },
     "execution_count": 12,
     "metadata": {},
     "output_type": "execute_result"
    }
   ],
   "source": [
    "df_input_class['risk_type'].value_counts()"
   ]
  },
  {
   "cell_type": "code",
   "execution_count": 13,
   "metadata": {},
   "outputs": [
    {
     "data": {
      "text/plain": [
       "Index(['Date', 'Time', 'Open', 'High', 'Low', 'Close', 'Vol', 'OI', 'year',\n",
       "       'month', 'day', 'hour', 'minute', 'ticker', 'datetime', 'Time_tuple',\n",
       "       'entry_market', 'target', 'stop', 'entry_type', 'risk_type'],\n",
       "      dtype='object')"
      ]
     },
     "execution_count": 13,
     "metadata": {},
     "output_type": "execute_result"
    }
   ],
   "source": [
    "df_input_class.columns"
   ]
  },
  {
   "cell_type": "code",
   "execution_count": 14,
   "metadata": {},
   "outputs": [],
   "source": [
    "# t = '2021-09-20 21:10:00'\n",
    "# df_input[df_input['datetime'] == t ]\n",
    "# df_windows[df_windows['entry_time'] == t][['entry_time','High','Low','entry_price','target_price','stop_price','Time_tuple','price_region_high','price_region_low']]"
   ]
  },
  {
   "cell_type": "markdown",
   "metadata": {},
   "source": [
    "## Data Storage"
   ]
  },
  {
   "cell_type": "code",
   "execution_count": 15,
   "metadata": {},
   "outputs": [
    {
     "name": "stdout",
     "output_type": "stream",
     "text": [
      "../../data/Model1\\MNQ\\Bar_Entry_Positions_2021-06-01_2021-10-14_t10-r10_w5.parquet\n"
     ]
    }
   ],
   "source": [
    "output_location_entry = os.path.join(input_folder_db, 'Model1',  ticker, 'Bar_Entry_Positions_{}_{}_{}.parquet'\n",
    "                            .format(start_date.strftime('%Y-%m-%d'), \n",
    "                            end_date.strftime('%Y-%m-%d'),\n",
    "                            strategy ))\n",
    "\n",
    "output_location_windows = os.path.join(input_folder_db, 'Model1',  ticker, 'Windows_Price_Region_{}_{}_{}.parquet'\n",
    "                            .format(start_date.strftime('%Y-%m-%d'), \n",
    "                            end_date.strftime('%Y-%m-%d'),\n",
    "                            strategy ))\n",
    "\n",
    "print(output_location_entry)\n",
    "\n",
    "df_input_class['Time_tuple'] = df_input_class['Time_tuple'].astype(str)\n",
    "df_input_class.to_parquet(output_location_entry , engine = 'fastparquet', compression = 'gzip')\n",
    "\n",
    "df_windows['Time_tuple'] = df_windows['Time_tuple'].astype(str)\n",
    "df_windows.to_parquet(output_location_windows , engine = 'fastparquet', compression = 'gzip')"
   ]
  },
  {
   "cell_type": "code",
   "execution_count": 16,
   "metadata": {},
   "outputs": [
    {
     "name": "stdout",
     "output_type": "stream",
     "text": [
      "data Stored at:\n",
      " Classification entry data:  ../../data/Model1\\MNQ\\Bar_Entry_Positions_2021-06-01_2021-10-14_t10-r10_w5.parquet\n",
      " Windows classification: ../../data/Model1\\MNQ\\Windows_Price_Region_2021-06-01_2021-10-14_t10-r10_w5.parquet\n"
     ]
    }
   ],
   "source": [
    "print(\"data Stored at:\")\n",
    "\n",
    "print(\" Classification entry data: \", output_location_entry)\n",
    "\n",
    "print(\" Windows classification:\", output_location_windows)"
   ]
  },
  {
   "cell_type": "code",
   "execution_count": 17,
   "metadata": {},
   "outputs": [
    {
     "data": {
      "text/plain": [
       "'../../data/Model1\\\\MNQ\\\\Bar_Entry_Positions_2021-06-01_2021-10-14_t10-r10_w5.parquet'"
      ]
     },
     "execution_count": 17,
     "metadata": {},
     "output_type": "execute_result"
    }
   ],
   "source": [
    "output_location_entry"
   ]
  },
  {
   "cell_type": "code",
   "execution_count": null,
   "metadata": {},
   "outputs": [],
   "source": []
  }
 ],
 "metadata": {
  "interpreter": {
   "hash": "2d6665af479ab98ef4acca01ca45d4d57a52903c594eb1765faf156f4475f423"
  },
  "kernelspec": {
   "display_name": "Python 3.7.7 64-bit ('AlgoTrading': conda)",
   "name": "python3"
  },
  "language_info": {
   "codemirror_mode": {
    "name": "ipython",
    "version": 3
   },
   "file_extension": ".py",
   "mimetype": "text/x-python",
   "name": "python",
   "nbconvert_exporter": "python",
   "pygments_lexer": "ipython3",
   "version": "3.7.11"
  },
  "orig_nbformat": 4
 },
 "nbformat": 4,
 "nbformat_minor": 2
}
