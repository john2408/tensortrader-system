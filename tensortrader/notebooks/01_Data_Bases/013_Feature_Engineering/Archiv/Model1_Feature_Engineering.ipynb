{
 "cells": [
  {
   "cell_type": "code",
   "execution_count": 1,
   "metadata": {},
   "outputs": [],
   "source": [
    "import warnings\n",
    "warnings.filterwarnings('ignore')\n",
    "\n",
    "%matplotlib inline\n",
    "\n",
    "import numpy as np\n",
    "import pandas as pd\n",
    "import pandas_datareader.data as web\n",
    "\n",
    "from pyfinance.ols import PandasRollingOLS\n",
    "\n",
    "import pandas_ta as ta\n",
    "from talib import RSI, BBANDS, MACD, NATR, ATR\n",
    "\n",
    "from sklearn.feature_selection import mutual_info_classif, mutual_info_regression\n",
    "\n",
    "import matplotlib.pyplot as plt\n",
    "import seaborn as sns\n",
    "import os"
   ]
  },
  {
   "cell_type": "code",
   "execution_count": 2,
   "metadata": {},
   "outputs": [],
   "source": [
    "sns.set_style('whitegrid')\n",
    "idx = pd.IndexSlice"
   ]
  },
  {
   "cell_type": "code",
   "execution_count": 10,
   "metadata": {},
   "outputs": [],
   "source": [
    "input_folder_db = '../../data/Model1'\n",
    "\n",
    "data_path = 'MNQ/Bar_Entry_Positions_2021-09-01_2021-10-14.parquet'\n",
    "\n",
    "data = pd.read_parquet(os.path.join(input_folder_db, data_path))"
   ]
  },
  {
   "cell_type": "code",
   "execution_count": 11,
   "metadata": {},
   "outputs": [],
   "source": [
    "data.drop(columns = ['OI'], inplace= True)"
   ]
  },
  {
   "cell_type": "code",
   "execution_count": 13,
   "metadata": {},
   "outputs": [
    {
     "data": {
      "text/html": [
       "<div>\n",
       "<style scoped>\n",
       "    .dataframe tbody tr th:only-of-type {\n",
       "        vertical-align: middle;\n",
       "    }\n",
       "\n",
       "    .dataframe tbody tr th {\n",
       "        vertical-align: top;\n",
       "    }\n",
       "\n",
       "    .dataframe thead th {\n",
       "        text-align: right;\n",
       "    }\n",
       "</style>\n",
       "<table border=\"1\" class=\"dataframe\">\n",
       "  <thead>\n",
       "    <tr style=\"text-align: right;\">\n",
       "      <th></th>\n",
       "      <th>Date</th>\n",
       "      <th>Time</th>\n",
       "      <th>Open</th>\n",
       "      <th>High</th>\n",
       "      <th>Low</th>\n",
       "      <th>Close</th>\n",
       "      <th>Vol</th>\n",
       "      <th>year</th>\n",
       "      <th>month</th>\n",
       "      <th>day</th>\n",
       "      <th>hour</th>\n",
       "      <th>minute</th>\n",
       "      <th>ticker</th>\n",
       "      <th>datetime</th>\n",
       "      <th>Time_tuple</th>\n",
       "      <th>entry_market</th>\n",
       "      <th>target</th>\n",
       "      <th>stop</th>\n",
       "      <th>entry_type</th>\n",
       "      <th>risk_type</th>\n",
       "    </tr>\n",
       "    <tr>\n",
       "      <th>index</th>\n",
       "      <th></th>\n",
       "      <th></th>\n",
       "      <th></th>\n",
       "      <th></th>\n",
       "      <th></th>\n",
       "      <th></th>\n",
       "      <th></th>\n",
       "      <th></th>\n",
       "      <th></th>\n",
       "      <th></th>\n",
       "      <th></th>\n",
       "      <th></th>\n",
       "      <th></th>\n",
       "      <th></th>\n",
       "      <th></th>\n",
       "      <th></th>\n",
       "      <th></th>\n",
       "      <th></th>\n",
       "      <th></th>\n",
       "      <th></th>\n",
       "    </tr>\n",
       "  </thead>\n",
       "  <tbody>\n",
       "    <tr>\n",
       "      <th>0</th>\n",
       "      <td>2021-09-01</td>\n",
       "      <td>15:10</td>\n",
       "      <td>15616.75</td>\n",
       "      <td>15617.50</td>\n",
       "      <td>15615.75</td>\n",
       "      <td>15616.50</td>\n",
       "      <td>92.0</td>\n",
       "      <td>2021</td>\n",
       "      <td>9</td>\n",
       "      <td>1</td>\n",
       "      <td>15</td>\n",
       "      <td>10</td>\n",
       "      <td>MNQ</td>\n",
       "      <td>2021-09-01 15:10:00</td>\n",
       "      <td>(15, 10)</td>\n",
       "      <td>15616.625</td>\n",
       "      <td>15636.625</td>\n",
       "      <td>15606.625</td>\n",
       "      <td>0.0</td>\n",
       "      <td>1.0</td>\n",
       "    </tr>\n",
       "    <tr>\n",
       "      <th>1</th>\n",
       "      <td>2021-09-01</td>\n",
       "      <td>15:11</td>\n",
       "      <td>15616.00</td>\n",
       "      <td>15620.00</td>\n",
       "      <td>15615.50</td>\n",
       "      <td>15620.00</td>\n",
       "      <td>255.0</td>\n",
       "      <td>2021</td>\n",
       "      <td>9</td>\n",
       "      <td>1</td>\n",
       "      <td>15</td>\n",
       "      <td>11</td>\n",
       "      <td>MNQ</td>\n",
       "      <td>2021-09-01 15:11:00</td>\n",
       "      <td>(15, 11)</td>\n",
       "      <td>15617.750</td>\n",
       "      <td>15637.750</td>\n",
       "      <td>15607.750</td>\n",
       "      <td>0.0</td>\n",
       "      <td>1.0</td>\n",
       "    </tr>\n",
       "    <tr>\n",
       "      <th>2</th>\n",
       "      <td>2021-09-01</td>\n",
       "      <td>15:12</td>\n",
       "      <td>15619.50</td>\n",
       "      <td>15620.00</td>\n",
       "      <td>15617.00</td>\n",
       "      <td>15619.75</td>\n",
       "      <td>150.0</td>\n",
       "      <td>2021</td>\n",
       "      <td>9</td>\n",
       "      <td>1</td>\n",
       "      <td>15</td>\n",
       "      <td>12</td>\n",
       "      <td>MNQ</td>\n",
       "      <td>2021-09-01 15:12:00</td>\n",
       "      <td>(15, 12)</td>\n",
       "      <td>15618.500</td>\n",
       "      <td>15638.500</td>\n",
       "      <td>15608.500</td>\n",
       "      <td>0.0</td>\n",
       "      <td>1.0</td>\n",
       "    </tr>\n",
       "    <tr>\n",
       "      <th>3</th>\n",
       "      <td>2021-09-01</td>\n",
       "      <td>15:13</td>\n",
       "      <td>15620.00</td>\n",
       "      <td>15621.25</td>\n",
       "      <td>15618.75</td>\n",
       "      <td>15619.25</td>\n",
       "      <td>186.0</td>\n",
       "      <td>2021</td>\n",
       "      <td>9</td>\n",
       "      <td>1</td>\n",
       "      <td>15</td>\n",
       "      <td>13</td>\n",
       "      <td>MNQ</td>\n",
       "      <td>2021-09-01 15:13:00</td>\n",
       "      <td>(15, 13)</td>\n",
       "      <td>15620.000</td>\n",
       "      <td>15640.000</td>\n",
       "      <td>15610.000</td>\n",
       "      <td>0.0</td>\n",
       "      <td>1.0</td>\n",
       "    </tr>\n",
       "    <tr>\n",
       "      <th>4</th>\n",
       "      <td>2021-09-01</td>\n",
       "      <td>15:14</td>\n",
       "      <td>15619.25</td>\n",
       "      <td>15619.50</td>\n",
       "      <td>15617.25</td>\n",
       "      <td>15618.25</td>\n",
       "      <td>104.0</td>\n",
       "      <td>2021</td>\n",
       "      <td>9</td>\n",
       "      <td>1</td>\n",
       "      <td>15</td>\n",
       "      <td>14</td>\n",
       "      <td>MNQ</td>\n",
       "      <td>2021-09-01 15:14:00</td>\n",
       "      <td>(15, 14)</td>\n",
       "      <td>15618.375</td>\n",
       "      <td>15638.375</td>\n",
       "      <td>15608.375</td>\n",
       "      <td>0.0</td>\n",
       "      <td>1.0</td>\n",
       "    </tr>\n",
       "  </tbody>\n",
       "</table>\n",
       "</div>"
      ],
      "text/plain": [
       "            Date   Time      Open      High       Low     Close    Vol  year  \\\n",
       "index                                                                          \n",
       "0     2021-09-01  15:10  15616.75  15617.50  15615.75  15616.50   92.0  2021   \n",
       "1     2021-09-01  15:11  15616.00  15620.00  15615.50  15620.00  255.0  2021   \n",
       "2     2021-09-01  15:12  15619.50  15620.00  15617.00  15619.75  150.0  2021   \n",
       "3     2021-09-01  15:13  15620.00  15621.25  15618.75  15619.25  186.0  2021   \n",
       "4     2021-09-01  15:14  15619.25  15619.50  15617.25  15618.25  104.0  2021   \n",
       "\n",
       "       month  day hour minute ticker            datetime Time_tuple  \\\n",
       "index                                                                 \n",
       "0          9    1   15     10    MNQ 2021-09-01 15:10:00   (15, 10)   \n",
       "1          9    1   15     11    MNQ 2021-09-01 15:11:00   (15, 11)   \n",
       "2          9    1   15     12    MNQ 2021-09-01 15:12:00   (15, 12)   \n",
       "3          9    1   15     13    MNQ 2021-09-01 15:13:00   (15, 13)   \n",
       "4          9    1   15     14    MNQ 2021-09-01 15:14:00   (15, 14)   \n",
       "\n",
       "       entry_market     target       stop  entry_type  risk_type  \n",
       "index                                                             \n",
       "0         15616.625  15636.625  15606.625         0.0        1.0  \n",
       "1         15617.750  15637.750  15607.750         0.0        1.0  \n",
       "2         15618.500  15638.500  15608.500         0.0        1.0  \n",
       "3         15620.000  15640.000  15610.000         0.0        1.0  \n",
       "4         15618.375  15638.375  15608.375         0.0        1.0  "
      ]
     },
     "execution_count": 13,
     "metadata": {},
     "output_type": "execute_result"
    }
   ],
   "source": [
    "data.head()"
   ]
  },
  {
   "cell_type": "markdown",
   "metadata": {},
   "source": [
    "## Compute Relative Strength Index (RSI)"
   ]
  },
  {
   "cell_type": "code",
   "execution_count": 9,
   "metadata": {},
   "outputs": [],
   "source": [
    "data['rsi'] = data.groupby('ticker').Close.apply(RSI)"
   ]
  },
  {
   "cell_type": "code",
   "execution_count": 10,
   "metadata": {},
   "outputs": [
    {
     "data": {
      "text/plain": [
       "<matplotlib.axes._subplots.AxesSubplot at 0x1ab032b5888>"
      ]
     },
     "execution_count": 10,
     "metadata": {},
     "output_type": "execute_result"
    },
    {
     "data": {
      "image/png": "[encoded data removed]",
      "text/plain": [
       "<Figure size 432x288 with 1 Axes>"
      ]
     },
     "metadata": {},
     "output_type": "display_data"
    }
   ],
   "source": [
    "sns.distplot(data.rsi)"
   ]
  },
  {
   "cell_type": "markdown",
   "metadata": {},
   "source": [
    "## Calculate Bollinger Bands"
   ]
  },
  {
   "cell_type": "code",
   "execution_count": 11,
   "metadata": {},
   "outputs": [],
   "source": [
    "def compute_bb(close):\n",
    "    high, mid, low = BBANDS(np.log1p(close), timeperiod=20)\n",
    "    return pd.DataFrame({'bb_high': high,\n",
    "                         'bb_mid': mid,\n",
    "                         'bb_low': low}, index=close.index)"
   ]
  },
  {
   "cell_type": "code",
   "execution_count": 12,
   "metadata": {},
   "outputs": [],
   "source": [
    "data = (data.join(data\n",
    "                      .groupby('ticker')\n",
    "                      .Close\n",
    "                      .apply(compute_bb)))"
   ]
  },
  {
   "cell_type": "code",
   "execution_count": 13,
   "metadata": {},
   "outputs": [
    {
     "data": {
      "image/png": "[encoded data removed]",
      "text/plain": [
       "<Figure size 1080x288 with 3 Axes>"
      ]
     },
     "metadata": {},
     "output_type": "display_data"
    }
   ],
   "source": [
    "fig, axes = plt.subplots(ncols=3, figsize=(15,4))\n",
    "for i, col in enumerate(['bb_low', 'bb_mid', 'bb_low']):\n",
    "    sns.distplot(data[col], ax=axes[i])\n",
    "    axes[i].set_title(col);\n",
    "fig.tight_layout();"
   ]
  },
  {
   "cell_type": "code",
   "execution_count": 14,
   "metadata": {},
   "outputs": [],
   "source": [
    "data['bb_up'] = data.bb_high.sub(np.log1p(data.Close))\n",
    "data['bb_down'] = np.log1p(data.Close).sub(data.bb_low)"
   ]
  },
  {
   "cell_type": "code",
   "execution_count": 15,
   "metadata": {},
   "outputs": [
    {
     "data": {
      "image/png": "[encoded data removed]",
      "text/plain": [
       "<Figure size 720x288 with 2 Axes>"
      ]
     },
     "metadata": {},
     "output_type": "display_data"
    }
   ],
   "source": [
    "fig, axes = plt.subplots(ncols=2, figsize=(10,4))\n",
    "for i, col in enumerate(['bb_down', 'bb_up']):\n",
    "    sns.boxenplot(data[col], ax=axes[i])\n",
    "    axes[i].set_title(col);\n",
    "fig.tight_layout();"
   ]
  },
  {
   "cell_type": "markdown",
   "metadata": {},
   "source": [
    "## Compute Average True Range"
   ]
  },
  {
   "cell_type": "code",
   "execution_count": 16,
   "metadata": {},
   "outputs": [
    {
     "data": {
      "text/html": [
       "<div>\n",
       "<style scoped>\n",
       "    .dataframe tbody tr th:only-of-type {\n",
       "        vertical-align: middle;\n",
       "    }\n",
       "\n",
       "    .dataframe tbody tr th {\n",
       "        vertical-align: top;\n",
       "    }\n",
       "\n",
       "    .dataframe thead th {\n",
       "        text-align: right;\n",
       "    }\n",
       "</style>\n",
       "<table border=\"1\" class=\"dataframe\">\n",
       "  <thead>\n",
       "    <tr style=\"text-align: right;\">\n",
       "      <th></th>\n",
       "      <th>Date</th>\n",
       "      <th>Time</th>\n",
       "      <th>Open</th>\n",
       "      <th>High</th>\n",
       "      <th>Low</th>\n",
       "      <th>Close</th>\n",
       "      <th>Vol</th>\n",
       "      <th>year</th>\n",
       "      <th>month</th>\n",
       "      <th>day</th>\n",
       "      <th>...</th>\n",
       "      <th>entry_market</th>\n",
       "      <th>target</th>\n",
       "      <th>stop</th>\n",
       "      <th>entry_type</th>\n",
       "      <th>rsi</th>\n",
       "      <th>bb_high</th>\n",
       "      <th>bb_mid</th>\n",
       "      <th>bb_low</th>\n",
       "      <th>bb_up</th>\n",
       "      <th>bb_down</th>\n",
       "    </tr>\n",
       "    <tr>\n",
       "      <th>index</th>\n",
       "      <th></th>\n",
       "      <th></th>\n",
       "      <th></th>\n",
       "      <th></th>\n",
       "      <th></th>\n",
       "      <th></th>\n",
       "      <th></th>\n",
       "      <th></th>\n",
       "      <th></th>\n",
       "      <th></th>\n",
       "      <th></th>\n",
       "      <th></th>\n",
       "      <th></th>\n",
       "      <th></th>\n",
       "      <th></th>\n",
       "      <th></th>\n",
       "      <th></th>\n",
       "      <th></th>\n",
       "      <th></th>\n",
       "      <th></th>\n",
       "      <th></th>\n",
       "    </tr>\n",
       "  </thead>\n",
       "  <tbody>\n",
       "    <tr>\n",
       "      <th>0</th>\n",
       "      <td>2021-06-01</td>\n",
       "      <td>15:10</td>\n",
       "      <td>13719.50</td>\n",
       "      <td>13720.75</td>\n",
       "      <td>13718.50</td>\n",
       "      <td>13720.25</td>\n",
       "      <td>102.0</td>\n",
       "      <td>2021</td>\n",
       "      <td>6</td>\n",
       "      <td>1</td>\n",
       "      <td>...</td>\n",
       "      <td>13719.625</td>\n",
       "      <td>13744.625</td>\n",
       "      <td>13709.625</td>\n",
       "      <td>0.0</td>\n",
       "      <td>NaN</td>\n",
       "      <td>NaN</td>\n",
       "      <td>NaN</td>\n",
       "      <td>NaN</td>\n",
       "      <td>NaN</td>\n",
       "      <td>NaN</td>\n",
       "    </tr>\n",
       "    <tr>\n",
       "      <th>1</th>\n",
       "      <td>2021-06-01</td>\n",
       "      <td>15:11</td>\n",
       "      <td>13720.50</td>\n",
       "      <td>13721.75</td>\n",
       "      <td>13719.75</td>\n",
       "      <td>13721.50</td>\n",
       "      <td>157.0</td>\n",
       "      <td>2021</td>\n",
       "      <td>6</td>\n",
       "      <td>1</td>\n",
       "      <td>...</td>\n",
       "      <td>13720.750</td>\n",
       "      <td>13745.750</td>\n",
       "      <td>13710.750</td>\n",
       "      <td>0.0</td>\n",
       "      <td>NaN</td>\n",
       "      <td>NaN</td>\n",
       "      <td>NaN</td>\n",
       "      <td>NaN</td>\n",
       "      <td>NaN</td>\n",
       "      <td>NaN</td>\n",
       "    </tr>\n",
       "    <tr>\n",
       "      <th>2</th>\n",
       "      <td>2021-06-01</td>\n",
       "      <td>15:12</td>\n",
       "      <td>13721.50</td>\n",
       "      <td>13723.50</td>\n",
       "      <td>13721.25</td>\n",
       "      <td>13722.75</td>\n",
       "      <td>163.0</td>\n",
       "      <td>2021</td>\n",
       "      <td>6</td>\n",
       "      <td>1</td>\n",
       "      <td>...</td>\n",
       "      <td>13722.375</td>\n",
       "      <td>13747.375</td>\n",
       "      <td>13712.375</td>\n",
       "      <td>0.0</td>\n",
       "      <td>NaN</td>\n",
       "      <td>NaN</td>\n",
       "      <td>NaN</td>\n",
       "      <td>NaN</td>\n",
       "      <td>NaN</td>\n",
       "      <td>NaN</td>\n",
       "    </tr>\n",
       "    <tr>\n",
       "      <th>3</th>\n",
       "      <td>2021-06-01</td>\n",
       "      <td>15:13</td>\n",
       "      <td>13723.00</td>\n",
       "      <td>13725.50</td>\n",
       "      <td>13722.75</td>\n",
       "      <td>13724.00</td>\n",
       "      <td>327.0</td>\n",
       "      <td>2021</td>\n",
       "      <td>6</td>\n",
       "      <td>1</td>\n",
       "      <td>...</td>\n",
       "      <td>13724.125</td>\n",
       "      <td>13749.125</td>\n",
       "      <td>13714.125</td>\n",
       "      <td>0.0</td>\n",
       "      <td>NaN</td>\n",
       "      <td>NaN</td>\n",
       "      <td>NaN</td>\n",
       "      <td>NaN</td>\n",
       "      <td>NaN</td>\n",
       "      <td>NaN</td>\n",
       "    </tr>\n",
       "    <tr>\n",
       "      <th>4</th>\n",
       "      <td>2021-06-01</td>\n",
       "      <td>15:14</td>\n",
       "      <td>13723.75</td>\n",
       "      <td>13726.25</td>\n",
       "      <td>13723.50</td>\n",
       "      <td>13725.50</td>\n",
       "      <td>289.0</td>\n",
       "      <td>2021</td>\n",
       "      <td>6</td>\n",
       "      <td>1</td>\n",
       "      <td>...</td>\n",
       "      <td>13724.875</td>\n",
       "      <td>13749.875</td>\n",
       "      <td>13714.875</td>\n",
       "      <td>0.0</td>\n",
       "      <td>NaN</td>\n",
       "      <td>NaN</td>\n",
       "      <td>NaN</td>\n",
       "      <td>NaN</td>\n",
       "      <td>NaN</td>\n",
       "      <td>NaN</td>\n",
       "    </tr>\n",
       "  </tbody>\n",
       "</table>\n",
       "<p>5 rows × 25 columns</p>\n",
       "</div>"
      ],
      "text/plain": [
       "            Date   Time      Open      High       Low     Close    Vol  year  \\\n",
       "index                                                                          \n",
       "0     2021-06-01  15:10  13719.50  13720.75  13718.50  13720.25  102.0  2021   \n",
       "1     2021-06-01  15:11  13720.50  13721.75  13719.75  13721.50  157.0  2021   \n",
       "2     2021-06-01  15:12  13721.50  13723.50  13721.25  13722.75  163.0  2021   \n",
       "3     2021-06-01  15:13  13723.00  13725.50  13722.75  13724.00  327.0  2021   \n",
       "4     2021-06-01  15:14  13723.75  13726.25  13723.50  13725.50  289.0  2021   \n",
       "\n",
       "       month  day  ... entry_market     target       stop entry_type rsi  \\\n",
       "index              ...                                                     \n",
       "0          6    1  ...    13719.625  13744.625  13709.625        0.0 NaN   \n",
       "1          6    1  ...    13720.750  13745.750  13710.750        0.0 NaN   \n",
       "2          6    1  ...    13722.375  13747.375  13712.375        0.0 NaN   \n",
       "3          6    1  ...    13724.125  13749.125  13714.125        0.0 NaN   \n",
       "4          6    1  ...    13724.875  13749.875  13714.875        0.0 NaN   \n",
       "\n",
       "       bb_high  bb_mid  bb_low  bb_up  bb_down  \n",
       "index                                           \n",
       "0          NaN     NaN     NaN    NaN      NaN  \n",
       "1          NaN     NaN     NaN    NaN      NaN  \n",
       "2          NaN     NaN     NaN    NaN      NaN  \n",
       "3          NaN     NaN     NaN    NaN      NaN  \n",
       "4          NaN     NaN     NaN    NaN      NaN  \n",
       "\n",
       "[5 rows x 25 columns]"
      ]
     },
     "execution_count": 16,
     "metadata": {},
     "output_type": "execute_result"
    }
   ],
   "source": [
    "data.head()"
   ]
  },
  {
   "cell_type": "code",
   "execution_count": 17,
   "metadata": {},
   "outputs": [],
   "source": [
    "atr = ta.atr(data.High, \n",
    "        data.Low, \n",
    "        data.Close)\n",
    "\n",
    "\n",
    "data.loc[:,'natr'] = atr.sub(atr.mean()).div(atr.std())\n"
   ]
  },
  {
   "cell_type": "code",
   "execution_count": 18,
   "metadata": {},
   "outputs": [
    {
     "data": {
      "image/png": "[encoded data removed]",
      "text/plain": [
       "<Figure size 432x288 with 1 Axes>"
      ]
     },
     "metadata": {},
     "output_type": "display_data"
    }
   ],
   "source": [
    "sns.distplot(data.natr);"
   ]
  },
  {
   "cell_type": "markdown",
   "metadata": {},
   "source": [
    "## Compute Moving Average Convergence/Divergence"
   ]
  },
  {
   "cell_type": "code",
   "execution_count": 19,
   "metadata": {},
   "outputs": [],
   "source": [
    "def compute_macd(close):\n",
    "    macd = MACD(close)[0]\n",
    "    return macd.sub(macd.mean()).div(macd.std())\n",
    "\n",
    "data['macd'] = data.groupby('ticker').Close.apply(compute_macd)"
   ]
  },
  {
   "cell_type": "code",
   "execution_count": 20,
   "metadata": {},
   "outputs": [
    {
     "data": {
      "image/png": "[encoded data removed]",
      "text/plain": [
       "<Figure size 432x288 with 1 Axes>"
      ]
     },
     "metadata": {},
     "output_type": "display_data"
    }
   ],
   "source": [
    "sns.distplot(data.macd);"
   ]
  },
  {
   "cell_type": "markdown",
   "metadata": {},
   "source": [
    "## Compute dollar volume to determine universe"
   ]
  },
  {
   "cell_type": "code",
   "execution_count": 21,
   "metadata": {},
   "outputs": [],
   "source": [
    "data['dollar_volume'] = (data.loc[:, 'Close']\n",
    "                           .mul(data.loc[:, 'Vol'], axis=0))\n",
    "\n",
    "data.dollar_volume /= 1e6"
   ]
  },
  {
   "cell_type": "code",
   "execution_count": 22,
   "metadata": {},
   "outputs": [
    {
     "name": "stdout",
     "output_type": "stream",
     "text": [
      "<class 'pandas.core.frame.DataFrame'>\n",
      "Int64Index: 38958 entries, 0 to 38957\n",
      "Data columns (total 28 columns):\n",
      " #   Column         Non-Null Count  Dtype         \n",
      "---  ------         --------------  -----         \n",
      " 0   Date           38958 non-null  datetime64[ns]\n",
      " 1   Time           38958 non-null  object        \n",
      " 2   Open           38958 non-null  float64       \n",
      " 3   High           38958 non-null  float64       \n",
      " 4   Low            38958 non-null  float64       \n",
      " 5   Close          38958 non-null  float64       \n",
      " 6   Vol            38958 non-null  float64       \n",
      " 7   year           38958 non-null  int64         \n",
      " 8   month          38958 non-null  int64         \n",
      " 9   day            38958 non-null  int64         \n",
      " 10  hour           38958 non-null  object        \n",
      " 11  minute         38958 non-null  object        \n",
      " 12  ticker         38958 non-null  object        \n",
      " 13  datetime       38958 non-null  datetime64[ns]\n",
      " 14  Time_tuple     38958 non-null  object        \n",
      " 15  entry_market   38958 non-null  float64       \n",
      " 16  target         38958 non-null  float64       \n",
      " 17  stop           38958 non-null  float64       \n",
      " 18  entry_type     37517 non-null  float64       \n",
      " 19  rsi            38944 non-null  float64       \n",
      " 20  bb_high        38939 non-null  float64       \n",
      " 21  bb_mid         38939 non-null  float64       \n",
      " 22  bb_low         38939 non-null  float64       \n",
      " 23  bb_up          38939 non-null  float64       \n",
      " 24  bb_down        38939 non-null  float64       \n",
      " 25  natr           38944 non-null  float64       \n",
      " 26  macd           38925 non-null  float64       \n",
      " 27  dollar_volume  38958 non-null  float64       \n",
      "dtypes: datetime64[ns](2), float64(18), int64(3), object(5)\n",
      "memory usage: 9.6+ MB\n"
     ]
    }
   ],
   "source": [
    "data.info()"
   ]
  },
  {
   "cell_type": "markdown",
   "metadata": {},
   "source": [
    "##  Create Minute Return Series\n",
    "\n",
    "To capture time series dynamics that reflect, for example, momentum patterns, we compute historical returns using the method .pct_change(n_periods), that is, returns over various monthly periods as identified by lags.\n",
    "\n",
    "We then convert the wide result back to long format with the .stack() method, use .pipe() to apply the .clip() method to the resulting DataFrame, and winsorize returns at the [1%, 99%] levels; that is, we cap outliers at these percentiles.\n",
    "\n",
    "Finally, we normalize returns using the geometric average. After using .swaplevel() to change the order of the MultiIndex levels, we obtain compounded monthly returns for six periods ranging from 1 to 12 months:"
   ]
  },
  {
   "cell_type": "code",
   "execution_count": 23,
   "metadata": {},
   "outputs": [],
   "source": [
    "data.set_index(['ticker','datetime'], inplace = True)"
   ]
  },
  {
   "cell_type": "code",
   "execution_count": 24,
   "metadata": {},
   "outputs": [
    {
     "data": {
      "text/plain": [
       "Index(['Date', 'Time', 'Open', 'High', 'Low', 'Close', 'Vol', 'year', 'month',\n",
       "       'day', 'hour', 'minute', 'Time_tuple', 'entry_market', 'target', 'stop',\n",
       "       'entry_type', 'rsi', 'bb_high', 'bb_mid', 'bb_low', 'bb_up', 'bb_down',\n",
       "       'natr', 'macd', 'dollar_volume'],\n",
       "      dtype='object')"
      ]
     },
     "execution_count": 24,
     "metadata": {},
     "output_type": "execute_result"
    }
   ],
   "source": [
    "data.columns"
   ]
  },
  {
   "cell_type": "code",
   "execution_count": 25,
   "metadata": {},
   "outputs": [],
   "source": [
    "outlier_cutoff = 0.01\n",
    "lags = [1, 3, 5, 15]\n",
    "returns = []"
   ]
  },
  {
   "cell_type": "code",
   "execution_count": 26,
   "metadata": {},
   "outputs": [
    {
     "name": "stdout",
     "output_type": "stream",
     "text": [
      "<class 'pandas.core.frame.DataFrame'>\n",
      "MultiIndex: 38957 entries, ('MNQ', Timestamp('2021-06-01 15:11:00')) to ('MNQ', Timestamp('2021-10-14 21:50:00'))\n",
      "Data columns (total 4 columns):\n",
      " #   Column      Non-Null Count  Dtype  \n",
      "---  ------      --------------  -----  \n",
      " 0   return_1m   38957 non-null  float64\n",
      " 1   return_3m   38955 non-null  float64\n",
      " 2   return_5m   38953 non-null  float64\n",
      " 3   return_15m  38943 non-null  float64\n",
      "dtypes: float64(4)\n",
      "memory usage: 2.7+ MB\n"
     ]
    }
   ],
   "source": [
    "for lag in lags:\n",
    "    returns.append(data\n",
    "                   .Close\n",
    "                   .unstack('ticker') # Get a Matrix of the Ticker Close values, colums are the tickers\n",
    "                   .sort_index() # Sort by Date\n",
    "                   .pct_change(lag) # Calculate percentage change of the respective lag value\n",
    "                   .stack('ticker') # Stack back to original index order\n",
    "                   .pipe(lambda x: x.clip(lower=x.quantile(outlier_cutoff),\n",
    "                                          upper=x.quantile(1-outlier_cutoff))) # Cutoff outliers\n",
    "                   .add(1) # add 1 to the returns\n",
    "                   .pow(1/lag) # apply n root for n = lag\n",
    "                   .sub(1) #substract 1\n",
    "                   .to_frame(f'return_{lag}m')\n",
    "                   )\n",
    "    \n",
    "returns = pd.concat(returns, axis=1).swaplevel()\n",
    "returns.info(null_counts=True)"
   ]
  },
  {
   "cell_type": "code",
   "execution_count": 27,
   "metadata": {},
   "outputs": [
    {
     "data": {
      "text/html": [
       "<div>\n",
       "<style scoped>\n",
       "    .dataframe tbody tr th:only-of-type {\n",
       "        vertical-align: middle;\n",
       "    }\n",
       "\n",
       "    .dataframe tbody tr th {\n",
       "        vertical-align: top;\n",
       "    }\n",
       "\n",
       "    .dataframe thead th {\n",
       "        text-align: right;\n",
       "    }\n",
       "</style>\n",
       "<table border=\"1\" class=\"dataframe\">\n",
       "  <thead>\n",
       "    <tr style=\"text-align: right;\">\n",
       "      <th></th>\n",
       "      <th>return_1m</th>\n",
       "      <th>return_3m</th>\n",
       "      <th>return_5m</th>\n",
       "      <th>return_15m</th>\n",
       "    </tr>\n",
       "  </thead>\n",
       "  <tbody>\n",
       "    <tr>\n",
       "      <th>count</th>\n",
       "      <td>38957.000000</td>\n",
       "      <td>38955.000000</td>\n",
       "      <td>38953.000000</td>\n",
       "      <td>38943.000000</td>\n",
       "    </tr>\n",
       "    <tr>\n",
       "      <th>mean</th>\n",
       "      <td>0.000002</td>\n",
       "      <td>0.000003</td>\n",
       "      <td>0.000003</td>\n",
       "      <td>0.000003</td>\n",
       "    </tr>\n",
       "    <tr>\n",
       "      <th>std</th>\n",
       "      <td>0.000331</td>\n",
       "      <td>0.000198</td>\n",
       "      <td>0.000157</td>\n",
       "      <td>0.000097</td>\n",
       "    </tr>\n",
       "    <tr>\n",
       "      <th>min</th>\n",
       "      <td>-0.001042</td>\n",
       "      <td>-0.000638</td>\n",
       "      <td>-0.000517</td>\n",
       "      <td>-0.000323</td>\n",
       "    </tr>\n",
       "    <tr>\n",
       "      <th>25%</th>\n",
       "      <td>-0.000160</td>\n",
       "      <td>-0.000090</td>\n",
       "      <td>-0.000070</td>\n",
       "      <td>-0.000042</td>\n",
       "    </tr>\n",
       "    <tr>\n",
       "      <th>50%</th>\n",
       "      <td>0.000000</td>\n",
       "      <td>0.000005</td>\n",
       "      <td>0.000003</td>\n",
       "      <td>0.000005</td>\n",
       "    </tr>\n",
       "    <tr>\n",
       "      <th>75%</th>\n",
       "      <td>0.000165</td>\n",
       "      <td>0.000098</td>\n",
       "      <td>0.000077</td>\n",
       "      <td>0.000049</td>\n",
       "    </tr>\n",
       "    <tr>\n",
       "      <th>max</th>\n",
       "      <td>0.001085</td>\n",
       "      <td>0.000646</td>\n",
       "      <td>0.000513</td>\n",
       "      <td>0.000317</td>\n",
       "    </tr>\n",
       "  </tbody>\n",
       "</table>\n",
       "</div>"
      ],
      "text/plain": [
       "          return_1m     return_3m     return_5m    return_15m\n",
       "count  38957.000000  38955.000000  38953.000000  38943.000000\n",
       "mean       0.000002      0.000003      0.000003      0.000003\n",
       "std        0.000331      0.000198      0.000157      0.000097\n",
       "min       -0.001042     -0.000638     -0.000517     -0.000323\n",
       "25%       -0.000160     -0.000090     -0.000070     -0.000042\n",
       "50%        0.000000      0.000005      0.000003      0.000005\n",
       "75%        0.000165      0.000098      0.000077      0.000049\n",
       "max        0.001085      0.000646      0.000513      0.000317"
      ]
     },
     "execution_count": 27,
     "metadata": {},
     "output_type": "execute_result"
    }
   ],
   "source": [
    "returns.describe()"
   ]
  },
  {
   "cell_type": "code",
   "execution_count": 28,
   "metadata": {},
   "outputs": [
    {
     "data": {
      "image/png": "[encoded data removed]",
      "text/plain": [
       "<Figure size 720x720 with 4 Axes>"
      ]
     },
     "metadata": {},
     "output_type": "display_data"
    }
   ],
   "source": [
    "cmap = sns.diverging_palette(10, 220, as_cmap=True)\n",
    "sns.clustermap(returns.corr('spearman'), annot=True, center=0, cmap=cmap);"
   ]
  },
  {
   "cell_type": "code",
   "execution_count": 29,
   "metadata": {},
   "outputs": [
    {
     "name": "stdout",
     "output_type": "stream",
     "text": [
      "<class 'pandas.core.frame.DataFrame'>\n",
      "MultiIndex: 38957 entries, ('MNQ', Timestamp('2021-06-01 15:11:00')) to ('MNQ', Timestamp('2021-10-14 21:50:00'))\n",
      "Data columns (total 4 columns):\n",
      " #   Column      Non-Null Count  Dtype  \n",
      "---  ------      --------------  -----  \n",
      " 0   return_1m   38957 non-null  float64\n",
      " 1   return_3m   38955 non-null  float64\n",
      " 2   return_5m   38953 non-null  float64\n",
      " 3   return_15m  38943 non-null  float64\n",
      "dtypes: float64(4)\n",
      "memory usage: 2.7+ MB\n"
     ]
    }
   ],
   "source": [
    "    returns.info()"
   ]
  },
  {
   "cell_type": "code",
   "execution_count": 30,
   "metadata": {},
   "outputs": [
    {
     "name": "stdout",
     "output_type": "stream",
     "text": [
      "<class 'pandas.core.frame.DataFrame'>\n",
      "MultiIndex: 37484 entries, ('MNQ', Timestamp('2021-06-01 15:43:00')) to ('MNQ', Timestamp('2021-10-14 21:34:00'))\n",
      "Data columns (total 30 columns):\n",
      " #   Column         Non-Null Count  Dtype         \n",
      "---  ------         --------------  -----         \n",
      " 0   Date           37484 non-null  datetime64[ns]\n",
      " 1   Time           37484 non-null  object        \n",
      " 2   Open           37484 non-null  float64       \n",
      " 3   High           37484 non-null  float64       \n",
      " 4   Low            37484 non-null  float64       \n",
      " 5   Close          37484 non-null  float64       \n",
      " 6   Vol            37484 non-null  float64       \n",
      " 7   year           37484 non-null  int64         \n",
      " 8   month          37484 non-null  int64         \n",
      " 9   day            37484 non-null  int64         \n",
      " 10  hour           37484 non-null  object        \n",
      " 11  minute         37484 non-null  object        \n",
      " 12  Time_tuple     37484 non-null  object        \n",
      " 13  entry_market   37484 non-null  float64       \n",
      " 14  target         37484 non-null  float64       \n",
      " 15  stop           37484 non-null  float64       \n",
      " 16  entry_type     37484 non-null  float64       \n",
      " 17  rsi            37484 non-null  float64       \n",
      " 18  bb_high        37484 non-null  float64       \n",
      " 19  bb_mid         37484 non-null  float64       \n",
      " 20  bb_low         37484 non-null  float64       \n",
      " 21  bb_up          37484 non-null  float64       \n",
      " 22  bb_down        37484 non-null  float64       \n",
      " 23  natr           37484 non-null  float64       \n",
      " 24  macd           37484 non-null  float64       \n",
      " 25  dollar_volume  37484 non-null  float64       \n",
      " 26  return_1m      37484 non-null  float64       \n",
      " 27  return_3m      37484 non-null  float64       \n",
      " 28  return_5m      37484 non-null  float64       \n",
      " 29  return_15m     37484 non-null  float64       \n",
      "dtypes: datetime64[ns](1), float64(22), int64(3), object(4)\n",
      "memory usage: 10.1+ MB\n"
     ]
    }
   ],
   "source": [
    "data = data.join(returns).dropna()\n",
    "data.info(null_counts=True)"
   ]
  },
  {
   "cell_type": "markdown",
   "metadata": {},
   "source": [
    "## Momentum factors\n",
    "\n",
    "We can use these results to compute momentum factors based on the difference between returns over longer periods and the most recent monthly return, as well as for the difference between 3 and 12 month returns as follows"
   ]
  },
  {
   "cell_type": "code",
   "execution_count": 31,
   "metadata": {},
   "outputs": [],
   "source": [
    "for lag in [3, 5, 15]:\n",
    "    data[f'momentum_{lag}'] = data[f'return_{lag}m'].sub(data.return_1m)\n",
    "    if lag > 3:\n",
    "        data[f'momentum_3_{lag}'] = data[f'return_{lag}m'].sub(data.return_3m)"
   ]
  },
  {
   "cell_type": "code",
   "execution_count": 32,
   "metadata": {},
   "outputs": [
    {
     "name": "stdout",
     "output_type": "stream",
     "text": [
      "<class 'pandas.core.frame.DataFrame'>\n",
      "MultiIndex: 37484 entries, ('MNQ', Timestamp('2021-06-01 15:43:00')) to ('MNQ', Timestamp('2021-10-14 21:34:00'))\n",
      "Data columns (total 35 columns):\n",
      " #   Column         Non-Null Count  Dtype         \n",
      "---  ------         --------------  -----         \n",
      " 0   Date           37484 non-null  datetime64[ns]\n",
      " 1   Time           37484 non-null  object        \n",
      " 2   Open           37484 non-null  float64       \n",
      " 3   High           37484 non-null  float64       \n",
      " 4   Low            37484 non-null  float64       \n",
      " 5   Close          37484 non-null  float64       \n",
      " 6   Vol            37484 non-null  float64       \n",
      " 7   year           37484 non-null  int64         \n",
      " 8   month          37484 non-null  int64         \n",
      " 9   day            37484 non-null  int64         \n",
      " 10  hour           37484 non-null  object        \n",
      " 11  minute         37484 non-null  object        \n",
      " 12  Time_tuple     37484 non-null  object        \n",
      " 13  entry_market   37484 non-null  float64       \n",
      " 14  target         37484 non-null  float64       \n",
      " 15  stop           37484 non-null  float64       \n",
      " 16  entry_type     37484 non-null  float64       \n",
      " 17  rsi            37484 non-null  float64       \n",
      " 18  bb_high        37484 non-null  float64       \n",
      " 19  bb_mid         37484 non-null  float64       \n",
      " 20  bb_low         37484 non-null  float64       \n",
      " 21  bb_up          37484 non-null  float64       \n",
      " 22  bb_down        37484 non-null  float64       \n",
      " 23  natr           37484 non-null  float64       \n",
      " 24  macd           37484 non-null  float64       \n",
      " 25  dollar_volume  37484 non-null  float64       \n",
      " 26  return_1m      37484 non-null  float64       \n",
      " 27  return_3m      37484 non-null  float64       \n",
      " 28  return_5m      37484 non-null  float64       \n",
      " 29  return_15m     37484 non-null  float64       \n",
      " 30  momentum_3     37484 non-null  float64       \n",
      " 31  momentum_5     37484 non-null  float64       \n",
      " 32  momentum_3_5   37484 non-null  float64       \n",
      " 33  momentum_15    37484 non-null  float64       \n",
      " 34  momentum_3_15  37484 non-null  float64       \n",
      "dtypes: datetime64[ns](1), float64(27), int64(3), object(4)\n",
      "memory usage: 11.5+ MB\n"
     ]
    }
   ],
   "source": [
    "data.info()"
   ]
  },
  {
   "cell_type": "markdown",
   "metadata": {},
   "source": [
    "## Target: Holding Period Returns\n",
    "\n",
    "To compute returns for our one-month target holding period, we use the returns computed previously and shift them back to align them with the current financial features."
   ]
  },
  {
   "cell_type": "code",
   "execution_count": 33,
   "metadata": {},
   "outputs": [
    {
     "data": {
      "text/plain": [
       "Index(['Date', 'Time', 'Open', 'High', 'Low', 'Close', 'Vol', 'year', 'month',\n",
       "       'day', 'hour', 'minute', 'Time_tuple', 'entry_market', 'target', 'stop',\n",
       "       'entry_type', 'rsi', 'bb_high', 'bb_mid', 'bb_low', 'bb_up', 'bb_down',\n",
       "       'natr', 'macd', 'dollar_volume', 'return_1m', 'return_3m', 'return_5m',\n",
       "       'return_15m', 'momentum_3', 'momentum_5', 'momentum_3_5', 'momentum_15',\n",
       "       'momentum_3_15'],\n",
       "      dtype='object')"
      ]
     },
     "execution_count": 33,
     "metadata": {},
     "output_type": "execute_result"
    }
   ],
   "source": [
    "data.columns"
   ]
  },
  {
   "cell_type": "code",
   "execution_count": 34,
   "metadata": {},
   "outputs": [],
   "source": [
    "forecast_horizon = 2\n",
    "data[f'target_fh_{forecast_horizon}'] = data.groupby('ticker')[f'entry_type'].shift(-forecast_horizon)"
   ]
  },
  {
   "cell_type": "code",
   "execution_count": 35,
   "metadata": {},
   "outputs": [
    {
     "data": {
      "text/html": [
       "<div>\n",
       "<style scoped>\n",
       "    .dataframe tbody tr th:only-of-type {\n",
       "        vertical-align: middle;\n",
       "    }\n",
       "\n",
       "    .dataframe tbody tr th {\n",
       "        vertical-align: top;\n",
       "    }\n",
       "\n",
       "    .dataframe thead th {\n",
       "        text-align: right;\n",
       "    }\n",
       "</style>\n",
       "<table border=\"1\" class=\"dataframe\">\n",
       "  <thead>\n",
       "    <tr style=\"text-align: right;\">\n",
       "      <th></th>\n",
       "      <th></th>\n",
       "      <th>Date</th>\n",
       "      <th>Time</th>\n",
       "      <th>Open</th>\n",
       "      <th>High</th>\n",
       "      <th>Low</th>\n",
       "      <th>Close</th>\n",
       "      <th>Vol</th>\n",
       "      <th>year</th>\n",
       "      <th>month</th>\n",
       "      <th>day</th>\n",
       "      <th>...</th>\n",
       "      <th>return_1m</th>\n",
       "      <th>return_3m</th>\n",
       "      <th>return_5m</th>\n",
       "      <th>return_15m</th>\n",
       "      <th>momentum_3</th>\n",
       "      <th>momentum_5</th>\n",
       "      <th>momentum_3_5</th>\n",
       "      <th>momentum_15</th>\n",
       "      <th>momentum_3_15</th>\n",
       "      <th>target_fh_2</th>\n",
       "    </tr>\n",
       "    <tr>\n",
       "      <th>ticker</th>\n",
       "      <th>datetime</th>\n",
       "      <th></th>\n",
       "      <th></th>\n",
       "      <th></th>\n",
       "      <th></th>\n",
       "      <th></th>\n",
       "      <th></th>\n",
       "      <th></th>\n",
       "      <th></th>\n",
       "      <th></th>\n",
       "      <th></th>\n",
       "      <th></th>\n",
       "      <th></th>\n",
       "      <th></th>\n",
       "      <th></th>\n",
       "      <th></th>\n",
       "      <th></th>\n",
       "      <th></th>\n",
       "      <th></th>\n",
       "      <th></th>\n",
       "      <th></th>\n",
       "      <th></th>\n",
       "    </tr>\n",
       "  </thead>\n",
       "  <tbody>\n",
       "    <tr>\n",
       "      <th rowspan=\"5\" valign=\"top\">MNQ</th>\n",
       "      <th>2021-06-01 15:43:00</th>\n",
       "      <td>2021-06-01</td>\n",
       "      <td>15:43</td>\n",
       "      <td>13745.25</td>\n",
       "      <td>13748.00</td>\n",
       "      <td>13739.00</td>\n",
       "      <td>13740.25</td>\n",
       "      <td>1009.0</td>\n",
       "      <td>2021</td>\n",
       "      <td>6</td>\n",
       "      <td>1</td>\n",
       "      <td>...</td>\n",
       "      <td>-0.000327</td>\n",
       "      <td>0.000188</td>\n",
       "      <td>0.000226</td>\n",
       "      <td>0.000052</td>\n",
       "      <td>0.000515</td>\n",
       "      <td>0.000553</td>\n",
       "      <td>0.000038</td>\n",
       "      <td>0.000380</td>\n",
       "      <td>-0.000136</td>\n",
       "      <td>0.0</td>\n",
       "    </tr>\n",
       "    <tr>\n",
       "      <th>2021-06-01 15:44:00</th>\n",
       "      <td>2021-06-01</td>\n",
       "      <td>15:44</td>\n",
       "      <td>13740.25</td>\n",
       "      <td>13742.75</td>\n",
       "      <td>13734.50</td>\n",
       "      <td>13738.00</td>\n",
       "      <td>786.0</td>\n",
       "      <td>2021</td>\n",
       "      <td>6</td>\n",
       "      <td>1</td>\n",
       "      <td>...</td>\n",
       "      <td>-0.000164</td>\n",
       "      <td>-0.000224</td>\n",
       "      <td>0.000131</td>\n",
       "      <td>0.000035</td>\n",
       "      <td>-0.000061</td>\n",
       "      <td>0.000295</td>\n",
       "      <td>0.000355</td>\n",
       "      <td>0.000199</td>\n",
       "      <td>0.000260</td>\n",
       "      <td>0.0</td>\n",
       "    </tr>\n",
       "    <tr>\n",
       "      <th>2021-06-01 15:45:00</th>\n",
       "      <td>2021-06-01</td>\n",
       "      <td>15:45</td>\n",
       "      <td>13738.00</td>\n",
       "      <td>13739.75</td>\n",
       "      <td>13733.00</td>\n",
       "      <td>13733.75</td>\n",
       "      <td>642.0</td>\n",
       "      <td>2021</td>\n",
       "      <td>6</td>\n",
       "      <td>1</td>\n",
       "      <td>...</td>\n",
       "      <td>-0.000309</td>\n",
       "      <td>-0.000267</td>\n",
       "      <td>0.000018</td>\n",
       "      <td>0.000005</td>\n",
       "      <td>0.000043</td>\n",
       "      <td>0.000328</td>\n",
       "      <td>0.000285</td>\n",
       "      <td>0.000314</td>\n",
       "      <td>0.000272</td>\n",
       "      <td>0.0</td>\n",
       "    </tr>\n",
       "    <tr>\n",
       "      <th>2021-06-01 15:46:00</th>\n",
       "      <td>2021-06-01</td>\n",
       "      <td>15:46</td>\n",
       "      <td>13734.00</td>\n",
       "      <td>13741.75</td>\n",
       "      <td>13733.50</td>\n",
       "      <td>13735.00</td>\n",
       "      <td>1370.0</td>\n",
       "      <td>2021</td>\n",
       "      <td>6</td>\n",
       "      <td>1</td>\n",
       "      <td>...</td>\n",
       "      <td>0.000091</td>\n",
       "      <td>-0.000127</td>\n",
       "      <td>-0.000178</td>\n",
       "      <td>0.000005</td>\n",
       "      <td>-0.000218</td>\n",
       "      <td>-0.000269</td>\n",
       "      <td>-0.000051</td>\n",
       "      <td>-0.000086</td>\n",
       "      <td>0.000132</td>\n",
       "      <td>0.0</td>\n",
       "    </tr>\n",
       "    <tr>\n",
       "      <th>2021-06-01 15:47:00</th>\n",
       "      <td>2021-06-01</td>\n",
       "      <td>15:47</td>\n",
       "      <td>13734.75</td>\n",
       "      <td>13738.00</td>\n",
       "      <td>13728.25</td>\n",
       "      <td>13733.25</td>\n",
       "      <td>1828.0</td>\n",
       "      <td>2021</td>\n",
       "      <td>6</td>\n",
       "      <td>1</td>\n",
       "      <td>...</td>\n",
       "      <td>-0.000127</td>\n",
       "      <td>-0.000115</td>\n",
       "      <td>-0.000167</td>\n",
       "      <td>0.000008</td>\n",
       "      <td>0.000012</td>\n",
       "      <td>-0.000040</td>\n",
       "      <td>-0.000052</td>\n",
       "      <td>0.000136</td>\n",
       "      <td>0.000124</td>\n",
       "      <td>0.0</td>\n",
       "    </tr>\n",
       "  </tbody>\n",
       "</table>\n",
       "<p>5 rows × 36 columns</p>\n",
       "</div>"
      ],
      "text/plain": [
       "                                 Date   Time      Open      High       Low  \\\n",
       "ticker datetime                                                              \n",
       "MNQ    2021-06-01 15:43:00 2021-06-01  15:43  13745.25  13748.00  13739.00   \n",
       "       2021-06-01 15:44:00 2021-06-01  15:44  13740.25  13742.75  13734.50   \n",
       "       2021-06-01 15:45:00 2021-06-01  15:45  13738.00  13739.75  13733.00   \n",
       "       2021-06-01 15:46:00 2021-06-01  15:46  13734.00  13741.75  13733.50   \n",
       "       2021-06-01 15:47:00 2021-06-01  15:47  13734.75  13738.00  13728.25   \n",
       "\n",
       "                               Close     Vol  year  month  day  ... return_1m  \\\n",
       "ticker datetime                                                 ...             \n",
       "MNQ    2021-06-01 15:43:00  13740.25  1009.0  2021      6    1  ... -0.000327   \n",
       "       2021-06-01 15:44:00  13738.00   786.0  2021      6    1  ... -0.000164   \n",
       "       2021-06-01 15:45:00  13733.75   642.0  2021      6    1  ... -0.000309   \n",
       "       2021-06-01 15:46:00  13735.00  1370.0  2021      6    1  ...  0.000091   \n",
       "       2021-06-01 15:47:00  13733.25  1828.0  2021      6    1  ... -0.000127   \n",
       "\n",
       "                           return_3m return_5m  return_15m  momentum_3  \\\n",
       "ticker datetime                                                          \n",
       "MNQ    2021-06-01 15:43:00  0.000188  0.000226    0.000052    0.000515   \n",
       "       2021-06-01 15:44:00 -0.000224  0.000131    0.000035   -0.000061   \n",
       "       2021-06-01 15:45:00 -0.000267  0.000018    0.000005    0.000043   \n",
       "       2021-06-01 15:46:00 -0.000127 -0.000178    0.000005   -0.000218   \n",
       "       2021-06-01 15:47:00 -0.000115 -0.000167    0.000008    0.000012   \n",
       "\n",
       "                            momentum_5  momentum_3_5  momentum_15  \\\n",
       "ticker datetime                                                     \n",
       "MNQ    2021-06-01 15:43:00    0.000553      0.000038     0.000380   \n",
       "       2021-06-01 15:44:00    0.000295      0.000355     0.000199   \n",
       "       2021-06-01 15:45:00    0.000328      0.000285     0.000314   \n",
       "       2021-06-01 15:46:00   -0.000269     -0.000051    -0.000086   \n",
       "       2021-06-01 15:47:00   -0.000040     -0.000052     0.000136   \n",
       "\n",
       "                            momentum_3_15  target_fh_2  \n",
       "ticker datetime                                         \n",
       "MNQ    2021-06-01 15:43:00      -0.000136          0.0  \n",
       "       2021-06-01 15:44:00       0.000260          0.0  \n",
       "       2021-06-01 15:45:00       0.000272          0.0  \n",
       "       2021-06-01 15:46:00       0.000132          0.0  \n",
       "       2021-06-01 15:47:00       0.000124          0.0  \n",
       "\n",
       "[5 rows x 36 columns]"
      ]
     },
     "execution_count": 35,
     "metadata": {},
     "output_type": "execute_result"
    }
   ],
   "source": [
    "data.head()"
   ]
  },
  {
   "cell_type": "code",
   "execution_count": 36,
   "metadata": {},
   "outputs": [],
   "source": [
    "data = data.dropna()"
   ]
  },
  {
   "cell_type": "code",
   "execution_count": 37,
   "metadata": {},
   "outputs": [
    {
     "name": "stdout",
     "output_type": "stream",
     "text": [
      "<class 'pandas.core.frame.DataFrame'>\n",
      "MultiIndex: 37482 entries, ('MNQ', Timestamp('2021-06-01 15:43:00')) to ('MNQ', Timestamp('2021-10-14 21:32:00'))\n",
      "Data columns (total 36 columns):\n",
      " #   Column         Non-Null Count  Dtype         \n",
      "---  ------         --------------  -----         \n",
      " 0   Date           37482 non-null  datetime64[ns]\n",
      " 1   Time           37482 non-null  object        \n",
      " 2   Open           37482 non-null  float64       \n",
      " 3   High           37482 non-null  float64       \n",
      " 4   Low            37482 non-null  float64       \n",
      " 5   Close          37482 non-null  float64       \n",
      " 6   Vol            37482 non-null  float64       \n",
      " 7   year           37482 non-null  int64         \n",
      " 8   month          37482 non-null  int64         \n",
      " 9   day            37482 non-null  int64         \n",
      " 10  hour           37482 non-null  object        \n",
      " 11  minute         37482 non-null  object        \n",
      " 12  Time_tuple     37482 non-null  object        \n",
      " 13  entry_market   37482 non-null  float64       \n",
      " 14  target         37482 non-null  float64       \n",
      " 15  stop           37482 non-null  float64       \n",
      " 16  entry_type     37482 non-null  float64       \n",
      " 17  rsi            37482 non-null  float64       \n",
      " 18  bb_high        37482 non-null  float64       \n",
      " 19  bb_mid         37482 non-null  float64       \n",
      " 20  bb_low         37482 non-null  float64       \n",
      " 21  bb_up          37482 non-null  float64       \n",
      " 22  bb_down        37482 non-null  float64       \n",
      " 23  natr           37482 non-null  float64       \n",
      " 24  macd           37482 non-null  float64       \n",
      " 25  dollar_volume  37482 non-null  float64       \n",
      " 26  return_1m      37482 non-null  float64       \n",
      " 27  return_3m      37482 non-null  float64       \n",
      " 28  return_5m      37482 non-null  float64       \n",
      " 29  return_15m     37482 non-null  float64       \n",
      " 30  momentum_3     37482 non-null  float64       \n",
      " 31  momentum_5     37482 non-null  float64       \n",
      " 32  momentum_3_5   37482 non-null  float64       \n",
      " 33  momentum_15    37482 non-null  float64       \n",
      " 34  momentum_3_15  37482 non-null  float64       \n",
      " 35  target_fh_2    37482 non-null  float64       \n",
      "dtypes: datetime64[ns](1), float64(28), int64(3), object(4)\n",
      "memory usage: 11.8+ MB\n"
     ]
    }
   ],
   "source": [
    "data.info()"
   ]
  },
  {
   "cell_type": "markdown",
   "metadata": {},
   "source": [
    "Data Time Fourier Transformation"
   ]
  },
  {
   "cell_type": "code",
   "execution_count": 38,
   "metadata": {},
   "outputs": [],
   "source": [
    "# TODO: add Fourier Transformation to datetime\n",
    "data.loc[:,'hour'] = data['hour'].astype('int64')\n",
    "data.loc[:,'minute'] = data['minute'].astype('int64')"
   ]
  },
  {
   "cell_type": "markdown",
   "metadata": {},
   "source": [
    "## Data Storage"
   ]
  },
  {
   "cell_type": "code",
   "execution_count": 39,
   "metadata": {},
   "outputs": [
    {
     "data": {
      "text/plain": [
       "Index(['Date', 'Time', 'Open', 'High', 'Low', 'Close', 'Vol', 'year', 'month',\n",
       "       'day', 'hour', 'minute', 'Time_tuple', 'entry_market', 'target', 'stop',\n",
       "       'entry_type', 'rsi', 'bb_high', 'bb_mid', 'bb_low', 'bb_up', 'bb_down',\n",
       "       'natr', 'macd', 'dollar_volume', 'return_1m', 'return_3m', 'return_5m',\n",
       "       'return_15m', 'momentum_3', 'momentum_5', 'momentum_3_5', 'momentum_15',\n",
       "       'momentum_3_15', 'target_fh_2'],\n",
       "      dtype='object')"
      ]
     },
     "execution_count": 39,
     "metadata": {},
     "output_type": "execute_result"
    }
   ],
   "source": [
    "data.columns"
   ]
  },
  {
   "cell_type": "code",
   "execution_count": 40,
   "metadata": {},
   "outputs": [],
   "source": [
    "output_folder_db ='../../data/Model2'"
   ]
  },
  {
   "cell_type": "code",
   "execution_count": 41,
   "metadata": {},
   "outputs": [],
   "source": [
    "output_location = os.path.join(output_folder_db, 'Feature_Engineering',  'NQ', \n",
    "                            ('Model2_Feature_Engineering_{}_{}.parquet'\n",
    "                            .format( data['Date'].min().strftime('%Y-%m-%d'),\n",
    "                                    data['Date'].max().strftime('%Y-%m-%d'))))\n",
    "\n",
    "data.to_parquet(output_location , engine = 'fastparquet', compression = 'gzip')"
   ]
  },
  {
   "cell_type": "code",
   "execution_count": 42,
   "metadata": {},
   "outputs": [
    {
     "data": {
      "text/plain": [
       "'../../data/Model2\\\\Feature_Engineering\\\\NQ\\\\Model2_Feature_Engineering_2021-06-01_2021-10-14.parquet'"
      ]
     },
     "execution_count": 42,
     "metadata": {},
     "output_type": "execute_result"
    }
   ],
   "source": [
    "output_location"
   ]
  },
  {
   "cell_type": "code",
   "execution_count": null,
   "metadata": {},
   "outputs": [],
   "source": []
  }
 ],
 "metadata": {
  "interpreter": {
   "hash": "2d6665af479ab98ef4acca01ca45d4d57a52903c594eb1765faf156f4475f423"
  },
  "kernelspec": {
   "display_name": "Python 3.7.7 64-bit ('AlgoTrading': conda)",
   "name": "python3"
  },
  "language_info": {
   "codemirror_mode": {
    "name": "ipython",
    "version": 3
   },
   "file_extension": ".py",
   "mimetype": "text/x-python",
   "name": "python",
   "nbconvert_exporter": "python",
   "pygments_lexer": "ipython3",
   "version": "3.7.7"
  },
  "orig_nbformat": 4
 },
 "nbformat": 4,
 "nbformat_minor": 2
}
