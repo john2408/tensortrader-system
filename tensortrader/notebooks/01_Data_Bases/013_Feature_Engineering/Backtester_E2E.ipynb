{
 "cells": [
  {
   "cell_type": "code",
   "execution_count": 1,
   "id": "08f0dd66-e918-4047-bca8-b8ee4991fd36",
   "metadata": {},
   "outputs": [],
   "source": [
    "import os\n",
    "from os.path import join\n",
    "from os import getcwd\n",
    "from pathlib import Path\n",
    "from sys import path\n",
    "import matplotlib.pyplot as plt\n",
    "import logging\n",
    "\n",
    "\n",
    "# Set Functions to Path\n",
    "full_path = os.getcwd()\n",
    "functions_path = join( Path(full_path).parents[0].parents[0].parents[0] )\n",
    "path.append( functions_path  )\n",
    "\n",
    "from ETL.ETL_func import *\n",
    "from ML.label_methods import *\n",
    "from ML.models import *\n",
    "from Features.feature_generation import FeatureEngineer\n",
    "from Backtesting.backtester import Backtester\n",
    "from tasks.task_utils import create_logging"
   ]
  },
  {
   "cell_type": "code",
   "execution_count": 2,
   "id": "850a1e34-2101-4082-8b39-c404f22e06f8",
   "metadata": {},
   "outputs": [
    {
     "name": "stdout",
     "output_type": "stream",
     "text": [
      "Logging data at  /mnt/d/Tensor/tensortrader/backtests/tmp/Backtester_tmp.log\n"
     ]
    }
   ],
   "source": [
    "backtesting_folder = \"/mnt/d/Tensor/tensortrader/backtests/tmp\"\n",
    "\n",
    "LOG_FILENAME = os.path.join( backtesting_folder,\n",
    "                                f\"Backtester_tmp.log\")\n",
    "\n",
    "print(\"Logging data at \", LOG_FILENAME)\n",
    "\n",
    "logger = create_logging(LOG_FILENAME)"
   ]
  },
  {
   "cell_type": "markdown",
   "id": "44cd4cba-480b-427b-a14c-64b7ba29a9ad",
   "metadata": {},
   "source": [
    "# Parameters"
   ]
  },
  {
   "cell_type": "code",
   "execution_count": 3,
   "id": "f290ed76-92f9-4366-bfe1-b63066edbd44",
   "metadata": {},
   "outputs": [],
   "source": [
    "symbols = [ 'BTCUSDT', 'ETHUSDT', 'LTCUSDT',  'ADAUSDT','BNBUSDT', 'BNBBTC' , 'EOSUSDT', 'ETCUSDT',\n",
    "        'XMRBTC', 'TRXUSDT', 'XLMUSDT', 'IOTAUSDT',\n",
    "        'MKRUSDT', 'DOGEUSDT']\n",
    "n_days = 90\n",
    "years_filter = [2022]\n",
    "label_mode = 'return' # TBM, return, TA: Technical Indicator\n",
    "technical_indicator = 'awesome_os' # macd_os , awesome_os\n",
    "target_type = 'regression' # classification or regression\n",
    "calculate_feat_importance = False\n",
    "\n",
    "\n",
    "# Resampling Paramters\n",
    "use_resampling = True\n",
    "resampling = '15Min'\n",
    "\n",
    "# number of candles to considered for exponentially weighted \n",
    "# volatility\n",
    "span_volatility = 60 \n",
    "outlier_cutoff = 0.0001\n",
    "v_barrier_minutes = 10\n",
    "\n",
    "# -----------------------------\n",
    "# Return Signals Parameters\n",
    "# -----------------------------\n",
    "\n",
    "if label_mode == 'return':\n",
    "    return_lag = 1\n",
    "    long_short = (2,1)\n",
    "    timestamp_col = 'Date'\n",
    "    variable = 'Close'\n",
    "    target_col_name = \"{}_target_return_{}m\".format(variable, int(resampling[:-3]) * return_lag)\n",
    "    target_variable = target_col_name\n",
    "\n",
    "# -----------------------------\n",
    "# Triple Barrier Parameters\n",
    "# -----------------------------\n",
    "if label_mode == 'TBM':\n",
    "    # Profit-Stop Loss ratio\n",
    "    ptsl = [2,1]\n",
    "   \n",
    "    delta_vertical_b = pd.Timedelta(minutes = v_barrier_minutes) \n",
    "\n",
    "    # Volatility Parameters\n",
    "    volatility_freq = 1 # In minutes\n",
    "    delta_volatility = pd.Timedelta(minutes = volatility_freq)\n",
    "    target_variable = 'label'\n",
    "\n",
    "    # Position Type\n",
    "    # 1: Long\n",
    "    # -1: Short\n",
    "    pt = 1\n",
    "    n_jobs = -2\n",
    "    max_nbytes = '0.8M'\n",
    "    parallel_calculation = False\n",
    "\n",
    "# -----------------------------\n",
    "# Feature Engineering\n",
    "# -----------------------------\n",
    "feature_id = 1\n",
    "conf_path = '../../../config/feature_eng.yml'\n",
    "\n",
    "# -----------------------------\n",
    "# Feature Selection\n",
    "# -----------------------------\n",
    "train_size = 0.7\n",
    "mode = \"mean_decrease\"\n",
    "\n",
    "# -----------------------------\n",
    "# Model Training\n",
    "# -----------------------------\n",
    "n_splits = 5\n",
    "n_iter = 2\n",
    "test_period_length = 60 # minutes   \n",
    "train_period_length = None                                                            \n",
    "gap = 5\n",
    "date_idx = \"Date\"\n",
    "model_type = \"XGB\"\n",
    "n_top_features = 20\n",
    "max_n_estimators = 400\n",
    "\n",
    "# Ref: https://xgboost.readthedocs.io/en/stable/parameter.html#parameters-for-tweedie-regression-objective-reg-tweedie\n",
    "if target_type == 'classification':\n",
    "    \n",
    "    eval_metric = 'auc'\n",
    "    objective = 'multi:softmax' \n",
    "    grow_policy = 'lossguide' \n",
    "    booster = 'gbtree'\n",
    "    \n",
    "elif target_type == 'regression':\n",
    "\n",
    "    eval_metric = 'rmse' \n",
    "    objective = 'reg:squarederror'\n",
    "    grow_policy = 'lossguide' \n",
    "    booster = 'gbtree' \n",
    "\n",
    "\n",
    "# -----------------------------\n",
    "# Cost Analysis\n",
    "# -----------------------------\n",
    "trading_fee = 0.001"
   ]
  },
  {
   "cell_type": "markdown",
   "id": "229ff3d0-b93d-49d8-8c47-73af36f2f69c",
   "metadata": {},
   "source": [
    "# Data Load"
   ]
  },
  {
   "cell_type": "code",
   "execution_count": 4,
   "id": "215fb304-728e-472c-90a2-98a501deb555",
   "metadata": {},
   "outputs": [],
   "source": [
    "Loader = DataLoader(input_folder_db = \"/mnt/c/Tensor/Database/Cryptos/\")"
   ]
  },
  {
   "cell_type": "code",
   "execution_count": 5,
   "id": "b335a5ac-1cc8-4b77-b7c7-072e0287daad",
   "metadata": {},
   "outputs": [
    {
     "name": "stdout",
     "output_type": "stream",
     "text": [
      "Reading file /mnt/c/Tensor/Database/Cryptos/BTCUSDT/2022_BTCUSDT.parquet\n",
      " Max Date is  2022-12-16 15:37:00\n",
      "Reading file /mnt/c/Tensor/Database/Cryptos/ETHUSDT/2022_ETHUSDT.parquet\n",
      " Max Date is  2022-12-16 15:37:00\n",
      "Reading file /mnt/c/Tensor/Database/Cryptos/LTCUSDT/2022_LTCUSDT.parquet\n",
      " Max Date is  2022-12-16 15:37:00\n",
      "Reading file /mnt/c/Tensor/Database/Cryptos/ADAUSDT/2022_ADAUSDT.parquet\n",
      " Max Date is  2022-12-16 15:37:00\n",
      "Reading file /mnt/c/Tensor/Database/Cryptos/BNBUSDT/2022_BNBUSDT.parquet\n",
      " Max Date is  2022-12-16 15:37:00\n",
      "Reading file /mnt/c/Tensor/Database/Cryptos/BNBBTC/2022_BNBBTC.parquet\n",
      " Max Date is  2022-12-16 15:37:00\n",
      "Reading file /mnt/c/Tensor/Database/Cryptos/EOSUSDT/2022_EOSUSDT.parquet\n",
      " Max Date is  2022-12-16 15:37:00\n",
      "Reading file /mnt/c/Tensor/Database/Cryptos/ETCUSDT/2022_ETCUSDT.parquet\n",
      " Max Date is  2022-12-16 15:37:00\n",
      "Reading file /mnt/c/Tensor/Database/Cryptos/XMRBTC/2022_XMRBTC.parquet\n",
      " Max Date is  2022-12-16 15:37:00\n",
      "Reading file /mnt/c/Tensor/Database/Cryptos/TRXUSDT/2022_TRXUSDT.parquet\n",
      " Max Date is  2022-12-16 15:37:00\n",
      "Reading file /mnt/c/Tensor/Database/Cryptos/XLMUSDT/2022_XLMUSDT.parquet\n",
      " Max Date is  2022-12-16 15:37:00\n",
      "Reading file /mnt/c/Tensor/Database/Cryptos/IOTAUSDT/2022_IOTAUSDT.parquet\n",
      " Max Date is  2022-12-16 15:37:00\n",
      "Reading file /mnt/c/Tensor/Database/Cryptos/MKRUSDT/2022_MKRUSDT.parquet\n",
      " Max Date is  2022-12-16 15:37:00\n",
      "Reading file /mnt/c/Tensor/Database/Cryptos/DOGEUSDT/2022_DOGEUSDT.parquet\n",
      " Max Date is  2022-12-16 15:37:00\n",
      "Dataframe size is  (1818488, 16)\n"
     ]
    }
   ],
   "source": [
    "data = Loader.load(n_days = n_days,\n",
    "            symbols = symbols,\n",
    "            years_filter = years_filter)"
   ]
  },
  {
   "cell_type": "code",
   "execution_count": 6,
   "id": "750f0068-72bc-447c-9050-c4e4480621a6",
   "metadata": {},
   "outputs": [
    {
     "data": {
      "text/plain": [
       "Index(['timestamp', 'Open Time', 'Open', 'High', 'Low', 'Close', 'Volume',\n",
       "       'Clos Time', 'Quote Asset Volume', 'Number of Trades',\n",
       "       'Taker Buy Base Asset Volume', 'Taker Buy Quote Asset Volume', 'Ignore',\n",
       "       'Date', 'Year', 'Ticker'],\n",
       "      dtype='object')"
      ]
     },
     "execution_count": 6,
     "metadata": {},
     "output_type": "execute_result"
    }
   ],
   "source": [
    "data.columns"
   ]
  },
  {
   "cell_type": "code",
   "execution_count": 7,
   "id": "5d050193-63f4-4f3d-8faa-d4eb4aafde59",
   "metadata": {},
   "outputs": [],
   "source": [
    "if use_resampling:\n",
    "    data = Loader.resampling(data, resampling)"
   ]
  },
  {
   "cell_type": "code",
   "execution_count": 8,
   "id": "d27e128a-71a5-43c5-9a58-f70a4357ea51",
   "metadata": {},
   "outputs": [
    {
     "data": {
      "text/plain": [
       "(121240, 9)"
      ]
     },
     "execution_count": 8,
     "metadata": {},
     "output_type": "execute_result"
    }
   ],
   "source": [
    "data.shape"
   ]
  },
  {
   "cell_type": "code",
   "execution_count": 9,
   "id": "42833a32",
   "metadata": {},
   "outputs": [
    {
     "data": {
      "text/html": [
       "<div>\n",
       "<style scoped>\n",
       "    .dataframe tbody tr th:only-of-type {\n",
       "        vertical-align: middle;\n",
       "    }\n",
       "\n",
       "    .dataframe tbody tr th {\n",
       "        vertical-align: top;\n",
       "    }\n",
       "\n",
       "    .dataframe thead th {\n",
       "        text-align: right;\n",
       "    }\n",
       "</style>\n",
       "<table border=\"1\" class=\"dataframe\">\n",
       "  <thead>\n",
       "    <tr style=\"text-align: right;\">\n",
       "      <th></th>\n",
       "      <th>Ticker</th>\n",
       "      <th>timestamp</th>\n",
       "      <th>Open</th>\n",
       "      <th>High</th>\n",
       "      <th>Low</th>\n",
       "      <th>Close</th>\n",
       "      <th>Volume</th>\n",
       "      <th>Number of Trades</th>\n",
       "      <th>Date</th>\n",
       "    </tr>\n",
       "  </thead>\n",
       "  <tbody>\n",
       "    <tr>\n",
       "      <th>0</th>\n",
       "      <td>ADAUSDT</td>\n",
       "      <td>2022-09-17 10:45:00</td>\n",
       "      <td>0.4750</td>\n",
       "      <td>0.4758</td>\n",
       "      <td>0.4744</td>\n",
       "      <td>0.4757</td>\n",
       "      <td>512435.2</td>\n",
       "      <td>476</td>\n",
       "      <td>2022-09-17 10:45:00</td>\n",
       "    </tr>\n",
       "    <tr>\n",
       "      <th>1</th>\n",
       "      <td>ADAUSDT</td>\n",
       "      <td>2022-09-17 11:00:00</td>\n",
       "      <td>0.4757</td>\n",
       "      <td>0.4770</td>\n",
       "      <td>0.4756</td>\n",
       "      <td>0.4766</td>\n",
       "      <td>882077.6</td>\n",
       "      <td>837</td>\n",
       "      <td>2022-09-17 11:00:00</td>\n",
       "    </tr>\n",
       "    <tr>\n",
       "      <th>2</th>\n",
       "      <td>ADAUSDT</td>\n",
       "      <td>2022-09-17 11:15:00</td>\n",
       "      <td>0.4765</td>\n",
       "      <td>0.4771</td>\n",
       "      <td>0.4755</td>\n",
       "      <td>0.4761</td>\n",
       "      <td>690090.2</td>\n",
       "      <td>780</td>\n",
       "      <td>2022-09-17 11:15:00</td>\n",
       "    </tr>\n",
       "    <tr>\n",
       "      <th>3</th>\n",
       "      <td>ADAUSDT</td>\n",
       "      <td>2022-09-17 11:30:00</td>\n",
       "      <td>0.4761</td>\n",
       "      <td>0.4767</td>\n",
       "      <td>0.4759</td>\n",
       "      <td>0.4759</td>\n",
       "      <td>419249.4</td>\n",
       "      <td>544</td>\n",
       "      <td>2022-09-17 11:30:00</td>\n",
       "    </tr>\n",
       "    <tr>\n",
       "      <th>4</th>\n",
       "      <td>ADAUSDT</td>\n",
       "      <td>2022-09-17 11:45:00</td>\n",
       "      <td>0.4759</td>\n",
       "      <td>0.4764</td>\n",
       "      <td>0.4755</td>\n",
       "      <td>0.4763</td>\n",
       "      <td>475444.1</td>\n",
       "      <td>455</td>\n",
       "      <td>2022-09-17 11:45:00</td>\n",
       "    </tr>\n",
       "  </tbody>\n",
       "</table>\n",
       "</div>"
      ],
      "text/plain": [
       "    Ticker           timestamp    Open    High     Low   Close    Volume  \\\n",
       "0  ADAUSDT 2022-09-17 10:45:00  0.4750  0.4758  0.4744  0.4757  512435.2   \n",
       "1  ADAUSDT 2022-09-17 11:00:00  0.4757  0.4770  0.4756  0.4766  882077.6   \n",
       "2  ADAUSDT 2022-09-17 11:15:00  0.4765  0.4771  0.4755  0.4761  690090.2   \n",
       "3  ADAUSDT 2022-09-17 11:30:00  0.4761  0.4767  0.4759  0.4759  419249.4   \n",
       "4  ADAUSDT 2022-09-17 11:45:00  0.4759  0.4764  0.4755  0.4763  475444.1   \n",
       "\n",
       "   Number of Trades                Date  \n",
       "0               476 2022-09-17 10:45:00  \n",
       "1               837 2022-09-17 11:00:00  \n",
       "2               780 2022-09-17 11:15:00  \n",
       "3               544 2022-09-17 11:30:00  \n",
       "4               455 2022-09-17 11:45:00  "
      ]
     },
     "execution_count": 9,
     "metadata": {},
     "output_type": "execute_result"
    }
   ],
   "source": [
    "data.head()"
   ]
  },
  {
   "cell_type": "markdown",
   "id": "af44b6c3-a87c-405e-af59-cf9f6786fa9a",
   "metadata": {},
   "source": [
    "# Technical Indicator Signal"
   ]
  },
  {
   "cell_type": "code",
   "execution_count": 10,
   "id": "901329c8-d83b-4599-8fd7-4986778337b4",
   "metadata": {},
   "outputs": [],
   "source": [
    "def calculate_signal(df, indicator, technical_indicator):\n",
    "    \n",
    "    # https://www.tradingview.com/support/solutions/43000501826-awesome-oscillator-ao/\n",
    "    # Using Twin Peaks Strategy\n",
    "    if technical_indicator == 'awesome_os':\n",
    "        df[f'{indicator}_lag1'] = df[indicator].shift(1)\n",
    "        df['changed'] = (df[[indicator,f'{indicator}_lag1']]\n",
    "                        .apply(lambda x: x[indicator]*x[f'{indicator}_lag1'] < 0 , \n",
    "                               axis = 1))\n",
    "\n",
    "        df['candle_type'] = np.where( df['Open'] < df['Close'], 1, -1)\n",
    "\n",
    "        df['sign'] = np.sign(df[f'{indicator}_lag1'])  \n",
    "        df['label'] = np.where( df['changed'] & (df['sign']  == -1)  , 1, \n",
    "                               np.where( df['changed'] & (df['sign']  == 1) , -1 , 0 ) ,\n",
    "                              )\n",
    "\n",
    "        return df\n",
    "    \n",
    "    elif technical_indicator == 'macd_os':\n",
    "      # some logic\n",
    "\n",
    "      return df\n",
    "    \n",
    "    else:\n",
    "        ValueError(f\"Stragey {self.technical_indicator} is not available\")\n",
    "        \n"
   ]
  },
  {
   "cell_type": "code",
   "execution_count": 11,
   "id": "708f4653-cdba-4888-8720-f7ce51152cca",
   "metadata": {},
   "outputs": [],
   "source": [
    "if label_mode == 'TA':\n",
    "    \n",
    "    TA_signal = TechnicalSignal(technical_indicator)\n",
    "    \n",
    "    fast = 10\n",
    "    slow = 120\n",
    "    \n",
    "    data = TA_signal.run(data = data, \n",
    "                         fast = fast, \n",
    "                         slow = slow)\n",
    "    \n",
    "    data = calculate_signal(data, \n",
    "                            indicator = f'AO_{fast}_{slow}', \n",
    "                            technical_indicator = technical_indicator)\n",
    "    \n",
    "    print(data.groupby(['Ticker'])['label'].value_counts())"
   ]
  },
  {
   "cell_type": "code",
   "execution_count": 12,
   "id": "698f8db0-a1a1-4990-9eb6-0aa9e8e542b8",
   "metadata": {},
   "outputs": [],
   "source": [
    "# data[['timestamp','Close',f'AO_{fast}_{slow}',\n",
    "#       'changed','sign','label']].tail(50)"
   ]
  },
  {
   "cell_type": "code",
   "execution_count": 14,
   "id": "99beb06b-7fd7-44f1-8d54-4c9784029075",
   "metadata": {},
   "outputs": [],
   "source": [
    "# (data[['timestamp','Close',f'AO_{fast}_{slow}',\n",
    "#       'changed','sign','label']]\n",
    "#         .tail(1000).plot(x = 'timestamp', y = [f'AO_{fast}_{slow}']))"
   ]
  },
  {
   "cell_type": "code",
   "execution_count": 15,
   "id": "2e47875c-b2bf-468b-9b4d-d76237604f6a",
   "metadata": {},
   "outputs": [],
   "source": [
    "# (data[['timestamp','Close',f'AO_{fast}_{slow}','changed','sign','label']]\n",
    "#         .tail(1000).plot(x = 'timestamp', y = ['Close']))"
   ]
  },
  {
   "cell_type": "markdown",
   "id": "b48b4edb-0164-4ae3-bb9b-b7c16bae3948",
   "metadata": {},
   "source": [
    "# Return Signals Labels"
   ]
  },
  {
   "cell_type": "code",
   "execution_count": 12,
   "id": "9175db74-ef74-49ae-ac7a-e5cac765ab32",
   "metadata": {},
   "outputs": [
    {
     "name": "stdout",
     "output_type": "stream",
     "text": [
      "Calculating returns for ticker ADAUSDT\n",
      "Getting volatility\n",
      "Getting signals\n",
      "Calculating returns for ticker BNBBTC\n",
      "Getting volatility\n",
      "Getting signals\n",
      "Calculating returns for ticker BNBUSDT\n",
      "Getting volatility\n",
      "Getting signals\n",
      "Calculating returns for ticker BTCUSDT\n",
      "Getting volatility\n",
      "Getting signals\n",
      "Calculating returns for ticker DOGEUSDT\n",
      "Getting volatility\n",
      "Getting signals\n",
      "Calculating returns for ticker EOSUSDT\n",
      "Getting volatility\n",
      "Getting signals\n",
      "Calculating returns for ticker ETCUSDT\n",
      "Getting volatility\n",
      "Getting signals\n",
      "Calculating returns for ticker ETHUSDT\n",
      "Getting volatility\n",
      "Getting signals\n",
      "Calculating returns for ticker IOTAUSDT\n",
      "Getting volatility\n",
      "Getting signals\n",
      "Calculating returns for ticker LTCUSDT\n",
      "Getting volatility\n",
      "Getting signals\n",
      "Calculating returns for ticker MKRUSDT\n",
      "Getting volatility\n",
      "Getting signals\n",
      "Calculating returns for ticker TRXUSDT\n",
      "Getting volatility\n",
      "Getting signals\n",
      "Calculating returns for ticker XLMUSDT\n",
      "Getting volatility\n",
      "Getting signals\n",
      "Calculating returns for ticker XMRBTC\n",
      "Getting volatility\n",
      "Getting signals\n",
      "Ticker    label\n",
      "ADAUSDT    0       7410\n",
      "          -1       1094\n",
      "           1        155\n",
      "BNBBTC     0       7455\n",
      "          -1       1020\n",
      "           1        184\n",
      "BNBUSDT    0       7441\n",
      "          -1       1043\n",
      "           1        175\n",
      "BTCUSDT    0       7558\n",
      "          -1        914\n",
      "           1        187\n",
      "DOGEUSDT   0       7541\n",
      "          -1        925\n",
      "           1        193\n",
      "EOSUSDT    0       7482\n",
      "          -1       1026\n",
      "           1        151\n",
      "ETCUSDT    0       7507\n",
      "          -1        983\n",
      "           1        169\n",
      "ETHUSDT    0       7571\n",
      "          -1        909\n",
      "           1        179\n",
      "IOTAUSDT   0       7428\n",
      "          -1       1066\n",
      "           1        165\n",
      "LTCUSDT    0       7456\n",
      "          -1       1029\n",
      "           1        174\n",
      "MKRUSDT    0       7375\n",
      "          -1       1110\n",
      "           1        174\n",
      "TRXUSDT    0       7468\n",
      "          -1       1021\n",
      "           1        170\n",
      "XLMUSDT    0       7399\n",
      "          -1       1097\n",
      "           1        163\n",
      "XMRBTC     0       7303\n",
      "          -1       1160\n",
      "           1        196\n",
      "Name: label, dtype: int64\n"
     ]
    }
   ],
   "source": [
    "if label_mode == 'return':\n",
    "\n",
    "    R_Signals = ReturnSignal(return_lag = return_lag,\n",
    "                             target_col_name = target_col_name,\n",
    "                             long_short = long_short,\n",
    "                             data = data,\n",
    "                             timestamp_col = timestamp_col,\n",
    "                             variable = variable, \n",
    "                             span_volatility= span_volatility, \n",
    "                             outlier_cutoff = outlier_cutoff)\n",
    "    \n",
    "    data = R_Signals.run()\n",
    "    \n",
    "    if target_type == 'regression':\n",
    "        target_variable = target_col_name\n",
    "    elif target_type == 'classification':\n",
    "        target_variable = 'label'\n",
    "    \n",
    "    print(data.groupby(['Ticker'])['label'].value_counts())"
   ]
  },
  {
   "cell_type": "code",
   "execution_count": 13,
   "id": "8afe73e1",
   "metadata": {},
   "outputs": [
    {
     "data": {
      "text/plain": [
       "<AxesSubplot:xlabel='timestamp'>"
      ]
     },
     "execution_count": 13,
     "metadata": {},
     "output_type": "execute_result"
    },
    {
     "data": {
      "image/png": "[encoded data removed]",
      "text/plain": [
       "<Figure size 432x288 with 1 Axes>"
      ]
     },
     "metadata": {
      "needs_background": "light"
     },
     "output_type": "display_data"
    }
   ],
   "source": [
    "data[data['Ticker'] == 'BNBBTC'].plot(x = 'timestamp', y = 'Close_target_return_15m')"
   ]
  },
  {
   "cell_type": "code",
   "execution_count": 15,
   "id": "36b0a347",
   "metadata": {},
   "outputs": [],
   "source": [
    "data.to_parquet(\"/mnt/c/Tensor/Database/Cryptos/Dataframe_Wavelet/Tensor_Portfolio.parquet\")"
   ]
  },
  {
   "cell_type": "markdown",
   "id": "070aad04-d520-405d-a84e-a4ff0a46b6f4",
   "metadata": {},
   "source": [
    "# TBM Labels"
   ]
  },
  {
   "cell_type": "code",
   "execution_count": 47,
   "id": "1152bf7d-2952-4870-8a81-01b10ef58418",
   "metadata": {},
   "outputs": [],
   "source": [
    "if label_mode == 'TBM':\n",
    "\n",
    "    dfs = []\n",
    "\n",
    "    for ticker in symbols:\n",
    "\n",
    "        print(\"Get TBM labels for ticker\", ticker)\n",
    "\n",
    "        df = data[data['Ticker'] == ticker].copy()\n",
    "        df = df.set_index('timestamp').copy()\n",
    "\n",
    "        TBM_labels = TripleBarrierMethod(df,\n",
    "                                        ticker,\n",
    "                                        ptsl,\n",
    "                                        delta_vertical_b,\n",
    "                                        pt,\n",
    "                                        delta_volatility,\n",
    "                                        span_volatility,\n",
    "                                        n_jobs,\n",
    "                                        parallel_calculation,\n",
    "                                        max_nbytes )\n",
    "\n",
    "        TBM_labels.run()\n",
    "\n",
    "        df = TBM_labels.data.copy()\n",
    "\n",
    "        dfs.append(df)\n",
    "\n",
    "        del df\n",
    "\n",
    "    data = pd.concat(dfs)\n",
    "\n",
    "    del dfs\n",
    "    \n",
    "    print(data.groupby(['Ticker'])['label'].value_counts())"
   ]
  },
  {
   "cell_type": "markdown",
   "id": "03f270ff-f740-4ab2-bb17-1327742e4bb5",
   "metadata": {},
   "source": [
    "# Cost Analysis "
   ]
  },
  {
   "cell_type": "code",
   "execution_count": 49,
   "id": "18bb3b3d-814a-4c42-b530-cdf4aeb415f2",
   "metadata": {},
   "outputs": [],
   "source": [
    "Label_Backtest = Backtester(logger)"
   ]
  },
  {
   "cell_type": "code",
   "execution_count": 50,
   "id": "140fcf95-dbe0-4bbc-90f8-0a86c4d4dd95",
   "metadata": {},
   "outputs": [
    {
     "name": "stdout",
     "output_type": "stream",
     "text": [
      "key:  use_adj_strategy  value True\n",
      "key:  v_barrier_minutes  value 10\n",
      "key:  trading_fee  value 0.001\n",
      "\n",
      "Analyzing performance for  ETHUSDT\n",
      "\n",
      "ML Strategy: Saldo after Backtesting for ml_performance\n",
      "                size 1 unit of the Coin $USD\n",
      " Initial Investment: 1060.67\n",
      " Final Performance: 1735.32\n",
      " Performance Return: 0.64\n",
      "Number of Trades: 225.0\n",
      "Total Cost USDT: 519.58\n",
      "\n",
      "ML Strategy: Saldo after Backtesting for ml_adj_performance\n",
      "                size 1 unit of the Coin $USD\n",
      " Initial Investment: 1060.67\n",
      " Final Performance: 1729.35\n",
      " Performance Return: 0.63\n",
      "Number of Trades: 225.0\n",
      "Total Cost USDT: 508.14\n",
      "<class 'matplotlib.figure.Figure'>\n"
     ]
    },
    {
     "data": {
      "image/png": "[encoded data removed]",
      "text/plain": [
       "<Figure size 864x432 with 1 Axes>"
      ]
     },
     "metadata": {
      "needs_background": "light"
     },
     "output_type": "display_data"
    }
   ],
   "source": [
    "backtesting_restuls = Label_Backtest.vectorize_backtesting(ds = data.copy(),\n",
    "                      backtesting_folder = backtesting_folder,\n",
    "                      modus =  'signal_validation', \n",
    "                      use_adj_strategy = True,\n",
    "                      v_barrier_minutes = v_barrier_minutes, \n",
    "                      trading_fee = 0.001)"
   ]
  },
  {
   "cell_type": "code",
   "execution_count": 12,
   "id": "28a6eb2d-e59f-4e4b-a752-eef68404085d",
   "metadata": {},
   "outputs": [],
   "source": [
    "backtesting_file = \"backtetisting_file.parquet\""
   ]
  },
  {
   "cell_type": "code",
   "execution_count": 13,
   "id": "f9bc34c8-79d6-404d-bd4d-2ddf603f432f",
   "metadata": {},
   "outputs": [
    {
     "data": {
      "text/plain": [
       "(13008, 24)"
      ]
     },
     "execution_count": 13,
     "metadata": {},
     "output_type": "execute_result"
    }
   ],
   "source": [
    "backtesting_restuls.shape"
   ]
  },
  {
   "cell_type": "code",
   "execution_count": 14,
   "id": "41cfe9dc-6b0e-465c-b296-7055d02d83cb",
   "metadata": {},
   "outputs": [],
   "source": [
    "Label_Backtest.store_backtesting_results_parquet( \n",
    "                                backtesting_df =  backtesting_restuls,\n",
    "                                file_name =  backtesting_file,\n",
    "                                storage_folder = backtesting_folder )"
   ]
  },
  {
   "cell_type": "markdown",
   "id": "919e1724-ed33-4264-97e7-441957964389",
   "metadata": {},
   "source": [
    "\n",
    "# Feature Engineerer"
   ]
  },
  {
   "cell_type": "code",
   "execution_count": 33,
   "id": "fc994239-6580-45fd-a4f1-dd8ffeddc80c",
   "metadata": {},
   "outputs": [],
   "source": [
    "feature = FeatureEngineer(feature_id  = feature_id, \n",
    "                       conf_path = conf_path)"
   ]
  },
  {
   "cell_type": "code",
   "execution_count": 44,
   "id": "90a22f94-b82a-4781-9f3b-0acc425d9d61",
   "metadata": {},
   "outputs": [
    {
     "name": "stdout",
     "output_type": "stream",
     "text": [
      "[{'kind': 'sma', 'length': 10, 'offset': 1}, {'kind': 'sma', 'length': 60, 'offset': 1}, {'kind': 'vwma', 'length': 10, 'offset': 1}, {'kind': 'vwma', 'length': 60, 'offset': 1}, {'kind': 'bbands', 'length': 10, 'offset': 1}, {'kind': 'bbands', 'length': 60, 'offset': 1}, {'kind': 'macd', 'fast': 5, 'slow': 60, 'offset': 1}, {'kind': 'rsi', 'length': 10, 'offset': 1}, {'kind': 'atr', 'length': 10, 'offset': 1}, {'kind': 'pdist', 'offset': 1}]\n"
     ]
    }
   ],
   "source": [
    "feature.read_conf()\n",
    "\n",
    "print(feature.conf['Feature_Engineering'][1]['ta'])"
   ]
  },
  {
   "cell_type": "code",
   "execution_count": 34,
   "id": "960a0520-c3d4-4754-909e-9fe638c3caf1",
   "metadata": {},
   "outputs": [
    {
     "name": "stdout",
     "output_type": "stream",
     "text": [
      "Calculating Technical Indicators for ticker ETHUSDT\n",
      "Calculating returns for ticker ETHUSDT\n"
     ]
    }
   ],
   "source": [
    "data = feature.calculate_features(data).copy()"
   ]
  },
  {
   "cell_type": "markdown",
   "id": "368fcca7-534b-40c6-a426-b273352e0ad1",
   "metadata": {},
   "source": [
    "# Feature Selection"
   ]
  },
  {
   "cell_type": "code",
   "execution_count": 17,
   "id": "4b8bb3a0-3a4f-4ad1-b7b2-63ad64fc9a2a",
   "metadata": {},
   "outputs": [],
   "source": [
    "data.reset_index(inplace = True)"
   ]
  },
  {
   "cell_type": "code",
   "execution_count": 18,
   "id": "0746524c-098a-4572-b22a-3541606c7fa0",
   "metadata": {},
   "outputs": [],
   "source": [
    "cat_columns = 'Ticker'\n",
    "data = feature.add_dummies(data, cat_columns).copy()"
   ]
  },
  {
   "cell_type": "code",
   "execution_count": 19,
   "id": "c046603b-0e7b-43c3-910f-142b7de7e4a1",
   "metadata": {},
   "outputs": [],
   "source": [
    "cols_to_drop = ['Date', 'Open Time', 'Open', 'High', 'Low', 'Close', 'Volume',\n",
    "       'Clos Time', 'Quote Asset Volume', 'Number of Trades',\n",
    "       'Taker Buy Base Asset Volume', 'Taker Buy Quote Asset Volume', 'Ignore',\n",
    "       'Year', 'threshold', 't1', 'label','timestamp']\n",
    "\n",
    "if label_mode == 'return':\n",
    "    cols_to_drop.append(target_col_name)\n",
    "\n",
    "predictors_list = list(set(data.columns) - set(cols_to_drop))"
   ]
  },
  {
   "cell_type": "code",
   "execution_count": 20,
   "id": "f6a47a16-0623-4470-b4f3-3ae7c6c0277c",
   "metadata": {},
   "outputs": [],
   "source": [
    "X_train, X_test, y_train, y_test = feature.train_test_split_multiple_ts(data, predictors_list, train_size, target_variable)"
   ]
  },
  {
   "cell_type": "code",
   "execution_count": null,
   "id": "881b0b2c",
   "metadata": {},
   "outputs": [],
   "source": []
  },
  {
   "cell_type": "code",
   "execution_count": 21,
   "id": "edc1d872-3b06-4791-b698-c346a1bcc1e6",
   "metadata": {},
   "outputs": [],
   "source": [
    "predictors_list = X_train.columns\n",
    "\n",
    "if calculate_feat_importance:\n",
    "    feat_importance = feature.feature_selection(predictors_list = predictors_list, \n",
    "                                                X_train = X_train, \n",
    "                                                y_train = y_train, \n",
    "                                                mode = mode, \n",
    "                                                target_type = target_type)\n",
    "    \n",
    "    feature_selected = list(feat_importance.index[:n_top_features])\n",
    "else:\n",
    "    feature_selected = list(predictors_list)\n"
   ]
  },
  {
   "cell_type": "markdown",
   "id": "60cc9033-b5b6-4cc0-829b-aee84065642a",
   "metadata": {},
   "source": [
    "# Model Training"
   ]
  },
  {
   "cell_type": "code",
   "execution_count": 22,
   "id": "990ca6c2-1779-41b8-87fc-3f1fa8d653c0",
   "metadata": {},
   "outputs": [],
   "source": [
    "XGB_trainer = ML_trainer(train_length = train_period_length,\n",
    "            test_length = test_period_length, \n",
    "            n_splits = n_splits,\n",
    "            gap = gap, \n",
    "            date_idx = date_idx,\n",
    "            model_type =  model_type, \n",
    "            symbols = symbols)"
   ]
  },
  {
   "cell_type": "code",
   "execution_count": 23,
   "id": "717dd7f9-dc7f-44fa-ac28-87bba3c65a09",
   "metadata": {},
   "outputs": [
    {
     "name": "stdout",
     "output_type": "stream",
     "text": [
      "ML Trainer for model XGB,                \n",
      "Test size 60                \n",
      "Number of folds 5                \n",
      "Symbols ['ETHUSDT']\n"
     ]
    }
   ],
   "source": [
    "print(XGB_trainer)"
   ]
  },
  {
   "cell_type": "code",
   "execution_count": 24,
   "id": "c2114f8e-b8e4-4f2b-a437-6b9798639fea",
   "metadata": {},
   "outputs": [
    {
     "name": "stdout",
     "output_type": "stream",
     "text": [
      " Dataframe training size:  (30162, 41)\n",
      "key:  n_iter  value 2\n",
      "key:  max_n_estimators  value 400\n",
      "key:  eval_metric  value rmse\n",
      "key:  objective  value reg:squarederror\n",
      "key:  grow_policy  value lossguide\n",
      "key:  booster  value gbtree\n",
      "Training XGB Classifier Model with class weights\n",
      "accuracy score: 0.3906\n",
      "              precision    recall  f1-score   support\n",
      "\n",
      "          -1       0.47      0.64      0.54      5933\n",
      "           0       0.40      0.09      0.14      4166\n",
      "           1       0.23      0.32      0.27      2828\n",
      "\n",
      "    accuracy                           0.39     12927\n",
      "   macro avg       0.37      0.35      0.32     12927\n",
      "weighted avg       0.39      0.39      0.35     12927\n",
      "\n"
     ]
    }
   ],
   "source": [
    "imbalance_classes_mode = \"class_weights\"\n",
    "\n",
    "report, y_pred = XGB_trainer.fit(X_train, \n",
    "                        X_test, \n",
    "                        y_train, \n",
    "                        y_test,\n",
    "                        feature_selected, \n",
    "                        imbalance_classes_mode,\n",
    "                        target_type = target_type,         \n",
    "                        n_iter = n_iter,\n",
    "                        max_n_estimators = max_n_estimators, \n",
    "                        eval_metric = eval_metric, \n",
    "                        objective = objective, \n",
    "                        grow_policy = grow_policy, \n",
    "                        booster = booster)"
   ]
  },
  {
   "cell_type": "code",
   "execution_count": 25,
   "id": "2b3286a3-34bf-4be7-bb1f-9773b9d399fd",
   "metadata": {},
   "outputs": [],
   "source": [
    "from sklearn.metrics import mean_squared_error"
   ]
  },
  {
   "cell_type": "code",
   "execution_count": 26,
   "id": "64a12598-46b9-4b02-9f2b-50ecc14e84fb",
   "metadata": {},
   "outputs": [
    {
     "name": "stdout",
     "output_type": "stream",
     "text": [
      "key:  use_adj_strategy  value True\n",
      "key:  v_barrier_minutes  value 10\n",
      "key:  trading_fee  value 0.001\n",
      "(43089, 61)\n",
      "(12927, 61)\n",
      "\n",
      "Analyzing performance for  ETHUSDT\n",
      "\n",
      "ML Strategy: Saldo after Backtesting for ml_performance\n",
      "                size 1 unit of the Coin $USD \n",
      " Initial Investment:  1025.27 \n",
      " Final Performance:  1029.62 \n",
      " Performance Return:  0.0 \n",
      "Number of Trades:  2550.0 \n",
      "Total Cost USDT: 6244.83\n",
      "\n",
      "ML Strategy: Saldo after Backtesting for ml_adj_performance\n",
      "                size 1 unit of the Coin $USD \n",
      " Initial Investment:  1025.27 \n",
      " Final Performance:  1089.31 \n",
      " Performance Return:  0.06 \n",
      "Number of Trades:  2550.0 \n",
      "Total Cost USDT: 3216.0\n",
      "<class 'matplotlib.figure.Figure'>\n"
     ]
    },
    {
     "data": {
      "image/png": "[encoded data removed]",
      "text/plain": [
       "<Figure size 864x432 with 1 Axes>"
      ]
     },
     "metadata": {
      "needs_background": "light"
     },
     "output_type": "display_data"
    }
   ],
   "source": [
    "if target_type == 'regression':\n",
    "    \n",
    "    df_signals = (pd.DataFrame(y_pred.rename(R_Signals.target_col_name))\n",
    "            .join(data.set_index('Date')\n",
    "            .filter(['threshold'])))\n",
    "    \n",
    "    df_signals['label'] = R_Signals.calculate_signals(df_signals, long_short)\n",
    "    \n",
    "    Label_Backtest.vectorize_backtesting(ds = data.copy(),\n",
    "                          modus =  'ML_performance', \n",
    "                          y_pred = df_signals['label'],\n",
    "                          backtesting_folder = backtesting_folder,\n",
    "                          use_adj_strategy  = True,\n",
    "                          v_barrier_minutes = v_barrier_minutes, \n",
    "                          trading_fee = 0.001)\n",
    "\n",
    "    \n",
    "else:    \n",
    "    Label_Backtest.vectorize_backtesting(ds = data.copy(),\n",
    "                          modus =  'ML_performance', \n",
    "                          y_pred = y_pred,\n",
    "                          backtesting_folder = backtesting_folder,\n",
    "                          use_adj_strategy  = True,\n",
    "                          v_barrier_minutes = v_barrier_minutes, \n",
    "                          trading_fee = 0.001)"
   ]
  },
  {
   "cell_type": "code",
   "execution_count": null,
   "id": "399685db-c049-45a6-ab53-24de099f9915",
   "metadata": {},
   "outputs": [],
   "source": []
  },
  {
   "cell_type": "code",
   "execution_count": null,
   "id": "88338e1b-e36f-490d-800b-2b2c1d91c4bd",
   "metadata": {},
   "outputs": [],
   "source": []
  },
  {
   "cell_type": "code",
   "execution_count": null,
   "id": "551e67a8-52df-4c55-8f01-d67dda836f1b",
   "metadata": {},
   "outputs": [],
   "source": []
  }
 ],
 "metadata": {
  "kernelspec": {
   "display_name": "Python 3 (ipykernel)",
   "language": "python",
   "name": "python3"
  },
  "language_info": {
   "codemirror_mode": {
    "name": "ipython",
    "version": 3
   },
   "file_extension": ".py",
   "mimetype": "text/x-python",
   "name": "python",
   "nbconvert_exporter": "python",
   "pygments_lexer": "ipython3",
   "version": "3.8.0"
  },
  "vscode": {
   "interpreter": {
    "hash": "8866a21cc5f21e91244415984b8411fc857d8c292882ebcd14b2f895066ec71f"
   }
  }
 },
 "nbformat": 4,
 "nbformat_minor": 5
}
