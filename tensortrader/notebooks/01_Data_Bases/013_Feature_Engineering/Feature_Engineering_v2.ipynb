{
 "cells": [
  {
   "cell_type": "code",
   "execution_count": 1,
   "metadata": {},
   "outputs": [],
   "source": [
    "import numpy as np\n",
    "import pandas as pd\n",
    "import pandas_ta as ta\n",
    "import os\n",
    "\n",
    "from os.path import join\n",
    "from os import getcwd\n",
    "from pathlib import Path\n",
    "from sys import path\n",
    "\n",
    "full_path = getcwd()\n",
    "\n",
    "functions_path = join( Path(full_path).parents[0].parents[0] )\n",
    "path.append( functions_path  )\n",
    "\n",
    "import functions.features_func as fe\n",
    "\n",
    "#from tensortrader.Features import feature_func as fe\n",
    "\n",
    "import yaml\n",
    "CONF = yaml.safe_load(Path('config.yml').read_text())\n",
    "\n",
    "pd.set_option('display.max_columns', None)"
   ]
  },
  {
   "cell_type": "code",
   "execution_count": 2,
   "metadata": {},
   "outputs": [
    {
     "data": {
      "text/plain": [
       "{'ta': [{'kind': 'sma', 'length': 15},\n",
       "  {'kind': 'sma', 'length': 120},\n",
       "  {'kind': 'vwma', 'length': 60},\n",
       "  {'kind': 'vwma', 'length': 15},\n",
       "  {'kind': 'bbands', 'length': 15},\n",
       "  {'kind': 'bbands', 'length': 120},\n",
       "  {'kind': 'macd', 'fast': 15, 'slow': 120},\n",
       "  {'kind': 'rsi', 'length': 15},\n",
       "  {'kind': 'atr', 'length': 15},\n",
       "  {'kind': 'pdist'}],\n",
       " 'include_lags': True,\n",
       " 'lags': [1, 3, 5, 15, 30],\n",
       " 'ref_variable_lags': ['Close'],\n",
       " 'drop_lags': False,\n",
       " 'Volume_Features': True,\n",
       " 'Volume_Col': 'Volume',\n",
       " 'Volume_Windows': [5, 30],\n",
       " 'EntryPrice_PrevClose': False,\n",
       " 'lags_diff': [1, 15, 30, 60],\n",
       " 'binary_lags': False,\n",
       " 'Return_Features': True,\n",
       " 'return_lags': [1, 5, 15, 60, 240],\n",
       " 'return_lags_variable': 'Close',\n",
       " 'Momentum_Features': True,\n",
       " 'Time_Features': True,\n",
       " 'Time_Fourier_Features': False,\n",
       " 'use_prob_features': True,\n",
       " 'probability_features': ['entry_type', 'risk_type'],\n",
       " 'Prob_Features_Windows': [2, 6],\n",
       " 'Apply_Standard_Scaler': True,\n",
       " 'Standard_Scaler_Cols': ['Volume', 'Number of Trades']}"
      ]
     },
     "execution_count": 2,
     "metadata": {},
     "output_type": "execute_result"
    }
   ],
   "source": [
    "CONF['Feature_Engineering'][1]"
   ]
  },
  {
   "cell_type": "markdown",
   "metadata": {},
   "source": [
    "# 0. Parameters"
   ]
  },
  {
   "cell_type": "code",
   "execution_count": 3,
   "metadata": {},
   "outputs": [],
   "source": [
    "storage_folder = '/media/john/Data/Tensor_Invest_Fund/data/Cryptos/TBM/'\n",
    "\n",
    "storage_folder = '/mnt/Data/Tensor_Invest_Fund/data/Cryptos/TBM/'\n",
    "\n",
    "# Feature Configuration ID\n",
    "feature_id = 1\n",
    "\n",
    "# Strategy\n",
    "strategy = '1-1_vb_15m' # '2-1_vb_15m' or 2-2_vb_15m\n",
    "\n",
    "SYMBOLS = ['ADAUSDT',\n",
    " 'BNBBTC',\n",
    " 'BNBUSDT',\n",
    " 'BTCUSDT',\n",
    " 'DOGEUSDT',\n",
    " 'EOSUSDT',\n",
    " 'ETCUSDT',\n",
    " 'ETHUSDT',\n",
    " 'IOTAUSDT',\n",
    " 'LTCUSDT',\n",
    " 'MKRUSDT',\n",
    " 'TRXUSDT',\n",
    " 'XLMUSDT',\n",
    " 'XMRBTC']\n",
    "\n",
    "SYMBOLS = ['ADAUSDT',\n",
    " 'BNBBTC',\n",
    " 'BNBUSDT',\n",
    " 'ETHUSDT']"
   ]
  },
  {
   "cell_type": "markdown",
   "metadata": {},
   "source": [
    "# 1. Data Load"
   ]
  },
  {
   "cell_type": "code",
   "execution_count": 4,
   "metadata": {},
   "outputs": [],
   "source": [
    "input_folder_db = storage_folder\n",
    "\n",
    "dfs = []\n",
    "\n",
    "for ticker in SYMBOLS:\n",
    "\n",
    "    data_path = f'{ticker}/Tripe_Barrier_Method_{ticker}_ptsl_{strategy}.parquet'\n",
    "\n",
    "    dfs.append(pd.read_parquet(os.path.join(input_folder_db, data_path)))\n",
    "\n",
    "data = pd.concat(dfs, ignore_index= True)"
   ]
  },
  {
   "cell_type": "code",
   "execution_count": 5,
   "metadata": {},
   "outputs": [
    {
     "name": "stdout",
     "output_type": "stream",
     "text": [
      "2022-03-25 14:59:00 2021-09-01 01:02:00\n",
      "['ADAUSDT' 'BNBBTC' 'BNBUSDT' 'ETHUSDT']\n"
     ]
    }
   ],
   "source": [
    "print(data['Date'].max(), data['Date'].min())\n",
    "print(data['Ticker'].unique())"
   ]
  },
  {
   "cell_type": "code",
   "execution_count": 6,
   "metadata": {},
   "outputs": [
    {
     "name": "stdout",
     "output_type": "stream",
     "text": [
      "<class 'pandas.core.frame.DataFrame'>\n",
      "RangeIndex: 1050253 entries, 0 to 1050252\n",
      "Data columns (total 19 columns):\n",
      " #   Column                        Non-Null Count    Dtype         \n",
      "---  ------                        --------------    -----         \n",
      " 0   Open Time                     1050253 non-null  int64         \n",
      " 1   Open                          1050253 non-null  float64       \n",
      " 2   High                          1050253 non-null  float64       \n",
      " 3   Low                           1050253 non-null  float64       \n",
      " 4   Close                         1050253 non-null  float64       \n",
      " 5   Volume                        1050253 non-null  float64       \n",
      " 6   Clos Time                     1050253 non-null  int64         \n",
      " 7   Quote Asset Volume            1050253 non-null  float64       \n",
      " 8   Number of Trades              1050253 non-null  int32         \n",
      " 9   Taker Buy Base Asset Volume   1050253 non-null  float64       \n",
      " 10  Taker Buy Quote Asset Volume  1050253 non-null  float64       \n",
      " 11  Ignore                        1050253 non-null  object        \n",
      " 12  Date                          1050253 non-null  datetime64[ns]\n",
      " 13  Year                          1050253 non-null  int32         \n",
      " 14  Ticker                        1050253 non-null  object        \n",
      " 15  max_trades                    1050253 non-null  int32         \n",
      " 16  threshold                     1050253 non-null  float64       \n",
      " 17  t1                            1050253 non-null  datetime64[ns]\n",
      " 18  label                         1050253 non-null  int64         \n",
      "dtypes: datetime64[ns](2), float64(9), int32(3), int64(3), object(2)\n",
      "memory usage: 140.2+ MB\n"
     ]
    }
   ],
   "source": [
    "data.info()"
   ]
  },
  {
   "cell_type": "markdown",
   "metadata": {},
   "source": [
    "# 2. Calculate Features"
   ]
  },
  {
   "cell_type": "code",
   "execution_count": 7,
   "metadata": {},
   "outputs": [
    {
     "name": "stdout",
     "output_type": "stream",
     "text": [
      "Calculating Technical Indicators for ticker ADAUSDT\n",
      "Calculating Technical Indicators for ticker BNBBTC\n",
      "Calculating Technical Indicators for ticker BNBUSDT\n",
      "Calculating Technical Indicators for ticker ETHUSDT\n",
      "Calculating lags for ticker ADAUSDT\n",
      "Calculating lags for ticker BNBBTC\n",
      "Calculating lags for ticker BNBUSDT\n",
      "Calculating lags for ticker ETHUSDT\n",
      "Calculating returns for ticker ADAUSDT\n",
      "Calculating returns for ticker BNBBTC\n",
      "Calculating returns for ticker BNBUSDT\n",
      "Calculating returns for ticker ETHUSDT\n",
      "Calculating momemtum for ticker ADAUSDT\n",
      "Calculating momemtum for ticker BNBBTC\n",
      "Calculating momemtum for ticker BNBUSDT\n",
      "Calculating momemtum for ticker ETHUSDT\n"
     ]
    }
   ],
   "source": [
    "# Features Configuration\n",
    "features_conf = CONF['Feature_Engineering'][feature_id]\n",
    "\n",
    "# (1) Calculate Technical Indicators\n",
    "ta_config = features_conf['ta']\n",
    "data = fe.calculate_technical_indicators(data, features_conf, SYMBOLS)\n",
    "\n",
    "# (2) Calculate Lag Features\n",
    "if features_conf['include_lags']:\n",
    "    data = fe.calculate_lag_features(data, features_conf, SYMBOLS)\n",
    "\n",
    "# (3) Calculate Return Features\n",
    "if features_conf['Return_Features']:\n",
    "    date_col = 'Date'\n",
    "    data = fe.calculate_returns_per_ticker(data, features_conf, SYMBOLS, date_col)\n",
    "\n",
    "# (4) Momemtum Features\n",
    "if features_conf['Return_Features'] and features_conf['Momentum_Features']:\n",
    "    data = fe.calculate_momemtum_features(data, features_conf, SYMBOLS)\n",
    "\n",
    "# (5) Time Features\n",
    "if features_conf['Time_Features']:\n",
    "  \n",
    "    time_levels =  ['month', 'day', 'hour', 'minute']\n",
    "    timestamp_col = 'Date'\n",
    "    data = fe.build_time_columns(data, timestamp_col, time_levels)\n",
    "\n",
    "    if features_conf['Time_Fourier_Features']:                    \n",
    "        data = fe.build_fourier_time_features(data, time_levels = ['month', 'day', 'hour', 'minute'], max_levels = [12, 30, 24, 60], drop_columns = True)\n",
    "\n",
    "# (6) Volume Features\n",
    "if features_conf['Volume_Features']:\n",
    "    group_level = ['Ticker']\n",
    "    data = fe.calculate_volume_features(data, group_level, features_conf)\n",
    "\n",
    "# (7) Apply Standard Scaler\n",
    "if features_conf['Apply_Standard_Scaler']:\n",
    "\n",
    "    for col in features_conf['Standard_Scaler_Cols']:\n",
    "        data.loc[:,f'{col}_standard'] = data.groupby('Ticker')[col].transform(lambda x: fe.apply_standard_scaler(x))\n"
   ]
  },
  {
   "cell_type": "code",
   "execution_count": 8,
   "metadata": {},
   "outputs": [],
   "source": [
    "if features_conf['Apply_Standard_Scaler']:\n",
    "    \n",
    "    cols_to_add = []\n",
    "    for lag_variable in features_conf['ref_variable_lags']:\n",
    "        for lag in features_conf['lags']:\n",
    "            cols_to_add.append(f'{lag_variable}_lag_{lag}')\n",
    "\n",
    "\n",
    "    cols = features_conf['Standard_Scaler_Cols'] + cols_to_add\n",
    "    #for col in cols:\n",
    "    #    data.loc[:,f'{col}_standard'] = data.groupby('Ticker')[col].transform(lambda x: fe.apply_standard_scaler(x))"
   ]
  },
  {
   "cell_type": "code",
   "execution_count": 9,
   "metadata": {},
   "outputs": [],
   "source": [
    "for col in cols:\n",
    "    data.loc[:,f'{col}_standard'] = data.groupby('Ticker')[col].transform(lambda x: fe.apply_standard_scaler(x))"
   ]
  },
  {
   "cell_type": "code",
   "execution_count": 10,
   "metadata": {},
   "outputs": [
    {
     "name": "stdout",
     "output_type": "stream",
     "text": [
      "<class 'pandas.core.frame.DataFrame'>\n",
      "RangeIndex: 1079664 entries, 0 to 1079663\n",
      "Data columns (total 71 columns):\n",
      " #   Column                        Non-Null Count    Dtype         \n",
      "---  ------                        --------------    -----         \n",
      " 0   Date                          1079664 non-null  datetime64[ns]\n",
      " 1   Open Time                     1079664 non-null  int64         \n",
      " 2   Open                          1079664 non-null  float64       \n",
      " 3   High                          1079664 non-null  float64       \n",
      " 4   Low                           1079664 non-null  float64       \n",
      " 5   Close                         1079664 non-null  float64       \n",
      " 6   Volume                        1079664 non-null  float64       \n",
      " 7   Clos Time                     1079664 non-null  int64         \n",
      " 8   Quote Asset Volume            1079664 non-null  float64       \n",
      " 9   Number of Trades              1079664 non-null  int32         \n",
      " 10  Taker Buy Base Asset Volume   1079664 non-null  float64       \n",
      " 11  Taker Buy Quote Asset Volume  1079664 non-null  float64       \n",
      " 12  Ignore                        1079664 non-null  object        \n",
      " 13  Year                          1079664 non-null  int32         \n",
      " 14  Ticker                        1079664 non-null  object        \n",
      " 15  max_trades                    1079664 non-null  int32         \n",
      " 16  threshold                     1079664 non-null  float64       \n",
      " 17  t1                            1079664 non-null  datetime64[ns]\n",
      " 18  label                         1079664 non-null  int64         \n",
      " 19  SMA_15                        1079664 non-null  float64       \n",
      " 20  SMA_120                       1079664 non-null  float64       \n",
      " 21  VWMA_60                       1079664 non-null  float64       \n",
      " 22  VWMA_15                       1079664 non-null  float64       \n",
      " 23  BBL_15_2.0                    1079664 non-null  float64       \n",
      " 24  BBM_15_2.0                    1079664 non-null  float64       \n",
      " 25  BBU_15_2.0                    1079664 non-null  float64       \n",
      " 26  BBB_15_2.0                    1079664 non-null  float64       \n",
      " 27  BBP_15_2.0                    1079664 non-null  float64       \n",
      " 28  BBL_120_2.0                   1079664 non-null  float64       \n",
      " 29  BBM_120_2.0                   1079664 non-null  float64       \n",
      " 30  BBU_120_2.0                   1079664 non-null  float64       \n",
      " 31  BBB_120_2.0                   1079664 non-null  float64       \n",
      " 32  BBP_120_2.0                   1079664 non-null  float64       \n",
      " 33  MACD_15_120_9                 1079664 non-null  float64       \n",
      " 34  MACDh_15_120_9                1079664 non-null  float64       \n",
      " 35  MACDs_15_120_9                1079664 non-null  float64       \n",
      " 36  RSI_15                        1079664 non-null  float64       \n",
      " 37  ATRr_15                       1079664 non-null  float64       \n",
      " 38  PDIST                         1079664 non-null  float64       \n",
      " 39  Close_lag_1                   1079664 non-null  float64       \n",
      " 40  Close_lag_3                   1079664 non-null  float64       \n",
      " 41  Close_lag_5                   1079664 non-null  float64       \n",
      " 42  Close_lag_15                  1079664 non-null  float64       \n",
      " 43  Close_lag_30                  1079664 non-null  float64       \n",
      " 44  Close_return_1m               1079664 non-null  float64       \n",
      " 45  Close_return_5m               1079664 non-null  float64       \n",
      " 46  Close_return_15m              1079664 non-null  float64       \n",
      " 47  Close_return_60m              1079664 non-null  float64       \n",
      " 48  Close_return_240m             1079664 non-null  float64       \n",
      " 49  momentum_1_5                  1079664 non-null  float64       \n",
      " 50  momentum_1_15                 1079664 non-null  float64       \n",
      " 51  momentum_5_15                 1079664 non-null  float64       \n",
      " 52  momentum_1_60                 1079664 non-null  float64       \n",
      " 53  momentum_5_60                 1079664 non-null  float64       \n",
      " 54  momentum_1_240                1079664 non-null  float64       \n",
      " 55  momentum_5_240                1079664 non-null  float64       \n",
      " 56  month                         1079664 non-null  int64         \n",
      " 57  day                           1079664 non-null  int64         \n",
      " 58  hour                          1079664 non-null  int64         \n",
      " 59  minute                        1079664 non-null  int64         \n",
      " 60  Volume_sma_5                  1079648 non-null  float64       \n",
      " 61  Volume_sma_30                 1079548 non-null  float64       \n",
      " 62  Volume_std_5                  1079648 non-null  float64       \n",
      " 63  Volume_std_30                 1079548 non-null  float64       \n",
      " 64  Volume_standard               1079664 non-null  float64       \n",
      " 65  Number of Trades_standard     1079664 non-null  float64       \n",
      " 66  Close_lag_1_standard          1079664 non-null  float64       \n",
      " 67  Close_lag_3_standard          1079664 non-null  float64       \n",
      " 68  Close_lag_5_standard          1079664 non-null  float64       \n",
      " 69  Close_lag_15_standard         1079664 non-null  float64       \n",
      " 70  Close_lag_30_standard         1079664 non-null  float64       \n",
      "dtypes: datetime64[ns](2), float64(57), int32(3), int64(7), object(2)\n",
      "memory usage: 572.5+ MB\n"
     ]
    }
   ],
   "source": [
    "data.info()"
   ]
  },
  {
   "cell_type": "markdown",
   "metadata": {},
   "source": [
    "# 3. Metalabels"
   ]
  },
  {
   "cell_type": "code",
   "execution_count": 11,
   "metadata": {},
   "outputs": [],
   "source": [
    "windows = [5,30]\n",
    "group_level = ['Ticker']\n",
    "\n",
    "for window in windows:\n",
    "\n",
    "    data[f'SMA_{window}'] = data.groupby(group_level)['Close'].transform(lambda x: x.rolling(window = window, closed = 'left').mean())\n",
    "\n",
    "data = fe.strategy_crossing_sma(data, sma_w = windows)"
   ]
  },
  {
   "cell_type": "code",
   "execution_count": 12,
   "metadata": {},
   "outputs": [],
   "source": [
    "data['metalabel'] = fe.get_metalabels(y_model1 = data['sma_cross_over'] , y_true = data['label'])"
   ]
  },
  {
   "cell_type": "code",
   "execution_count": 13,
   "metadata": {},
   "outputs": [
    {
     "data": {
      "text/plain": [
       "0.0    1072106\n",
       "1.0       7558\n",
       "Name: metalabel, dtype: int64"
      ]
     },
     "execution_count": 13,
     "metadata": {},
     "output_type": "execute_result"
    }
   ],
   "source": [
    "data['metalabel'].value_counts()"
   ]
  },
  {
   "cell_type": "code",
   "execution_count": 14,
   "metadata": {},
   "outputs": [
    {
     "data": {
      "text/plain": [
       "'/media/john/Data/Tensor_Invest_Fund/data/Cryptos/TBM/'"
      ]
     },
     "execution_count": 14,
     "metadata": {},
     "output_type": "execute_result"
    }
   ],
   "source": [
    "storage_folder"
   ]
  },
  {
   "cell_type": "code",
   "execution_count": 15,
   "metadata": {},
   "outputs": [
    {
     "name": "stdout",
     "output_type": "stream",
     "text": [
      "/media/john/Data/Tensor_Invest_Fund/data/Cryptos/Features_Eng/Feature_Engineering_conf_1_Tickers_4_Stategy_1-1_vb_15m.parquet\n"
     ]
    }
   ],
   "source": [
    "output_folder_db ='/media/john/Data/Tensor_Invest_Fund/data/Cryptos/Features_Eng'\n",
    "\n",
    "sub_experiment_type = 'conf_{}_Tickers_{}_Stategy_{}'.format(feature_id, data['Ticker'].nunique(), strategy)\n",
    "\n",
    "output_location = os.path.join(output_folder_db, \n",
    "                            ('Feature_Engineering_{}.parquet'\n",
    "                            .format( sub_experiment_type )))\n",
    "\n",
    "print(output_location)\n"
   ]
  },
  {
   "cell_type": "code",
   "execution_count": 16,
   "metadata": {},
   "outputs": [],
   "source": [
    "data.to_parquet(output_location , engine = 'fastparquet', compression = 'gzip')"
   ]
  },
  {
   "cell_type": "code",
   "execution_count": null,
   "metadata": {},
   "outputs": [],
   "source": []
  }
 ],
 "metadata": {
  "interpreter": {
   "hash": "f700aaaa283d02de881c0dafab32851e991dd5b01100e0c6fa015da0ded5ed60"
  },
  "kernelspec": {
   "display_name": "Python 3 (ipykernel)",
   "language": "python",
   "name": "python3"
  },
  "language_info": {
   "codemirror_mode": {
    "name": "ipython",
    "version": 3
   },
   "file_extension": ".py",
   "mimetype": "text/x-python",
   "name": "python",
   "nbconvert_exporter": "python",
   "pygments_lexer": "ipython3",
   "version": "3.7.11"
  }
 },
 "nbformat": 4,
 "nbformat_minor": 4
}
