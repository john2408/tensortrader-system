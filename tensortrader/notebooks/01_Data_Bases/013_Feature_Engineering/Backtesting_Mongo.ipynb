{
 "cells": [
  {
   "cell_type": "code",
   "execution_count": 382,
   "id": "3575be89-1499-4d39-810a-783f34b24549",
   "metadata": {},
   "outputs": [],
   "source": [
    "import pandas as pd \n",
    "import numpy as np\n",
    "import matplotlib.pyplot as plt\n",
    "\n",
    "import os\n",
    "from os.path import join\n",
    "from os import getcwd\n",
    "from pathlib import Path\n",
    "from sys import path\n",
    "\n",
    "from sklearn.utils import class_weight\n",
    "from sklearn.metrics import classification_report\n",
    "from sklearn.metrics import accuracy_score\n",
    "from sklearn.model_selection import TimeSeriesSplit\n",
    "from sklearn.metrics import accuracy_score, confusion_matrix\n",
    "from sklearn.utils.class_weight import compute_class_weight\n",
    "\n",
    "# Oversampling\n",
    "# Ref: https://arxiv.org/pdf/1106.1813.pdf\n",
    "from imblearn.over_sampling import SMOTE\n",
    "\n",
    "#Hyperparameter Optimization\n",
    "from skopt import BayesSearchCV\n",
    "from skopt.space import Real, Categorical, Integer\n",
    "\n",
    "# Set Functions to Path\n",
    "full_path = os.getcwd()\n",
    "functions_path = join( Path(full_path).parents[0].parents[0].parents[0] )\n",
    "path.append( functions_path  )\n",
    "\n",
    "# Tensortrader functions\n",
    "from utils.utils import *\n",
    "from ML.label_methods import *\n",
    "from ETL.ETL_func import *\n",
    "from Features import feature_generation as fe\n",
    "\n",
    "from datetime import datetime \n",
    "import os\n",
    "import logging\n",
    "import dateutil\n",
    "import yaml\n",
    "\n",
    "from xgboost import XGBClassifier\n",
    "\n",
    "import warnings\n",
    "warnings.filterwarnings('ignore')"
   ]
  },
  {
   "cell_type": "code",
   "execution_count": 383,
   "id": "d1ac560c-63c9-4c1a-ab0f-037767fddd15",
   "metadata": {},
   "outputs": [
    {
     "data": {
      "text/plain": [
       "['BNBUSDT',\n",
       " 'BNBBTC',\n",
       " 'BTCUSDT',\n",
       " 'EOSUSDT',\n",
       " 'ETCUSDT',\n",
       " 'LTCUSDT',\n",
       " 'XMRBTC',\n",
       " 'TRXUSDT',\n",
       " 'XLMUSDT',\n",
       " 'ADAUSDT',\n",
       " 'IOTAUSDT',\n",
       " 'MKRUSDT',\n",
       " 'DOGEUSDT',\n",
       " 'ETHUSDT']"
      ]
     },
     "execution_count": 383,
     "metadata": {},
     "output_type": "execute_result"
    }
   ],
   "source": [
    "SYMBOLS"
   ]
  },
  {
   "cell_type": "code",
   "execution_count": 395,
   "id": "e321b343-3bcd-4de5-8d7d-67f302c9a4c4",
   "metadata": {},
   "outputs": [],
   "source": [
    "def test(**args):\n",
    "    add_params = {}\n",
    "    for key , value in args.items():\n",
    "        print(\"key: \", key, \" value\", value)\n",
    "        add_params[key] = value\n",
    "        "
   ]
  },
  {
   "cell_type": "code",
   "execution_count": 396,
   "id": "1d5fb19d-0ea4-4963-91af-0e585eb2e14e",
   "metadata": {},
   "outputs": [
    {
     "name": "stdout",
     "output_type": "stream",
     "text": [
      "key:  val1  value 1\n",
      "key:  val2  value 2\n",
      "key:  val3  value 3\n"
     ]
    }
   ],
   "source": [
    "test(val1 = 1, val2 = 2, val3 = 3)"
   ]
  },
  {
   "cell_type": "code",
   "execution_count": 346,
   "id": "5e555805-db78-4d21-920b-9c37626db6f4",
   "metadata": {},
   "outputs": [],
   "source": []
  },
  {
   "cell_type": "markdown",
   "id": "c419954c-daa9-41de-a6a4-28be29ce9d1b",
   "metadata": {},
   "source": [
    "# 1. Data Load"
   ]
  },
  {
   "cell_type": "code",
   "execution_count": 347,
   "id": "5397e422-44f1-49e3-99f8-56066df6c686",
   "metadata": {},
   "outputs": [
    {
     "data": {
      "text/plain": [
       "datetime.datetime(2022, 6, 11, 10, 0, 6, 676770)"
      ]
     },
     "execution_count": 347,
     "metadata": {},
     "output_type": "execute_result"
    }
   ],
   "source": [
    "datetime.today()"
   ]
  },
  {
   "cell_type": "code",
   "execution_count": 348,
   "id": "81d1f092-1979-4a81-a2d3-01a2a7dd2edd",
   "metadata": {},
   "outputs": [
    {
     "name": "stdout",
     "output_type": "stream",
     "text": [
      "Reading file /mnt/c/Tensor/Database/Cryptos/ETHUSDT/2022_ETHUSDT.parquet\n",
      " Max Date is  2022-06-11 13:51:00\n"
     ]
    }
   ],
   "source": [
    "path_loc = \"/mnt/c/Tensor/Database/Cryptos/\"\n",
    "days = 60\n",
    "\n",
    "SYMBOLS = ['ETHUSDT']\n",
    "\n",
    "#--------------------------------------------------------------------\n",
    "# Data Load\n",
    "#--------------------------------------------------------------------\n",
    "input_folder_db = os.path.join(path_loc)\n",
    "initial_date_load = datetime.today() - dateutil.relativedelta.relativedelta(days = days)\n",
    "years_filter = [2022]\n",
    "\n",
    "dfs = []\n",
    "\n",
    "for symbol in SYMBOLS:\n",
    "    for year in years_filter:\n",
    "\n",
    "        file_name = os.path.join(input_folder_db, f'{symbol}', f'{year}_{symbol}.parquet'  )\n",
    "        print(\"Reading file\", file_name)\n",
    "\n",
    "        df = pd.read_parquet(file_name)\n",
    "        print(\" Max Date is \", df['Date'].max())\n",
    "        df = df[df['Date'] >= initial_date_load].copy()\n",
    "        dfs.append(df)\n",
    "\n",
    "        del df\n",
    "\n",
    "data = pd.concat(dfs, ignore_index = True).drop_duplicates()\n",
    "\n",
    "data.loc[:,'timestamp'] = data['Open Time'].copy()\n",
    "data.set_index('timestamp', inplace = True)\n",
    "data.sort_values(by = ['timestamp'], inplace = True)\n",
    "\n",
    "data = (data.groupby(['Ticker'], \n",
    "        group_keys= False)\n",
    "        .apply(reindex_by_date)\n",
    "        .reset_index())\n",
    "\n",
    "# Convert Unix timestamp to datetime \n",
    "data.loc[:,'timestamp'] = pd.to_datetime(data['timestamp'], unit = \"ms\") \n",
    "\n",
    "data = data.drop(columns = ['max_trades'])"
   ]
  },
  {
   "cell_type": "code",
   "execution_count": 349,
   "id": "6508d6ed-fab9-4a9d-9b1f-a1bd91f22ff7",
   "metadata": {},
   "outputs": [
    {
     "data": {
      "text/html": [
       "<div>\n",
       "<style scoped>\n",
       "    .dataframe tbody tr th:only-of-type {\n",
       "        vertical-align: middle;\n",
       "    }\n",
       "\n",
       "    .dataframe tbody tr th {\n",
       "        vertical-align: top;\n",
       "    }\n",
       "\n",
       "    .dataframe thead th {\n",
       "        text-align: right;\n",
       "    }\n",
       "</style>\n",
       "<table border=\"1\" class=\"dataframe\">\n",
       "  <thead>\n",
       "    <tr style=\"text-align: right;\">\n",
       "      <th></th>\n",
       "      <th>timestamp</th>\n",
       "      <th>Open Time</th>\n",
       "      <th>Open</th>\n",
       "      <th>High</th>\n",
       "      <th>Low</th>\n",
       "      <th>Close</th>\n",
       "      <th>Volume</th>\n",
       "      <th>Clos Time</th>\n",
       "      <th>Quote Asset Volume</th>\n",
       "      <th>Number of Trades</th>\n",
       "      <th>Taker Buy Base Asset Volume</th>\n",
       "      <th>Taker Buy Quote Asset Volume</th>\n",
       "      <th>Ignore</th>\n",
       "      <th>Date</th>\n",
       "      <th>Year</th>\n",
       "      <th>Ticker</th>\n",
       "    </tr>\n",
       "  </thead>\n",
       "  <tbody>\n",
       "    <tr>\n",
       "      <th>86626</th>\n",
       "      <td>2022-06-11 13:47:00</td>\n",
       "      <td>1654955220000</td>\n",
       "      <td>1571.22</td>\n",
       "      <td>1571.78</td>\n",
       "      <td>1569.31</td>\n",
       "      <td>1570.54</td>\n",
       "      <td>694.1697</td>\n",
       "      <td>1654955279999</td>\n",
       "      <td>1.090222e+06</td>\n",
       "      <td>784</td>\n",
       "      <td>407.7096</td>\n",
       "      <td>640269.141556</td>\n",
       "      <td>0</td>\n",
       "      <td>2022-06-11 13:47:00</td>\n",
       "      <td>2022</td>\n",
       "      <td>ETHUSDT</td>\n",
       "    </tr>\n",
       "    <tr>\n",
       "      <th>86627</th>\n",
       "      <td>2022-06-11 13:48:00</td>\n",
       "      <td>1654955280000</td>\n",
       "      <td>1570.53</td>\n",
       "      <td>1570.57</td>\n",
       "      <td>1566.32</td>\n",
       "      <td>1567.55</td>\n",
       "      <td>671.3118</td>\n",
       "      <td>1654955339999</td>\n",
       "      <td>1.053004e+06</td>\n",
       "      <td>726</td>\n",
       "      <td>325.4157</td>\n",
       "      <td>510266.913410</td>\n",
       "      <td>0</td>\n",
       "      <td>2022-06-11 13:48:00</td>\n",
       "      <td>2022</td>\n",
       "      <td>ETHUSDT</td>\n",
       "    </tr>\n",
       "    <tr>\n",
       "      <th>86628</th>\n",
       "      <td>2022-06-11 13:49:00</td>\n",
       "      <td>1654955340000</td>\n",
       "      <td>1567.55</td>\n",
       "      <td>1568.94</td>\n",
       "      <td>1567.29</td>\n",
       "      <td>1568.17</td>\n",
       "      <td>629.1603</td>\n",
       "      <td>1654955399999</td>\n",
       "      <td>9.865562e+05</td>\n",
       "      <td>626</td>\n",
       "      <td>285.6413</td>\n",
       "      <td>447885.284945</td>\n",
       "      <td>0</td>\n",
       "      <td>2022-06-11 13:49:00</td>\n",
       "      <td>2022</td>\n",
       "      <td>ETHUSDT</td>\n",
       "    </tr>\n",
       "    <tr>\n",
       "      <th>86629</th>\n",
       "      <td>2022-06-11 13:50:00</td>\n",
       "      <td>1654955400000</td>\n",
       "      <td>1568.16</td>\n",
       "      <td>1570.14</td>\n",
       "      <td>1567.82</td>\n",
       "      <td>1568.50</td>\n",
       "      <td>721.0324</td>\n",
       "      <td>1654955459999</td>\n",
       "      <td>1.131197e+06</td>\n",
       "      <td>664</td>\n",
       "      <td>404.4877</td>\n",
       "      <td>634523.820720</td>\n",
       "      <td>0</td>\n",
       "      <td>2022-06-11 13:50:00</td>\n",
       "      <td>2022</td>\n",
       "      <td>ETHUSDT</td>\n",
       "    </tr>\n",
       "    <tr>\n",
       "      <th>86630</th>\n",
       "      <td>2022-06-11 13:51:00</td>\n",
       "      <td>1654955460000</td>\n",
       "      <td>1568.49</td>\n",
       "      <td>1568.50</td>\n",
       "      <td>1566.41</td>\n",
       "      <td>1567.88</td>\n",
       "      <td>366.0809</td>\n",
       "      <td>1654955519999</td>\n",
       "      <td>5.737444e+05</td>\n",
       "      <td>507</td>\n",
       "      <td>138.0228</td>\n",
       "      <td>216294.231050</td>\n",
       "      <td>0</td>\n",
       "      <td>2022-06-11 13:51:00</td>\n",
       "      <td>2022</td>\n",
       "      <td>ETHUSDT</td>\n",
       "    </tr>\n",
       "  </tbody>\n",
       "</table>\n",
       "</div>"
      ],
      "text/plain": [
       "                timestamp      Open Time     Open     High      Low    Close  \\\n",
       "86626 2022-06-11 13:47:00  1654955220000  1571.22  1571.78  1569.31  1570.54   \n",
       "86627 2022-06-11 13:48:00  1654955280000  1570.53  1570.57  1566.32  1567.55   \n",
       "86628 2022-06-11 13:49:00  1654955340000  1567.55  1568.94  1567.29  1568.17   \n",
       "86629 2022-06-11 13:50:00  1654955400000  1568.16  1570.14  1567.82  1568.50   \n",
       "86630 2022-06-11 13:51:00  1654955460000  1568.49  1568.50  1566.41  1567.88   \n",
       "\n",
       "         Volume      Clos Time  Quote Asset Volume  Number of Trades  \\\n",
       "86626  694.1697  1654955279999        1.090222e+06               784   \n",
       "86627  671.3118  1654955339999        1.053004e+06               726   \n",
       "86628  629.1603  1654955399999        9.865562e+05               626   \n",
       "86629  721.0324  1654955459999        1.131197e+06               664   \n",
       "86630  366.0809  1654955519999        5.737444e+05               507   \n",
       "\n",
       "       Taker Buy Base Asset Volume  Taker Buy Quote Asset Volume Ignore  \\\n",
       "86626                     407.7096                 640269.141556      0   \n",
       "86627                     325.4157                 510266.913410      0   \n",
       "86628                     285.6413                 447885.284945      0   \n",
       "86629                     404.4877                 634523.820720      0   \n",
       "86630                     138.0228                 216294.231050      0   \n",
       "\n",
       "                     Date  Year   Ticker  \n",
       "86626 2022-06-11 13:47:00  2022  ETHUSDT  \n",
       "86627 2022-06-11 13:48:00  2022  ETHUSDT  \n",
       "86628 2022-06-11 13:49:00  2022  ETHUSDT  \n",
       "86629 2022-06-11 13:50:00  2022  ETHUSDT  \n",
       "86630 2022-06-11 13:51:00  2022  ETHUSDT  "
      ]
     },
     "execution_count": 349,
     "metadata": {},
     "output_type": "execute_result"
    }
   ],
   "source": [
    "data.tail()"
   ]
  },
  {
   "cell_type": "code",
   "execution_count": 350,
   "id": "f47dd3d1-34c7-47bd-9e7c-89545354bee2",
   "metadata": {},
   "outputs": [
    {
     "data": {
      "text/plain": [
       "(86631, 16)"
      ]
     },
     "execution_count": 350,
     "metadata": {},
     "output_type": "execute_result"
    }
   ],
   "source": [
    "data.shape"
   ]
  },
  {
   "cell_type": "markdown",
   "id": "03a7f50f-237e-465f-8d0b-f4435a3c7e04",
   "metadata": {},
   "source": [
    "# 2. Triple Barrier Method Labels"
   ]
  },
  {
   "cell_type": "code",
   "execution_count": 351,
   "id": "6ae0ed5b-880e-4eb6-afd7-66b3f0c93496",
   "metadata": {},
   "outputs": [
    {
     "name": "stdout",
     "output_type": "stream",
     "text": [
      "Getting volatility\n",
      "Getting horizons\n",
      "Getting touches\n",
      "Getting Labels\n"
     ]
    }
   ],
   "source": [
    "df = data.set_index('timestamp').copy()\n",
    "\n",
    "ticker = SYMBOLS[0]\n",
    "\n",
    "# Profit-Stop Loss ratio\n",
    "ptsl = [3,1]\n",
    "v_barrier_minutes = 15\n",
    "delta_vertical_b = pd.Timedelta(minutes = v_barrier_minutes) # Vertical barrier length\n",
    "#output_folder_db = os.path.join(path_prefix, 'Data/Tensor_Invest_Fund/data/Cryptos/TBM')\n",
    "\n",
    "# Volatility Parameters\n",
    "delta_volatility = pd.Timedelta(minutes=1)\n",
    "span_volatility = 60 # number of candles to considered for volatility\n",
    "\n",
    "# Position Type\n",
    "# 1: Long\n",
    "# -1: Short\n",
    "pt = 1\n",
    "n_jobs = -2\n",
    "max_nbytes = '0.8M'\n",
    "parallel_calculation = False\n",
    "\n",
    "TBM_labels = TripleBarrierMethod(df,\n",
    "                                ticker,\n",
    "                                ptsl,\n",
    "                                delta_vertical_b,\n",
    "                                pt,\n",
    "                                delta_volatility,\n",
    "                                span_volatility,\n",
    "                                n_jobs,\n",
    "                                parallel_calculation,\n",
    "                                max_nbytes )\n",
    "\n",
    "TBM_labels.run()"
   ]
  },
  {
   "cell_type": "code",
   "execution_count": 352,
   "id": "9069c1eb-fb67-406d-9d4c-2d04b3a2aedb",
   "metadata": {},
   "outputs": [
    {
     "data": {
      "text/plain": [
       "-1    50401\n",
       " 0    22622\n",
       " 1    13590\n",
       "Name: label, dtype: int64"
      ]
     },
     "execution_count": 352,
     "metadata": {},
     "output_type": "execute_result"
    }
   ],
   "source": [
    "TBM_labels.data.label.value_counts()"
   ]
  },
  {
   "cell_type": "code",
   "execution_count": 355,
   "id": "677db934-734a-467c-9c7a-2c52edfc7c3c",
   "metadata": {},
   "outputs": [],
   "source": [
    "data = TBM_labels.data.copy()"
   ]
  },
  {
   "cell_type": "code",
   "execution_count": 356,
   "id": "eaba2c84-b55e-4f15-b4ca-4168e8f92709",
   "metadata": {},
   "outputs": [
    {
     "data": {
      "text/plain": [
       "Index(['Open Time', 'Open', 'High', 'Low', 'Close', 'Volume', 'Clos Time',\n",
       "       'Quote Asset Volume', 'Number of Trades', 'Taker Buy Base Asset Volume',\n",
       "       'Taker Buy Quote Asset Volume', 'Ignore', 'Date', 'Year', 'Ticker',\n",
       "       'threshold', 't1', 'label'],\n",
       "      dtype='object')"
      ]
     },
     "execution_count": 356,
     "metadata": {},
     "output_type": "execute_result"
    }
   ],
   "source": [
    "data.columns"
   ]
  },
  {
   "cell_type": "markdown",
   "id": "d4b799f3-17db-4429-99cf-fcf97ac8bd53",
   "metadata": {},
   "source": [
    "## 2.1 Cost Analysis TBM and Strategy Viability"
   ]
  },
  {
   "cell_type": "markdown",
   "id": "1f378df5-3880-4c3e-9ae1-23ccf6cc8284",
   "metadata": {},
   "source": [
    "### 2.1.1 Calculate Metalabels"
   ]
  },
  {
   "cell_type": "code",
   "execution_count": 357,
   "id": "07604172-b104-4c49-9fbb-b4341d07a072",
   "metadata": {},
   "outputs": [
    {
     "name": "stdout",
     "output_type": "stream",
     "text": [
      "0.0    86317\n",
      "1.0      296\n",
      "Name: metalabel, dtype: int64\n"
     ]
    }
   ],
   "source": [
    "windows = [15,240]\n",
    "group_level = ['Ticker']\n",
    "\n",
    "for window in windows:\n",
    "\n",
    "    data[f'SMA_{window}'] = data.groupby(group_level)['Close'].transform(lambda x: x.rolling(window = window, closed = 'left').mean())\n",
    "\n",
    "data = fe.strategy_crossing_sma(data, sma_w = windows)\n",
    "\n",
    "data.loc[:,'metalabel'] = fe.get_metalabels(y_model1 = data['sma_cross_over'] , y_true = data['label'])\n",
    "\n",
    "print(data['metalabel'].value_counts())"
   ]
  },
  {
   "cell_type": "code",
   "execution_count": 359,
   "id": "d4026ebd-095a-42ee-9670-eedf638cfd35",
   "metadata": {},
   "outputs": [],
   "source": [
    "# Analize TBM and Metalabel performance only in test data set\n",
    "split_percentage = 0.7\n",
    "split = int(split_percentage*len(data))\n",
    "\n",
    "# Vectorized Backtesting\n",
    "cols = ['Date', 'Close','Volume', 'label', 'sma_cross_over', 'metalabel']\n",
    "tbm_backtest_df = data[split:].filter(cols).copy()\n",
    "\n",
    "#tbm_backtest_df.loc[:,'tbm_adj'] = adj_ml_strategy(tbm_backtest_df.tbm.values, v_barrier_minutes)\n",
    "\n",
    "tbm_backtest_df.reset_index(inplace = True)"
   ]
  },
  {
   "cell_type": "code",
   "execution_count": 360,
   "id": "c7251c86-0a54-44d5-9c04-18a21d892dad",
   "metadata": {},
   "outputs": [
    {
     "data": {
      "text/plain": [
       "Index(['Open Time', 'Open', 'High', 'Low', 'Close', 'Volume', 'Clos Time',\n",
       "       'Quote Asset Volume', 'Number of Trades', 'Taker Buy Base Asset Volume',\n",
       "       'Taker Buy Quote Asset Volume', 'Ignore', 'Date', 'Year', 'Ticker',\n",
       "       'threshold', 't1', 'label', 'SMA_15', 'SMA_240', 's_sma_<_l_sma',\n",
       "       's_sma_<_l_sma_lag1', 'cross', 'sma_cross_over', 'metalabel'],\n",
       "      dtype='object')"
      ]
     },
     "execution_count": 360,
     "metadata": {},
     "output_type": "execute_result"
    }
   ],
   "source": [
    "data.columns"
   ]
  },
  {
   "cell_type": "code",
   "execution_count": 364,
   "id": "9f30a6d2-cfc6-45d6-9be6-fd6830a05e07",
   "metadata": {},
   "outputs": [],
   "source": [
    "tbm_backtest_df.loc[:,'Return'] = tbm_backtest_df['Close'].pct_change(1)\n",
    "tbm_backtest_df.loc[:,\"metalabel_adj\"]  = adj_ml_strategy(tbm_backtest_df['metalabel'], v_barrier_minutes )\n",
    "\n",
    "tbm_backtest_df.loc[:,\"strategy\"] = tbm_backtest_df['label'].shift(1)* tbm_backtest_df['Return']\n",
    "#tbm_backtest_df.loc[:,\"strategy_sma\"] = tbm_backtest_df['sma_cross_over'].shift(1)* tbm_backtest_df['Return']\n",
    "tbm_backtest_df.loc[:,\"strategy_meta\"] = tbm_backtest_df.loc[:,\"metalabel_adj\"].shift(1)* tbm_backtest_df['Return']\n",
    "\n",
    "\n",
    "tbm_backtest_df.loc[:,\"buy_hold\"] = tbm_backtest_df[\"Return\"].cumsum().apply(np.exp)\n",
    "tbm_backtest_df.loc[:,\"ml_strategy\"] = tbm_backtest_df[\"strategy\"].cumsum().apply(np.exp)\n",
    "tbm_backtest_df.loc[:,\"ml_strategy_meta\"] = tbm_backtest_df[\"strategy_meta\"].cumsum().apply(np.exp)\n",
    "\n",
    "# Cost Analysis\n",
    "# TODO: Spread Analysis of every coin\n",
    "dec_points = len(str(tbm_backtest_df['Close'].values[0]).split(\".\")[1])\n",
    "spread = 2 * 1 / (10 ** dec_points) # pips == fourth price decimal\n",
    "half_spread = spread / 2 # absolute tc per trade (position change +-1)\n",
    "ptc = half_spread / tbm_backtest_df.Close.mean() # proportional tc per trade (position change +-1)\n",
    "\n",
    "# Binance Fee\n",
    "bc = 0.001\n",
    "\n",
    "ptc += bc"
   ]
  },
  {
   "cell_type": "code",
   "execution_count": 365,
   "id": "38213900-3f6e-4cf9-a86c-2fdb591712b6",
   "metadata": {},
   "outputs": [
    {
     "name": "stdout",
     "output_type": "stream",
     "text": [
      "ML: Saldo after Backtesting for trading size 1 unit of the Coin $USD 7045.85  N Trades:  2975.5 Cost: 10933.827605216316\n",
      "ML ADJ: Saldo after Backtesting for trading size 1 unit of the Coin $USD 3341.93  N Trades:  176.0 Cost: 649.2172607496566\n"
     ]
    }
   ],
   "source": [
    "# Number of trades for pure ml strategy\n",
    "tbm_backtest_df[\"n_trader_ml\"] = tbm_backtest_df['label'].diff().fillna(0).abs()\n",
    "\n",
    "# Number of trades ml strategy adjusted\n",
    "# Changing from 1 position to another one counts as two  trades\n",
    "tbm_backtest_df[\"n_trader_ml_sma\"] = tbm_backtest_df['metalabel_adj'].diff().fillna(0).abs() \n",
    "\n",
    "# Include Spread cost\n",
    "tbm_backtest_df['cost_ml'] = tbm_backtest_df.n_trader_ml * ptc\n",
    "tbm_backtest_df['cost_ml_sma'] = tbm_backtest_df.n_trader_ml_sma * ptc\n",
    "\n",
    "tbm_backtest_df['cost_ml_USDT'] = tbm_backtest_df.cost_ml * tbm_backtest_df.Close\n",
    "tbm_backtest_df['cost_ml_sma_USDT'] = tbm_backtest_df.cost_ml_sma * tbm_backtest_df.Close\n",
    "\n",
    "tbm_backtest_df['ml_strategy_c'] = tbm_backtest_df.strategy - tbm_backtest_df.cost_ml\n",
    "tbm_backtest_df['ml_strategy_meta_c'] = tbm_backtest_df.strategy_meta - tbm_backtest_df.cost_ml_sma\n",
    "\n",
    "# Calculate Net Profit\n",
    "tbm_backtest_df['ml_strategy_net'] = tbm_backtest_df.ml_strategy_c.cumsum().apply(np.exp)\n",
    "tbm_backtest_df['ml_strategy_meta_net'] = tbm_backtest_df.ml_strategy_meta_c.cumsum().apply(np.exp)\n",
    "\n",
    "\n",
    "initial_investment = tbm_backtest_df.iloc[0]['Close']\n",
    "\n",
    "\n",
    "final_return = tbm_backtest_df.iloc[-1]['ml_strategy_net']\n",
    "final_investment = initial_investment * (1+final_return)\n",
    "total_trading_cost = tbm_backtest_df['cost_ml_USDT'].sum()\n",
    "performance_ml = final_investment   \n",
    "\n",
    "print(\"ML: Saldo after Backtesting for trading size 1 unit of the Coin $USD\", np.round(performance_ml, 2), \" N Trades: \", tbm_backtest_df.n_trader_ml.sum()/2, \"Cost:\", total_trading_cost )\n",
    "\n",
    "final_return = tbm_backtest_df.iloc[-1]['ml_strategy_meta_net']\n",
    "final_investment = initial_investment*(1+final_return)\n",
    "total_trading_cost = tbm_backtest_df['cost_ml_sma_USDT'].sum()\n",
    "performance_ml = final_investment \n",
    "\n",
    "print(\"ML ADJ: Saldo after Backtesting for trading size 1 unit of the Coin $USD\", np.round(performance_ml, 2), \" N Trades: \", tbm_backtest_df.n_trader_ml_sma.sum()/2, \"Cost:\", total_trading_cost )"
   ]
  },
  {
   "cell_type": "code",
   "execution_count": 366,
   "id": "13698065-bf34-48e5-a9dc-5c32eda55351",
   "metadata": {},
   "outputs": [
    {
     "data": {
      "text/plain": [
       " 0    25808\n",
       " 1       88\n",
       "-1       88\n",
       "Name: metalabel_adj, dtype: int64"
      ]
     },
     "execution_count": 366,
     "metadata": {},
     "output_type": "execute_result"
    }
   ],
   "source": [
    "tbm_backtest_df['metalabel_adj'].value_counts()"
   ]
  },
  {
   "cell_type": "code",
   "execution_count": 368,
   "id": "6c7c066a-894a-464b-a44c-4f0d3dbc2c85",
   "metadata": {},
   "outputs": [
    {
     "data": {
      "image/png": "[encoded data removed]",
      "text/plain": [
       "<Figure size 864x432 with 1 Axes>"
      ]
     },
     "metadata": {
      "needs_background": "light"
     },
     "output_type": "display_data"
    }
   ],
   "source": [
    "plt.figure(figsize=(12, 6))\n",
    "plt.plot(tbm_backtest_df.Date, tbm_backtest_df[\"buy_hold\"])\n",
    "\n",
    "plt.plot(tbm_backtest_df.Date, tbm_backtest_df[\"ml_strategy_net\"])\n",
    "plt.plot(tbm_backtest_df.Date, tbm_backtest_df[\"ml_strategy_meta_net\"])\n",
    "plt.legend([\"buy_hold\", \"ml_strategy\", \"ml_strategy_meta\"])\n",
    "plt.title(f\"Cumulative return of buy-and-hold vs machine learning from {tbm_backtest_df.index[0]} - {tbm_backtest_df.index[-1]}\", fontsize=11)\n",
    "plt.show()\n"
   ]
  },
  {
   "cell_type": "code",
   "execution_count": 369,
   "id": "ed08b6b3-3fb4-4d66-9fa5-31508ab2177c",
   "metadata": {},
   "outputs": [],
   "source": [
    "# Define section to filter for TBM Strategies with a total potential of return greater than 1.5"
   ]
  },
  {
   "cell_type": "markdown",
   "id": "8f543b50-d977-4a6d-9644-6f5fb84f9cfb",
   "metadata": {},
   "source": [
    "# 3. Feature Engineering"
   ]
  },
  {
   "cell_type": "code",
   "execution_count": 370,
   "id": "1e14dd39-59dd-4517-9722-3b976bc2aea2",
   "metadata": {},
   "outputs": [],
   "source": [
    "CONF = yaml.safe_load(Path('../../../config.yml').read_text())"
   ]
  },
  {
   "cell_type": "code",
   "execution_count": 371,
   "id": "78cd3c95-288e-46d1-a14a-e0fd1a2668a6",
   "metadata": {},
   "outputs": [
    {
     "name": "stdout",
     "output_type": "stream",
     "text": [
      "Calculating Technical Indicators for ticker ETHUSDT\n",
      "Calculating lags for ticker ETHUSDT\n",
      "Calculating returns for ticker ETHUSDT\n",
      "['Volume', 'Number of Trades']\n"
     ]
    }
   ],
   "source": [
    "# Feature Configuration ID\n",
    "feature_id = 1\n",
    "\n",
    "# Strategy\n",
    "strategy = '1-1_vb_15m' # '2-1_vb_15m' or 2-2_vb_15m\n",
    "\n",
    "# -------------------------------------------------------\n",
    "# Features Calculation\n",
    "# -------------------------------------------------------\n",
    "\n",
    "# Features Configuration\n",
    "features_conf = CONF['Feature_Engineering'][feature_id]\n",
    "\n",
    "# (1) Calculate Technical Indicators\n",
    "ta_config = features_conf['ta']\n",
    "data = fe.calculate_technical_indicators(data, features_conf, SYMBOLS)\n",
    "\n",
    "# (2) Calculate Lag Features\n",
    "if features_conf['include_lags']:\n",
    "    data = fe.calculate_lag_features(data, features_conf, SYMBOLS)\n",
    "\n",
    "# (3) Calculate Return Features\n",
    "if features_conf['Return_Features']:\n",
    "    date_col = 'Date'\n",
    "    data = fe.calculate_returns_per_ticker(data, features_conf, SYMBOLS, date_col)\n",
    "\n",
    "# (4) Momemtum Features\n",
    "if features_conf['Return_Features'] and features_conf['Momentum_Features']:\n",
    "    data = fe.calculate_momemtum_features(data, features_conf, SYMBOLS)\n",
    "\n",
    "# (5) Time Features\n",
    "if features_conf['Time_Features']:\n",
    "\n",
    "    time_levels =  ['month', 'day', 'hour', 'minute']\n",
    "    timestamp_col = 'Date'\n",
    "    data = fe.build_time_columns(data, timestamp_col, time_levels)\n",
    "\n",
    "    if features_conf['Time_Fourier_Features']:                    \n",
    "        data = fe.build_fourier_time_features(data, time_levels = ['month', 'day', 'hour', 'minute'], max_levels = [12, 30, 24, 60], drop_columns = True)\n",
    "\n",
    "# (6) Volume Features\n",
    "if features_conf['Volume_Features']:\n",
    "    group_level = ['Ticker']\n",
    "    data = fe.calculate_volume_features(data, group_level, features_conf)\n",
    "\n",
    "# (7) Apply Standard Scaler\n",
    "if features_conf['Apply_Standard_Scaler']:\n",
    "\n",
    "    if features_conf['Apply_Standard_Scaler_Lags']:\n",
    "\n",
    "        cols_to_add = []\n",
    "        for lag_variable in features_conf['ref_variable_lags']:\n",
    "            for lag in features_conf['lags']:\n",
    "                cols_to_add.append(f'{lag_variable}_lag_{lag}')\n",
    "\n",
    "\n",
    "        cols = features_conf['Standard_Scaler_Cols'] + cols_to_add\n",
    "    else:\n",
    "        cols = features_conf['Standard_Scaler_Cols']\n",
    "\n",
    "    print(cols)\n",
    "\n",
    "    for col in cols:\n",
    "        data.loc[:,f'{col}_standard'] = data.groupby('Ticker')[col].transform(lambda x: fe.apply_standard_scaler(x))\n",
    "        \n",
    "# windows = [10,120]\n",
    "# group_level = ['Ticker']\n",
    "\n",
    "# for window in windows:\n",
    "\n",
    "#     data[f'SMA_{window}'] = data.groupby(group_level)['Close'].transform(lambda x: x.rolling(window = window, closed = 'left').mean())\n",
    "\n",
    "# data = fe.strategy_crossing_sma(data, sma_w = windows)\n",
    "\n",
    "# data.loc[:,'metalabel'] = fe.get_metalabels(y_model1 = data['sma_cross_over'] , y_true = data['label'])\n",
    "\n",
    "# print(data['metalabel'].value_counts())\n"
   ]
  },
  {
   "cell_type": "code",
   "execution_count": 372,
   "id": "741c16e2-a9f9-4b98-97d6-f2a7944a80fe",
   "metadata": {},
   "outputs": [
    {
     "data": {
      "text/plain": [
       "-1    50258\n",
       " 0    22568\n",
       " 1    13547\n",
       "Name: label, dtype: int64"
      ]
     },
     "execution_count": 372,
     "metadata": {},
     "output_type": "execute_result"
    }
   ],
   "source": [
    "data['label'].value_counts()"
   ]
  },
  {
   "cell_type": "markdown",
   "id": "d144f6c3-d109-4c40-b76c-78e69f170d24",
   "metadata": {},
   "source": [
    "# 4. Model Training"
   ]
  },
  {
   "cell_type": "code",
   "execution_count": 373,
   "id": "4bda1f71-0502-437e-b8b4-bf9659193fa7",
   "metadata": {},
   "outputs": [
    {
     "data": {
      "text/plain": [
       "Index(['Date', 'Open Time', 'Open', 'High', 'Low', 'Close', 'Volume',\n",
       "       'Clos Time', 'Quote Asset Volume', 'Number of Trades',\n",
       "       'Taker Buy Base Asset Volume', 'Taker Buy Quote Asset Volume', 'Ignore',\n",
       "       'Year', 'Ticker', 'threshold', 't1', 'label', 'SMA_15', 'SMA_240',\n",
       "       's_sma_<_l_sma', 's_sma_<_l_sma_lag1', 'cross', 'sma_cross_over',\n",
       "       'metalabel', 'SMA_120', 'VWMA_60', 'VWMA_15', 'BBL_15_2.0',\n",
       "       'BBM_15_2.0', 'BBU_15_2.0', 'BBB_15_2.0', 'BBP_15_2.0', 'BBL_120_2.0',\n",
       "       'BBM_120_2.0', 'BBU_120_2.0', 'BBB_120_2.0', 'BBP_120_2.0',\n",
       "       'MACD_15_120_9', 'MACDh_15_120_9', 'MACDs_15_120_9', 'RSI_15',\n",
       "       'ATRr_15', 'PDIST', 'Close_lag_1', 'Close_lag_3', 'Close_lag_5',\n",
       "       'Close_lag_15', 'Close_lag_30', 'Close_return_1m', 'Close_return_5m',\n",
       "       'Close_return_15m', 'Close_return_60m', 'Close_return_240m', 'month',\n",
       "       'day', 'hour', 'minute', 'Volume_sma_5', 'Volume_sma_30',\n",
       "       'Volume_std_5', 'Volume_std_30', 'Volume_standard',\n",
       "       'Number of Trades_standard'],\n",
       "      dtype='object')"
      ]
     },
     "execution_count": 373,
     "metadata": {},
     "output_type": "execute_result"
    }
   ],
   "source": [
    "data.columns"
   ]
  },
  {
   "cell_type": "code",
   "execution_count": 374,
   "id": "a07f1e3f-aa40-42f4-9826-47a9966dec13",
   "metadata": {},
   "outputs": [],
   "source": [
    "data_org = data.copy()"
   ]
  },
  {
   "cell_type": "code",
   "execution_count": 375,
   "id": "1096e5b1-c67f-4021-b178-3c50459a276b",
   "metadata": {},
   "outputs": [
    {
     "name": "stdout",
     "output_type": "stream",
     "text": [
      "Dataset size (86373, 64)\n"
     ]
    }
   ],
   "source": [
    "predictors_list = ['SMA_15', 'SMA_120',\n",
    "       'VWMA_60', 'VWMA_15', 'BBL_15_2.0', 'BBM_15_2.0', 'BBU_15_2.0',\n",
    "       'BBB_15_2.0', 'BBP_15_2.0', 'BBL_120_2.0', 'BBM_120_2.0', 'BBU_120_2.0',\n",
    "       'BBB_120_2.0', 'BBP_120_2.0', 'MACD_15_120_9', 'MACDh_15_120_9',\n",
    "       'MACDs_15_120_9', 'RSI_15', 'ATRr_15', 'PDIST', 'Close_lag_1',\n",
    "       'Close_lag_3', 'Close_lag_5', 'Close_lag_15', 'Close_lag_30',\n",
    "       'Close_return_1m', 'Close_return_5m', 'Close_return_15m',\n",
    "       'Close_return_60m', 'Close_return_240m', 'month', 'day', 'hour',\n",
    "       'minute', 'Volume_sma_5', 'Volume_sma_30', 'Volume_std_5',\n",
    "       'Volume_std_30', 'Volume_standard', 'Number of Trades_standard'\n",
    "]\n",
    "\n",
    "# Take a sample of the data set\n",
    "sample_size = 0.3\n",
    "split_percentage = 1 - sample_size\n",
    "\n",
    "split = int(split_percentage*len(X))\n",
    "\n",
    "model_data = data[split:].copy()    \n",
    "\n",
    "model_data = data.dropna()\n",
    "\n",
    "print(\"Dataset size\", data.shape)\n",
    "\n",
    "X = model_data[predictors_list]\n",
    "\n",
    "# Learn only the long entries\n",
    "#y = data.label.map({-1:0, 0:0, 1:1})\n",
    "y = model_data.label.map({-1:0, 0:1, 1:2})\n",
    "\n",
    "test_size = 300\n",
    "n_splits = 3\n",
    "max_train_size = None\n",
    "gap = 2\n",
    "\n",
    "# oversampleing or class_weights\n",
    "imbalance_classes_mode = \"class_weights\"\n",
    "\n",
    "# Create Temporal Cross Validation Object\n",
    "tscv = TimeSeriesSplit(n_splits = n_splits, \n",
    "                      max_train_size  = max_train_size, \n",
    "                      test_size = test_size, \n",
    "                      gap = gap)\n",
    "\n",
    "max_learning_rate = 0.05\n",
    "max_max_depth = 50\n",
    "max_n_estimators = 500\n",
    "\n",
    "param_grid = {\n",
    "              'learning_rate': Real(0.005, max_learning_rate, prior='log-uniform'),\n",
    "              'max_depth': Integer(3, max_max_depth, prior='log-uniform'),\n",
    "              'n_estimators': Integer(10, max_n_estimators, prior='log-uniform'),\n",
    "            #   'gamma': Real(0.1, 0.3, prior='log-uniform'),\n",
    "            #   'reg_alpha': Real(0.01, 1.6, prior='log-uniform'),\n",
    "            #   'reg_lambda': Real(0.01, 1.6, prior='log-uniform'),\n",
    "            #   'min_child_weight': Real(0.01, 5, prior='log-uniform'),\n",
    "            #   'max_delta_step' : Real(0.01, 5, prior='log-uniform')\n",
    "               }\n",
    "\n",
    "# ---------------------------------------------- #\n",
    "# Experiment Parameters \n",
    "# ---------------------------------------------- #\n",
    "n_jobs = 4\n",
    "n_iter = 15\n",
    "random_state = 123\n",
    "\n",
    "# Split the data into train and test dataset\n",
    "split_percentage = 0.7\n",
    "\n",
    "split = int(split_percentage*len(X))\n",
    "\n",
    "X_train = X[:split]\n",
    "X_test = X[split:]\n",
    "\n",
    "y_train = y[:split]\n",
    "y_test = y[split:]"
   ]
  },
  {
   "cell_type": "code",
   "execution_count": 376,
   "id": "8b5bc7a5-11f8-4708-a441-52bec723ad47",
   "metadata": {},
   "outputs": [],
   "source": [
    "if imbalance_classes_mode == \"class_weights\":\n",
    "\n",
    "    # Compute class Weights\n",
    "    classes_weights = compute_class_weight(class_weight =  'balanced', classes = np.unique(y_train), y = y_train )\n",
    "\n",
    "    #weights = {0: classes_weights[0] , 1: classes_weights[1]}\n",
    "    weights = {0: classes_weights[0] , 1: classes_weights[1], 2: classes_weights[2]}\n",
    "    \n",
    "if imbalance_classes_mode == \"oversampleing\":\n",
    "    # Oversampling technique\n",
    "    sm = SMOTE()\n",
    "    X_train_res, y_train_res = sm.fit_resample(X_train, y_train)\n"
   ]
  },
  {
   "cell_type": "markdown",
   "id": "f3621cfd-800a-41aa-bd60-ca8509db4d00",
   "metadata": {},
   "source": [
    "### Feature Selection"
   ]
  },
  {
   "cell_type": "code",
   "execution_count": 377,
   "id": "af837061-2955-4e48-820d-3c179be573ce",
   "metadata": {},
   "outputs": [],
   "source": [
    "def feature_selection(predictors_list, X_train, y_train, mode = \"mean_decrease\" ):\n",
    "    \n",
    "    # Ref: https://scikit-learn.org/stable/auto_examples/ensemble/plot_forest_importances.html\n",
    "    \n",
    "    from sklearn.ensemble import RandomForestClassifier\n",
    "    from sklearn.inspection import permutation_importance\n",
    "\n",
    "    feature_names = predictors_list\n",
    "    forest = RandomForestClassifier(random_state=0)\n",
    "    forest.fit(X_train, y_train)\n",
    "\n",
    "    if mode == \"permutation\":\n",
    "\n",
    "        start_time = time.time()\n",
    "        result = permutation_importance(\n",
    "            forest, X_test, y_test, n_repeats=10, random_state=42, n_jobs=2\n",
    "        )\n",
    "        elapsed_time = time.time() - start_time\n",
    "        print(f\"Elapsed time to compute the importances: {elapsed_time:.3f} seconds\")\n",
    "\n",
    "\n",
    "        # Permutation feature importance\n",
    "        feat_importances = pd.Series(result.importances_mean, index=feature_names).sort_values(ascending = False)\n",
    "\n",
    "    if mode == \"mean_decrease\":\n",
    "\n",
    "        # Feature importance based on mean decrease in impurity\n",
    "        importances = forest.feature_importances_\n",
    "        std = np.std([tree.feature_importances_ for tree in forest.estimators_], axis=0)\n",
    "\n",
    "        feat_importances = pd.Series(importances, index=feature_names).sort_values(ascending = False)\n",
    "        \n",
    "    return feat_importances"
   ]
  },
  {
   "cell_type": "code",
   "execution_count": 387,
   "id": "21759b6a-9998-44c4-b918-94707ff1a632",
   "metadata": {},
   "outputs": [
    {
     "data": {
      "text/html": [
       "<div>\n",
       "<style scoped>\n",
       "    .dataframe tbody tr th:only-of-type {\n",
       "        vertical-align: middle;\n",
       "    }\n",
       "\n",
       "    .dataframe tbody tr th {\n",
       "        vertical-align: top;\n",
       "    }\n",
       "\n",
       "    .dataframe thead th {\n",
       "        text-align: right;\n",
       "    }\n",
       "</style>\n",
       "<table border=\"1\" class=\"dataframe\">\n",
       "  <thead>\n",
       "    <tr style=\"text-align: right;\">\n",
       "      <th></th>\n",
       "      <th>SMA_15</th>\n",
       "      <th>SMA_120</th>\n",
       "      <th>VWMA_60</th>\n",
       "      <th>VWMA_15</th>\n",
       "      <th>BBL_15_2.0</th>\n",
       "      <th>BBM_15_2.0</th>\n",
       "      <th>BBU_15_2.0</th>\n",
       "      <th>BBB_15_2.0</th>\n",
       "      <th>BBP_15_2.0</th>\n",
       "      <th>BBL_120_2.0</th>\n",
       "      <th>...</th>\n",
       "      <th>month</th>\n",
       "      <th>day</th>\n",
       "      <th>hour</th>\n",
       "      <th>minute</th>\n",
       "      <th>Volume_sma_5</th>\n",
       "      <th>Volume_sma_30</th>\n",
       "      <th>Volume_std_5</th>\n",
       "      <th>Volume_std_30</th>\n",
       "      <th>Volume_standard</th>\n",
       "      <th>Number of Trades_standard</th>\n",
       "    </tr>\n",
       "  </thead>\n",
       "  <tbody>\n",
       "    <tr>\n",
       "      <th>29</th>\n",
       "      <td>3026.101333</td>\n",
       "      <td>3056.024917</td>\n",
       "      <td>3042.987914</td>\n",
       "      <td>3024.160218</td>\n",
       "      <td>3010.264869</td>\n",
       "      <td>3026.101333</td>\n",
       "      <td>3041.937797</td>\n",
       "      <td>1.046658</td>\n",
       "      <td>0.367668</td>\n",
       "      <td>3024.362534</td>\n",
       "      <td>...</td>\n",
       "      <td>4</td>\n",
       "      <td>12</td>\n",
       "      <td>14</td>\n",
       "      <td>33</td>\n",
       "      <td>1072.52948</td>\n",
       "      <td>1027.884700</td>\n",
       "      <td>528.584036</td>\n",
       "      <td>594.678962</td>\n",
       "      <td>0.727481</td>\n",
       "      <td>0.437146</td>\n",
       "    </tr>\n",
       "    <tr>\n",
       "      <th>30</th>\n",
       "      <td>3025.718667</td>\n",
       "      <td>3055.767333</td>\n",
       "      <td>3042.449673</td>\n",
       "      <td>3024.065957</td>\n",
       "      <td>3010.377074</td>\n",
       "      <td>3025.718667</td>\n",
       "      <td>3041.060260</td>\n",
       "      <td>1.014079</td>\n",
       "      <td>0.576959</td>\n",
       "      <td>3023.705228</td>\n",
       "      <td>...</td>\n",
       "      <td>4</td>\n",
       "      <td>12</td>\n",
       "      <td>14</td>\n",
       "      <td>34</td>\n",
       "      <td>1104.99094</td>\n",
       "      <td>1040.103050</td>\n",
       "      <td>527.658754</td>\n",
       "      <td>593.415135</td>\n",
       "      <td>0.934906</td>\n",
       "      <td>0.427397</td>\n",
       "    </tr>\n",
       "    <tr>\n",
       "      <th>31</th>\n",
       "      <td>3025.283333</td>\n",
       "      <td>3055.583167</td>\n",
       "      <td>3042.059913</td>\n",
       "      <td>3023.992590</td>\n",
       "      <td>3010.923646</td>\n",
       "      <td>3025.283333</td>\n",
       "      <td>3039.643021</td>\n",
       "      <td>0.949312</td>\n",
       "      <td>0.685473</td>\n",
       "      <td>3023.200644</td>\n",
       "      <td>...</td>\n",
       "      <td>4</td>\n",
       "      <td>12</td>\n",
       "      <td>14</td>\n",
       "      <td>35</td>\n",
       "      <td>931.50302</td>\n",
       "      <td>1026.167927</td>\n",
       "      <td>227.166946</td>\n",
       "      <td>586.490663</td>\n",
       "      <td>0.866170</td>\n",
       "      <td>0.983040</td>\n",
       "    </tr>\n",
       "    <tr>\n",
       "      <th>32</th>\n",
       "      <td>3024.350000</td>\n",
       "      <td>3055.418000</td>\n",
       "      <td>3041.473950</td>\n",
       "      <td>3023.297271</td>\n",
       "      <td>3013.242777</td>\n",
       "      <td>3024.350000</td>\n",
       "      <td>3035.457223</td>\n",
       "      <td>0.734520</td>\n",
       "      <td>0.705272</td>\n",
       "      <td>3022.696931</td>\n",
       "      <td>...</td>\n",
       "      <td>4</td>\n",
       "      <td>12</td>\n",
       "      <td>14</td>\n",
       "      <td>36</td>\n",
       "      <td>886.62622</td>\n",
       "      <td>956.254220</td>\n",
       "      <td>287.694326</td>\n",
       "      <td>510.457241</td>\n",
       "      <td>0.063432</td>\n",
       "      <td>0.126598</td>\n",
       "    </tr>\n",
       "    <tr>\n",
       "      <th>33</th>\n",
       "      <td>3023.514000</td>\n",
       "      <td>3055.236833</td>\n",
       "      <td>3041.000565</td>\n",
       "      <td>3022.888920</td>\n",
       "      <td>3014.875235</td>\n",
       "      <td>3023.514000</td>\n",
       "      <td>3032.152765</td>\n",
       "      <td>0.571439</td>\n",
       "      <td>0.583114</td>\n",
       "      <td>3022.086553</td>\n",
       "      <td>...</td>\n",
       "      <td>4</td>\n",
       "      <td>12</td>\n",
       "      <td>14</td>\n",
       "      <td>37</td>\n",
       "      <td>877.27020</td>\n",
       "      <td>933.758607</td>\n",
       "      <td>298.174593</td>\n",
       "      <td>510.982227</td>\n",
       "      <td>0.168409</td>\n",
       "      <td>0.161413</td>\n",
       "    </tr>\n",
       "    <tr>\n",
       "      <th>...</th>\n",
       "      <td>...</td>\n",
       "      <td>...</td>\n",
       "      <td>...</td>\n",
       "      <td>...</td>\n",
       "      <td>...</td>\n",
       "      <td>...</td>\n",
       "      <td>...</td>\n",
       "      <td>...</td>\n",
       "      <td>...</td>\n",
       "      <td>...</td>\n",
       "      <td>...</td>\n",
       "      <td>...</td>\n",
       "      <td>...</td>\n",
       "      <td>...</td>\n",
       "      <td>...</td>\n",
       "      <td>...</td>\n",
       "      <td>...</td>\n",
       "      <td>...</td>\n",
       "      <td>...</td>\n",
       "      <td>...</td>\n",
       "      <td>...</td>\n",
       "    </tr>\n",
       "    <tr>\n",
       "      <th>60464</th>\n",
       "      <td>1956.576667</td>\n",
       "      <td>1963.316083</td>\n",
       "      <td>1959.171153</td>\n",
       "      <td>1954.105620</td>\n",
       "      <td>1948.469328</td>\n",
       "      <td>1956.576667</td>\n",
       "      <td>1964.684005</td>\n",
       "      <td>0.828727</td>\n",
       "      <td>-0.275018</td>\n",
       "      <td>1955.333204</td>\n",
       "      <td>...</td>\n",
       "      <td>5</td>\n",
       "      <td>24</td>\n",
       "      <td>13</td>\n",
       "      <td>48</td>\n",
       "      <td>1537.67002</td>\n",
       "      <td>765.054013</td>\n",
       "      <td>1347.051667</td>\n",
       "      <td>729.273715</td>\n",
       "      <td>4.681811</td>\n",
       "      <td>6.480977</td>\n",
       "    </tr>\n",
       "    <tr>\n",
       "      <th>60465</th>\n",
       "      <td>1955.078000</td>\n",
       "      <td>1963.093667</td>\n",
       "      <td>1957.546451</td>\n",
       "      <td>1951.499224</td>\n",
       "      <td>1943.300394</td>\n",
       "      <td>1955.078000</td>\n",
       "      <td>1966.855606</td>\n",
       "      <td>1.204822</td>\n",
       "      <td>-0.203793</td>\n",
       "      <td>1953.931824</td>\n",
       "      <td>...</td>\n",
       "      <td>5</td>\n",
       "      <td>24</td>\n",
       "      <td>13</td>\n",
       "      <td>49</td>\n",
       "      <td>1908.93718</td>\n",
       "      <td>842.978320</td>\n",
       "      <td>1263.797667</td>\n",
       "      <td>776.845115</td>\n",
       "      <td>2.653140</td>\n",
       "      <td>3.400573</td>\n",
       "    </tr>\n",
       "    <tr>\n",
       "      <th>60466</th>\n",
       "      <td>1953.622667</td>\n",
       "      <td>1962.872583</td>\n",
       "      <td>1956.253096</td>\n",
       "      <td>1949.497819</td>\n",
       "      <td>1940.250125</td>\n",
       "      <td>1953.622667</td>\n",
       "      <td>1966.995209</td>\n",
       "      <td>1.368999</td>\n",
       "      <td>-0.009726</td>\n",
       "      <td>1952.815487</td>\n",
       "      <td>...</td>\n",
       "      <td>5</td>\n",
       "      <td>24</td>\n",
       "      <td>13</td>\n",
       "      <td>50</td>\n",
       "      <td>2149.71754</td>\n",
       "      <td>914.488603</td>\n",
       "      <td>1196.628183</td>\n",
       "      <td>814.530186</td>\n",
       "      <td>2.570520</td>\n",
       "      <td>3.467417</td>\n",
       "    </tr>\n",
       "    <tr>\n",
       "      <th>60467</th>\n",
       "      <td>1952.540667</td>\n",
       "      <td>1962.674833</td>\n",
       "      <td>1955.629894</td>\n",
       "      <td>1948.616465</td>\n",
       "      <td>1938.629835</td>\n",
       "      <td>1952.540667</td>\n",
       "      <td>1966.451498</td>\n",
       "      <td>1.424895</td>\n",
       "      <td>0.166782</td>\n",
       "      <td>1952.033893</td>\n",
       "      <td>...</td>\n",
       "      <td>5</td>\n",
       "      <td>24</td>\n",
       "      <td>13</td>\n",
       "      <td>51</td>\n",
       "      <td>2270.71960</td>\n",
       "      <td>953.103797</td>\n",
       "      <td>1058.271989</td>\n",
       "      <td>812.977992</td>\n",
       "      <td>1.376306</td>\n",
       "      <td>1.354861</td>\n",
       "    </tr>\n",
       "    <tr>\n",
       "      <th>60468</th>\n",
       "      <td>1951.692667</td>\n",
       "      <td>1962.513333</td>\n",
       "      <td>1955.321513</td>\n",
       "      <td>1948.108029</td>\n",
       "      <td>1937.668506</td>\n",
       "      <td>1951.692667</td>\n",
       "      <td>1965.716828</td>\n",
       "      <td>1.437128</td>\n",
       "      <td>0.271727</td>\n",
       "      <td>1951.419776</td>\n",
       "      <td>...</td>\n",
       "      <td>5</td>\n",
       "      <td>24</td>\n",
       "      <td>13</td>\n",
       "      <td>52</td>\n",
       "      <td>2222.89206</td>\n",
       "      <td>980.929487</td>\n",
       "      <td>1122.553651</td>\n",
       "      <td>797.621956</td>\n",
       "      <td>0.657853</td>\n",
       "      <td>0.612612</td>\n",
       "    </tr>\n",
       "  </tbody>\n",
       "</table>\n",
       "<p>60440 rows × 40 columns</p>\n",
       "</div>"
      ],
      "text/plain": [
       "            SMA_15      SMA_120      VWMA_60      VWMA_15   BBL_15_2.0  \\\n",
       "29     3026.101333  3056.024917  3042.987914  3024.160218  3010.264869   \n",
       "30     3025.718667  3055.767333  3042.449673  3024.065957  3010.377074   \n",
       "31     3025.283333  3055.583167  3042.059913  3023.992590  3010.923646   \n",
       "32     3024.350000  3055.418000  3041.473950  3023.297271  3013.242777   \n",
       "33     3023.514000  3055.236833  3041.000565  3022.888920  3014.875235   \n",
       "...            ...          ...          ...          ...          ...   \n",
       "60464  1956.576667  1963.316083  1959.171153  1954.105620  1948.469328   \n",
       "60465  1955.078000  1963.093667  1957.546451  1951.499224  1943.300394   \n",
       "60466  1953.622667  1962.872583  1956.253096  1949.497819  1940.250125   \n",
       "60467  1952.540667  1962.674833  1955.629894  1948.616465  1938.629835   \n",
       "60468  1951.692667  1962.513333  1955.321513  1948.108029  1937.668506   \n",
       "\n",
       "        BBM_15_2.0   BBU_15_2.0  BBB_15_2.0  BBP_15_2.0  BBL_120_2.0  ...  \\\n",
       "29     3026.101333  3041.937797    1.046658    0.367668  3024.362534  ...   \n",
       "30     3025.718667  3041.060260    1.014079    0.576959  3023.705228  ...   \n",
       "31     3025.283333  3039.643021    0.949312    0.685473  3023.200644  ...   \n",
       "32     3024.350000  3035.457223    0.734520    0.705272  3022.696931  ...   \n",
       "33     3023.514000  3032.152765    0.571439    0.583114  3022.086553  ...   \n",
       "...            ...          ...         ...         ...          ...  ...   \n",
       "60464  1956.576667  1964.684005    0.828727   -0.275018  1955.333204  ...   \n",
       "60465  1955.078000  1966.855606    1.204822   -0.203793  1953.931824  ...   \n",
       "60466  1953.622667  1966.995209    1.368999   -0.009726  1952.815487  ...   \n",
       "60467  1952.540667  1966.451498    1.424895    0.166782  1952.033893  ...   \n",
       "60468  1951.692667  1965.716828    1.437128    0.271727  1951.419776  ...   \n",
       "\n",
       "       month  day  hour  minute  Volume_sma_5  Volume_sma_30  Volume_std_5  \\\n",
       "29         4   12    14      33    1072.52948    1027.884700    528.584036   \n",
       "30         4   12    14      34    1104.99094    1040.103050    527.658754   \n",
       "31         4   12    14      35     931.50302    1026.167927    227.166946   \n",
       "32         4   12    14      36     886.62622     956.254220    287.694326   \n",
       "33         4   12    14      37     877.27020     933.758607    298.174593   \n",
       "...      ...  ...   ...     ...           ...            ...           ...   \n",
       "60464      5   24    13      48    1537.67002     765.054013   1347.051667   \n",
       "60465      5   24    13      49    1908.93718     842.978320   1263.797667   \n",
       "60466      5   24    13      50    2149.71754     914.488603   1196.628183   \n",
       "60467      5   24    13      51    2270.71960     953.103797   1058.271989   \n",
       "60468      5   24    13      52    2222.89206     980.929487   1122.553651   \n",
       "\n",
       "       Volume_std_30  Volume_standard  Number of Trades_standard  \n",
       "29        594.678962         0.727481                   0.437146  \n",
       "30        593.415135         0.934906                   0.427397  \n",
       "31        586.490663         0.866170                   0.983040  \n",
       "32        510.457241         0.063432                   0.126598  \n",
       "33        510.982227         0.168409                   0.161413  \n",
       "...              ...              ...                        ...  \n",
       "60464     729.273715         4.681811                   6.480977  \n",
       "60465     776.845115         2.653140                   3.400573  \n",
       "60466     814.530186         2.570520                   3.467417  \n",
       "60467     812.977992         1.376306                   1.354861  \n",
       "60468     797.621956         0.657853                   0.612612  \n",
       "\n",
       "[60440 rows x 40 columns]"
      ]
     },
     "execution_count": 387,
     "metadata": {},
     "output_type": "execute_result"
    }
   ],
   "source": [
    "X_train"
   ]
  },
  {
   "cell_type": "code",
   "execution_count": 385,
   "id": "31e933af-1002-4939-9786-2fcebae129ad",
   "metadata": {},
   "outputs": [
    {
     "data": {
      "text/plain": [
       "29       1\n",
       "30       0\n",
       "31       0\n",
       "32       0\n",
       "33       0\n",
       "        ..\n",
       "60464    0\n",
       "60465    0\n",
       "60466    0\n",
       "60467    0\n",
       "60468    0\n",
       "Name: label, Length: 60440, dtype: int64"
      ]
     },
     "execution_count": 385,
     "metadata": {},
     "output_type": "execute_result"
    }
   ],
   "source": [
    "y_train"
   ]
  },
  {
   "cell_type": "code",
   "execution_count": 378,
   "id": "5f00a7d2-ccc9-4064-b44e-8e14f2133b0c",
   "metadata": {},
   "outputs": [],
   "source": [
    "feat_importances = feature_selection(predictors_list, X_train, y_train, mode = \"mean_decrease\" )"
   ]
  },
  {
   "cell_type": "code",
   "execution_count": 379,
   "id": "831d261d-c05b-4ae7-b1e5-4c0dab21d056",
   "metadata": {},
   "outputs": [],
   "source": [
    "feature_selected = list(feat_importances.head(20).index)"
   ]
  },
  {
   "cell_type": "code",
   "execution_count": 380,
   "id": "7e56decf-bb9e-443f-9d2d-1b36a8a0005c",
   "metadata": {},
   "outputs": [
    {
     "data": {
      "text/plain": [
       "['BBB_120_2.0',\n",
       " 'Volume_std_30',\n",
       " 'Close_return_240m',\n",
       " 'Volume_sma_30',\n",
       " 'ATRr_15',\n",
       " 'MACDs_15_120_9',\n",
       " 'BBU_120_2.0',\n",
       " 'BBP_120_2.0',\n",
       " 'MACD_15_120_9',\n",
       " 'BBL_120_2.0',\n",
       " 'minute',\n",
       " 'Close_return_60m',\n",
       " 'MACDh_15_120_9',\n",
       " 'BBM_120_2.0',\n",
       " 'VWMA_60',\n",
       " 'SMA_120',\n",
       " 'RSI_15',\n",
       " 'BBB_15_2.0',\n",
       " 'BBP_15_2.0',\n",
       " 'hour']"
      ]
     },
     "execution_count": 380,
     "metadata": {},
     "output_type": "execute_result"
    }
   ],
   "source": [
    "feature_selected"
   ]
  },
  {
   "cell_type": "markdown",
   "id": "c651eba5-19ca-4f75-83e7-6a4158c2a82e",
   "metadata": {},
   "source": [
    "### Model Training"
   ]
  },
  {
   "cell_type": "code",
   "execution_count": 381,
   "id": "42c7e5d4-14cc-4484-9ffd-b0ea1ee99fc2",
   "metadata": {},
   "outputs": [
    {
     "ename": "KeyboardInterrupt",
     "evalue": "",
     "output_type": "error",
     "traceback": [
      "\u001b[0;31m---------------------------------------------------------------------------\u001b[0m",
      "\u001b[0;31mKeyboardInterrupt\u001b[0m                         Traceback (most recent call last)",
      "Input \u001b[0;32mIn [381]\u001b[0m, in \u001b[0;36m<cell line: 17>\u001b[0;34m()\u001b[0m\n\u001b[1;32m      8\u001b[0m bayes_search \u001b[38;5;241m=\u001b[39m BayesSearchCV(\n\u001b[1;32m      9\u001b[0m     xgb_model,\n\u001b[1;32m     10\u001b[0m     param_grid,\n\u001b[0;32m   (...)\u001b[0m\n\u001b[1;32m     14\u001b[0m     cv \u001b[38;5;241m=\u001b[39m tscv\n\u001b[1;32m     15\u001b[0m )\n\u001b[1;32m     17\u001b[0m \u001b[38;5;28;01mif\u001b[39;00m imbalance_classes_mode \u001b[38;5;241m==\u001b[39m \u001b[38;5;124m\"\u001b[39m\u001b[38;5;124mclass_weights\u001b[39m\u001b[38;5;124m\"\u001b[39m:\n\u001b[0;32m---> 18\u001b[0m     model \u001b[38;5;241m=\u001b[39m \u001b[43mbayes_search\u001b[49m\u001b[38;5;241;43m.\u001b[39;49m\u001b[43mfit\u001b[49m\u001b[43m(\u001b[49m\u001b[43mX_train\u001b[49m\u001b[38;5;241;43m.\u001b[39;49m\u001b[43mfilter\u001b[49m\u001b[43m(\u001b[49m\u001b[43mfeature_selected\u001b[49m\u001b[43m)\u001b[49m\u001b[43m,\u001b[49m\u001b[43m \u001b[49m\u001b[43my_train\u001b[49m\u001b[43m,\u001b[49m\u001b[43m \u001b[49m\u001b[43msample_weight\u001b[49m\u001b[43m \u001b[49m\u001b[38;5;241;43m=\u001b[39;49m\u001b[43m \u001b[49m\u001b[43mpd\u001b[49m\u001b[38;5;241;43m.\u001b[39;49m\u001b[43mSeries\u001b[49m\u001b[43m(\u001b[49m\u001b[43my_train\u001b[49m\u001b[43m)\u001b[49m\u001b[38;5;241;43m.\u001b[39;49m\u001b[43mmap\u001b[49m\u001b[43m(\u001b[49m\u001b[43mweights\u001b[49m\u001b[43m)\u001b[49m\u001b[43m \u001b[49m\u001b[43m)\u001b[49m \n\u001b[1;32m     20\u001b[0m \u001b[38;5;28;01mif\u001b[39;00m imbalance_classes_mode \u001b[38;5;241m==\u001b[39m \u001b[38;5;124m\"\u001b[39m\u001b[38;5;124moversampleing\u001b[39m\u001b[38;5;124m\"\u001b[39m:\n\u001b[1;32m     21\u001b[0m     model \u001b[38;5;241m=\u001b[39m bayes_search\u001b[38;5;241m.\u001b[39mfit(X_train_res\u001b[38;5;241m.\u001b[39mfilter(feature_selected), y_train_res)\n",
      "File \u001b[0;32m~/anaconda3/envs/Tensor/lib/python3.8/site-packages/skopt/searchcv.py:466\u001b[0m, in \u001b[0;36mBayesSearchCV.fit\u001b[0;34m(self, X, y, groups, callback, **fit_params)\u001b[0m\n\u001b[1;32m    463\u001b[0m \u001b[38;5;28;01melse\u001b[39;00m:\n\u001b[1;32m    464\u001b[0m     \u001b[38;5;28mself\u001b[39m\u001b[38;5;241m.\u001b[39moptimizer_kwargs_ \u001b[38;5;241m=\u001b[39m \u001b[38;5;28mdict\u001b[39m(\u001b[38;5;28mself\u001b[39m\u001b[38;5;241m.\u001b[39moptimizer_kwargs)\n\u001b[0;32m--> 466\u001b[0m \u001b[38;5;28;43msuper\u001b[39;49m\u001b[43m(\u001b[49m\u001b[43m)\u001b[49m\u001b[38;5;241;43m.\u001b[39;49m\u001b[43mfit\u001b[49m\u001b[43m(\u001b[49m\u001b[43mX\u001b[49m\u001b[38;5;241;43m=\u001b[39;49m\u001b[43mX\u001b[49m\u001b[43m,\u001b[49m\u001b[43m \u001b[49m\u001b[43my\u001b[49m\u001b[38;5;241;43m=\u001b[39;49m\u001b[43my\u001b[49m\u001b[43m,\u001b[49m\u001b[43m \u001b[49m\u001b[43mgroups\u001b[49m\u001b[38;5;241;43m=\u001b[39;49m\u001b[43mgroups\u001b[49m\u001b[43m,\u001b[49m\u001b[43m \u001b[49m\u001b[38;5;241;43m*\u001b[39;49m\u001b[38;5;241;43m*\u001b[39;49m\u001b[43mfit_params\u001b[49m\u001b[43m)\u001b[49m\n\u001b[1;32m    468\u001b[0m \u001b[38;5;66;03m# BaseSearchCV never ranked train scores,\u001b[39;00m\n\u001b[1;32m    469\u001b[0m \u001b[38;5;66;03m# but apparently we used to ship this (back-compat)\u001b[39;00m\n\u001b[1;32m    470\u001b[0m \u001b[38;5;28;01mif\u001b[39;00m \u001b[38;5;28mself\u001b[39m\u001b[38;5;241m.\u001b[39mreturn_train_score:\n",
      "File \u001b[0;32m~/anaconda3/envs/Tensor/lib/python3.8/site-packages/sklearn/model_selection/_search.py:875\u001b[0m, in \u001b[0;36mBaseSearchCV.fit\u001b[0;34m(self, X, y, groups, **fit_params)\u001b[0m\n\u001b[1;32m    869\u001b[0m     results \u001b[38;5;241m=\u001b[39m \u001b[38;5;28mself\u001b[39m\u001b[38;5;241m.\u001b[39m_format_results(\n\u001b[1;32m    870\u001b[0m         all_candidate_params, n_splits, all_out, all_more_results\n\u001b[1;32m    871\u001b[0m     )\n\u001b[1;32m    873\u001b[0m     \u001b[38;5;28;01mreturn\u001b[39;00m results\n\u001b[0;32m--> 875\u001b[0m \u001b[38;5;28;43mself\u001b[39;49m\u001b[38;5;241;43m.\u001b[39;49m\u001b[43m_run_search\u001b[49m\u001b[43m(\u001b[49m\u001b[43mevaluate_candidates\u001b[49m\u001b[43m)\u001b[49m\n\u001b[1;32m    877\u001b[0m \u001b[38;5;66;03m# multimetric is determined here because in the case of a callable\u001b[39;00m\n\u001b[1;32m    878\u001b[0m \u001b[38;5;66;03m# self.scoring the return type is only known after calling\u001b[39;00m\n\u001b[1;32m    879\u001b[0m first_test_score \u001b[38;5;241m=\u001b[39m all_out[\u001b[38;5;241m0\u001b[39m][\u001b[38;5;124m\"\u001b[39m\u001b[38;5;124mtest_scores\u001b[39m\u001b[38;5;124m\"\u001b[39m]\n",
      "File \u001b[0;32m~/anaconda3/envs/Tensor/lib/python3.8/site-packages/skopt/searchcv.py:512\u001b[0m, in \u001b[0;36mBayesSearchCV._run_search\u001b[0;34m(self, evaluate_candidates)\u001b[0m\n\u001b[1;32m    508\u001b[0m \u001b[38;5;28;01mwhile\u001b[39;00m n_iter \u001b[38;5;241m>\u001b[39m \u001b[38;5;241m0\u001b[39m:\n\u001b[1;32m    509\u001b[0m     \u001b[38;5;66;03m# when n_iter < n_points points left for evaluation\u001b[39;00m\n\u001b[1;32m    510\u001b[0m     n_points_adjusted \u001b[38;5;241m=\u001b[39m \u001b[38;5;28mmin\u001b[39m(n_iter, n_points)\n\u001b[0;32m--> 512\u001b[0m     optim_result \u001b[38;5;241m=\u001b[39m \u001b[38;5;28;43mself\u001b[39;49m\u001b[38;5;241;43m.\u001b[39;49m\u001b[43m_step\u001b[49m\u001b[43m(\u001b[49m\n\u001b[1;32m    513\u001b[0m \u001b[43m        \u001b[49m\u001b[43msearch_space\u001b[49m\u001b[43m,\u001b[49m\u001b[43m \u001b[49m\u001b[43moptimizer\u001b[49m\u001b[43m,\u001b[49m\n\u001b[1;32m    514\u001b[0m \u001b[43m        \u001b[49m\u001b[43mevaluate_candidates\u001b[49m\u001b[43m,\u001b[49m\u001b[43m \u001b[49m\u001b[43mn_points\u001b[49m\u001b[38;5;241;43m=\u001b[39;49m\u001b[43mn_points_adjusted\u001b[49m\n\u001b[1;32m    515\u001b[0m \u001b[43m    \u001b[49m\u001b[43m)\u001b[49m\n\u001b[1;32m    516\u001b[0m     n_iter \u001b[38;5;241m-\u001b[39m\u001b[38;5;241m=\u001b[39m n_points\n\u001b[1;32m    518\u001b[0m     \u001b[38;5;28;01mif\u001b[39;00m eval_callbacks(callbacks, optim_result):\n",
      "File \u001b[0;32m~/anaconda3/envs/Tensor/lib/python3.8/site-packages/skopt/searchcv.py:408\u001b[0m, in \u001b[0;36mBayesSearchCV._step\u001b[0;34m(self, search_space, optimizer, evaluate_candidates, n_points)\u001b[0m\n\u001b[1;32m    405\u001b[0m \u001b[38;5;66;03m# make lists into dictionaries\u001b[39;00m\n\u001b[1;32m    406\u001b[0m params_dict \u001b[38;5;241m=\u001b[39m [point_asdict(search_space, p) \u001b[38;5;28;01mfor\u001b[39;00m p \u001b[38;5;129;01min\u001b[39;00m params]\n\u001b[0;32m--> 408\u001b[0m all_results \u001b[38;5;241m=\u001b[39m \u001b[43mevaluate_candidates\u001b[49m\u001b[43m(\u001b[49m\u001b[43mparams_dict\u001b[49m\u001b[43m)\u001b[49m\n\u001b[1;32m    409\u001b[0m \u001b[38;5;66;03m# Feed the point and objective value back into optimizer\u001b[39;00m\n\u001b[1;32m    410\u001b[0m \u001b[38;5;66;03m# Optimizer minimizes objective, hence provide negative score\u001b[39;00m\n\u001b[1;32m    411\u001b[0m local_results \u001b[38;5;241m=\u001b[39m all_results[\u001b[38;5;124m\"\u001b[39m\u001b[38;5;124mmean_test_score\u001b[39m\u001b[38;5;124m\"\u001b[39m][\u001b[38;5;241m-\u001b[39m\u001b[38;5;28mlen\u001b[39m(params):]\n",
      "File \u001b[0;32m~/anaconda3/envs/Tensor/lib/python3.8/site-packages/sklearn/model_selection/_search.py:822\u001b[0m, in \u001b[0;36mBaseSearchCV.fit.<locals>.evaluate_candidates\u001b[0;34m(candidate_params, cv, more_results)\u001b[0m\n\u001b[1;32m    814\u001b[0m \u001b[38;5;28;01mif\u001b[39;00m \u001b[38;5;28mself\u001b[39m\u001b[38;5;241m.\u001b[39mverbose \u001b[38;5;241m>\u001b[39m \u001b[38;5;241m0\u001b[39m:\n\u001b[1;32m    815\u001b[0m     \u001b[38;5;28mprint\u001b[39m(\n\u001b[1;32m    816\u001b[0m         \u001b[38;5;124m\"\u001b[39m\u001b[38;5;124mFitting \u001b[39m\u001b[38;5;132;01m{0}\u001b[39;00m\u001b[38;5;124m folds for each of \u001b[39m\u001b[38;5;132;01m{1}\u001b[39;00m\u001b[38;5;124m candidates,\u001b[39m\u001b[38;5;124m\"\u001b[39m\n\u001b[1;32m    817\u001b[0m         \u001b[38;5;124m\"\u001b[39m\u001b[38;5;124m totalling \u001b[39m\u001b[38;5;132;01m{2}\u001b[39;00m\u001b[38;5;124m fits\u001b[39m\u001b[38;5;124m\"\u001b[39m\u001b[38;5;241m.\u001b[39mformat(\n\u001b[1;32m    818\u001b[0m             n_splits, n_candidates, n_candidates \u001b[38;5;241m*\u001b[39m n_splits\n\u001b[1;32m    819\u001b[0m         )\n\u001b[1;32m    820\u001b[0m     )\n\u001b[0;32m--> 822\u001b[0m out \u001b[38;5;241m=\u001b[39m \u001b[43mparallel\u001b[49m\u001b[43m(\u001b[49m\n\u001b[1;32m    823\u001b[0m \u001b[43m    \u001b[49m\u001b[43mdelayed\u001b[49m\u001b[43m(\u001b[49m\u001b[43m_fit_and_score\u001b[49m\u001b[43m)\u001b[49m\u001b[43m(\u001b[49m\n\u001b[1;32m    824\u001b[0m \u001b[43m        \u001b[49m\u001b[43mclone\u001b[49m\u001b[43m(\u001b[49m\u001b[43mbase_estimator\u001b[49m\u001b[43m)\u001b[49m\u001b[43m,\u001b[49m\n\u001b[1;32m    825\u001b[0m \u001b[43m        \u001b[49m\u001b[43mX\u001b[49m\u001b[43m,\u001b[49m\n\u001b[1;32m    826\u001b[0m \u001b[43m        \u001b[49m\u001b[43my\u001b[49m\u001b[43m,\u001b[49m\n\u001b[1;32m    827\u001b[0m \u001b[43m        \u001b[49m\u001b[43mtrain\u001b[49m\u001b[38;5;241;43m=\u001b[39;49m\u001b[43mtrain\u001b[49m\u001b[43m,\u001b[49m\n\u001b[1;32m    828\u001b[0m \u001b[43m        \u001b[49m\u001b[43mtest\u001b[49m\u001b[38;5;241;43m=\u001b[39;49m\u001b[43mtest\u001b[49m\u001b[43m,\u001b[49m\n\u001b[1;32m    829\u001b[0m \u001b[43m        \u001b[49m\u001b[43mparameters\u001b[49m\u001b[38;5;241;43m=\u001b[39;49m\u001b[43mparameters\u001b[49m\u001b[43m,\u001b[49m\n\u001b[1;32m    830\u001b[0m \u001b[43m        \u001b[49m\u001b[43msplit_progress\u001b[49m\u001b[38;5;241;43m=\u001b[39;49m\u001b[43m(\u001b[49m\u001b[43msplit_idx\u001b[49m\u001b[43m,\u001b[49m\u001b[43m \u001b[49m\u001b[43mn_splits\u001b[49m\u001b[43m)\u001b[49m\u001b[43m,\u001b[49m\n\u001b[1;32m    831\u001b[0m \u001b[43m        \u001b[49m\u001b[43mcandidate_progress\u001b[49m\u001b[38;5;241;43m=\u001b[39;49m\u001b[43m(\u001b[49m\u001b[43mcand_idx\u001b[49m\u001b[43m,\u001b[49m\u001b[43m \u001b[49m\u001b[43mn_candidates\u001b[49m\u001b[43m)\u001b[49m\u001b[43m,\u001b[49m\n\u001b[1;32m    832\u001b[0m \u001b[43m        \u001b[49m\u001b[38;5;241;43m*\u001b[39;49m\u001b[38;5;241;43m*\u001b[39;49m\u001b[43mfit_and_score_kwargs\u001b[49m\u001b[43m,\u001b[49m\n\u001b[1;32m    833\u001b[0m \u001b[43m    \u001b[49m\u001b[43m)\u001b[49m\n\u001b[1;32m    834\u001b[0m \u001b[43m    \u001b[49m\u001b[38;5;28;43;01mfor\u001b[39;49;00m\u001b[43m \u001b[49m\u001b[43m(\u001b[49m\u001b[43mcand_idx\u001b[49m\u001b[43m,\u001b[49m\u001b[43m \u001b[49m\u001b[43mparameters\u001b[49m\u001b[43m)\u001b[49m\u001b[43m,\u001b[49m\u001b[43m \u001b[49m\u001b[43m(\u001b[49m\u001b[43msplit_idx\u001b[49m\u001b[43m,\u001b[49m\u001b[43m \u001b[49m\u001b[43m(\u001b[49m\u001b[43mtrain\u001b[49m\u001b[43m,\u001b[49m\u001b[43m \u001b[49m\u001b[43mtest\u001b[49m\u001b[43m)\u001b[49m\u001b[43m)\u001b[49m\u001b[43m \u001b[49m\u001b[38;5;129;43;01min\u001b[39;49;00m\u001b[43m \u001b[49m\u001b[43mproduct\u001b[49m\u001b[43m(\u001b[49m\n\u001b[1;32m    835\u001b[0m \u001b[43m        \u001b[49m\u001b[38;5;28;43menumerate\u001b[39;49m\u001b[43m(\u001b[49m\u001b[43mcandidate_params\u001b[49m\u001b[43m)\u001b[49m\u001b[43m,\u001b[49m\u001b[43m \u001b[49m\u001b[38;5;28;43menumerate\u001b[39;49m\u001b[43m(\u001b[49m\u001b[43mcv\u001b[49m\u001b[38;5;241;43m.\u001b[39;49m\u001b[43msplit\u001b[49m\u001b[43m(\u001b[49m\u001b[43mX\u001b[49m\u001b[43m,\u001b[49m\u001b[43m \u001b[49m\u001b[43my\u001b[49m\u001b[43m,\u001b[49m\u001b[43m \u001b[49m\u001b[43mgroups\u001b[49m\u001b[43m)\u001b[49m\u001b[43m)\u001b[49m\n\u001b[1;32m    836\u001b[0m \u001b[43m    \u001b[49m\u001b[43m)\u001b[49m\n\u001b[1;32m    837\u001b[0m \u001b[43m\u001b[49m\u001b[43m)\u001b[49m\n\u001b[1;32m    839\u001b[0m \u001b[38;5;28;01mif\u001b[39;00m \u001b[38;5;28mlen\u001b[39m(out) \u001b[38;5;241m<\u001b[39m \u001b[38;5;241m1\u001b[39m:\n\u001b[1;32m    840\u001b[0m     \u001b[38;5;28;01mraise\u001b[39;00m \u001b[38;5;167;01mValueError\u001b[39;00m(\n\u001b[1;32m    841\u001b[0m         \u001b[38;5;124m\"\u001b[39m\u001b[38;5;124mNo fits were performed. \u001b[39m\u001b[38;5;124m\"\u001b[39m\n\u001b[1;32m    842\u001b[0m         \u001b[38;5;124m\"\u001b[39m\u001b[38;5;124mWas the CV iterator empty? \u001b[39m\u001b[38;5;124m\"\u001b[39m\n\u001b[1;32m    843\u001b[0m         \u001b[38;5;124m\"\u001b[39m\u001b[38;5;124mWere there no candidates?\u001b[39m\u001b[38;5;124m\"\u001b[39m\n\u001b[1;32m    844\u001b[0m     )\n",
      "File \u001b[0;32m~/anaconda3/envs/Tensor/lib/python3.8/site-packages/joblib/parallel.py:1056\u001b[0m, in \u001b[0;36mParallel.__call__\u001b[0;34m(self, iterable)\u001b[0m\n\u001b[1;32m   1053\u001b[0m     \u001b[38;5;28mself\u001b[39m\u001b[38;5;241m.\u001b[39m_iterating \u001b[38;5;241m=\u001b[39m \u001b[38;5;28;01mFalse\u001b[39;00m\n\u001b[1;32m   1055\u001b[0m \u001b[38;5;28;01mwith\u001b[39;00m \u001b[38;5;28mself\u001b[39m\u001b[38;5;241m.\u001b[39m_backend\u001b[38;5;241m.\u001b[39mretrieval_context():\n\u001b[0;32m-> 1056\u001b[0m     \u001b[38;5;28;43mself\u001b[39;49m\u001b[38;5;241;43m.\u001b[39;49m\u001b[43mretrieve\u001b[49m\u001b[43m(\u001b[49m\u001b[43m)\u001b[49m\n\u001b[1;32m   1057\u001b[0m \u001b[38;5;66;03m# Make sure that we get a last message telling us we are done\u001b[39;00m\n\u001b[1;32m   1058\u001b[0m elapsed_time \u001b[38;5;241m=\u001b[39m time\u001b[38;5;241m.\u001b[39mtime() \u001b[38;5;241m-\u001b[39m \u001b[38;5;28mself\u001b[39m\u001b[38;5;241m.\u001b[39m_start_time\n",
      "File \u001b[0;32m~/anaconda3/envs/Tensor/lib/python3.8/site-packages/joblib/parallel.py:935\u001b[0m, in \u001b[0;36mParallel.retrieve\u001b[0;34m(self)\u001b[0m\n\u001b[1;32m    933\u001b[0m \u001b[38;5;28;01mtry\u001b[39;00m:\n\u001b[1;32m    934\u001b[0m     \u001b[38;5;28;01mif\u001b[39;00m \u001b[38;5;28mgetattr\u001b[39m(\u001b[38;5;28mself\u001b[39m\u001b[38;5;241m.\u001b[39m_backend, \u001b[38;5;124m'\u001b[39m\u001b[38;5;124msupports_timeout\u001b[39m\u001b[38;5;124m'\u001b[39m, \u001b[38;5;28;01mFalse\u001b[39;00m):\n\u001b[0;32m--> 935\u001b[0m         \u001b[38;5;28mself\u001b[39m\u001b[38;5;241m.\u001b[39m_output\u001b[38;5;241m.\u001b[39mextend(\u001b[43mjob\u001b[49m\u001b[38;5;241;43m.\u001b[39;49m\u001b[43mget\u001b[49m\u001b[43m(\u001b[49m\u001b[43mtimeout\u001b[49m\u001b[38;5;241;43m=\u001b[39;49m\u001b[38;5;28;43mself\u001b[39;49m\u001b[38;5;241;43m.\u001b[39;49m\u001b[43mtimeout\u001b[49m\u001b[43m)\u001b[49m)\n\u001b[1;32m    936\u001b[0m     \u001b[38;5;28;01melse\u001b[39;00m:\n\u001b[1;32m    937\u001b[0m         \u001b[38;5;28mself\u001b[39m\u001b[38;5;241m.\u001b[39m_output\u001b[38;5;241m.\u001b[39mextend(job\u001b[38;5;241m.\u001b[39mget())\n",
      "File \u001b[0;32m~/anaconda3/envs/Tensor/lib/python3.8/site-packages/joblib/_parallel_backends.py:542\u001b[0m, in \u001b[0;36mLokyBackend.wrap_future_result\u001b[0;34m(future, timeout)\u001b[0m\n\u001b[1;32m    539\u001b[0m \u001b[38;5;124;03m\"\"\"Wrapper for Future.result to implement the same behaviour as\u001b[39;00m\n\u001b[1;32m    540\u001b[0m \u001b[38;5;124;03mAsyncResults.get from multiprocessing.\"\"\"\u001b[39;00m\n\u001b[1;32m    541\u001b[0m \u001b[38;5;28;01mtry\u001b[39;00m:\n\u001b[0;32m--> 542\u001b[0m     \u001b[38;5;28;01mreturn\u001b[39;00m \u001b[43mfuture\u001b[49m\u001b[38;5;241;43m.\u001b[39;49m\u001b[43mresult\u001b[49m\u001b[43m(\u001b[49m\u001b[43mtimeout\u001b[49m\u001b[38;5;241;43m=\u001b[39;49m\u001b[43mtimeout\u001b[49m\u001b[43m)\u001b[49m\n\u001b[1;32m    543\u001b[0m \u001b[38;5;28;01mexcept\u001b[39;00m CfTimeoutError \u001b[38;5;28;01mas\u001b[39;00m e:\n\u001b[1;32m    544\u001b[0m     \u001b[38;5;28;01mraise\u001b[39;00m \u001b[38;5;167;01mTimeoutError\u001b[39;00m \u001b[38;5;28;01mfrom\u001b[39;00m \u001b[38;5;21;01me\u001b[39;00m\n",
      "File \u001b[0;32m~/anaconda3/envs/Tensor/lib/python3.8/concurrent/futures/_base.py:434\u001b[0m, in \u001b[0;36mFuture.result\u001b[0;34m(self, timeout)\u001b[0m\n\u001b[1;32m    431\u001b[0m \u001b[38;5;28;01melif\u001b[39;00m \u001b[38;5;28mself\u001b[39m\u001b[38;5;241m.\u001b[39m_state \u001b[38;5;241m==\u001b[39m FINISHED:\n\u001b[1;32m    432\u001b[0m     \u001b[38;5;28;01mreturn\u001b[39;00m \u001b[38;5;28mself\u001b[39m\u001b[38;5;241m.\u001b[39m__get_result()\n\u001b[0;32m--> 434\u001b[0m \u001b[38;5;28;43mself\u001b[39;49m\u001b[38;5;241;43m.\u001b[39;49m\u001b[43m_condition\u001b[49m\u001b[38;5;241;43m.\u001b[39;49m\u001b[43mwait\u001b[49m\u001b[43m(\u001b[49m\u001b[43mtimeout\u001b[49m\u001b[43m)\u001b[49m\n\u001b[1;32m    436\u001b[0m \u001b[38;5;28;01mif\u001b[39;00m \u001b[38;5;28mself\u001b[39m\u001b[38;5;241m.\u001b[39m_state \u001b[38;5;129;01min\u001b[39;00m [CANCELLED, CANCELLED_AND_NOTIFIED]:\n\u001b[1;32m    437\u001b[0m     \u001b[38;5;28;01mraise\u001b[39;00m CancelledError()\n",
      "File \u001b[0;32m~/anaconda3/envs/Tensor/lib/python3.8/threading.py:302\u001b[0m, in \u001b[0;36mCondition.wait\u001b[0;34m(self, timeout)\u001b[0m\n\u001b[1;32m    300\u001b[0m \u001b[38;5;28;01mtry\u001b[39;00m:    \u001b[38;5;66;03m# restore state no matter what (e.g., KeyboardInterrupt)\u001b[39;00m\n\u001b[1;32m    301\u001b[0m     \u001b[38;5;28;01mif\u001b[39;00m timeout \u001b[38;5;129;01mis\u001b[39;00m \u001b[38;5;28;01mNone\u001b[39;00m:\n\u001b[0;32m--> 302\u001b[0m         \u001b[43mwaiter\u001b[49m\u001b[38;5;241;43m.\u001b[39;49m\u001b[43macquire\u001b[49m\u001b[43m(\u001b[49m\u001b[43m)\u001b[49m\n\u001b[1;32m    303\u001b[0m         gotit \u001b[38;5;241m=\u001b[39m \u001b[38;5;28;01mTrue\u001b[39;00m\n\u001b[1;32m    304\u001b[0m     \u001b[38;5;28;01melse\u001b[39;00m:\n",
      "\u001b[0;31mKeyboardInterrupt\u001b[0m: "
     ]
    }
   ],
   "source": [
    "# Create classification tree model\n",
    "xgb_model = XGBClassifier(objective=\"multi:softmax\", \n",
    "                                booster='gbtree',\n",
    "                                eval_metric='auc', \n",
    "                                grow_policy='lossguide')\n",
    "\n",
    "\n",
    "bayes_search = BayesSearchCV(\n",
    "    xgb_model,\n",
    "    param_grid,\n",
    "    n_iter = n_iter,\n",
    "    random_state = random_state,\n",
    "    n_jobs = n_jobs,\n",
    "    cv = tscv\n",
    ")\n",
    "\n",
    "if imbalance_classes_mode == \"class_weights\":\n",
    "    model = bayes_search.fit(X_train.filter(feature_selected), y_train, sample_weight = pd.Series(y_train).map(weights) ) \n",
    "\n",
    "if imbalance_classes_mode == \"oversampleing\":\n",
    "    model = bayes_search.fit(X_train_res.filter(feature_selected), y_train_res)\n",
    "\n",
    "# Predict training set\n",
    "y_pred = model.predict(X_test.filter(feature_selected))\n",
    "\n",
    "#print(Y_pred)"
   ]
  },
  {
   "cell_type": "code",
   "execution_count": null,
   "id": "6652a70f-7187-454b-ae22-2ff4a3e5cb95",
   "metadata": {},
   "outputs": [],
   "source": [
    "# Test accuracy\n",
    "accuracy_test = accuracy_score(y_test, y_pred)\n",
    "print(\"accuracy score:\", round(accuracy_test, 4))"
   ]
  },
  {
   "cell_type": "code",
   "execution_count": null,
   "id": "cbaec6fe-f183-45eb-af00-c1b65d2d599d",
   "metadata": {},
   "outputs": [],
   "source": [
    "report = classification_report(y_test, y_pred)\n",
    "print(report)"
   ]
  },
  {
   "cell_type": "markdown",
   "id": "06dbe344-3772-4fff-9439-76c87759b7ca",
   "metadata": {},
   "source": [
    "# 5. Backtesting"
   ]
  },
  {
   "cell_type": "markdown",
   "id": "35f4c659-6668-466c-a6e7-9c9927e18ba6",
   "metadata": {},
   "source": [
    "## 5.1 Vectorized Backtesting"
   ]
  },
  {
   "cell_type": "code",
   "execution_count": 287,
   "id": "c01a34b7-2b37-4dcc-938b-4d657805f53f",
   "metadata": {},
   "outputs": [],
   "source": [
    "# Vectorized Backtesting\n",
    "cols = ['Date', 'Close','Volume']\n",
    "backtest_df = data[split:].filter(cols).copy()\n",
    "#backtest_df.loc[:,\"pred\"] = pd.Series(y_pred).values\n",
    "backtest_df.loc[:,\"pred\"] = pd.Series(y_pred).map({0:-1,1:0,2:1}).values\n",
    "backtest_df.reset_index(inplace = True, drop = True)"
   ]
  },
  {
   "cell_type": "code",
   "execution_count": 288,
   "id": "2b2dea83-3408-4282-b994-ddd97e3f9d41",
   "metadata": {},
   "outputs": [
    {
     "data": {
      "text/plain": [
       " 0    3192\n",
       " 1    1675\n",
       "-1     933\n",
       "Name: pred, dtype: int64"
      ]
     },
     "execution_count": 288,
     "metadata": {},
     "output_type": "execute_result"
    }
   ],
   "source": [
    "backtest_df['pred'].value_counts()"
   ]
  },
  {
   "cell_type": "code",
   "execution_count": 328,
   "id": "a58647fa-56a5-4d22-b509-2411d82f638b",
   "metadata": {},
   "outputs": [],
   "source": []
  },
  {
   "cell_type": "code",
   "execution_count": 332,
   "id": "5d395d2c-605c-4f6b-a8ca-fd6f8b59d8bd",
   "metadata": {},
   "outputs": [],
   "source": [
    "# Adjust trading signals\n",
    "backtest_df['pred_adj'] = pd.Series(adj_ml_strategy(backtest_df.pred.values, v_barrier_minutes))\n",
    "\n",
    "#pd.Series(adj_ml_strategy(backtest_df.pred.values, v_barrier_minutes))   "
   ]
  },
  {
   "cell_type": "code",
   "execution_count": 333,
   "id": "fd5b47b7-0810-47b6-b448-3777c6fde0b0",
   "metadata": {},
   "outputs": [
    {
     "data": {
      "text/plain": [
       " 0    5458\n",
       " 1     171\n",
       "-1     171\n",
       "Name: pred_adj, dtype: int64"
      ]
     },
     "execution_count": 333,
     "metadata": {},
     "output_type": "execute_result"
    }
   ],
   "source": [
    "backtest_df['pred_adj'].value_counts()"
   ]
  },
  {
   "cell_type": "code",
   "execution_count": 334,
   "id": "05b8d882-594b-49bc-a58f-0fca15577bfa",
   "metadata": {},
   "outputs": [
    {
     "data": {
      "text/plain": [
       " 0    3192\n",
       " 1    1675\n",
       "-1     933\n",
       "Name: pred, dtype: int64"
      ]
     },
     "execution_count": 334,
     "metadata": {},
     "output_type": "execute_result"
    }
   ],
   "source": [
    "backtest_df['pred'].value_counts()"
   ]
  },
  {
   "cell_type": "markdown",
   "id": "7434708e-a144-4828-ae75-9b79179b4b0e",
   "metadata": {},
   "source": [
    "## 5.2 Cost Analysis"
   ]
  },
  {
   "cell_type": "code",
   "execution_count": 335,
   "id": "5a0c85e8-64d9-4643-9865-3dc649da0224",
   "metadata": {},
   "outputs": [],
   "source": [
    "backtest_df.loc[:,'Return'] = backtest_df['Close'].pct_change(1)\n",
    "backtest_df.loc[:,\"strategy\"] = backtest_df['pred'].shift(1)* backtest_df['Return']\n",
    "backtest_df.loc[:,\"strategy_adj\"] = backtest_df['pred_adj'].shift(1)* backtest_df['Return']\n",
    "\n",
    "backtest_df.loc[:,\"buy_hold\"] = backtest_df[\"Return\"].cumsum().apply(np.exp)\n",
    "backtest_df.loc[:,\"ml_strategy\"] = backtest_df[\"strategy\"].cumsum().apply(np.exp)\n",
    "backtest_df.loc[:,\"ml_strategy_adj\"] = backtest_df[\"strategy_adj\"].cumsum().apply(np.exp)"
   ]
  },
  {
   "cell_type": "code",
   "execution_count": 336,
   "id": "4385804c-3476-4ad5-9499-b5a3fc86f130",
   "metadata": {},
   "outputs": [],
   "source": [
    "# Cost Analysis\n",
    "# TODO: Spread Analysis of every coin\n",
    "dec_points = len(str(backtest_df['Close'].values[0]).split(\".\")[1])\n",
    "spread = 2 * 1 / (10 ** dec_points) # pips == fourth price decimal\n",
    "half_spread = spread / 2 # absolute tc per trade (position change +-1)\n",
    "ptc = half_spread / backtest_df.Close.mean() # proportional tc per trade (position change +-1)\n",
    "\n",
    "# Binance Fee\n",
    "bc = 0.001\n",
    "\n",
    "ptc += bc"
   ]
  },
  {
   "cell_type": "code",
   "execution_count": 337,
   "id": "70a6b5db-abd1-4bd1-8ad2-e553c68ae3b0",
   "metadata": {},
   "outputs": [
    {
     "data": {
      "text/plain": [
       "0.0010055467632663416"
      ]
     },
     "execution_count": 337,
     "metadata": {},
     "output_type": "execute_result"
    }
   ],
   "source": [
    "ptc"
   ]
  },
  {
   "cell_type": "code",
   "execution_count": 338,
   "id": "b04ec02f-ccfc-47af-9d1d-5b9c8182e51d",
   "metadata": {},
   "outputs": [],
   "source": [
    "# Number of trades for pure ml strategy\n",
    "backtest_df[\"n_trader_ml\"] = backtest_df.pred.diff().fillna(0).abs()\n",
    "\n",
    "# Number of trades for pure ml strategy adjusted\n",
    "backtest_df[\"n_trader_ml_adj\"] = backtest_df.pred_adj.diff().fillna(0).abs()\n",
    "\n",
    "# Include Spread cost\n",
    "backtest_df['cost_ml'] = backtest_df.n_trader_ml * ptc\n",
    "backtest_df['cost_ml_adj'] = backtest_df.n_trader_ml_adj * ptc\n",
    "\n",
    "backtest_df['cost_ml_USDT'] = backtest_df.cost_ml * backtest_df.Close\n",
    "backtest_df['cost_ml_adj_USDT'] = backtest_df.cost_ml_adj * backtest_df.Close\n",
    "\n",
    "backtest_df['ml_strategy_c'] = backtest_df.strategy - backtest_df.cost_ml\n",
    "backtest_df['ml_strategy_adj_c'] = backtest_df.strategy_adj - backtest_df.cost_ml_adj\n",
    "\n",
    "# Calculate Net Profit\n",
    "backtest_df['ml_strategy_net'] = backtest_df.ml_strategy_c.cumsum().apply(np.exp)\n",
    "backtest_df['ml_strategy_adj_net'] = backtest_df.ml_strategy_adj_c.cumsum().apply(np.exp)"
   ]
  },
  {
   "cell_type": "code",
   "execution_count": 339,
   "id": "ddfa71b4-fe1f-43d5-8d93-fe513f492806",
   "metadata": {},
   "outputs": [
    {
     "data": {
      "text/plain": [
       "n_trader_ml         1019.000000\n",
       "n_trader_ml_adj      683.000000\n",
       "cost_ml_adj_USDT    1231.675004\n",
       "cost_ml_USDT        1843.046189\n",
       "dtype: float64"
      ]
     },
     "execution_count": 339,
     "metadata": {},
     "output_type": "execute_result"
    }
   ],
   "source": [
    "backtest_df[['n_trader_ml', 'n_trader_ml_adj', 'cost_ml_adj_USDT','cost_ml_USDT']].sum()"
   ]
  },
  {
   "cell_type": "code",
   "execution_count": 340,
   "id": "2b73a9f3-65f6-4559-8a2c-586328d85358",
   "metadata": {},
   "outputs": [
    {
     "name": "stdout",
     "output_type": "stream",
     "text": [
      "ML: Saldo after Backtesting for trading size 1 unit of the Coin $USD 2501.29  N Trades:  1019.0 Cost: 1843.0461894587775\n",
      "ML ADJ: Saldo after Backtesting for trading size 1 unit of the Coin $USD 2734.48  N Trades:  683.0 Cost: 1231.6750042708281\n"
     ]
    }
   ],
   "source": [
    "# performance_ml = backtest_df.iloc[-1]['ml_strategy_net']*backtest_df.iloc[0]['Close'] -  backtest_df['cost_ml_USDT'].sum()\n",
    "# performance_ml_adj = backtest_df.iloc[-1]['ml_strategy_adj_net']*backtest_df.iloc[0]['Close'] -  backtest_df['cost_ml_adj_USDT'].sum()\n",
    "\n",
    "# print(\"ML: Saldo after Backtesting for trading size 1 unit of the Coin $USD\", np.round(performance_ml, 2), \" N Trades: \", backtest_df.n_trader_ml.sum() )\n",
    "# print(\"ML ADJ: Saldo after Backtesting for trading size 1 unit of the Coin $USD \", np.round( performance_ml_adj, 2) , \" N Trades: \", backtest_df.n_trader_ml_adj.sum() )\n",
    "\n",
    "# print(\"ML: Saldo after Backtesting for trading size 1 unit of the Coin $USD\", np.round(performance_ml, 2) )\n",
    "# print(\"ML ADJ: Saldo after Backtesting for trading size 1 unit of the Coin $USD \", np.round( performance_ml_adj, 2)  )\n",
    "\n",
    "\n",
    "initial_investment = backtest_df.iloc[0]['Close']\n",
    "\n",
    "final_return = backtest_df.iloc[-1]['ml_strategy_net']\n",
    "final_investment = initial_investment*(1+final_return)\n",
    "total_trading_cost = backtest_df['cost_ml_USDT'].sum()\n",
    "performance_ml = final_investment   \n",
    "\n",
    "print(\"ML: Saldo after Backtesting for trading size 1 unit of the Coin $USD\", np.round(performance_ml, 2), \" N Trades: \", backtest_df.n_trader_ml.sum(), \"Cost:\", total_trading_cost )\n",
    "\n",
    "final_return = backtest_df.iloc[-1]['ml_strategy_adj_net']\n",
    "final_investment = initial_investment*(1+final_return)\n",
    "total_trading_cost = backtest_df['cost_ml_adj_USDT'].sum()\n",
    "performance_ml = final_investment \n",
    "\n",
    "print(\"ML ADJ: Saldo after Backtesting for trading size 1 unit of the Coin $USD\", np.round(performance_ml, 2), \" N Trades: \", backtest_df.n_trader_ml_adj.sum(), \"Cost:\", total_trading_cost )"
   ]
  },
  {
   "cell_type": "code",
   "execution_count": 341,
   "id": "0aababcf-b445-4d11-91cf-35b8bdc78d18",
   "metadata": {},
   "outputs": [
    {
     "data": {
      "image/png": "[encoded data removed]",
      "text/plain": [
       "<Figure size 864x432 with 1 Axes>"
      ]
     },
     "metadata": {
      "needs_background": "light"
     },
     "output_type": "display_data"
    }
   ],
   "source": [
    "plt.figure(figsize=(12, 6))\n",
    "plt.plot(backtest_df.Date, backtest_df[\"buy_hold\"])\n",
    "plt.plot(backtest_df.Date, backtest_df[\"ml_strategy\"])\n",
    "plt.plot(backtest_df.Date, backtest_df[\"ml_strategy_adj\"])\n",
    "plt.legend([\"buy_hold\", \"ml_strategy\", \"ml_strategy_adj\"])\n",
    "plt.title(f\"Cumulative return of buy-and-hold vs machine learning from {backtest_df.index[0]} - {backtest_df.index[-1]}\", fontsize=11)\n",
    "plt.show()"
   ]
  },
  {
   "cell_type": "code",
   "execution_count": 342,
   "id": "a3e3caff-8be6-4bd3-aefe-773c6e173a42",
   "metadata": {},
   "outputs": [
    {
     "data": {
      "image/png": "[encoded data removed]",
      "text/plain": [
       "<Figure size 864x432 with 1 Axes>"
      ]
     },
     "metadata": {
      "needs_background": "light"
     },
     "output_type": "display_data"
    }
   ],
   "source": [
    "plt.figure(figsize=(12, 6))\n",
    "plt.plot(backtest_df.Date, backtest_df[\"buy_hold\"])\n",
    "plt.plot(backtest_df.Date, backtest_df[\"ml_strategy_net\"])\n",
    "plt.plot(backtest_df.Date, backtest_df[\"ml_strategy_adj_net\"])\n",
    "plt.legend([\"buy_hold\", \"ml_strategy\", \"ml_strategy_adj\"])\n",
    "plt.title(f\"Cumulative return of buy-and-hold vs machine learning from {backtest_df.index[0]} - {backtest_df.index[-1]}\", fontsize=11)\n",
    "plt.show()"
   ]
  },
  {
   "cell_type": "markdown",
   "id": "3ea12639-c3e5-4a5d-a371-4239585d85f9",
   "metadata": {},
   "source": [
    "# 6. Store Results Mongo DB"
   ]
  },
  {
   "cell_type": "code",
   "execution_count": 225,
   "id": "c9902d51-299f-4e6d-911e-68b6c2f8fa69",
   "metadata": {},
   "outputs": [],
   "source": [
    "Importance = model.best_estimator_.feature_importances_\n",
    "df_importance = pd.DataFrame({'Variable': predictors_list_adj, 'Importance':Importance})\n",
    "df_importance.sort_values(by = ['Importance'], ascending = False, inplace = True)\n",
    "\n",
    "top_feature_names = list(df_importance.head(10)['Variable'].values)\n",
    "top_feature_importances = list(np.round(df_importance.head(10)['Importance'],4).values)"
   ]
  },
  {
   "cell_type": "code",
   "execution_count": 227,
   "id": "bc2ce56c-04a7-498e-a600-6dde46384746",
   "metadata": {},
   "outputs": [
    {
     "data": {
      "text/html": [
       "<div>\n",
       "<style scoped>\n",
       "    .dataframe tbody tr th:only-of-type {\n",
       "        vertical-align: middle;\n",
       "    }\n",
       "\n",
       "    .dataframe tbody tr th {\n",
       "        vertical-align: top;\n",
       "    }\n",
       "\n",
       "    .dataframe thead th {\n",
       "        text-align: right;\n",
       "    }\n",
       "</style>\n",
       "<table border=\"1\" class=\"dataframe\">\n",
       "  <thead>\n",
       "    <tr style=\"text-align: right;\">\n",
       "      <th></th>\n",
       "      <th>Variable</th>\n",
       "      <th>Importance</th>\n",
       "    </tr>\n",
       "  </thead>\n",
       "  <tbody>\n",
       "    <tr>\n",
       "      <th>9</th>\n",
       "      <td>Volume_std_30</td>\n",
       "      <td>0.111138</td>\n",
       "    </tr>\n",
       "    <tr>\n",
       "      <th>8</th>\n",
       "      <td>Volume_sma_30</td>\n",
       "      <td>0.100982</td>\n",
       "    </tr>\n",
       "    <tr>\n",
       "      <th>1</th>\n",
       "      <td>BBB_120_2.0</td>\n",
       "      <td>0.100084</td>\n",
       "    </tr>\n",
       "    <tr>\n",
       "      <th>5</th>\n",
       "      <td>MACDs_15_120_9</td>\n",
       "      <td>0.100016</td>\n",
       "    </tr>\n",
       "    <tr>\n",
       "      <th>3</th>\n",
       "      <td>MACD_15_120_9</td>\n",
       "      <td>0.090277</td>\n",
       "    </tr>\n",
       "    <tr>\n",
       "      <th>6</th>\n",
       "      <td>ATRr_15</td>\n",
       "      <td>0.089066</td>\n",
       "    </tr>\n",
       "    <tr>\n",
       "      <th>7</th>\n",
       "      <td>minute</td>\n",
       "      <td>0.079780</td>\n",
       "    </tr>\n",
       "    <tr>\n",
       "      <th>4</th>\n",
       "      <td>MACDh_15_120_9</td>\n",
       "      <td>0.078864</td>\n",
       "    </tr>\n",
       "    <tr>\n",
       "      <th>2</th>\n",
       "      <td>BBP_120_2.0</td>\n",
       "      <td>0.077730</td>\n",
       "    </tr>\n",
       "    <tr>\n",
       "      <th>0</th>\n",
       "      <td>BBB_15_2.0</td>\n",
       "      <td>0.075891</td>\n",
       "    </tr>\n",
       "    <tr>\n",
       "      <th>11</th>\n",
       "      <td>Number of Trades_standard</td>\n",
       "      <td>0.048111</td>\n",
       "    </tr>\n",
       "    <tr>\n",
       "      <th>10</th>\n",
       "      <td>Volume_standard</td>\n",
       "      <td>0.048060</td>\n",
       "    </tr>\n",
       "  </tbody>\n",
       "</table>\n",
       "</div>"
      ],
      "text/plain": [
       "                     Variable  Importance\n",
       "9               Volume_std_30    0.111138\n",
       "8               Volume_sma_30    0.100982\n",
       "1                 BBB_120_2.0    0.100084\n",
       "5              MACDs_15_120_9    0.100016\n",
       "3               MACD_15_120_9    0.090277\n",
       "6                     ATRr_15    0.089066\n",
       "7                      minute    0.079780\n",
       "4              MACDh_15_120_9    0.078864\n",
       "2                 BBP_120_2.0    0.077730\n",
       "0                  BBB_15_2.0    0.075891\n",
       "11  Number of Trades_standard    0.048111\n",
       "10            Volume_standard    0.048060"
      ]
     },
     "execution_count": 227,
     "metadata": {},
     "output_type": "execute_result"
    }
   ],
   "source": [
    "df_importance\n"
   ]
  },
  {
   "cell_type": "code",
   "execution_count": null,
   "id": "e651168f-26e5-4077-9cd1-4eba95c2a84f",
   "metadata": {},
   "outputs": [],
   "source": [
    "min_date, max_date = backtest_df['Date'].min().strftime(\"%Y-%m-%d\"), backtest_df['Date'].max().strftime(\"%Y-%m-%d\")"
   ]
  },
  {
   "cell_type": "code",
   "execution_count": null,
   "id": "214689ca-3ae2-40c1-bb73-989fa2abdf73",
   "metadata": {},
   "outputs": [],
   "source": [
    "max_date"
   ]
  },
  {
   "cell_type": "code",
   "execution_count": null,
   "id": "42195f17-7a41-4632-ba8a-d71bb05a1c90",
   "metadata": {},
   "outputs": [],
   "source": [
    "model_name = 'XGBoost'\n",
    "\n",
    "\n",
    "backtest_info = { \n",
    "            \"run_id\": \"-\".join(SYMBOLS) + \"-\" + model_name + \"-\" + min_date + \"__\" + max_date,\n",
    "            \"ticker\": \"-\".join(SYMBOLS), \n",
    "            \"ptsl\" : [str(x) for x in ptsl],\n",
    "            \"v_barrier_minutes\": v_barrier_minutes,\n",
    "            \"span_volatility\" : span_volatility,\n",
    "          \"model_name\": model_name, \n",
    "         \"model_params\": { 'learning_rate' : model.best_estimator_.learning_rate,\n",
    "                          'max_depth' : model.best_estimator_.max_depth,\n",
    "                          'n_estimators' : model.best_estimator_.n_estimators\n",
    "                             }, \n",
    "          \"feature_importance\": {'top_feature_names': [str(x) for x in top_feature_names], \n",
    "                                'top_feature_importances': [str(x) for x in top_feature_importances] }, \n",
    "         \"backtest\": {\"Date\": backtest_df['Date'].astype(str).to_list(),\n",
    "                      \"ml_strategy\": backtest_df['ml_strategy'].astype(str).to_list(),\n",
    "                      \"ml_strategy_adj\": backtest_df['ml_strategy_adj'].astype(str).to_list(),\n",
    "                      \"buy_hold\": backtest_df['buy_hold'].astype(str).to_list(),\n",
    "                      \"pred\": backtest_df['pred'].astype(str).to_list(),                      \n",
    "                     }}\n"
   ]
  },
  {
   "cell_type": "code",
   "execution_count": null,
   "id": "5b4a847e-d5c1-4701-9d9c-8bbdbb496bc3",
   "metadata": {},
   "outputs": [],
   "source": [
    "# import pickle\n",
    "\n",
    "# with open('backtest.pickle', 'wb') as handle:\n",
    "#     pickle.dump(backtest_info, handle, protocol=pickle.HIGHEST_PROTOCOL)\n",
    "\n",
    "import json\n",
    "config_path = join('../../../../../tensortrader/config.json')\n",
    "with open(config_path) as f:\n",
    "    config = json.load(f)"
   ]
  },
  {
   "cell_type": "code",
   "execution_count": null,
   "id": "a53109e9-67ef-467f-8e88-dbb4f5322f40",
   "metadata": {},
   "outputs": [],
   "source": [
    "import pymongo\n",
    "\n",
    "MONGO_PASSWORD = config['MONGO_PASSWORD']\n",
    "MONGO_USER = config['MONGO_USER']\n",
    "MONGO_URL = \"mongodb+srv://{}:{}@tensor-database.rjyvv.mongodb.net/?retryWrites=true&w=majority\".format(MONGO_USER,MONGO_PASSWORD)\n",
    "\n",
    "client = pymongo.MongoClient(MONGO_URL)\n",
    "\n",
    "backtesting_db = client[\"tensor_models\"]\n",
    "backtesting_collection = backtesting_db[\"backtesting\"]\n",
    "\n",
    "x = backtesting_collection.insert_one(backtest_info)"
   ]
  },
  {
   "cell_type": "code",
   "execution_count": null,
   "id": "c75b99f2-3e7c-41b0-991f-19df69e07676",
   "metadata": {},
   "outputs": [],
   "source": []
  }
 ],
 "metadata": {
  "kernelspec": {
   "display_name": "Python 3",
   "language": "python",
   "name": "python3"
  },
  "language_info": {
   "codemirror_mode": {
    "name": "ipython",
    "version": 3
   },
   "file_extension": ".py",
   "mimetype": "text/x-python",
   "name": "python",
   "nbconvert_exporter": "python",
   "pygments_lexer": "ipython3",
   "version": "3.8.2 (default, Mar 13 2020, 10:14:16) \n[GCC 9.3.0]"
  },
  "vscode": {
   "interpreter": {
    "hash": "916dbcbb3f70747c44a77c7bcd40155683ae19c65e1c03b4aa3499c5328201f1"
   }
  }
 },
 "nbformat": 4,
 "nbformat_minor": 5
}
