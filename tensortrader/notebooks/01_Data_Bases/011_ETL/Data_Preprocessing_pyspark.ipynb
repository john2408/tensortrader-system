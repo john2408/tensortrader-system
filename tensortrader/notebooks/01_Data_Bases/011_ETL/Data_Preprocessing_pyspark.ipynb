{
 "metadata": {
  "language_info": {
   "codemirror_mode": {
    "name": "ipython",
    "version": 3
   },
   "file_extension": ".py",
   "mimetype": "text/x-python",
   "name": "python",
   "nbconvert_exporter": "python",
   "pygments_lexer": "ipython3",
   "version": "3.7.7"
  },
  "orig_nbformat": 2,
  "kernelspec": {
   "name": "python3",
   "display_name": "Python 3.7.7 64-bit ('AlgoTrading': conda)"
  },
  "interpreter": {
   "hash": "2d6665af479ab98ef4acca01ca45d4d57a52903c594eb1765faf156f4475f423"
  }
 },
 "nbformat": 4,
 "nbformat_minor": 2,
 "cells": [
  {
   "cell_type": "code",
   "execution_count": 1,
   "metadata": {},
   "outputs": [],
   "source": [
    "import pandas as pd\n",
    "import numpy as np\n",
    "import os "
   ]
  },
  {
   "cell_type": "code",
   "execution_count": 4,
   "metadata": {},
   "outputs": [
    {
     "output_type": "stream",
     "name": "stdout",
     "text": [
      "3.14166648\n"
     ]
    }
   ],
   "source": [
    "import findspark\n",
    "findspark.init()\n",
    "\n",
    "import pyspark\n",
    "import random\n",
    "\n",
    "\n",
    "sc = pyspark.SparkContext(appName=\"Pi\")\n",
    "num_samples = 100000000\n",
    "\n",
    "def inside(p):     \n",
    "  x, y = random.random(), random.random()\n",
    "  return x*x + y*y < 1\n",
    "\n",
    "count = sc.parallelize(range(0, num_samples)).filter(inside).count()\n",
    "\n",
    "pi = 4 * count / num_samples\n",
    "print(pi)\n",
    "\n",
    "sc.stop()"
   ]
  },
  {
   "cell_type": "code",
   "execution_count": 5,
   "metadata": {},
   "outputs": [],
   "source": [
    "# conf = (SparkConf()\n",
    "#  .setMaster(\"local\")\n",
    "#  .setAppName(\"My app\")\n",
    "#  .set(\"spark.executor.memory\", \"1g\")\n",
    "# sc = pyspark.SparkContext((conf = conf)"
   ]
  },
  {
   "cell_type": "code",
   "execution_count": 18,
   "metadata": {},
   "outputs": [],
   "source": [
    "from pyspark.sql import SparkSession\n",
    "\n",
    "spark = SparkSession.builder.appName(\"FuturesData\").config(\"spark.executor.memory\", \"5g\").getOrCreate()"
   ]
  },
  {
   "cell_type": "code",
   "execution_count": 19,
   "metadata": {},
   "outputs": [],
   "source": [
    "input_folder = '../../data'\n",
    "\n",
    "data_files = os.listdir(input_folder)"
   ]
  },
  {
   "cell_type": "code",
   "execution_count": 20,
   "metadata": {},
   "outputs": [],
   "source": [
    "#df = pd.read_parquet()"
   ]
  },
  {
   "cell_type": "code",
   "execution_count": 21,
   "metadata": {},
   "outputs": [],
   "source": [
    "sdf = spark.read.parquet(os.path.join(input_folder, data_files[0]))"
   ]
  },
  {
   "cell_type": "code",
   "execution_count": 22,
   "metadata": {},
   "outputs": [
    {
     "output_type": "stream",
     "name": "stdout",
     "text": [
      "root\n |-- Date: timestamp (nullable = true)\n |-- Time: string (nullable = true)\n |-- Open: double (nullable = true)\n |-- High: double (nullable = true)\n |-- Low: double (nullable = true)\n |-- Close: double (nullable = true)\n |-- Vol: long (nullable = true)\n |-- OI: long (nullable = true)\n |-- year: long (nullable = true)\n |-- month: long (nullable = true)\n |-- day: long (nullable = true)\n |-- hour: string (nullable = true)\n |-- minute: string (nullable = true)\n\n"
     ]
    }
   ],
   "source": [
    "sdf.printSchema()"
   ]
  },
  {
   "cell_type": "code",
   "execution_count": 26,
   "metadata": {},
   "outputs": [
    {
     "output_type": "stream",
     "name": "stdout",
     "text": [
      "+-------------------+-----+-------+-------+-------+-------+---+---+----+-----+---+----+------+\n|               Date| Time|   Open|   High|    Low|  Close|Vol| OI|year|month|day|hour|minute|\n+-------------------+-----+-------+-------+-------+-------+---+---+----+-----+---+----+------+\n|1999-07-01 02:00:00|07:32|3069.25|3069.25|3069.25|3069.25|  1|  0|1999|    7|  1|  07|    32|\n|1999-07-01 02:00:00|07:36|3069.25|3069.25|3069.25|3069.25|  1|  0|1999|    7|  1|  07|    36|\n|1999-07-01 02:00:00|07:41|3066.25|3066.25|3066.25|3066.25|  1|  0|1999|    7|  1|  07|    41|\n|1999-07-01 02:00:00|10:17|3067.25|3067.25|3067.25|3067.25|  1|  0|1999|    7|  1|  10|    17|\n|1999-07-01 02:00:00|10:21|3072.25|3072.25|3072.25|3072.25|  1|  0|1999|    7|  1|  10|    21|\n|1999-07-01 02:00:00|10:25|3075.25|3075.25|3075.25|3075.25|  1|  0|1999|    7|  1|  10|    25|\n|1999-07-01 02:00:00|10:27|3076.75|3076.75|3076.75|3076.75|  1|  0|1999|    7|  1|  10|    27|\n|1999-07-01 02:00:00|10:29|3076.25|3076.25|3076.25|3076.25|  1|  0|1999|    7|  1|  10|    29|\n|1999-07-01 02:00:00|10:30|3075.75|3075.75|3075.75|3075.75|  1|  0|1999|    7|  1|  10|    30|\n|1999-07-01 02:00:00|11:19|3071.25|3071.25|3071.25|3071.25|  1|  0|1999|    7|  1|  11|    19|\n|1999-07-01 02:00:00|11:43|3074.25|3074.25|3074.25|3074.25|  1|  0|1999|    7|  1|  11|    43|\n|1999-07-01 02:00:00|12:28|3066.25|3066.25|3066.25|3066.25|  1|  0|1999|    7|  1|  12|    28|\n|1999-07-01 02:00:00|12:42|3066.75|3066.75|3066.75|3066.75|  1|  0|1999|    7|  1|  12|    42|\n|1999-07-01 02:00:00|13:14|3067.25|3067.25|3067.25|3067.25|  1|  0|1999|    7|  1|  13|    14|\n|1999-07-01 02:00:00|13:19|3067.75|3069.25|3067.75|3069.25|  2|  0|1999|    7|  1|  13|    19|\n|1999-07-01 02:00:00|13:47|3069.75|3069.75|3069.75|3069.75|  1|  0|1999|    7|  1|  13|    47|\n|1999-07-01 02:00:00|13:48|3070.25|3070.25|3070.25|3070.25|  1|  0|1999|    7|  1|  13|    48|\n|1999-07-01 02:00:00|13:52|3070.75|3070.75|3070.75|3070.75|  1|  0|1999|    7|  1|  13|    52|\n|1999-07-01 02:00:00|14:02|3073.25|3073.25|3073.25|3073.25|  1|  0|1999|    7|  1|  14|    02|\n|1999-07-01 02:00:00|14:04|3076.75|3076.75|3076.75|3076.75|  1|  0|1999|    7|  1|  14|    04|\n|1999-07-01 02:00:00|14:05|3077.25|3077.25|3076.75|3076.75|  2|  0|1999|    7|  1|  14|    05|\n|1999-07-01 02:00:00|14:17|3076.25|3076.25|3075.75|3075.75|  2|  0|1999|    7|  1|  14|    17|\n|1999-07-01 02:00:00|14:27|3075.25|3075.25|3074.75|3074.75|  2|  0|1999|    7|  1|  14|    27|\n|1999-07-01 02:00:00|14:28|3074.25|3074.25|3074.25|3074.25|  1|  0|1999|    7|  1|  14|    28|\n|1999-07-01 02:00:00|14:29|3075.25|3075.25|3074.75|3074.75|  2|  0|1999|    7|  1|  14|    29|\n|1999-07-01 02:00:00|14:33|3073.25|3073.25|3072.75|3072.75|  2|  0|1999|    7|  1|  14|    33|\n|1999-07-01 02:00:00|14:37|3075.25|3075.25|3075.25|3075.25|  1|  0|1999|    7|  1|  14|    37|\n|1999-07-01 02:00:00|14:38|3075.75|3075.75|3075.75|3075.75|  1|  0|1999|    7|  1|  14|    38|\n|1999-07-01 02:00:00|14:40|3075.75|3075.75|3075.75|3075.75|  1|  0|1999|    7|  1|  14|    40|\n|1999-07-01 02:00:00|14:50|3075.75|3075.75|3073.25|3073.25|  2|  0|1999|    7|  1|  14|    50|\n|1999-07-01 02:00:00|14:51|3072.25|3072.25|3072.25|3072.25|  1|  0|1999|    7|  1|  14|    51|\n|1999-07-01 02:00:00|14:58|3072.75|3072.75|3072.75|3072.75|  1|  0|1999|    7|  1|  14|    58|\n|1999-07-01 02:00:00|15:06|3072.25|3072.25|3071.75|3071.75|  2|  0|1999|    7|  1|  15|    06|\n|1999-07-01 02:00:00|15:07|3071.25|3072.25|3071.25|3072.25|  4|  0|1999|    7|  1|  15|    07|\n|1999-07-01 02:00:00|15:09|3072.25|3072.25|3070.25|3070.25|  3|  0|1999|    7|  1|  15|    09|\n|1999-07-01 02:00:00|15:12|3070.75|3072.25|3070.75|3072.25|  3|  0|1999|    7|  1|  15|    12|\n|1999-07-01 02:00:00|15:13|3072.25|3072.25|3072.25|3072.25|  2|  0|1999|    7|  1|  15|    13|\n|1999-07-01 02:00:00|15:25|3072.25|3072.25|3072.25|3072.25|  1|  0|1999|    7|  1|  15|    25|\n|1999-07-01 02:00:00|15:29|3070.25|3070.25|3070.25|3070.25|  1|  0|1999|    7|  1|  15|    29|\n|1999-07-01 02:00:00|15:30|3068.25|3068.25|3067.25|3067.25|  4|  0|1999|    7|  1|  15|    30|\n|1999-07-01 02:00:00|15:31|3066.75|3071.25|3065.25|3067.25| 17|  0|1999|    7|  1|  15|    31|\n|1999-07-01 02:00:00|15:32|3065.75|3065.75|3060.25|3063.25| 15|  0|1999|    7|  1|  15|    32|\n|1999-07-01 02:00:00|15:33|3063.25|3064.25|3063.25|3063.25|  4|  0|1999|    7|  1|  15|    33|\n|1999-07-01 02:00:00|15:34|3062.75|3063.25|3061.75|3063.25|  8|  0|1999|    7|  1|  15|    34|\n|1999-07-01 02:00:00|15:35|3063.75|3064.75|3063.75|3064.25|  7|  0|1999|    7|  1|  15|    35|\n|1999-07-01 02:00:00|15:36|3064.25|3064.25|3060.75|3061.25| 12|  0|1999|    7|  1|  15|    36|\n|1999-07-01 02:00:00|15:37|3059.75|3060.75|3059.75|3060.25|  5|  0|1999|    7|  1|  15|    37|\n|1999-07-01 02:00:00|15:38|3060.75|3061.25|3060.25|3061.25|  5|  0|1999|    7|  1|  15|    38|\n|1999-07-01 02:00:00|15:39|3061.25|3063.25|3061.25|3063.25|  5|  0|1999|    7|  1|  15|    39|\n|1999-07-01 02:00:00|15:40|3061.75|3062.25|3060.75|3060.75| 10|  0|1999|    7|  1|  15|    40|\n+-------------------+-----+-------+-------+-------+-------+---+---+----+-----+---+----+------+\nonly showing top 50 rows\n\n"
     ]
    }
   ],
   "source": [
    "sdf.show(50)"
   ]
  },
  {
   "cell_type": "code",
   "execution_count": 28,
   "metadata": {},
   "outputs": [
    {
     "output_type": "execute_result",
     "data": {
      "text/plain": [
       "                 Date   Time     Open     High      Low    Close  Vol  OI  \\\n",
       "0 1999-07-01 02:00:00  07:32  3069.25  3069.25  3069.25  3069.25    1   0   \n",
       "1 1999-07-01 02:00:00  07:36  3069.25  3069.25  3069.25  3069.25    1   0   \n",
       "2 1999-07-01 02:00:00  07:41  3066.25  3066.25  3066.25  3066.25    1   0   \n",
       "3 1999-07-01 02:00:00  10:17  3067.25  3067.25  3067.25  3067.25    1   0   \n",
       "4 1999-07-01 02:00:00  10:21  3072.25  3072.25  3072.25  3072.25    1   0   \n",
       "\n",
       "   year  month  day hour minute  \n",
       "0  1999      7    1   07     32  \n",
       "1  1999      7    1   07     36  \n",
       "2  1999      7    1   07     41  \n",
       "3  1999      7    1   10     17  \n",
       "4  1999      7    1   10     21  "
      ],
      "text/html": "<div>\n<style scoped>\n    .dataframe tbody tr th:only-of-type {\n        vertical-align: middle;\n    }\n\n    .dataframe tbody tr th {\n        vertical-align: top;\n    }\n\n    .dataframe thead th {\n        text-align: right;\n    }\n</style>\n<table border=\"1\" class=\"dataframe\">\n  <thead>\n    <tr style=\"text-align: right;\">\n      <th></th>\n      <th>Date</th>\n      <th>Time</th>\n      <th>Open</th>\n      <th>High</th>\n      <th>Low</th>\n      <th>Close</th>\n      <th>Vol</th>\n      <th>OI</th>\n      <th>year</th>\n      <th>month</th>\n      <th>day</th>\n      <th>hour</th>\n      <th>minute</th>\n    </tr>\n  </thead>\n  <tbody>\n    <tr>\n      <th>0</th>\n      <td>1999-07-01 02:00:00</td>\n      <td>07:32</td>\n      <td>3069.25</td>\n      <td>3069.25</td>\n      <td>3069.25</td>\n      <td>3069.25</td>\n      <td>1</td>\n      <td>0</td>\n      <td>1999</td>\n      <td>7</td>\n      <td>1</td>\n      <td>07</td>\n      <td>32</td>\n    </tr>\n    <tr>\n      <th>1</th>\n      <td>1999-07-01 02:00:00</td>\n      <td>07:36</td>\n      <td>3069.25</td>\n      <td>3069.25</td>\n      <td>3069.25</td>\n      <td>3069.25</td>\n      <td>1</td>\n      <td>0</td>\n      <td>1999</td>\n      <td>7</td>\n      <td>1</td>\n      <td>07</td>\n      <td>36</td>\n    </tr>\n    <tr>\n      <th>2</th>\n      <td>1999-07-01 02:00:00</td>\n      <td>07:41</td>\n      <td>3066.25</td>\n      <td>3066.25</td>\n      <td>3066.25</td>\n      <td>3066.25</td>\n      <td>1</td>\n      <td>0</td>\n      <td>1999</td>\n      <td>7</td>\n      <td>1</td>\n      <td>07</td>\n      <td>41</td>\n    </tr>\n    <tr>\n      <th>3</th>\n      <td>1999-07-01 02:00:00</td>\n      <td>10:17</td>\n      <td>3067.25</td>\n      <td>3067.25</td>\n      <td>3067.25</td>\n      <td>3067.25</td>\n      <td>1</td>\n      <td>0</td>\n      <td>1999</td>\n      <td>7</td>\n      <td>1</td>\n      <td>10</td>\n      <td>17</td>\n    </tr>\n    <tr>\n      <th>4</th>\n      <td>1999-07-01 02:00:00</td>\n      <td>10:21</td>\n      <td>3072.25</td>\n      <td>3072.25</td>\n      <td>3072.25</td>\n      <td>3072.25</td>\n      <td>1</td>\n      <td>0</td>\n      <td>1999</td>\n      <td>7</td>\n      <td>1</td>\n      <td>10</td>\n      <td>21</td>\n    </tr>\n  </tbody>\n</table>\n</div>"
     },
     "metadata": {},
     "execution_count": 28
    }
   ],
   "source": [
    "sdf.limit(5).toPandas()"
   ]
  },
  {
   "cell_type": "code",
   "execution_count": 17,
   "metadata": {},
   "outputs": [
    {
     "output_type": "execute_result",
     "data": {
      "text/plain": [
       "        Date   Time     Open     High      Low    Close  Vol  OI  year  month  \\\n",
       "0 1999-07-01  07:32  3069.25  3069.25  3069.25  3069.25    1   0  1999      7   \n",
       "1 1999-07-01  07:36  3069.25  3069.25  3069.25  3069.25    1   0  1999      7   \n",
       "2 1999-07-01  07:41  3066.25  3066.25  3066.25  3066.25    1   0  1999      7   \n",
       "3 1999-07-01  10:17  3067.25  3067.25  3067.25  3067.25    1   0  1999      7   \n",
       "4 1999-07-01  10:21  3072.25  3072.25  3072.25  3072.25    1   0  1999      7   \n",
       "\n",
       "   day hour minute  \n",
       "0    1   07     32  \n",
       "1    1   07     36  \n",
       "2    1   07     41  \n",
       "3    1   10     17  \n",
       "4    1   10     21  "
      ],
      "text/html": "<div>\n<style scoped>\n    .dataframe tbody tr th:only-of-type {\n        vertical-align: middle;\n    }\n\n    .dataframe tbody tr th {\n        vertical-align: top;\n    }\n\n    .dataframe thead th {\n        text-align: right;\n    }\n</style>\n<table border=\"1\" class=\"dataframe\">\n  <thead>\n    <tr style=\"text-align: right;\">\n      <th></th>\n      <th>Date</th>\n      <th>Time</th>\n      <th>Open</th>\n      <th>High</th>\n      <th>Low</th>\n      <th>Close</th>\n      <th>Vol</th>\n      <th>OI</th>\n      <th>year</th>\n      <th>month</th>\n      <th>day</th>\n      <th>hour</th>\n      <th>minute</th>\n    </tr>\n  </thead>\n  <tbody>\n    <tr>\n      <th>0</th>\n      <td>1999-07-01</td>\n      <td>07:32</td>\n      <td>3069.25</td>\n      <td>3069.25</td>\n      <td>3069.25</td>\n      <td>3069.25</td>\n      <td>1</td>\n      <td>0</td>\n      <td>1999</td>\n      <td>7</td>\n      <td>1</td>\n      <td>07</td>\n      <td>32</td>\n    </tr>\n    <tr>\n      <th>1</th>\n      <td>1999-07-01</td>\n      <td>07:36</td>\n      <td>3069.25</td>\n      <td>3069.25</td>\n      <td>3069.25</td>\n      <td>3069.25</td>\n      <td>1</td>\n      <td>0</td>\n      <td>1999</td>\n      <td>7</td>\n      <td>1</td>\n      <td>07</td>\n      <td>36</td>\n    </tr>\n    <tr>\n      <th>2</th>\n      <td>1999-07-01</td>\n      <td>07:41</td>\n      <td>3066.25</td>\n      <td>3066.25</td>\n      <td>3066.25</td>\n      <td>3066.25</td>\n      <td>1</td>\n      <td>0</td>\n      <td>1999</td>\n      <td>7</td>\n      <td>1</td>\n      <td>07</td>\n      <td>41</td>\n    </tr>\n    <tr>\n      <th>3</th>\n      <td>1999-07-01</td>\n      <td>10:17</td>\n      <td>3067.25</td>\n      <td>3067.25</td>\n      <td>3067.25</td>\n      <td>3067.25</td>\n      <td>1</td>\n      <td>0</td>\n      <td>1999</td>\n      <td>7</td>\n      <td>1</td>\n      <td>10</td>\n      <td>17</td>\n    </tr>\n    <tr>\n      <th>4</th>\n      <td>1999-07-01</td>\n      <td>10:21</td>\n      <td>3072.25</td>\n      <td>3072.25</td>\n      <td>3072.25</td>\n      <td>3072.25</td>\n      <td>1</td>\n      <td>0</td>\n      <td>1999</td>\n      <td>7</td>\n      <td>1</td>\n      <td>10</td>\n      <td>21</td>\n    </tr>\n  </tbody>\n</table>\n</div>"
     },
     "metadata": {},
     "execution_count": 17
    }
   ],
   "source": [
    "df.head()"
   ]
  },
  {
   "cell_type": "code",
   "execution_count": 19,
   "metadata": {},
   "outputs": [
    {
     "output_type": "execute_result",
     "data": {
      "text/plain": [
       "Timestamp('1999-07-01 00:00:00')"
      ]
     },
     "metadata": {},
     "execution_count": 19
    }
   ],
   "source": [
    "df['Date'].min()"
   ]
  },
  {
   "cell_type": "code",
   "execution_count": 18,
   "metadata": {},
   "outputs": [
    {
     "output_type": "execute_result",
     "data": {
      "text/plain": [
       "Timestamp('2020-09-14 00:00:00')"
      ]
     },
     "metadata": {},
     "execution_count": 18
    }
   ],
   "source": [
    "df['Date'].max()"
   ]
  },
  {
   "cell_type": "code",
   "execution_count": null,
   "metadata": {},
   "outputs": [],
   "source": []
  }
 ]
}