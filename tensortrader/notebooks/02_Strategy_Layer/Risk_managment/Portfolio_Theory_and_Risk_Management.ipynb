{
 "cells": [
  {
   "cell_type": "markdown",
   "metadata": {},
   "source": [
    "# Portfolio Theory and Risk Management"
   ]
  },
  {
   "cell_type": "markdown",
   "metadata": {},
   "source": [
    "Reference: (Capinksi & Kopp, 2014)\n",
    "\n",
    "Other References: Probability for Finance (Capinksi & Kopp, 2014)\n",
    "\n",
    "- To measure the riskness of a random variable the spread of the return is measured\n",
    "- Return reflects efficiency of an investment, risk is concerned with uncertainity"
   ]
  },
  {
   "cell_type": "markdown",
   "metadata": {
    "heading_collapsed": true
   },
   "source": [
    "## 1. Definitions"
   ]
  },
  {
   "cell_type": "markdown",
   "metadata": {
    "hidden": true
   },
   "source": [
    "$S$ = Single Stock\n",
    "\n",
    "$S(0)$ = Stock price at time 0\n",
    "\n",
    "$S(1)$ = Stock price at time 1, this is also a random variable"
   ]
  },
  {
   "cell_type": "markdown",
   "metadata": {
    "hidden": true
   },
   "source": [
    "<center> $S(1)$ : $\\Omega \\to [0, +\\infty) $ "
   ]
  },
  {
   "cell_type": "markdown",
   "metadata": {
    "hidden": true
   },
   "source": [
    "where $\\Omega$ is the sample space (states or scnearios) of some probability space ($\\Omega, \\mathcal{F}, P $). When $\\Omega$ is finite, $\\Omega =$ { $\\omega_{1},...,\\omega_{N}$ }, we shall adopt the notation"
   ]
  },
  {
   "cell_type": "markdown",
   "metadata": {
    "hidden": true
   },
   "source": [
    "<center> $S(1, \\omega_{i}) = S(1)(\\omega_{i}) $ for $i = 1, ..., N$"
   ]
  },
  {
   "cell_type": "markdown",
   "metadata": {
    "hidden": true
   },
   "source": [
    "Assuming $P({\\omega_{i}}) = p_{i} $, then we can compute the expected price at the end of the period"
   ]
  },
  {
   "cell_type": "markdown",
   "metadata": {
    "hidden": true
   },
   "source": [
    "<center> $E(S(1)) = \\sum_{i = 1}^{N} S(1, \\omega_{1} ) p_{i}$"
   ]
  },
  {
   "cell_type": "markdown",
   "metadata": {
    "hidden": true
   },
   "source": [
    "and then the variance of the price"
   ]
  },
  {
   "cell_type": "markdown",
   "metadata": {
    "hidden": true
   },
   "source": [
    "<center> $Var(S(1)) = \\sum_{i = 1}^{N} (S(1, \\omega_{1} ) - E(S(1)))^{2} p_{i}  $"
   ]
  },
  {
   "cell_type": "markdown",
   "metadata": {
    "hidden": true
   },
   "source": [
    "When $S(1)$ is continuously distributed, with density function $f: \\mathbb{R} \\to \\mathbb{R}$ then"
   ]
  },
  {
   "cell_type": "markdown",
   "metadata": {
    "hidden": true
   },
   "source": [
    "<center> $E(S(1))$ = $\\int_{-\\infty}^{\\infty} x f(x) dx $"
   ]
  },
  {
   "cell_type": "markdown",
   "metadata": {
    "hidden": true
   },
   "source": [
    "<center> $Var(S(1)) = \\int_{-\\infty}^{\\infty} (x - E(S(1)) )^{2}  f(x) dx  $"
   ]
  },
  {
   "cell_type": "markdown",
   "metadata": {
    "hidden": true
   },
   "source": [
    "Any probability space may be allowed, one must make sure that negative values are excluded for $S(1)$. That means:"
   ]
  },
  {
   "cell_type": "markdown",
   "metadata": {
    "hidden": true
   },
   "source": [
    "<center> $P( S(1) >= 0 ) = 1$"
   ]
  },
  {
   "cell_type": "markdown",
   "metadata": {
    "hidden": true
   },
   "source": [
    "The **return** (rate of return) on the investment $S$ is a random variable $K: \\Omega \\to \\mathbb{R}$, defined as"
   ]
  },
  {
   "cell_type": "markdown",
   "metadata": {
    "hidden": true
   },
   "source": [
    "<center> $K = \\frac{S(1)-S(0)}{S(0)}$"
   ]
  },
  {
   "cell_type": "markdown",
   "metadata": {
    "hidden": true
   },
   "source": [
    "Then the **excepted return** ( by linearity of mathematical expectation) is: "
   ]
  },
  {
   "cell_type": "markdown",
   "metadata": {
    "hidden": true
   },
   "source": [
    "<center> $E(K) = \\frac{E(S(1))-S(0)}{S(0)}$"
   ]
  },
  {
   "cell_type": "markdown",
   "metadata": {
    "hidden": true
   },
   "source": [
    "Let:"
   ]
  },
  {
   "cell_type": "markdown",
   "metadata": {
    "hidden": true
   },
   "source": [
    "<center> $\\mu = E(K)$"
   ]
  },
  {
   "cell_type": "markdown",
   "metadata": {
    "hidden": true
   },
   "source": [
    "Then, the relationships between the prices and the return can be written as:"
   ]
  },
  {
   "cell_type": "markdown",
   "metadata": {
    "hidden": true
   },
   "source": [
    "<center> $S(1) = S(0)(1 + K)$"
   ]
  },
  {
   "cell_type": "markdown",
   "metadata": {
    "hidden": true
   },
   "source": [
    "<center> $E(S(1)) = S(0)(1 + \\mu)$"
   ]
  },
  {
   "cell_type": "markdown",
   "metadata": {
    "hidden": true
   },
   "source": [
    "The requirement that $S(1)$ is nonnegative implies that we must have $K >= -1$. Therefor K can not be Gaussian (normal) distribuited."
   ]
  },
  {
   "cell_type": "markdown",
   "metadata": {
    "hidden": true
   },
   "source": [
    "**Dividend**\n",
    "\n",
    "If the dividend paid at time 1 for the given Stock $S$ is taken into account. Then $K$ has to be adjusted correspondingly:"
   ]
  },
  {
   "cell_type": "markdown",
   "metadata": {
    "hidden": true
   },
   "source": [
    "<center> $K = \\frac{S(1) + Div(1)-S(0)}{S(0)}$"
   ]
  },
  {
   "cell_type": "markdown",
   "metadata": {
    "hidden": true
   },
   "source": [
    "**Risk free return**\n",
    "\n",
    "For this scenario a special security with a fixed return in the future is used to calculated the risk-free return. In most cases **bonds** are used. The return on a bond is not random. \n",
    "\n",
    "Consider a bond paying a unit of home currency at time 1, that is $B(1) = 1$ which is purchased for $B(0) < 1$, then, the risk-free return can be defined as: "
   ]
  },
  {
   "cell_type": "markdown",
   "metadata": {
    "hidden": true
   },
   "source": [
    "<center> $R = \\frac{1-B(0)}{B(0)}$"
   ]
  },
  {
   "cell_type": "markdown",
   "metadata": {
    "hidden": true
   },
   "source": [
    "The bond price can be expressed as:"
   ]
  },
  {
   "cell_type": "markdown",
   "metadata": {
    "hidden": true
   },
   "source": [
    "<center> $B(0) = \\frac{1}{1+R}$"
   ]
  },
  {
   "cell_type": "markdown",
   "metadata": {
    "hidden": true
   },
   "source": [
    "### Variance as risk measure"
   ]
  },
  {
   "cell_type": "markdown",
   "metadata": {
    "hidden": true
   },
   "source": [
    "The uncertainty of a given price is understood as the scatter around some reference point. The extend of the scatter is conveniently measured by the variance. This notion takes care of two aspects of risk:\n",
    "\n",
    "- (i) The distances between possible values and the expectation\n",
    "- (ii) The probabilites of attaining the various possible values"
   ]
  },
  {
   "cell_type": "markdown",
   "metadata": {
    "hidden": true
   },
   "source": [
    "The measure of risk is determined by the **variance of the return**:"
   ]
  },
  {
   "cell_type": "markdown",
   "metadata": {
    "hidden": true
   },
   "source": [
    "<center> $Var(K) = E(K- \\mu)^{2} = E(K^{2})-\\mu^{2}$"
   ]
  },
  {
   "cell_type": "markdown",
   "metadata": {
    "hidden": true
   },
   "source": [
    "The variance of the return can be computed from the variance of $S(1)$"
   ]
  },
  {
   "cell_type": "markdown",
   "metadata": {
    "hidden": true
   },
   "source": [
    "<center> $Var(K) = Var(\\frac{S(1)-S(0)}{S(0)})$"
   ]
  },
  {
   "cell_type": "markdown",
   "metadata": {
    "hidden": true
   },
   "source": [
    "<center> $Var(K) = \\frac{1}{S(0)^{2}} Var({S(1)-S(0)})$"
   ]
  },
  {
   "cell_type": "markdown",
   "metadata": {
    "hidden": true
   },
   "source": [
    "<center> $Var(K) = \\frac{1}{S(0)^{2}} Var({S(1)})$"
   ]
  },
  {
   "cell_type": "markdown",
   "metadata": {},
   "source": [
    "## Definition: Rational selection of best security"
   ]
  },
  {
   "cell_type": "markdown",
   "metadata": {},
   "source": [
    "A security with expected return $\\mu_{1}$ and standard deviation $\\sigma_{1}$ dominates another security with expected return $\\mu_{2}$ and standard deviation $\\sigma_{2}$, whenever"
   ]
  },
  {
   "cell_type": "markdown",
   "metadata": {},
   "source": [
    "<center> $\\mu_{1} \\geq \\mu_{2}$ & $\\sigma_{1} \\leq \\sigma_{2}$ "
   ]
  },
  {
   "cell_type": "markdown",
   "metadata": {},
   "source": [
    "Given a set $A$ of securities in the $(\\sigma, \\mu )$-plane, we consider the subset of all maximal elements with respect to the dominance relation and call it the **efficient subset**. If the set A is finite, findin the efficient subsets reduces to eliminating the dominated securities."
   ]
  },
  {
   "cell_type": "markdown",
   "metadata": {},
   "source": [
    "<img src=\"img/efficient_subset.jpg\" aligment = 'center' width=\"300\" height=\"300\">"
   ]
  },
  {
   "cell_type": "markdown",
   "metadata": {},
   "source": [
    "### Semi-variance"
   ]
  },
  {
   "cell_type": "markdown",
   "metadata": {},
   "source": [
    "Since invetors regard risk as concerned with failure (i.e. downside risk). The following modification of the variance is sometimes used. It is called semi-variance and is computed by a formula that takes into account only the unfavourable outcomes, where the return is below the expected value:"
   ]
  },
  {
   "cell_type": "markdown",
   "metadata": {},
   "source": [
    "<center> $E(min\\{0,K-\\mu\\})^{2}$"
   ]
  },
  {
   "cell_type": "markdown",
   "metadata": {},
   "source": [
    "# Portfolio consisting of two assets\n"
   ]
  },
  {
   "cell_type": "markdown",
   "metadata": {},
   "source": [
    "Mean-variance portfolio theory can be expressed in simple geometric terms.\n",
    "\n",
    "For a given allocation of resources between the two assets comprising the portfolio, the mean and variance of the return on the entire portfolio are expressed in terms of the means and variances, and the covariance between, the returns on the individual assets. \n",
    "\n",
    "This enables us to examines the set of all feasible weightings of the different assets in the portfolio, and to find the unique weighting with minimum variance."
   ]
  },
  {
   "cell_type": "markdown",
   "metadata": {},
   "source": [
    "**Example**"
   ]
  },
  {
   "cell_type": "markdown",
   "metadata": {},
   "source": [
    "Let $\\Omega = \\{ \\omega_{1}, \\omega_{2} \\}$, $S_{1}(0) = 200, S_{2}(0) = 300 $. Assume that:"
   ]
  },
  {
   "cell_type": "markdown",
   "metadata": {},
   "source": [
    "<center> $P(\\{ \\omega_{1} \\}) = P(\\{ \\omega_{2} \\}) = \\frac{1}{2}$"
   ]
  },
  {
   "cell_type": "markdown",
   "metadata": {},
   "source": [
    "and that"
   ]
  },
  {
   "cell_type": "markdown",
   "metadata": {},
   "source": [
    "<center> $S_{1}(1, \\omega_{1}) = 260 $ <br>\n",
    "$S_{1}(1, \\omega_{2}) = 180 $ <br>\n",
    "$S_{2}(1, \\omega_{1}) = 270 $ <br>\n",
    "$S_{2}(1, \\omega_{2}) = 360 $ <br>"
   ]
  },
  {
   "cell_type": "code",
   "execution_count": 1,
   "metadata": {},
   "outputs": [],
   "source": [
    "import numpy as np"
   ]
  },
  {
   "cell_type": "code",
   "execution_count": 2,
   "metadata": {},
   "outputs": [],
   "source": [
    "s1_0 = 200\n",
    "prices_s1_1 = [260,180]\n",
    "prob_s1_1 = [0.5,0.5]"
   ]
  },
  {
   "cell_type": "code",
   "execution_count": 3,
   "metadata": {},
   "outputs": [],
   "source": [
    "s2_0 = 300\n",
    "prices_s2_1 = [270,360]\n",
    "prob_s2_1 = [0.5,0.5]"
   ]
  },
  {
   "cell_type": "code",
   "execution_count": 4,
   "metadata": {},
   "outputs": [],
   "source": [
    "def cal_expected_value_price(prices, probs):\n",
    "\n",
    "    return sum(np.multiply(prices, probs))"
   ]
  },
  {
   "cell_type": "code",
   "execution_count": 40,
   "metadata": {},
   "outputs": [],
   "source": [
    "def cal_var_price(expected_value, prices, probs):\n",
    "\n",
    "    dev_s1 = []\n",
    "    for si, pi in zip(prices, probs):\n",
    "        dev_s1.append((si-expected_value)**2 * pi )\n",
    "        \n",
    "    return round(sum(dev_s1),2)"
   ]
  },
  {
   "cell_type": "code",
   "execution_count": 6,
   "metadata": {},
   "outputs": [],
   "source": [
    "def cal_expected_return(expect_value, s0):\n",
    "    \n",
    "    return round(((expect_value - s0) / s0) , 2)"
   ]
  },
  {
   "cell_type": "code",
   "execution_count": 39,
   "metadata": {},
   "outputs": [],
   "source": [
    "def cal_std_dev_return(var_price, s0):\n",
    "    \n",
    "    return round(np.sqrt((var_price / (s0 **2))),2)"
   ]
  },
  {
   "cell_type": "code",
   "execution_count": 8,
   "metadata": {},
   "outputs": [],
   "source": [
    "expected_value_s1 = cal_expected_value_price(prices_s1_1, prob_s1_1 )"
   ]
  },
  {
   "cell_type": "code",
   "execution_count": 9,
   "metadata": {},
   "outputs": [
    {
     "name": "stdout",
     "output_type": "stream",
     "text": [
      "Expected value for security 1 is 220.0\n"
     ]
    }
   ],
   "source": [
    "print(\"Expected value for security 1 is\", expected_value_s1 )"
   ]
  },
  {
   "cell_type": "code",
   "execution_count": 10,
   "metadata": {},
   "outputs": [],
   "source": [
    "expected_return_s1 = cal_expected_return(expected_value_s1, s1_0)"
   ]
  },
  {
   "cell_type": "code",
   "execution_count": 11,
   "metadata": {},
   "outputs": [
    {
     "name": "stdout",
     "output_type": "stream",
     "text": [
      "Expected return for security 1 is: 10.0 %\n"
     ]
    }
   ],
   "source": [
    "print(\"Expected return for security 1 is:\" , expected_return_s1*100 , \"%\")"
   ]
  },
  {
   "cell_type": "code",
   "execution_count": 12,
   "metadata": {},
   "outputs": [
    {
     "name": "stdout",
     "output_type": "stream",
     "text": [
      " Standard Deviation for return of the security 1 is  20.0 %\n"
     ]
    }
   ],
   "source": [
    "print(\" Standard Deviation for return of the security 1 is \", \n",
    "      cal_std_dev_return(cal_var_price(expected_value_s1, prices_s1_1, prob_s1_1), s1_0)*100, \"%\")"
   ]
  },
  {
   "cell_type": "code",
   "execution_count": 13,
   "metadata": {},
   "outputs": [],
   "source": [
    "expected_value_s2 = cal_expected_value_price(prices_s2_1, prob_s2_1 )"
   ]
  },
  {
   "cell_type": "code",
   "execution_count": 14,
   "metadata": {},
   "outputs": [
    {
     "name": "stdout",
     "output_type": "stream",
     "text": [
      "Expected value for security 2 is 315.0\n"
     ]
    }
   ],
   "source": [
    "print(\"Expected value for security 2 is\", expected_value_s2 )"
   ]
  },
  {
   "cell_type": "code",
   "execution_count": 15,
   "metadata": {},
   "outputs": [],
   "source": [
    "expected_return_s2 = cal_expected_return(expected_value_s2, s2_0)"
   ]
  },
  {
   "cell_type": "code",
   "execution_count": 16,
   "metadata": {},
   "outputs": [
    {
     "name": "stdout",
     "output_type": "stream",
     "text": [
      "Expected return for security 2 is: 5.0 %\n"
     ]
    }
   ],
   "source": [
    "print(\"Expected return for security 2 is:\" , expected_return_s2*100 , \"%\")"
   ]
  },
  {
   "cell_type": "code",
   "execution_count": 17,
   "metadata": {},
   "outputs": [
    {
     "name": "stdout",
     "output_type": "stream",
     "text": [
      " Standard Deviation for the return of the security 2 is  15.0 %\n"
     ]
    }
   ],
   "source": [
    "print(\" Standard Deviation for the return of the security 2 is \", \n",
    "      cal_std_dev_return(cal_var_price(expected_value_s2, prices_s2_1, prob_s2_1), s2_0)*100, \"%\")"
   ]
  },
  {
   "cell_type": "markdown",
   "metadata": {},
   "source": [
    "## Risk can be reduced by diversification"
   ]
  },
  {
   "cell_type": "markdown",
   "metadata": {},
   "source": [
    "Assume that we spend $V(0) = 500 $, buying a single share of stock $S_{1}$ and a single share of stock $S_{2}$. At time 1, we will have:"
   ]
  },
  {
   "cell_type": "markdown",
   "metadata": {},
   "source": [
    "<center> $V(1, \\omega_{1}) = 260 + 270 = 530$ <br>\n",
    "$V(1, \\omega_{2}) = 180 + 260 = 540 $ <br>"
   ]
  },
  {
   "cell_type": "code",
   "execution_count": 18,
   "metadata": {},
   "outputs": [],
   "source": [
    "V_0 = 500\n",
    "prices_V_1 = [530,540]\n",
    "prob_V_1 = [0.5,0.5]"
   ]
  },
  {
   "cell_type": "code",
   "execution_count": 19,
   "metadata": {},
   "outputs": [],
   "source": [
    "expected_value_V1 = cal_expected_value_price(prices_V_1, prob_V_1 )"
   ]
  },
  {
   "cell_type": "code",
   "execution_count": 20,
   "metadata": {},
   "outputs": [
    {
     "name": "stdout",
     "output_type": "stream",
     "text": [
      "Expected value for the portfolio is 535.0\n"
     ]
    }
   ],
   "source": [
    "print(\"Expected value for the portfolio is\", expected_value_V1 )"
   ]
  },
  {
   "cell_type": "code",
   "execution_count": 21,
   "metadata": {},
   "outputs": [],
   "source": [
    "expected_return_V1 = cal_expected_return(expected_value_V1, V_0)"
   ]
  },
  {
   "cell_type": "code",
   "execution_count": 22,
   "metadata": {},
   "outputs": [
    {
     "name": "stdout",
     "output_type": "stream",
     "text": [
      "Expected return for the portfolio is 0.07 %\n"
     ]
    }
   ],
   "source": [
    "print(\"Expected return for the portfolio is\" , expected_return_V1 , \"%\")"
   ]
  },
  {
   "cell_type": "code",
   "execution_count": 23,
   "metadata": {},
   "outputs": [
    {
     "name": "stdout",
     "output_type": "stream",
     "text": [
      " Standard Deviation for the return of the portfolio  1.0 %\n"
     ]
    }
   ],
   "source": [
    "print(\" Standard Deviation for the return of the portfolio \", \n",
    "      cal_std_dev_return(cal_var_price(expected_value_V1, prices_V_1, prob_V_1), V_0)*100, \"%\")"
   ]
  },
  {
   "cell_type": "markdown",
   "metadata": {},
   "source": [
    "Therefore if we buy $x_{1}$ shares of stock $S_{1}$ and $x_{2}$ share of stock $S_{2}$, the inial values of this portfolio is"
   ]
  },
  {
   "cell_type": "markdown",
   "metadata": {},
   "source": [
    "<center> $V_{x_{1},x_{2}} = x_{1}S_{1}(0) + x_{2}S_{2}(0)$ "
   ]
  },
  {
   "cell_type": "markdown",
   "metadata": {},
   "source": [
    "The decision on the number of shares in each asset will follow from the decision on the division of our wealth, which is our primary concern and is expressed by means of the weights defined by: "
   ]
  },
  {
   "cell_type": "markdown",
   "metadata": {},
   "source": [
    "<center> $w_{1} = \\frac{x_{1}S_{1}(0)}{V_{x_{1},x_{2}}(0)}$ , $w_{2} = \\frac{x_{1}S_{2}(0)}{V_{x_{1},x_{2}}(0)}$ "
   ]
  },
  {
   "cell_type": "markdown",
   "metadata": {},
   "source": [
    "If the initial wealth $V(0)$ and the weights $w_{1},w_{2}, w_{1} + w_{2} = 1 $, are given, the the funds allocated to a particular stock are $w_{1}V(0), w_{2}V(0)$, respectively, and the number of share we buy are:"
   ]
  },
  {
   "cell_type": "markdown",
   "metadata": {},
   "source": [
    "<center> $x_{1} = \\frac{w_{1}V(0)}{S_{1}(0)}$ , $x_{2} = \\frac{w_{2}V(0)}{S_{2}(0)}$ "
   ]
  },
  {
   "cell_type": "markdown",
   "metadata": {},
   "source": [
    "At the end of the period the securities prices cange, which gives the final values of the portfolio as a random variable:"
   ]
  },
  {
   "cell_type": "markdown",
   "metadata": {},
   "source": [
    "<center> $V_{x_{1},x_{2}}(1) = x_{1}S_{1}(1) + x_{2}S_{2}(1)$ "
   ]
  },
  {
   "cell_type": "markdown",
   "metadata": {},
   "source": [
    "**Proposition 2.2**\n",
    "\n",
    "The return $K_{w}$ on a portfolio consisting of two securities is the weighted avarage:\n",
    "\n"
   ]
  },
  {
   "cell_type": "markdown",
   "metadata": {},
   "source": [
    "<center> $K_{w} = w_{1}K_{1} + w_{2}K_{2} $"
   ]
  },
  {
   "cell_type": "markdown",
   "metadata": {},
   "source": [
    "When the number of share of a given stock is positive, then we say that we have a long positions in the stock. We shall assume that we can also hold a negative number of share of stock. This is known as **short-selling**. Short-selling is a mechanism by which we borrow stock at time 0 and sell it inmediately; we then need to buy it back at time 1 to return it to the lender. This mechanism gives additional money at time 0 that can be invested in a defferent security."
   ]
  },
  {
   "cell_type": "markdown",
   "metadata": {},
   "source": [
    "Short positions normally require a lending fee or a deposit. We make here the simplifying assumption that short-selling is free of such charges."
   ]
  },
  {
   "cell_type": "markdown",
   "metadata": {},
   "source": [
    "Let introduce the definition of covariance as: "
   ]
  },
  {
   "cell_type": "markdown",
   "metadata": {},
   "source": [
    "<center> $Cov(X,Y) = E[(X-E(X))(Y-E(Y))] = E(XY) - E(X)E(Y)$"
   ]
  },
  {
   "cell_type": "markdown",
   "metadata": {},
   "source": [
    "<center> $\\sigma_{ij} = Cov(K_{i},K_{j})$"
   ]
  },
  {
   "cell_type": "markdown",
   "metadata": {},
   "source": [
    "for i, j = 1,2. In particular: "
   ]
  },
  {
   "cell_type": "markdown",
   "metadata": {},
   "source": [
    "<center> $\\sigma_{11} = Cov(K_{1},K_{1}) = Var(K_{1}) = \\sigma_{1}^{2}$"
   ]
  },
  {
   "cell_type": "markdown",
   "metadata": {},
   "source": [
    "<center> $\\sigma_{22} = Cov(K_{2},K_{2}) = Var(K_{2}) = \\sigma_{2}^{2}$"
   ]
  },
  {
   "cell_type": "markdown",
   "metadata": {},
   "source": [
    "**Correlation Coefficient**"
   ]
  },
  {
   "cell_type": "markdown",
   "metadata": {},
   "source": [
    "<center> <font size=\"5\"> $p_{ij} = \\frac{\\sigma_{ij}}{\\sigma_{i} \\sigma_{j}}$ </p>"
   ]
  },
  {
   "cell_type": "markdown",
   "metadata": {},
   "source": [
    "The variance is zero in one case only, namely when the random variable is constant (almost surely). The correlation coefficient satisfies $-1 \\leq p_{ij} \\leq 1$. If the correlation coefficient is close to 1 or -1, then there is a strong influence of one variable on the other. It is more dificcult to make such assertions by looking at covariance alone. "
   ]
  },
  {
   "cell_type": "markdown",
   "metadata": {},
   "source": [
    "**Theorem 2.4**"
   ]
  },
  {
   "cell_type": "markdown",
   "metadata": {},
   "source": [
    "The expected return and the variance of the return on a portfolio are given by: "
   ]
  },
  {
   "cell_type": "markdown",
   "metadata": {},
   "source": [
    "<center> $\\mu_{w} = E_{K_{w}} = w_{1} \\mu_{1} + w_{2} \\mu_{2}$"
   ]
  },
  {
   "cell_type": "markdown",
   "metadata": {},
   "source": [
    "<center> $\\sigma_{w}^{2} = w_{1}^{2} \\sigma_{1}^{2} + w_{2}^{2} \\sigma_{2}^{2} + 2 w_{1} w_{2} \\sigma_{12} $"
   ]
  },
  {
   "cell_type": "markdown",
   "metadata": {},
   "source": [
    "**Corollary 2.5**\n",
    "\n",
    "We can rewrite the formula for the variance of a portfolio as : "
   ]
  },
  {
   "cell_type": "markdown",
   "metadata": {},
   "source": [
    "<center> $\\sigma_{w}^{2} = w_{1}^{2} \\sigma_{1}^{2} + w_{2}^{2} \\sigma_{2}^{2} + 2 w_{1} w_{2} \\rho_{12} \\sigma_{1} \\sigma_{2} $"
   ]
  },
  {
   "cell_type": "markdown",
   "metadata": {},
   "source": [
    "**Corollary 2.6**\n",
    "\n",
    "Using the following matrix notation"
   ]
  },
  {
   "cell_type": "markdown",
   "metadata": {},
   "source": [
    "<center> $c = \\begin{bmatrix} \n",
    "w_{1} \\\\\n",
    "w_{2}\\\\\n",
    "\\end{bmatrix}$ ,  $\\pmb{\\mu} = \\begin{bmatrix} \\\n",
    "\\mu_{1} \\\\\n",
    "\\mu_{2}\\\\\n",
    "\\end{bmatrix}$ "
   ]
  },
  {
   "cell_type": "markdown",
   "metadata": {},
   "source": [
    "<center> $\\pmb{C} = \\begin{bmatrix} \n",
    "\\sigma_{1}^{2} & \\sigma_{12} \\\\\n",
    "\\sigma_{12} & \\sigma_{2}^{2} \\\\\n",
    "\\end{bmatrix}$ "
   ]
  },
  {
   "cell_type": "markdown",
   "metadata": {},
   "source": [
    "the equations in theorem 2.4 can be written as: "
   ]
  },
  {
   "cell_type": "markdown",
   "metadata": {},
   "source": [
    "<center> $\\mu_{w} = \\pmb{w^{T}} \\pmb{\\mu}$"
   ]
  },
  {
   "cell_type": "markdown",
   "metadata": {},
   "source": [
    "<center> $\\sigma_{w}^{2} = \\pmb{w^{T} C w}   $"
   ]
  },
  {
   "cell_type": "code",
   "execution_count": 41,
   "metadata": {},
   "outputs": [],
   "source": [
    "def covariance(returns, expected_returns):\n",
    "    \"\"\"Function to calculate the covariance of the returns of two securities\n",
    "    \n",
    "    input:\n",
    "    -----\n",
    "    \n",
    "    prices: ´numpy.array´\n",
    "    2d numpy array. Each row containing a different varible, \n",
    "    Columns containing the observations\n",
    "    \n",
    "    means: ´numpy.array´\n",
    "    2d numpy array. Each row containing the mean of the variables.\n",
    "    \n",
    "    returns:\n",
    "    -------\n",
    "    \n",
    "    ´float´\n",
    "    correlation coefficient for the two variables\n",
    "    \"\"\"\n",
    "    \n",
    "    dev = []\n",
    "    for mu in expected_returns:\n",
    "        for r in returns:\n",
    "            dev.append(r - mu)\n",
    "    \n",
    "    return round(np.mean(np.multiply(dev[0],dev[1])),2)  "
   ]
  },
  {
   "cell_type": "code",
   "execution_count": 25,
   "metadata": {},
   "outputs": [],
   "source": [
    "def cal_returns_asset(s0, future_prices):\n",
    "    \n",
    "    r = []\n",
    "    for p in future_prices:\n",
    "        r.append((p-s0)/s0)\n",
    "    \n",
    "    return np.round(r,2)"
   ]
  },
  {
   "cell_type": "code",
   "execution_count": 26,
   "metadata": {},
   "outputs": [],
   "source": [
    "def corr_coefficient(cov, std1, std2):\n",
    "    \n",
    "    return np.round(cov/(std1*std2),2)"
   ]
  },
  {
   "cell_type": "code",
   "execution_count": 27,
   "metadata": {},
   "outputs": [
    {
     "name": "stdout",
     "output_type": "stream",
     "text": [
      "Possible returns for the p  rices distribution of security 1 is  [ 0.3 -0.1]\n"
     ]
    }
   ],
   "source": [
    "r_s1 = cal_returns_asset(s1_0, prices_s1_1)\n",
    "print(\"Possible returns for the p  rices distribution of security 1 is \", r_s1)"
   ]
  },
  {
   "cell_type": "code",
   "execution_count": 28,
   "metadata": {},
   "outputs": [
    {
     "name": "stdout",
     "output_type": "stream",
     "text": [
      "Possible returns for the prices distribution of security 2 is  [-0.1  0.2]\n"
     ]
    }
   ],
   "source": [
    "r_s2 = cal_returns_asset(s2_0, prices_s2_1)\n",
    "print(\"Possible returns for the prices distribution of security 2 is \", r_s2)"
   ]
  },
  {
   "cell_type": "code",
   "execution_count": 29,
   "metadata": {},
   "outputs": [],
   "source": [
    "#Expected returns of the two assets\n",
    "mu1 = expected_return_s1\n",
    "mu2 = expected_return_s2"
   ]
  },
  {
   "cell_type": "code",
   "execution_count": 30,
   "metadata": {},
   "outputs": [
    {
     "name": "stdout",
     "output_type": "stream",
     "text": [
      "Expected values are, Security1: 0.1, Security2: 0.05\n"
     ]
    }
   ],
   "source": [
    "print(f\"Expected values are, Security1: {mu1}, Security2: {mu2}\")"
   ]
  },
  {
   "cell_type": "code",
   "execution_count": 31,
   "metadata": {},
   "outputs": [],
   "source": [
    "#Standard diviations of the return of the two assets\n",
    "std1 = cal_std_dev_return(cal_var_price(expected_value_s1, prices_s1_1, prob_s1_1), s1_0)\n",
    "std2 = cal_std_dev_return(cal_var_price(expected_value_s2, prices_s2_1, prob_s2_1), s2_0)"
   ]
  },
  {
   "cell_type": "code",
   "execution_count": 32,
   "metadata": {},
   "outputs": [
    {
     "name": "stdout",
     "output_type": "stream",
     "text": [
      "Variances are, Security1: 0.2, Security2: 0.15\n"
     ]
    }
   ],
   "source": [
    "print(f\"Variances are, Security1: {std1}, Security2: {std2}\")"
   ]
  },
  {
   "cell_type": "code",
   "execution_count": 33,
   "metadata": {},
   "outputs": [],
   "source": [
    "returns = np.array([r_s1,r_s2])"
   ]
  },
  {
   "cell_type": "code",
   "execution_count": 34,
   "metadata": {},
   "outputs": [],
   "source": [
    "expected_returns = np.array([mu1,mu2])"
   ]
  },
  {
   "cell_type": "code",
   "execution_count": 35,
   "metadata": {},
   "outputs": [],
   "source": [
    "cov = covariance(returns, expected_returns)"
   ]
  },
  {
   "cell_type": "code",
   "execution_count": 36,
   "metadata": {},
   "outputs": [
    {
     "data": {
      "text/plain": [
       "-0.030000000000000002"
      ]
     },
     "execution_count": 36,
     "metadata": {},
     "output_type": "execute_result"
    }
   ],
   "source": [
    "cov"
   ]
  },
  {
   "cell_type": "code",
   "execution_count": 37,
   "metadata": {},
   "outputs": [],
   "source": [
    "rho = corr_coefficient(cov, std1, std2)"
   ]
  },
  {
   "cell_type": "code",
   "execution_count": 38,
   "metadata": {},
   "outputs": [
    {
     "data": {
      "text/plain": [
       "-1.0"
      ]
     },
     "execution_count": 38,
     "metadata": {},
     "output_type": "execute_result"
    }
   ],
   "source": [
    "rho"
   ]
  },
  {
   "cell_type": "code",
   "execution_count": 82,
   "metadata": {},
   "outputs": [],
   "source": [
    "rho = 0.1"
   ]
  },
  {
   "cell_type": "code",
   "execution_count": 83,
   "metadata": {},
   "outputs": [
    {
     "data": {
      "image/png": "[encoded data removed]",
      "text/plain": [
       "<Figure size 432x288 with 1 Axes>"
      ]
     },
     "metadata": {
      "needs_background": "light"
     },
     "output_type": "display_data"
    }
   ],
   "source": [
    "import matplotlib.pyplot as plt\n",
    "\n",
    "fig, ax = plt.subplots()\n",
    "\n",
    "# Get n values for the parameter weight -w-\n",
    "n = 50\n",
    "w = np.linspace(0, 1, n)\n",
    "\n",
    "\n",
    "x = np.sqrt(np.power(w,2) * (std1 **2) + np.power((1-w),2)*(std2 ** 2) + 2 * w * (1 - w) * rho * std1 * std2)\n",
    "y = w * mu1 + ( 1 - w) * mu2\n",
    "\n",
    "ax.set(xlabel='Standard Deviation', ylabel='Expected value',\n",
    "       title='Attainable set' )\n",
    "\n",
    "ax.plot(x, y)\n",
    "\n",
    "plt.show()"
   ]
  },
  {
   "cell_type": "markdown",
   "metadata": {},
   "source": [
    "If the expected values of both securities are the same then, the attainable set will be an horizontal line. "
   ]
  },
  {
   "cell_type": "code",
   "execution_count": 70,
   "metadata": {},
   "outputs": [],
   "source": [
    "#mu2 = mu1"
   ]
  },
  {
   "cell_type": "code",
   "execution_count": 71,
   "metadata": {},
   "outputs": [
    {
     "data": {
      "image/png": "[encoded data removed]",
      "text/plain": [
       "<Figure size 432x288 with 1 Axes>"
      ]
     },
     "metadata": {
      "needs_background": "light"
     },
     "output_type": "display_data"
    }
   ],
   "source": [
    "import matplotlib.pyplot as plt\n",
    "\n",
    "fig, ax = plt.subplots()\n",
    "\n",
    "# Get n values for the parameter weight -w-\n",
    "n = 50\n",
    "w = np.linspace(0, 1, n)\n",
    "\n",
    "\n",
    "x = np.sqrt(np.power(w,2) * (std1 **2) + np.power((1-w),2)*(std2 ** 2) + 2 * w * (1 - w) * rho * std1 * std2)\n",
    "y = w * mu1 + ( 1 - w) * mu2\n",
    "\n",
    "ax.set(xlabel='Standard Deviation', ylabel='Expected value',\n",
    "       title='Attainable set' )\n",
    "\n",
    "#ax.set_xlim([0,50])\n",
    "#ax.set_ylim([0,400])\n",
    "\n",
    "ax.plot(x, y)\n",
    "\n",
    "plt.show()"
   ]
  },
  {
   "cell_type": "code",
   "execution_count": 67,
   "metadata": {},
   "outputs": [
    {
     "data": {
      "image/png": "[encoded data removed]",
      "text/plain": [
       "<Figure size 432x288 with 1 Axes>"
      ]
     },
     "metadata": {
      "needs_background": "light"
     },
     "output_type": "display_data"
    }
   ],
   "source": [
    "# Multiple Plotting\n",
    "\n",
    "import numpy as np\n",
    "import matplotlib.pyplot as plt\n",
    "\n",
    "\n",
    "# Get n values for the parameter weight -w-\n",
    "n = 50\n",
    "\n",
    "def plot_attainable_set(n, rho, ax=None, show=False):\n",
    "    \n",
    "    w = np.linspace(0, 1, n)\n",
    "    \n",
    "    x = np.sqrt(np.power(w,2) * (std1 **2) + np.power((1-w),2)*(std2 ** 2) + 2 * w * (1 - w) * rho * std1 * std2)\n",
    "    y = w * mu1 + ( 1 - w) * mu2\n",
    "\n",
    "    data = (x,y)\n",
    "    \n",
    "    if not ax:\n",
    "        _, ax = plt.subplots()\n",
    "    ax.plot(data[0], data[1], label = f\"rho = {rho}\")\n",
    "    if show:\n",
    "        plt.show()\n",
    "\n",
    "\n",
    "\n",
    "# create figure with both\n",
    "fig, ax = plt.subplots()\n",
    "plot_attainable_set(n,-1, ax=ax)\n",
    "plot_attainable_set(n,1, ax=ax)\n",
    "plot_attainable_set(n,0.5, ax=ax)\n",
    "plot_attainable_set(n,0.25, ax=ax)\n",
    "plot_attainable_set(n,-0.5, ax=ax)\n",
    "plot_attainable_set(n,-0.25, ax=ax)\n",
    "\n",
    "ax.set(xlabel='Standard Deviation', ylabel='Expected value',\n",
    "       title='Attainable set' )\n",
    "\n",
    "ax.set_xlim([0.0,0.25])\n",
    "ax.set_ylim([0.03,0.14])\n",
    "\n",
    "plt.legend()\n",
    "plt.show()\n"
   ]
  },
  {
   "cell_type": "markdown",
   "metadata": {},
   "source": [
    "## Minimum Variance Portfolio"
   ]
  },
  {
   "cell_type": "markdown",
   "metadata": {},
   "source": [
    "We wish to minimize the variance $\\sigma_{w}^{2}$ "
   ]
  },
  {
   "cell_type": "markdown",
   "metadata": {},
   "source": [
    "**Theorem**\n",
    "\n",
    "If short-selling is allowed, then the portfolio with minimum variance has the weights $\\pmb{w}_{min} = (w_{1},w_{2})$ with "
   ]
  },
  {
   "cell_type": "markdown",
   "metadata": {},
   "source": [
    "<center> $ w_{1} = \\frac{a}{a+b} , w_{2} = \\frac{b}{a+b} $"
   ]
  },
  {
   "cell_type": "markdown",
   "metadata": {},
   "source": [
    "where"
   ]
  },
  {
   "cell_type": "markdown",
   "metadata": {},
   "source": [
    "<center> $a = \\sigma_{2}^{2}-\\rho_{12} \\sigma_{1} \\sigma_{2}$"
   ]
  },
  {
   "cell_type": "markdown",
   "metadata": {},
   "source": [
    "<center> $b = \\sigma_{1}^{2}-\\rho_{12} \\sigma_{1} \\sigma_{2}$"
   ]
  },
  {
   "cell_type": "markdown",
   "metadata": {},
   "source": [
    "unless both $\\rho_{12} = 1$ and $\\sigma_{1} = \\sigma_{2} $"
   ]
  },
  {
   "cell_type": "markdown",
   "metadata": {},
   "source": [
    "When $p_{12} \\in (-1,1)$"
   ]
  },
  {
   "cell_type": "markdown",
   "metadata": {},
   "source": [
    "<center> $\\sigma_{w}^{2} = w^{2} \\sigma_{1}^{2} + w^{2} \\sigma_{2}^{2} + 2 w(1 - w) \\rho_{12} \\sigma_{1} \\sigma_{2} $"
   ]
  },
  {
   "cell_type": "markdown",
   "metadata": {},
   "source": [
    "We calculate the derivative of $\\sigma_{w}^{2}$ with respect to $w$ and equate to 0."
   ]
  },
  {
   "cell_type": "markdown",
   "metadata": {},
   "source": [
    "<center> $2 w \\sigma_{1}^{2} + 2( 1 - w ) \\sigma_{2}^{2} + 2( 1 - w ) \\rho_{12} \\sigma_{1} \\sigma_{2} - 2 w \\rho_{12} \\sigma_{1} \\sigma_{2} = 0$"
   ]
  },
  {
   "cell_type": "markdown",
   "metadata": {},
   "source": [
    "Solving for $w$, we obtain:"
   ]
  },
  {
   "cell_type": "markdown",
   "metadata": {},
   "source": [
    "<center> $w = \\frac{\\sigma{2}^{2}- \\rho_{12} \\sigma_{1} \\sigma_{2} }{ (\\sigma{2}^{2}- \\rho_{12} \\sigma_{1} \\sigma_{2}) + (\\sigma{1}^{2}- \\rho_{12} \\sigma_{1} \\sigma_{2})} = \\frac{a}{a+b}$"
   ]
  },
  {
   "cell_type": "markdown",
   "metadata": {},
   "source": [
    "For $w_{2} = 1 -w$, we get:"
   ]
  },
  {
   "cell_type": "markdown",
   "metadata": {},
   "source": [
    "<center> $w_{2} = 1 -w = 1 - \\frac{a}{a+b} = \\frac{b}{a+b}$"
   ]
  },
  {
   "cell_type": "markdown",
   "metadata": {},
   "source": [
    "For a given portfolio the covariance matrix is defined as:"
   ]
  },
  {
   "cell_type": "markdown",
   "metadata": {},
   "source": [
    "<center> $\\pmb{C} = \\begin{bmatrix} \n",
    "\\sigma_{1}^{2} & \\sigma_{12} \\\\\n",
    "\\sigma_{12} & \\sigma_{2}^{2} \\\\\n",
    "\\end{bmatrix}$ "
   ]
  },
  {
   "cell_type": "markdown",
   "metadata": {},
   "source": [
    "The matrix $\\pmb{C}$ is invertible since the assets are risky i.e. $\\sigma \\neq 0$. By Cramer's rule: "
   ]
  },
  {
   "cell_type": "markdown",
   "metadata": {},
   "source": [
    "<center> $\\pmb{C}^{-1} = \\frac{1}{det \\pmb{C}} \n",
    "\\begin{bmatrix} \n",
    "\\sigma_{2}^{2} & -\\sigma_{12} \\\\\n",
    "-\\sigma_{12} & \\sigma_{1}^{2} \\\\\n",
    "\\end{bmatrix}$ "
   ]
  },
  {
   "cell_type": "markdown",
   "metadata": {},
   "source": [
    "Using right and left matrix multiplication by the unit $2 x 1$ vector, we get :"
   ]
  },
  {
   "cell_type": "markdown",
   "metadata": {},
   "source": [
    "<center> $\\pmb{ 1^{T} {C}^{-1} 1 } = \\frac{1}{det \\pmb{C}} (a + b)$"
   ]
  },
  {
   "cell_type": "markdown",
   "metadata": {},
   "source": [
    "For which we can state that the $w_{min} = (w_{1}, w_{2}) $:"
   ]
  },
  {
   "cell_type": "markdown",
   "metadata": {},
   "source": [
    "<center> $ \\mathbf{w_{min} = \\frac{{C}^{-1} 1 }{ 1^{T} {C}^{-1} 1 }} $"
   ]
  },
  {
   "cell_type": "code",
   "execution_count": null,
   "metadata": {},
   "outputs": [],
   "source": []
  }
 ],
 "metadata": {
  "kernelspec": {
   "display_name": "Python 3",
   "language": "python",
   "name": "python3"
  },
  "language_info": {
   "codemirror_mode": {
    "name": "ipython",
    "version": 3
   },
   "file_extension": ".py",
   "mimetype": "text/x-python",
   "name": "python",
   "nbconvert_exporter": "python",
   "pygments_lexer": "ipython3",
   "version": "3.7.4"
  },
  "toc": {
   "base_numbering": 1,
   "nav_menu": {
    "height": "283.991px",
    "width": "389.531px"
   },
   "number_sections": true,
   "sideBar": true,
   "skip_h1_title": false,
   "title_cell": "Table of Contents",
   "title_sidebar": "Contents",
   "toc_cell": false,
   "toc_position": {},
   "toc_section_display": true,
   "toc_window_display": false
  }
 },
 "nbformat": 4,
 "nbformat_minor": 2
}
