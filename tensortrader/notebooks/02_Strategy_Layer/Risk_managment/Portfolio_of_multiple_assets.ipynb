{
 "cells": [
  {
   "cell_type": "markdown",
   "metadata": {},
   "source": [
    "# Portfolios of multiple assets"
   ]
  },
  {
   "cell_type": "markdown",
   "metadata": {},
   "source": [
    "The tasks of finding the minimum variance portfolio, minimum variance line and market portfolio for portfolios of $n$ risky assets can be cast as constrained minimisation problems whose solutions are provided by applying the method of Lagrange multipliers. "
   ]
  },
  {
   "cell_type": "markdown",
   "metadata": {},
   "source": [
    "## Risk and return"
   ]
  },
  {
   "cell_type": "markdown",
   "metadata": {},
   "source": [
    "A portfolio constructed from $n$ different securities can be described by means of the vector of weights:"
   ]
  },
  {
   "cell_type": "markdown",
   "metadata": {},
   "source": [
    "<center> $\\textbf{w} = (w_{1},..., w_{n})$"
   ]
  },
  {
   "cell_type": "markdown",
   "metadata": {},
   "source": [
    "with the constraint $\\sum_{j=1}^{n}{w_{j}} = 1$. Denoting by $\\textbf{1}$ the $n$-dimensional vector"
   ]
  },
  {
   "cell_type": "markdown",
   "metadata": {},
   "source": [
    "<center> $\\textbf{1} = (1,...,1)$"
   ]
  },
  {
   "cell_type": "markdown",
   "metadata": {},
   "source": [
    "the constraint can conveniently be written as: "
   ]
  },
  {
   "cell_type": "markdown",
   "metadata": {},
   "source": [
    "<center> $\\mathbf{w^{T} 1} = 1$"
   ]
  },
  {
   "cell_type": "markdown",
   "metadata": {},
   "source": [
    "The $\\textbf{attainable set}$ is the set of all weight vectors $\\mathbf{w}$ that satisfy this constraint. If short-selling is not possible, the condition ${w}_{i} \\geq 0$ is added to the constraint, so in that case the attainable set becomes:"
   ]
  },
  {
   "cell_type": "markdown",
   "metadata": {},
   "source": [
    "<center> $\\{\\mathbf{w : w^{T} 1} = 1, w_{j} \\geq 0 \\text{ for all }j  <= n\\}$"
   ]
  },
  {
   "cell_type": "markdown",
   "metadata": {},
   "source": [
    "Alternatively a portfolio is discribed by the vector of positions taken in particular components (number of units of assets)"
   ]
  },
  {
   "cell_type": "markdown",
   "metadata": {},
   "source": [
    "<center> $\\mathbf{x} = (x_{1}, ..., x_{n})$"
   ]
  },
  {
   "cell_type": "markdown",
   "metadata": {},
   "source": [
    "The relations between the weights, prices and the numbers of shares:"
   ]
  },
  {
   "cell_type": "markdown",
   "metadata": {},
   "source": [
    "<center> $w_{j} = \\frac{x_{j} S_{j}(0)}{V(0)}, \\text{ } j = 1, ..., n$"
   ]
  },
  {
   "cell_type": "markdown",
   "metadata": {},
   "source": [
    "where $x_{j}$ is the number of shares of security $j$ in the portfolio, $S_{j}(0)$ is the initial price of security $j$, and $V(0)$ is the total money invested."
   ]
  },
  {
   "cell_type": "markdown",
   "metadata": {},
   "source": [
    "Denote the random return on the securities by $K_{1}, ..., K_{n}$, an the vector of expected returns by"
   ]
  },
  {
   "cell_type": "markdown",
   "metadata": {},
   "source": [
    "<center> $\\mathbf{\\mu} = (\\mu_{1}, ..., \\mu_{n})$"
   ]
  },
  {
   "cell_type": "markdown",
   "metadata": {},
   "source": [
    "with"
   ]
  },
  {
   "cell_type": "markdown",
   "metadata": {},
   "source": [
    "<center> $\\mu_{j} = E(K_{j}), \\text{ for } j = 1, ..., n$"
   ]
  },
  {
   "cell_type": "markdown",
   "metadata": {},
   "source": [
    "The covariances between the returns will be denoted by $\\sigma_{jk} = Cov(K_{j}, K_{k})$ in particular $\\sigma_{jj} = \\sigma^{2}_{j} = Var(K_{j})$. These are the entries of the $ n x n \\textbf{ covariance matrix}$"
   ]
  },
  {
   "cell_type": "markdown",
   "metadata": {},
   "source": [
    "<center> $\\textbf{C} = \\begin{bmatrix} \n",
    "\\sigma_{11} & \\sigma_{12} & \\text{...} & \\sigma_{1n}  \\\\\n",
    "\\sigma_{21} & \\sigma_{22} & \\text{...} & \\sigma_{2n}  \\\\\n",
    "\\text{...} & \\text{...} & \\text{...} & \\text{...} \\\\\n",
    "\\sigma_{n1} & \\sigma_{n2} & \\text{...} & \\sigma_{nn}  \\\\\n",
    "\\end{bmatrix}$ "
   ]
  },
  {
   "cell_type": "markdown",
   "metadata": {},
   "source": [
    "The return $K_{w}$ on a portfolio consisting of $n$ securities is the weighted average:"
   ]
  },
  {
   "cell_type": "markdown",
   "metadata": {},
   "source": [
    "<center> $K_{w} = \\sum_{j=1}^{n}{w_{j} K_{j}}$"
   ]
  },
  {
   "cell_type": "markdown",
   "metadata": {},
   "source": [
    "The expected return $\\mu_{w} = E(K_{w})$ and variance $\\sigma_{w}^{2} = Var(K_{w})$ of a portfolio with weights $w$ are given by:"
   ]
  },
  {
   "cell_type": "markdown",
   "metadata": {},
   "source": [
    "<center> $\\mu_{w} = \\mathbf{w^{T} \\mu}$"
   ]
  },
  {
   "cell_type": "markdown",
   "metadata": {},
   "source": [
    "<center> $\\sigma_{w}^{2} = \\mathbf{w^{T} C w}$"
   ]
  },
  {
   "cell_type": "markdown",
   "metadata": {
    "heading_collapsed": true
   },
   "source": [
    "## Three risky securities"
   ]
  },
  {
   "cell_type": "markdown",
   "metadata": {
    "hidden": true
   },
   "source": [
    "In the case when we have three risky assets, the third weight of a portfolio can be computed from the first two wieghts:"
   ]
  },
  {
   "cell_type": "markdown",
   "metadata": {
    "hidden": true
   },
   "source": [
    "<center> $w_{3} = 1 - w_{2} - w_{1}$"
   ]
  },
  {
   "cell_type": "markdown",
   "metadata": {
    "hidden": true
   },
   "source": [
    "meaning that the attainable set is parameterised by $w_{1}$ and $w_{2}$. We can write the formulae for $\\mu_{w}$ and $\\sigma_{w}$ with respecto to these two parameters as:"
   ]
  },
  {
   "cell_type": "markdown",
   "metadata": {
    "hidden": true
   },
   "source": [
    "<center> $\\mu_{w} = w_{1} \\mu_{1} + w_{2} \\mu_{2} + w_{3} \\mu_{3}$\n",
    "<center> $\\mu_{w} = w_{1} \\mu_{1} + w_{2} \\mu_{2} + (1 -w_{1} - w_{2}) \\mu_{3}$"
   ]
  },
  {
   "cell_type": "markdown",
   "metadata": {
    "hidden": true
   },
   "source": [
    "and"
   ]
  },
  {
   "cell_type": "markdown",
   "metadata": {
    "hidden": true
   },
   "source": [
    "<center> $ \\sigma^{2}_{w} = w_{1}^{2}\\sigma_{1}^{2} + w_{2}^{2}\\sigma_{2}^{2} + w_{3}^{2}\\sigma_{3}^{2} + 2w_{1}w_{2}\\sigma_{12} +2w_{1}w_{3}\\sigma_{13} +2w_{2}w_{3}\\sigma_{23}$"
   ]
  },
  {
   "cell_type": "markdown",
   "metadata": {
    "hidden": true
   },
   "source": [
    "<center> $ \\sigma^{2}_{w} = w_{1}^{2}\\sigma_{1}^{2} + w_{2}^{2}\\sigma_{2}^{2} + (1 - w_{1} - w_{2} )^{2}\\sigma_{3}^{2} + 2w_{1}w_{2}\\sigma_{12} +2w_{1}(1 - w_{1} - w_{2} )\\sigma_{13} +2w_{2}(1 - w_{1} - w_{2} )\\sigma_{23}$"
   ]
  },
  {
   "cell_type": "code",
   "execution_count": 1,
   "metadata": {
    "hidden": true
   },
   "outputs": [],
   "source": [
    "import numpy as np\n",
    "import plotly.graph_objects as go"
   ]
  },
  {
   "cell_type": "code",
   "execution_count": 91,
   "metadata": {
    "hidden": true
   },
   "outputs": [
    {
     "name": "stdout",
     "output_type": "stream",
     "text": [
      "Expected value for security 1 is 220.0\n",
      "Expected return for security 1 is: 10.0 %\n",
      " Standard Deviation for return of the security 1 is  20.0 %\n",
      "Expected value for security 2 is 315.0\n",
      "Expected return for security 2 is: 5.0 %\n",
      " Standard Deviation for the return of the security 2 is  15.0 %\n",
      "Expected value for the portfolio is 535.0\n",
      "Expected return for the portfolio is 0.07 %\n",
      " Standard Deviation for the return of the portfolio  1.0 %\n",
      "Possible returns for the p  rices distribution of security 1 is  [ 0.3 -0.1]\n",
      "Possible returns for the prices distribution of security 2 is  [-0.1  0.2]\n",
      "Expected values are, Security1: 0.1, Security2: 0.05\n",
      "Variances are, Security1: 0.2, Security2: 0.15\n"
     ]
    },
    {
     "data": {
      "image/png": "[encoded data removed]",
      "text/plain": [
       "<Figure size 432x288 with 1 Axes>"
      ]
     },
     "metadata": {
      "needs_background": "light"
     },
     "output_type": "display_data"
    },
    {
     "data": {
      "image/png": "[encoded data removed]",
      "text/plain": [
       "<Figure size 432x288 with 1 Axes>"
      ]
     },
     "metadata": {
      "needs_background": "light"
     },
     "output_type": "display_data"
    },
    {
     "data": {
      "image/png": "[encoded data removed]",
      "text/plain": [
       "<Figure size 432x288 with 1 Axes>"
      ]
     },
     "metadata": {
      "needs_background": "light"
     },
     "output_type": "display_data"
    }
   ],
   "source": [
    "%run Portfolio_Theory_and_Risk_Management.ipynb"
   ]
  },
  {
   "cell_type": "code",
   "execution_count": 92,
   "metadata": {
    "hidden": true
   },
   "outputs": [],
   "source": [
    "s3_0 = 150\n",
    "prices_s3_1 = [120,220]\n",
    "prob_s3_1 = [0.5,0.5]"
   ]
  },
  {
   "cell_type": "code",
   "execution_count": 93,
   "metadata": {
    "hidden": true
   },
   "outputs": [
    {
     "name": "stdout",
     "output_type": "stream",
     "text": [
      "Expected value for security 1 is 170.0\n"
     ]
    }
   ],
   "source": [
    "expected_value_s3 = cal_expected_value_price(prices_s3_1, prob_s3_1 )\n",
    "print(\"Expected value for security 1 is\", expected_value_s3 )"
   ]
  },
  {
   "cell_type": "code",
   "execution_count": 94,
   "metadata": {
    "hidden": true
   },
   "outputs": [
    {
     "name": "stdout",
     "output_type": "stream",
     "text": [
      "Expected return for security 1 is: 13.0 %\n"
     ]
    }
   ],
   "source": [
    "expected_return_s3 = cal_expected_return(expected_value_s3, s3_0)\n",
    "print(\"Expected return for security 1 is:\" , expected_return_s3*100 , \"%\")"
   ]
  },
  {
   "cell_type": "code",
   "execution_count": 95,
   "metadata": {
    "hidden": true
   },
   "outputs": [
    {
     "name": "stdout",
     "output_type": "stream",
     "text": [
      " Standard Deviation for return of the security 3 is  33.0 %\n"
     ]
    }
   ],
   "source": [
    "print(\" Standard Deviation for return of the security 3 is \", \n",
    "      cal_std_dev_return(cal_var_price(expected_value_s3, prices_s3_1, prob_s3_1), s3_0)*100, \"%\")"
   ]
  },
  {
   "cell_type": "code",
   "execution_count": 96,
   "metadata": {
    "hidden": true
   },
   "outputs": [],
   "source": [
    "mu1 = expected_return_s1\n",
    "mu2 = expected_return_s2\n",
    "mu3 = expected_return_s3\n",
    "\n",
    "#Standard diviations of the return of the two assets\n",
    "std_dev1 = cal_std_dev_return(cal_var_price(expected_value_s1, prices_s1_1, prob_s1_1), s1_0)\n",
    "std_dev2 = cal_std_dev_return(cal_var_price(expected_value_s2, prices_s2_1, prob_s2_1), s2_0)\n",
    "std_dev3 = cal_std_dev_return(cal_var_price(expected_value_s3, prices_s3_1, prob_s3_1), s3_0)"
   ]
  },
  {
   "cell_type": "code",
   "execution_count": 97,
   "metadata": {
    "hidden": true
   },
   "outputs": [
    {
     "name": "stdout",
     "output_type": "stream",
     "text": [
      "Variances are, Security1: 0.2, Security2: 0.15, Security 3:0.33\n"
     ]
    }
   ],
   "source": [
    "print(f\"Variances are, Security1: {std_dev1}, Security2: {std_dev2}, Security 3:{std_dev3}\")"
   ]
  },
  {
   "cell_type": "code",
   "execution_count": 98,
   "metadata": {
    "hidden": true
   },
   "outputs": [
    {
     "name": "stdout",
     "output_type": "stream",
     "text": [
      "Possible returns for the p rices distribution of security 1 is  [-0.2   0.47]\n"
     ]
    }
   ],
   "source": [
    "r_s3 = cal_returns_asset(s3_0, prices_s3_1)\n",
    "print(\"Possible returns for the p rices distribution of security 1 is \", r_s3)"
   ]
  },
  {
   "cell_type": "code",
   "execution_count": 99,
   "metadata": {
    "hidden": true
   },
   "outputs": [],
   "source": [
    "cov12 = covariance(np.array([r_s1,r_s2]), np.array([mu1,mu2]))\n",
    "cov13 = covariance(np.array([r_s1,r_s3]), np.array([mu1,mu3]))\n",
    "cov23 = covariance(np.array([r_s2,r_s3]), np.array([mu2,mu3]))"
   ]
  },
  {
   "cell_type": "code",
   "execution_count": 101,
   "metadata": {
    "hidden": true
   },
   "outputs": [
    {
     "name": "stdout",
     "output_type": "stream",
     "text": [
      "Covariances are, Security 1-2: -0.03, Security 1-3: -0.07, Security 2-3: 0.05\n"
     ]
    }
   ],
   "source": [
    "print(f\"Covariances are, Security 1-2: {cov12}, Security 1-3: {cov13}, Security 2-3: {cov23}\")"
   ]
  },
  {
   "cell_type": "markdown",
   "metadata": {
    "hidden": true
   },
   "source": [
    "Calculate data for $\\mu_{w}$"
   ]
  },
  {
   "cell_type": "code",
   "execution_count": 102,
   "metadata": {
    "hidden": true
   },
   "outputs": [],
   "source": [
    "n = 50\n",
    "w1 = np.linspace(-5, 5, n)\n",
    "w2 = np.linspace(-5, 5, n)"
   ]
  },
  {
   "cell_type": "code",
   "execution_count": 103,
   "metadata": {
    "hidden": true
   },
   "outputs": [],
   "source": [
    "x, y = np.meshgrid(w1, w2, sparse=True)"
   ]
  },
  {
   "cell_type": "code",
   "execution_count": 104,
   "metadata": {
    "hidden": true
   },
   "outputs": [],
   "source": [
    "# Get values for plane - expected value of portfolio return\n",
    "mu_w = mu1 * x + mu2 * y + mu3 * (1 - x - y)"
   ]
  },
  {
   "cell_type": "markdown",
   "metadata": {
    "hidden": true
   },
   "source": [
    "Calculate data for plane $\\mu = m$"
   ]
  },
  {
   "cell_type": "code",
   "execution_count": 121,
   "metadata": {
    "hidden": true
   },
   "outputs": [],
   "source": [
    "# Get values for plane mu = m\n",
    "m = np.repeat(0.2,n)\n",
    "x_m = w1\n",
    "y_m = (mu_m - mu1 * x_m + mu3 * x_m) /   (mu2 - mu3)\n",
    "z_m = np.array([np.repeat(i,n) for i in np.linspace(-5, 5, n)])"
   ]
  },
  {
   "cell_type": "code",
   "execution_count": 124,
   "metadata": {
    "hidden": true
   },
   "outputs": [],
   "source": [
    "#z_m"
   ]
  },
  {
   "cell_type": "markdown",
   "metadata": {
    "hidden": true
   },
   "source": [
    "Calculate data for $\\sigma_{w}$"
   ]
  },
  {
   "cell_type": "code",
   "execution_count": null,
   "metadata": {
    "hidden": true
   },
   "outputs": [],
   "source": [
    "#(0.2 ^ 2) x^2 + (0.15 ^ 2) * y^2 + (0.1 ^ 2) * (1-x-y)^2 + (2 * x * y * -0.03) + \n",
    "#        (2 * x * (1 - x - y) * 0.05) + (2 * y * (1 - x - y) * -0.02)"
   ]
  },
  {
   "cell_type": "code",
   "execution_count": 112,
   "metadata": {
    "hidden": true
   },
   "outputs": [],
   "source": [
    "# Get values for figure - variance value of portfolio\n",
    "var_w = (np.power(x,2) * (std_dev1 ** 2)  +  np.power(y,2) * (std_dev2 ** 2)  +  \n",
    "         np.power((1-x-y),2) * (std_dev3 ** 2)  + (2 * x * y * cov12) + \n",
    "        (2 * x * (1 - x - y) * cov13) + (2 * y * (1 - x - y) * cov23))"
   ]
  },
  {
   "cell_type": "code",
   "execution_count": 155,
   "metadata": {
    "hidden": true
   },
   "outputs": [
    {
     "data": {
      "text/plain": [
       "array([14.86471279, 14.02877276, 13.21689771, 12.42908763, 11.66534252,\n",
       "       10.92566239, 10.21004723,  9.51849704,  8.85101183,  8.20759159,\n",
       "        7.58823632,  6.99294602,  6.4217207 ,  5.87456035,  5.35146497,\n",
       "        4.85243457,  4.37746914,  3.92656868,  3.49973319,  3.09696268,\n",
       "        2.71825714,  2.36361658,  2.03304098,  1.72653036,  1.44408471,\n",
       "        1.18570404,  0.95138834,  0.74113761,  0.55495185,  0.39283107,\n",
       "        0.25477526,  0.14078442,  0.05085856, -0.01500233, -0.05679825,\n",
       "       -0.0745292 , -0.06819517, -0.03779617,  0.01666781,  0.09519675,\n",
       "        0.19779067,  0.32444956,  0.47517343,  0.64996227,  0.84881608,\n",
       "        1.07173486,  1.31871862,  1.58976735,  1.88488105,  2.20405973])"
      ]
     },
     "execution_count": 155,
     "metadata": {},
     "output_type": "execute_result"
    }
   ],
   "source": [
    "var_w[2]"
   ]
  },
  {
   "cell_type": "code",
   "execution_count": 113,
   "metadata": {
    "hidden": true
   },
   "outputs": [
    {
     "name": "stderr",
     "output_type": "stream",
     "text": [
      "C:\\Users\\User\\Anaconda3\\lib\\site-packages\\ipykernel_launcher.py:1: RuntimeWarning:\n",
      "\n",
      "invalid value encountered in sqrt\n",
      "\n"
     ]
    }
   ],
   "source": [
    "std_dev_w = np.sqrt(var_w)"
   ]
  },
  {
   "cell_type": "markdown",
   "metadata": {
    "hidden": true
   },
   "source": [
    "**Graph of Expected value of a portfolio of 3 Securities**"
   ]
  },
  {
   "cell_type": "code",
   "execution_count": 146,
   "metadata": {
    "hidden": true
   },
   "outputs": [
    {
     "data": {
      "application/vnd.plotly.v1+json": {
       "config": {
        "plotlyServerURL": "https://plot.ly"
       },
       "data": [
        {
         "contours": {
          "z": {
           "color": "white",
           "end": 6,
           "show": true,
           "size": 0.08,
           "start": -2
          }
         },
         "type": "surface",
         "x": [
          -5,
          -4.795918367346939,
          -4.591836734693878,
          -4.387755102040816,
          -4.183673469387755,
          -3.979591836734694,
          -3.7755102040816326,
          -3.571428571428571,
          -3.36734693877551,
          -3.163265306122449,
          -2.9591836734693877,
          -2.7551020408163263,
          -2.5510204081632653,
          -2.3469387755102042,
          -2.142857142857143,
          -1.9387755102040813,
          -1.7346938775510203,
          -1.5306122448979593,
          -1.3265306122448979,
          -1.1224489795918364,
          -0.9183673469387754,
          -0.7142857142857144,
          -0.5102040816326525,
          -0.3061224489795915,
          -0.1020408163265305,
          0.1020408163265305,
          0.3061224489795915,
          0.5102040816326534,
          0.7142857142857144,
          0.9183673469387754,
          1.1224489795918373,
          1.3265306122448983,
          1.5306122448979593,
          1.7346938775510203,
          1.9387755102040813,
          2.1428571428571432,
          2.3469387755102042,
          2.5510204081632653,
          2.755102040816327,
          2.959183673469388,
          3.163265306122449,
          3.36734693877551,
          3.571428571428571,
          3.775510204081632,
          3.979591836734695,
          4.183673469387756,
          4.387755102040817,
          4.591836734693878,
          4.795918367346939,
          5
         ],
         "y": [
          -5,
          -4.795918367346939,
          -4.591836734693878,
          -4.387755102040816,
          -4.183673469387755,
          -3.979591836734694,
          -3.7755102040816326,
          -3.571428571428571,
          -3.36734693877551,
          -3.163265306122449,
          -2.9591836734693877,
          -2.7551020408163263,
          -2.5510204081632653,
          -2.3469387755102042,
          -2.142857142857143,
          -1.9387755102040813,
          -1.7346938775510203,
          -1.5306122448979593,
          -1.3265306122448979,
          -1.1224489795918364,
          -0.9183673469387754,
          -0.7142857142857144,
          -0.5102040816326525,
          -0.3061224489795915,
          -0.1020408163265305,
          0.1020408163265305,
          0.3061224489795915,
          0.5102040816326534,
          0.7142857142857144,
          0.9183673469387754,
          1.1224489795918373,
          1.3265306122448983,
          1.5306122448979593,
          1.7346938775510203,
          1.9387755102040813,
          2.1428571428571432,
          2.3469387755102042,
          2.5510204081632653,
          2.755102040816327,
          2.959183673469388,
          3.163265306122449,
          3.36734693877551,
          3.571428571428571,
          3.775510204081632,
          3.979591836734695,
          4.183673469387756,
          4.387755102040817,
          4.591836734693878,
          4.795918367346939,
          5
         ],
         "z": [
          [
           0.6800000000000002,
           0.6738775510204082,
           0.6677551020408165,
           0.6616326530612247,
           0.6555102040816329,
           0.6493877551020408,
           0.6432653061224489,
           0.637142857142857,
           0.6310204081632653,
           0.6248979591836734,
           0.6187755102040817,
           0.6126530612244898,
           0.6065306122448979,
           0.6004081632653061,
           0.5942857142857142,
           0.5881632653061225,
           0.5820408163265306,
           0.5759183673469388,
           0.569795918367347,
           0.5636734693877552,
           0.5575510204081633,
           0.5514285714285714,
           0.5453061224489796,
           0.5391836734693878,
           0.5330612244897959,
           0.5269387755102042,
           0.5208163265306123,
           0.5146938775510205,
           0.5085714285714287,
           0.5024489795918368,
           0.4963265306122449,
           0.49020408163265305,
           0.48408163265306126,
           0.47795918367346935,
           0.47183673469387755,
           0.46571428571428575,
           0.4595918367346939,
           0.4534693877551021,
           0.44734693877551024,
           0.4412244897959184,
           0.43510204081632653,
           0.42897959183673473,
           0.42285714285714293,
           0.4167346938775511,
           0.41061224489795917,
           0.40448979591836737,
           0.3983673469387755,
           0.3922448979591837,
           0.38612244897959186,
           0.38
          ],
          [
           0.6636734693877552,
           0.6575510204081634,
           0.6514285714285715,
           0.6453061224489798,
           0.6391836734693879,
           0.6330612244897961,
           0.6269387755102039,
           0.6208163265306123,
           0.6146938775510203,
           0.6085714285714287,
           0.602448979591837,
           0.5963265306122448,
           0.590204081632653,
           0.5840816326530611,
           0.5779591836734694,
           0.5718367346938775,
           0.5657142857142858,
           0.5595918367346939,
           0.5534693877551021,
           0.5473469387755102,
           0.5412244897959184,
           0.5351020408163265,
           0.5289795918367347,
           0.5228571428571429,
           0.5167346938775511,
           0.5106122448979593,
           0.5044897959183674,
           0.49836734693877555,
           0.4922448979591837,
           0.4861224489795919,
           0.48,
           0.4738775510204082,
           0.46775510204081633,
           0.4616326530612245,
           0.4555102040816328,
           0.4493877551020408,
           0.4432653061224491,
           0.43714285714285717,
           0.43102040816326537,
           0.42489795918367346,
           0.41877551020408166,
           0.41265306122448986,
           0.40653061224489806,
           0.40040816326530615,
           0.39428571428571424,
           0.3881632653061225,
           0.38204081632653064,
           0.37591836734693884,
           0.36979591836734693,
           0.36367346938775513
          ],
          [
           0.6473469387755104,
           0.6412244897959184,
           0.6351020408163266,
           0.6289795918367348,
           0.622857142857143,
           0.6167346938775511,
           0.6106122448979592,
           0.6044897959183673,
           0.5983673469387756,
           0.5922448979591839,
           0.586122448979592,
           0.5800000000000001,
           0.573877551020408,
           0.5677551020408163,
           0.5616326530612243,
           0.5555102040816327,
           0.5493877551020409,
           0.543265306122449,
           0.5371428571428573,
           0.5310204081632653,
           0.5248979591836735,
           0.5187755102040816,
           0.5126530612244897,
           0.506530612244898,
           0.5004081632653062,
           0.49428571428571433,
           0.48816326530612253,
           0.4820408163265306,
           0.4759183673469388,
           0.46979591836734697,
           0.4636734693877551,
           0.45755102040816326,
           0.4514285714285714,
           0.4453061224489797,
           0.4391836734693878,
           0.433061224489796,
           0.42693877551020415,
           0.4208163265306123,
           0.41469387755102044,
           0.4085714285714286,
           0.4024489795918368,
           0.396326530612245,
           0.39020408163265313,
           0.3840816326530613,
           0.37795918367346937,
           0.37183673469387757,
           0.36571428571428577,
           0.3595918367346939,
           0.35346938775510206,
           0.34734693877551026
          ],
          [
           0.6310204081632654,
           0.6248979591836736,
           0.6187755102040817,
           0.6126530612244898,
           0.6065306122448979,
           0.6004081632653061,
           0.594285714285714,
           0.5881632653061223,
           0.5820408163265306,
           0.5759183673469387,
           0.569795918367347,
           0.5636734693877551,
           0.5575510204081633,
           0.5514285714285714,
           0.5453061224489797,
           0.5391836734693878,
           0.5330612244897959,
           0.5269387755102041,
           0.5208163265306122,
           0.5146938775510204,
           0.5085714285714286,
           0.5024489795918368,
           0.49632653061224496,
           0.49020408163265305,
           0.48408163265306126,
           0.4779591836734694,
           0.47183673469387755,
           0.4657142857142857,
           0.45959183673469384,
           0.45346938775510204,
           0.44734693877551013,
           0.44122448979591833,
           0.4351020408163266,
           0.4289795918367347,
           0.42285714285714293,
           0.416734693877551,
           0.4106122448979592,
           0.4044897959183673,
           0.3983673469387755,
           0.3922448979591837,
           0.3861224489795918,
           0.38,
           0.3738775510204082,
           0.36775510204081635,
           0.36163265306122444,
           0.35551020408163264,
           0.3493877551020408,
           0.343265306122449,
           0.3371428571428571,
           0.33102040816326533
          ],
          [
           0.6146938775510207,
           0.6085714285714287,
           0.6024489795918369,
           0.5963265306122448,
           0.590204081632653,
           0.5840816326530611,
           0.5779591836734692,
           0.5718367346938775,
           0.5657142857142856,
           0.5595918367346939,
           0.553469387755102,
           0.5473469387755103,
           0.5412244897959183,
           0.5351020408163265,
           0.5289795918367348,
           0.5228571428571429,
           0.516734693877551,
           0.5106122448979592,
           0.5044897959183673,
           0.4983673469387755,
           0.49224489795918364,
           0.4861224489795919,
           0.48000000000000004,
           0.4738775510204082,
           0.4677551020408164,
           0.4616326530612245,
           0.4555102040816327,
           0.44938775510204076,
           0.44326530612244897,
           0.4371428571428571,
           0.43102040816326526,
           0.4248979591836735,
           0.41877551020408166,
           0.41265306122448986,
           0.406530612244898,
           0.40040816326530615,
           0.3942857142857143,
           0.38816326530612244,
           0.38204081632653064,
           0.3759183673469388,
           0.36979591836734693,
           0.36367346938775513,
           0.35755102040816333,
           0.3514285714285714,
           0.3453061224489795,
           0.33918367346938777,
           0.3330612244897959,
           0.32693877551020406,
           0.32081632653061226,
           0.3146938775510204
          ],
          [
           0.5983673469387756,
           0.5922448979591839,
           0.5861224489795919,
           0.5800000000000001,
           0.573877551020408,
           0.5677551020408164,
           0.5616326530612245,
           0.5555102040816325,
           0.5493877551020407,
           0.5432653061224488,
           0.5371428571428571,
           0.5310204081632652,
           0.5248979591836735,
           0.5187755102040816,
           0.5126530612244898,
           0.5065306122448979,
           0.5004081632653061,
           0.4942857142857143,
           0.48816326530612236,
           0.48204081632653056,
           0.4759183673469388,
           0.469795918367347,
           0.4636734693877551,
           0.4575510204081633,
           0.45142857142857146,
           0.4453061224489796,
           0.4391836734693878,
           0.4330612244897959,
           0.42693877551020404,
           0.4208163265306122,
           0.4146938775510205,
           0.4085714285714286,
           0.4024489795918368,
           0.39632653061224493,
           0.3902040816326531,
           0.3840816326530612,
           0.37795918367346937,
           0.37183673469387757,
           0.36571428571428577,
           0.35959183673469386,
           0.35346938775510206,
           0.34734693877551026,
           0.3412244897959184,
           0.33510204081632655,
           0.32897959183673464,
           0.3228571428571429,
           0.31673469387755104,
           0.3106122448979592,
           0.3044897959183674,
           0.2983673469387755
          ],
          [
           0.5820408163265306,
           0.5759183673469387,
           0.5697959183673469,
           0.5636734693877551,
           0.5575510204081633,
           0.5514285714285716,
           0.5453061224489795,
           0.5391836734693878,
           0.5330612244897958,
           0.5269387755102041,
           0.5208163265306122,
           0.5146938775510205,
           0.5085714285714287,
           0.5024489795918368,
           0.49632653061224485,
           0.49020408163265294,
           0.48408163265306114,
           0.4779591836734693,
           0.4718367346938775,
           0.4657142857142858,
           0.45959183673469395,
           0.45346938775510215,
           0.44734693877551013,
           0.44122448979591833,
           0.4351020408163265,
           0.4289795918367346,
           0.4228571428571428,
           0.416734693877551,
           0.41061224489795917,
           0.4044897959183673,
           0.3983673469387755,
           0.3922448979591837,
           0.38612244897959186,
           0.38,
           0.3738775510204082,
           0.3677551020408163,
           0.3616326530612245,
           0.3555102040816327,
           0.3493877551020408,
           0.343265306122449,
           0.33714285714285713,
           0.33102040816326533,
           0.3248979591836735,
           0.3187755102040817,
           0.31265306122448977,
           0.30653061224489797,
           0.30040816326530617,
           0.29428571428571426,
           0.28816326530612246,
           0.28204081632653055
          ],
          [
           0.5657142857142856,
           0.5595918367346939,
           0.5534693877551019,
           0.5473469387755101,
           0.5412244897959183,
           0.5351020408163264,
           0.5289795918367347,
           0.5228571428571428,
           0.516734693877551,
           0.5106122448979591,
           0.5044897959183674,
           0.4983673469387755,
           0.4922448979591837,
           0.4861224489795918,
           0.47999999999999987,
           0.47387755102040807,
           0.4677551020408163,
           0.4616326530612244,
           0.45551020408163273,
           0.4493877551020408,
           0.44326530612244897,
           0.43714285714285717,
           0.43102040816326526,
           0.42489795918367346,
           0.4187755102040816,
           0.41265306122448975,
           0.40653061224489795,
           0.40040816326530604,
           0.3942857142857143,
           0.38816326530612244,
           0.38204081632653053,
           0.37591836734693873,
           0.36979591836734693,
           0.3636734693877551,
           0.3575510204081632,
           0.3514285714285714,
           0.3453061224489796,
           0.3391836734693877,
           0.3330612244897959,
           0.32693877551020406,
           0.3208163265306122,
           0.3146938775510204,
           0.3085714285714286,
           0.30244897959183675,
           0.29632653061224484,
           0.29020408163265304,
           0.28408163265306124,
           0.27795918367346933,
           0.27183673469387754,
           0.2657142857142856
          ],
          [
           0.5493877551020409,
           0.5432653061224488,
           0.5371428571428571,
           0.5310204081632652,
           0.5248979591836733,
           0.5187755102040816,
           0.5126530612244897,
           0.506530612244898,
           0.500408163265306,
           0.49428571428571433,
           0.48816326530612253,
           0.4820408163265306,
           0.47591836734693876,
           0.4697959183673469,
           0.463673469387755,
           0.4575510204081632,
           0.4514285714285714,
           0.4453061224489796,
           0.4391836734693878,
           0.43306122448979595,
           0.4269387755102041,
           0.42081632653061224,
           0.4146938775510204,
           0.40857142857142853,
           0.4024489795918367,
           0.3963265306122449,
           0.390204081632653,
           0.3840816326530613,
           0.37795918367346937,
           0.37183673469387757,
           0.3657142857142857,
           0.35959183673469386,
           0.35346938775510206,
           0.34734693877551015,
           0.3412244897959184,
           0.33510204081632655,
           0.3289795918367347,
           0.32285714285714284,
           0.31673469387755104,
           0.31061224489795913,
           0.30448979591836733,
           0.29836734693877554,
           0.2922448979591837,
           0.2861224489795918,
           0.2799999999999999,
           0.27387755102040817,
           0.2677551020408163,
           0.26163265306122446,
           0.2555102040816326,
           0.2493877551020408
          ],
          [
           0.5330612244897959,
           0.5269387755102042,
           0.5208163265306124,
           0.5146938775510204,
           0.5085714285714286,
           0.5024489795918365,
           0.49632653061224485,
           0.49020408163265294,
           0.48408163265306126,
           0.47795918367346946,
           0.47183673469387766,
           0.46571428571428575,
           0.4595918367346939,
           0.45346938775510204,
           0.44734693877551013,
           0.44122448979591833,
           0.43510204081632664,
           0.42897959183673473,
           0.42285714285714293,
           0.4167346938775511,
           0.4106122448979592,
           0.40448979591836737,
           0.3983673469387755,
           0.39224489795918366,
           0.3861224489795918,
           0.38,
           0.37387755102040826,
           0.3677551020408163,
           0.36163265306122455,
           0.3555102040816327,
           0.34938775510204084,
           0.343265306122449,
           0.3371428571428572,
           0.3310204081632654,
           0.32489795918367353,
           0.3187755102040817,
           0.3126530612244898,
           0.30653061224489797,
           0.30040816326530617,
           0.2942857142857143,
           0.28816326530612246,
           0.28204081632653066,
           0.27591836734693886,
           0.269795918367347,
           0.2636734693877551,
           0.2575510204081633,
           0.25142857142857145,
           0.24530612244897962,
           0.2391836734693878,
           0.23306122448979594
          ],
          [
           0.5167346938775511,
           0.5106122448979593,
           0.5044897959183674,
           0.4983673469387755,
           0.4922448979591836,
           0.4861224489795919,
           0.48,
           0.4738775510204083,
           0.4677551020408164,
           0.4616326530612246,
           0.4555102040816327,
           0.44938775510204076,
           0.4432653061224489,
           0.43714285714285706,
           0.43102040816326526,
           0.42489795918367357,
           0.41877551020408177,
           0.41265306122448986,
           0.40653061224489795,
           0.4004081632653061,
           0.39428571428571424,
           0.3881632653061224,
           0.38204081632653064,
           0.3759183673469388,
           0.36979591836734693,
           0.36367346938775513,
           0.3575510204081633,
           0.3514285714285714,
           0.3453061224489796,
           0.33918367346938777,
           0.3330612244897959,
           0.32693877551020406,
           0.3208163265306123,
           0.3146938775510204,
           0.3085714285714286,
           0.3024489795918367,
           0.2963265306122449,
           0.2902040816326531,
           0.2840816326530612,
           0.2779591836734694,
           0.27183673469387754,
           0.2657142857142858,
           0.25959183673469394,
           0.2534693877551021,
           0.24734693877551017,
           0.24122448979591837,
           0.23510204081632655,
           0.2289795918367347,
           0.22285714285714286,
           0.216734693877551
          ],
          [
           0.5004081632653061,
           0.4942857142857142,
           0.4881632653061224,
           0.4820408163265306,
           0.4759183673469388,
           0.4697959183673468,
           0.463673469387755,
           0.45755102040816326,
           0.4514285714285714,
           0.4453061224489796,
           0.4391836734693877,
           0.4330612244897959,
           0.42693877551020404,
           0.4208163265306122,
           0.4146938775510205,
           0.4085714285714286,
           0.4024489795918368,
           0.3963265306122449,
           0.39020408163265297,
           0.3840816326530612,
           0.37795918367346937,
           0.3718367346938775,
           0.36571428571428566,
           0.3595918367346938,
           0.35346938775510206,
           0.34734693877551015,
           0.3412244897959184,
           0.33510204081632655,
           0.3289795918367347,
           0.32285714285714284,
           0.316734693877551,
           0.3106122448979592,
           0.30448979591836733,
           0.29836734693877554,
           0.2922448979591837,
           0.2861224489795918,
           0.28,
           0.27387755102040817,
           0.2677551020408163,
           0.26163265306122446,
           0.2555102040816326,
           0.24938775510204084,
           0.243265306122449,
           0.23714285714285716,
           0.23102040816326525,
           0.22489795918367347,
           0.21877551020408162,
           0.2126530612244898,
           0.20653061224489794,
           0.20040816326530608
          ],
          [
           0.48408163265306114,
           0.47795918367346935,
           0.47183673469387744,
           0.46571428571428575,
           0.45959183673469384,
           0.45346938775510204,
           0.44734693877551013,
           0.44122448979591833,
           0.43510204081632653,
           0.42897959183673473,
           0.4228571428571428,
           0.416734693877551,
           0.4106122448979591,
           0.4044897959183674,
           0.3983673469387756,
           0.3922448979591837,
           0.38612244897959186,
           0.38,
           0.3738775510204081,
           0.3677551020408163,
           0.3616326530612245,
           0.35551020408163264,
           0.3493877551020408,
           0.343265306122449,
           0.33714285714285713,
           0.33102040816326533,
           0.3248979591836735,
           0.3187755102040816,
           0.31265306122448977,
           0.30653061224489797,
           0.30040816326530617,
           0.29428571428571426,
           0.28816326530612246,
           0.2820408163265306,
           0.2759183673469388,
           0.26979591836734695,
           0.26367346938775515,
           0.25755102040816324,
           0.25142857142857145,
           0.2453061224489796,
           0.23918367346938774,
           0.23306122448979597,
           0.2269387755102041,
           0.22081632653061228,
           0.2146938775510204,
           0.2085714285714286,
           0.20244897959183672,
           0.19632653061224492,
           0.190204081632653,
           0.18408163265306124
          ],
          [
           0.4677551020408164,
           0.46163265306122436,
           0.45551020408163256,
           0.44938775510204076,
           0.44326530612244897,
           0.43714285714285717,
           0.43102040816326526,
           0.42489795918367346,
           0.4187755102040816,
           0.4126530612244898,
           0.4065306122448979,
           0.4004081632653061,
           0.39428571428571435,
           0.3881632653061225,
           0.3820408163265307,
           0.3759183673469388,
           0.36979591836734693,
           0.36367346938775513,
           0.3575510204081632,
           0.3514285714285714,
           0.34530612244897957,
           0.3391836734693877,
           0.33306122448979597,
           0.32693877551020406,
           0.3208163265306123,
           0.3146938775510204,
           0.3085714285714286,
           0.3024489795918367,
           0.2963265306122449,
           0.2902040816326531,
           0.28408163265306124,
           0.2779591836734694,
           0.2718367346938776,
           0.26571428571428574,
           0.2595918367346939,
           0.2534693877551021,
           0.24734693877551023,
           0.24122448979591837,
           0.23510204081632652,
           0.2289795918367347,
           0.22285714285714286,
           0.21673469387755107,
           0.2106122448979592,
           0.20448979591836738,
           0.19836734693877547,
           0.1922448979591837,
           0.18612244897959185,
           0.18,
           0.17387755102040817,
           0.1677551020408163
          ],
          [
           0.4514285714285713,
           0.4453061224489796,
           0.4391836734693877,
           0.433061224489796,
           0.4269387755102042,
           0.4208163265306123,
           0.4146938775510203,
           0.4085714285714285,
           0.4024489795918366,
           0.3963265306122448,
           0.390204081632653,
           0.38408163265306133,
           0.3779591836734695,
           0.3718367346938776,
           0.3657142857142857,
           0.3595918367346938,
           0.35346938775510195,
           0.34734693877551015,
           0.34122448979591835,
           0.33510204081632655,
           0.3289795918367347,
           0.32285714285714284,
           0.316734693877551,
           0.3106122448979592,
           0.30448979591836733,
           0.29836734693877554,
           0.2922448979591837,
           0.2861224489795918,
           0.28,
           0.27387755102040817,
           0.2677551020408163,
           0.26163265306122446,
           0.25551020408163266,
           0.2493877551020408,
           0.243265306122449,
           0.23714285714285713,
           0.2310204081632653,
           0.22489795918367347,
           0.21877551020408162,
           0.2126530612244898,
           0.20653061224489794,
           0.20040816326530614,
           0.1942857142857143,
           0.18816326530612248,
           0.18204081632653057,
           0.17591836734693878,
           0.16979591836734692,
           0.1636734693877551,
           0.15755102040816324,
           0.1514285714285714
          ],
          [
           0.43510204081632664,
           0.4289795918367346,
           0.4228571428571428,
           0.416734693877551,
           0.4106122448979591,
           0.4044897959183673,
           0.3983673469387754,
           0.3922448979591836,
           0.38612244897959175,
           0.37999999999999995,
           0.37387755102040826,
           0.36775510204081635,
           0.3616326530612245,
           0.35551020408163264,
           0.34938775510204073,
           0.34326530612244893,
           0.3371428571428571,
           0.3310204081632653,
           0.3248979591836735,
           0.31877551020408157,
           0.3126530612244898,
           0.3065306122448979,
           0.30040816326530606,
           0.29428571428571426,
           0.28816326530612246,
           0.28204081632653055,
           0.27591836734693875,
           0.26979591836734695,
           0.2636734693877551,
           0.25755102040816324,
           0.2514285714285714,
           0.24530612244897956,
           0.23918367346938774,
           0.2330612244897959,
           0.22693877551020408,
           0.22081632653061223,
           0.21469387755102037,
           0.20857142857142855,
           0.20244897959183672,
           0.19632653061224487,
           0.190204081632653,
           0.18408163265306124,
           0.1779591836734694,
           0.17183673469387756,
           0.16571428571428565,
           0.15959183673469385,
           0.15346938775510202,
           0.14734693877551017,
           0.14122448979591834,
           0.13510204081632649
          ],
          [
           0.41877551020408155,
           0.41265306122448986,
           0.40653061224489795,
           0.40040816326530615,
           0.39428571428571424,
           0.38816326530612244,
           0.38204081632653053,
           0.37591836734693873,
           0.3697959183673469,
           0.3636734693877552,
           0.3575510204081634,
           0.3514285714285715,
           0.3453061224489796,
           0.33918367346938777,
           0.33306122448979586,
           0.32693877551020406,
           0.3208163265306122,
           0.31469387755102035,
           0.30857142857142855,
           0.3024489795918368,
           0.2963265306122449,
           0.2902040816326531,
           0.28408163265306124,
           0.2779591836734694,
           0.27183673469387754,
           0.2657142857142857,
           0.2595918367346939,
           0.253469387755102,
           0.2473469387755102,
           0.24122448979591837,
           0.23510204081632652,
           0.22897959183673466,
           0.22285714285714286,
           0.216734693877551,
           0.2106122448979592,
           0.2044897959183673,
           0.19836734693877553,
           0.1922448979591837,
           0.18612244897959185,
           0.18,
           0.17387755102040817,
           0.1677551020408164,
           0.16163265306122454,
           0.15551020408163269,
           0.14938775510204078,
           0.143265306122449,
           0.13714285714285715,
           0.13102040816326532,
           0.12489795918367347,
           0.11877551020408161
          ],
          [
           0.4024489795918368,
           0.396326530612245,
           0.3902040816326531,
           0.3840816326530613,
           0.37795918367346937,
           0.3718367346938775,
           0.3657142857142856,
           0.3595918367346938,
           0.35346938775510206,
           0.34734693877551026,
           0.34122448979591846,
           0.33510204081632655,
           0.3289795918367347,
           0.32285714285714284,
           0.31673469387755093,
           0.31061224489795913,
           0.30448979591836733,
           0.2983673469387755,
           0.2922448979591837,
           0.2861224489795918,
           0.28,
           0.2738775510204082,
           0.2677551020408163,
           0.2616326530612245,
           0.2555102040816326,
           0.24938775510204086,
           0.243265306122449,
           0.23714285714285716,
           0.2310204081632653,
           0.2248979591836735,
           0.21877551020408165,
           0.2126530612244898,
           0.206530612244898,
           0.20040816326530614,
           0.19428571428571434,
           0.18816326530612246,
           0.18204081632653063,
           0.17591836734693878,
           0.16979591836734692,
           0.1636734693877551,
           0.15755102040816327,
           0.15142857142857147,
           0.1453061224489796,
           0.1391836734693878,
           0.13306122448979588,
           0.12693877551020408,
           0.12081632653061225,
           0.1146938775510204,
           0.10857142857142854,
           0.10244897959183669
          ],
          [
           0.3861224489795919,
           0.3800000000000001,
           0.3738775510204082,
           0.3677551020408163,
           0.3616326530612244,
           0.35551020408163253,
           0.34938775510204073,
           0.34326530612244904,
           0.3371428571428572,
           0.3310204081632654,
           0.3248979591836735,
           0.31877551020408157,
           0.3126530612244897,
           0.30653061224489786,
           0.30040816326530606,
           0.29428571428571426,
           0.28816326530612246,
           0.2820408163265306,
           0.27591836734693875,
           0.26979591836734695,
           0.2636734693877551,
           0.25755102040816324,
           0.2514285714285714,
           0.24530612244897956,
           0.23918367346938776,
           0.23306122448979594,
           0.22693877551020408,
           0.22081632653061223,
           0.2146938775510204,
           0.20857142857142857,
           0.20244897959183672,
           0.19632653061224487,
           0.19020408163265307,
           0.1840816326530612,
           0.17795918367346938,
           0.17183673469387756,
           0.1657142857142857,
           0.15959183673469385,
           0.15346938775510202,
           0.14734693877551017,
           0.14122448979591834,
           0.13510204081632654,
           0.1289795918367347,
           0.12285714285714286,
           0.11673469387755095,
           0.11061224489795918,
           0.10448979591836732,
           0.09836734693877547,
           0.09224489795918361,
           0.08612244897959181
          ],
          [
           0.36979591836734693,
           0.36367346938775513,
           0.3575510204081632,
           0.35142857142857137,
           0.3453061224489795,
           0.33918367346938766,
           0.33306122448979586,
           0.32693877551020406,
           0.3208163265306122,
           0.3146938775510204,
           0.3085714285714285,
           0.3024489795918367,
           0.29632653061224484,
           0.290204081632653,
           0.2840816326530612,
           0.2779591836734693,
           0.2718367346938776,
           0.2657142857142857,
           0.2595918367346939,
           0.253469387755102,
           0.2473469387755102,
           0.24122448979591835,
           0.2351020408163265,
           0.2289795918367347,
           0.22285714285714286,
           0.216734693877551,
           0.21061224489795916,
           0.20448979591836733,
           0.19836734693877547,
           0.19224489795918367,
           0.18612244897959182,
           0.18,
           0.17387755102040814,
           0.1677551020408163,
           0.1616326530612245,
           0.15551020408163263,
           0.1493877551020408,
           0.14326530612244898,
           0.13714285714285712,
           0.13102040816326527,
           0.12489795918367341,
           0.11877551020408161,
           0.11265306122448979,
           0.10653061224489793,
           0.10040816326530602,
           0.09428571428571425,
           0.0881632653061224,
           0.08204081632653054,
           0.07591836734693874,
           0.06979591836734689
          ],
          [
           0.35346938775510206,
           0.34734693877551026,
           0.34122448979591835,
           0.3351020408163265,
           0.32897959183673464,
           0.3228571428571429,
           0.316734693877551,
           0.3106122448979592,
           0.30448979591836733,
           0.29836734693877554,
           0.2922448979591836,
           0.2861224489795918,
           0.27999999999999997,
           0.2738775510204081,
           0.2677551020408163,
           0.2616326530612245,
           0.2555102040816326,
           0.24938775510204084,
           0.24326530612244898,
           0.23714285714285716,
           0.2310204081632653,
           0.22489795918367345,
           0.21877551020408165,
           0.2126530612244898,
           0.20653061224489797,
           0.2004081632653061,
           0.1942857142857143,
           0.18816326530612243,
           0.18204081632653063,
           0.17591836734693878,
           0.16979591836734692,
           0.16367346938775507,
           0.15755102040816327,
           0.15142857142857144,
           0.1453061224489796,
           0.13918367346938773,
           0.13306122448979593,
           0.1269387755102041,
           0.12081632653061224,
           0.1146938775510204,
           0.10857142857142854,
           0.10244897959183677,
           0.09632653061224491,
           0.09020408163265309,
           0.08408163265306118,
           0.07795918367346938,
           0.07183673469387752,
           0.06571428571428573,
           0.05959183673469387,
           0.053469387755102016
          ],
          [
           0.3371428571428572,
           0.3310204081632653,
           0.3248979591836735,
           0.3187755102040816,
           0.3126530612244899,
           0.306530612244898,
           0.3004081632653061,
           0.2942857142857143,
           0.28816326530612246,
           0.28204081632653066,
           0.27591836734693875,
           0.26979591836734695,
           0.2636734693877551,
           0.25755102040816324,
           0.25142857142857145,
           0.24530612244897956,
           0.2391836734693878,
           0.23306122448979594,
           0.22693877551020408,
           0.22081632653061226,
           0.2146938775510204,
           0.20857142857142863,
           0.20244897959183675,
           0.19632653061224492,
           0.19020408163265307,
           0.18408163265306127,
           0.1779591836734694,
           0.17183673469387756,
           0.16571428571428573,
           0.1595918367346939,
           0.15346938775510205,
           0.1473469387755102,
           0.1412244897959184,
           0.13510204081632654,
           0.12897959183673474,
           0.12285714285714286,
           0.11673469387755105,
           0.11061224489795919,
           0.10448979591836735,
           0.09836734693877552,
           0.0922448979591837,
           0.0861224489795919,
           0.08000000000000007,
           0.07387755102040822,
           0.0677551020408163,
           0.06163265306122451,
           0.05551020408163271,
           0.04938775510204085,
           0.043265306122449,
           0.037142857142857144
          ],
          [
           0.3208163265306122,
           0.3146938775510204,
           0.3085714285714285,
           0.30244897959183675,
           0.2963265306122449,
           0.29020408163265304,
           0.28408163265306113,
           0.27795918367346933,
           0.2718367346938775,
           0.2657142857142857,
           0.2595918367346939,
           0.25346938775510197,
           0.24734693877551012,
           0.24122448979591837,
           0.23510204081632646,
           0.2289795918367346,
           0.22285714285714284,
           0.21673469387755098,
           0.21061224489795913,
           0.2044897959183673,
           0.1983673469387755,
           0.19224489795918365,
           0.1861224489795918,
           0.17999999999999994,
           0.17387755102040814,
           0.16775510204081628,
           0.16163265306122448,
           0.1555102040816326,
           0.14938775510204078,
           0.14326530612244892,
           0.1371428571428571,
           0.13102040816326527,
           0.12489795918367344,
           0.1187755102040816,
           0.11265306122448979,
           0.1065306122448979,
           0.10040816326530609,
           0.09428571428571425,
           0.0881632653061224,
           0.08204081632653057,
           0.07591836734693871,
           0.06979591836734694,
           0.06367346938775509,
           0.057551020408163234,
           0.051428571428571324,
           0.04530612244897958,
           0.039183673469387725,
           0.03306122448979587,
           0.026938775510204016,
           0.02081632653061216
          ],
          [
           0.30448979591836733,
           0.2983673469387755,
           0.29224489795918374,
           0.2861224489795919,
           0.28,
           0.27387755102040817,
           0.26775510204081626,
           0.26163265306122446,
           0.2555102040816326,
           0.2493877551020408,
           0.243265306122449,
           0.2371428571428571,
           0.23102040816326536,
           0.22489795918367345,
           0.21877551020408162,
           0.21265306122448976,
           0.20653061224489794,
           0.20040816326530608,
           0.19428571428571423,
           0.18816326530612246,
           0.1820408163265306,
           0.17591836734693878,
           0.1697959183673469,
           0.16367346938775507,
           0.15755102040816324,
           0.1514285714285714,
           0.14530612244897959,
           0.13918367346938773,
           0.13306122448979588,
           0.12693877551020405,
           0.12081632653061221,
           0.11469387755102037,
           0.10857142857142855,
           0.10244897959183671,
           0.0963265306122449,
           0.09020408163265302,
           0.0840816326530612,
           0.07795918367346935,
           0.07183673469387755,
           0.0657142857142857,
           0.05959183673469387,
           0.05346938775510207,
           0.04734693877551022,
           0.04122448979591836,
           0.03510204081632651,
           0.02897959183673471,
           0.022857142857142854,
           0.016734693877551,
           0.010612244897959144,
           0.004489795918367345
          ],
          [
           0.28816326530612246,
           0.28204081632653066,
           0.2759183673469388,
           0.26979591836734695,
           0.2636734693877551,
           0.25755102040816324,
           0.25142857142857133,
           0.24530612244897954,
           0.23918367346938768,
           0.23306122448979588,
           0.22693877551020408,
           0.22081632653061228,
           0.21469387755102037,
           0.20857142857142857,
           0.20244897959183672,
           0.19632653061224487,
           0.19020408163265304,
           0.18408163265306118,
           0.17795918367346938,
           0.17183673469387756,
           0.1657142857142857,
           0.15959183673469388,
           0.15346938775510205,
           0.1473469387755102,
           0.14122448979591837,
           0.13510204081632654,
           0.12897959183673469,
           0.12285714285714283,
           0.116734693877551,
           0.11061224489795918,
           0.10448979591836734,
           0.09836734693877548,
           0.09224489795918367,
           0.08612244897959183,
           0.08,
           0.07387755102040813,
           0.0677551020408163,
           0.06163265306122448,
           0.055510204081632625,
           0.0493877551020408,
           0.04326530612244894,
           0.037142857142857144,
           0.03102040816326529,
           0.02489795918367349,
           0.01877551020408158,
           0.012653061224489781,
           0.0065306122448979265,
           0.00040816326530607183,
           -0.005714285714285727,
           -0.011836734693877637
          ],
          [
           0.27183673469387765,
           0.2657142857142858,
           0.25959183673469394,
           0.2534693877551021,
           0.24734693877551023,
           0.24122448979591837,
           0.23510204081632646,
           0.22897959183673466,
           0.2228571428571428,
           0.216734693877551,
           0.2106122448979592,
           0.20448979591836736,
           0.19836734693877556,
           0.1922448979591837,
           0.18612244897959185,
           0.18,
           0.17387755102040817,
           0.16775510204081637,
           0.1616326530612245,
           0.15551020408163266,
           0.14938775510204083,
           0.143265306122449,
           0.13714285714285712,
           0.13102040816326532,
           0.12489795918367348,
           0.11877551020408166,
           0.11265306122448981,
           0.10653061224489796,
           0.10040816326530612,
           0.09428571428571429,
           0.08816326530612245,
           0.08204081632653062,
           0.07591836734693881,
           0.06979591836734696,
           0.06367346938775514,
           0.05755102040816326,
           0.05142857142857146,
           0.04530612244897961,
           0.03918367346938778,
           0.033061224489795926,
           0.02693877551020407,
           0.020816326530612272,
           0.014693877551020473,
           0.008571428571428619,
           0.0024489795918367085,
           -0.0036734693877550906,
           -0.009795918367346945,
           -0.015918367346938744,
           -0.022040816326530654,
           -0.028163265306122454
          ],
          [
           0.2555102040816327,
           0.24938775510204086,
           0.243265306122449,
           0.23714285714285716,
           0.2310204081632653,
           0.22489795918367345,
           0.21877551020408154,
           0.21265306122448974,
           0.20653061224489788,
           0.2004081632653062,
           0.19428571428571428,
           0.18816326530612248,
           0.18204081632653066,
           0.1759183673469388,
           0.16979591836734695,
           0.1636734693877551,
           0.15755102040816332,
           0.15142857142857147,
           0.1453061224489796,
           0.13918367346938776,
           0.13306122448979596,
           0.1269387755102041,
           0.12081632653061228,
           0.11469387755102042,
           0.1085714285714286,
           0.10244897959183677,
           0.09632653061224494,
           0.09020408163265307,
           0.08408163265306125,
           0.07795918367346942,
           0.07183673469387758,
           0.06571428571428574,
           0.05959183673469391,
           0.05346938775510207,
           0.04734693877551027,
           0.04122448979591839,
           0.035102040816326535,
           0.02897959183673471,
           0.022857142857142854,
           0.016734693877551,
           0.010612244897959144,
           0.004489795918367401,
           -0.0016326530612244539,
           -0.0077551020408163085,
           -0.013877551020408219,
           -0.020000000000000018,
           -0.026122448979591817,
           -0.03224489795918373,
           -0.03836734693877547,
           -0.044489795918367325
          ],
          [
           0.2391836734693878,
           0.23306122448979594,
           0.22693877551020408,
           0.22081632653061223,
           0.21469387755102037,
           0.20857142857142852,
           0.2024489795918366,
           0.1963265306122448,
           0.19020408163265307,
           0.1840816326530612,
           0.1779591836734694,
           0.17183673469387756,
           0.1657142857142857,
           0.15959183673469385,
           0.153469387755102,
           0.1473469387755102,
           0.14122448979591837,
           0.1351020408163265,
           0.12897959183673463,
           0.12285714285714283,
           0.11673469387755099,
           0.11061224489795918,
           0.10448979591836731,
           0.09836734693877548,
           0.09224489795918364,
           0.08612244897959181,
           0.07999999999999999,
           0.07387755102040813,
           0.06775510204081629,
           0.06163265306122446,
           0.055510204081632625,
           0.049387755102040784,
           0.04326530612244897,
           0.037142857142857116,
           0.031020408163265317,
           0.024897959183673435,
           0.018775510204081636,
           0.012653061224489781,
           0.0065306122448979265,
           0.00040816326530607183,
           -0.005714285714285727,
           -0.011836734693877526,
           -0.01795918367346938,
           -0.024081632653061236,
           -0.030204081632653146,
           -0.03632653061224489,
           -0.0424489795918368,
           -0.04857142857142854,
           -0.0546938775510204,
           -0.06081632653061231
          ],
          [
           0.22285714285714286,
           0.216734693877551,
           0.21061224489795916,
           0.2044897959183673,
           0.19836734693877545,
           0.1922448979591836,
           0.18612244897959168,
           0.18,
           0.17387755102040808,
           0.16775510204081634,
           0.16163265306122448,
           0.15551020408163266,
           0.1493877551020408,
           0.14326530612244895,
           0.13714285714285715,
           0.1310204081632653,
           0.12489795918367347,
           0.11877551020408161,
           0.11265306122448979,
           0.10653061224489793,
           0.10040816326530613,
           0.09428571428571428,
           0.08816326530612242,
           0.08204081632653058,
           0.07591836734693877,
           0.06979591836734693,
           0.0636734693877551,
           0.05755102040816325,
           0.0514285714285714,
           0.045306122448979594,
           0.03918367346938774,
           0.0330612244897959,
           0.02693877551020407,
           0.020816326530612245,
           0.014693877551020418,
           0.008571428571428563,
           0.0024489795918367085,
           -0.003673469387755146,
           -0.009795918367347,
           -0.0159183673469388,
           -0.022040816326530654,
           -0.028163265306122454,
           -0.03428571428571431,
           -0.04040816326530611,
           -0.04653061224489802,
           -0.05265306122448987,
           -0.058775510204081616,
           -0.06489795918367347,
           -0.07102040816326527,
           -0.07714285714285718
          ],
          [
           0.206530612244898,
           0.20040816326530614,
           0.19428571428571428,
           0.18816326530612243,
           0.18204081632653057,
           0.17591836734693872,
           0.16979591836734692,
           0.16367346938775507,
           0.15755102040816327,
           0.15142857142857147,
           0.1453061224489796,
           0.13918367346938776,
           0.1330612244897959,
           0.1269387755102041,
           0.12081632653061225,
           0.1146938775510204,
           0.10857142857142857,
           0.10244897959183674,
           0.09632653061224489,
           0.09020408163265307,
           0.08408163265306123,
           0.0779591836734694,
           0.07183673469387754,
           0.06571428571428571,
           0.059591836734693884,
           0.05346938775510205,
           0.04734693877551022,
           0.041224489795918355,
           0.035102040816326535,
           0.028979591836734694,
           0.022857142857142854,
           0.016734693877551,
           0.0106122448979592,
           0.004489795918367345,
           -0.0016326530612244539,
           -0.007755102040816364,
           -0.013877551020408163,
           -0.020000000000000018,
           -0.026122448979591817,
           -0.03224489795918367,
           -0.038367346938775526,
           -0.044489795918367325,
           -0.050612244897959124,
           -0.05673469387755098,
           -0.06285714285714294,
           -0.06897959183673463,
           -0.07510204081632649,
           -0.08122448979591834,
           -0.08734693877551025,
           -0.09346938775510205
          ],
          [
           0.190204081632653,
           0.1840816326530612,
           0.1779591836734693,
           0.1718367346938775,
           0.1657142857142856,
           0.1595918367346939,
           0.15346938775510194,
           0.14734693877551014,
           0.14122448979591828,
           0.13510204081632649,
           0.12897959183673466,
           0.1228571428571428,
           0.116734693877551,
           0.11061224489795915,
           0.1044897959183673,
           0.09836734693877544,
           0.09224489795918364,
           0.08612244897959179,
           0.07999999999999993,
           0.07387755102040812,
           0.06775510204081629,
           0.06163265306122445,
           0.0555102040816326,
           0.04938775510204077,
           0.043265306122448936,
           0.0371428571428571,
           0.03102040816326527,
           0.024897959183673407,
           0.018775510204081566,
           0.012653061224489753,
           0.006530612244897899,
           0.00040816326530607183,
           -0.005714285714285755,
           -0.011836734693877582,
           -0.017959183673469437,
           -0.02408163265306129,
           -0.030204081632653146,
           -0.03632653061224489,
           -0.0424489795918368,
           -0.0485714285714286,
           -0.05469387755102051,
           -0.06081632653061231,
           -0.06693877551020405,
           -0.07306122448979602,
           -0.07918367346938793,
           -0.08530612244897962,
           -0.09142857142857141,
           -0.09755102040816332,
           -0.10367346938775512,
           -0.10979591836734703
          ],
          [
           0.17387755102040814,
           0.16775510204081628,
           0.16163265306122443,
           0.15551020408163257,
           0.14938775510204083,
           0.14326530612244892,
           0.137142857142857,
           0.13102040816326527,
           0.12489795918367341,
           0.11877551020408161,
           0.11265306122448976,
           0.10653061224489796,
           0.1004081632653061,
           0.09428571428571425,
           0.0881632653061224,
           0.08204081632653057,
           0.07591836734693874,
           0.06979591836734692,
           0.06367346938775506,
           0.057551020408163234,
           0.05142857142857139,
           0.04530612244897957,
           0.03918367346938771,
           0.033061224489795885,
           0.026938775510204047,
           0.02081632653061221,
           0.01469387755102039,
           0.008571428571428522,
           0.0024489795918367085,
           -0.003673469387755146,
           -0.009795918367346973,
           -0.015918367346938828,
           -0.022040816326530627,
           -0.02816326530612248,
           -0.03428571428571431,
           -0.04040816326530622,
           -0.04653061224489796,
           -0.05265306122448982,
           -0.05877551020408167,
           -0.06489795918367353,
           -0.07102040816326538,
           -0.07714285714285712,
           -0.08326530612244903,
           -0.08938775510204078,
           -0.09551020408163269,
           -0.10163265306122449,
           -0.10775510204081629,
           -0.1138775510204082,
           -0.1200000000000001,
           -0.1261224489795919
          ],
          [
           0.15755102040816327,
           0.1514285714285714,
           0.14530612244897956,
           0.13918367346938781,
           0.1330612244897959,
           0.1269387755102041,
           0.1208163265306122,
           0.1146938775510204,
           0.10857142857142854,
           0.10244897959183674,
           0.09632653061224494,
           0.09020408163265309,
           0.08408163265306123,
           0.07795918367346938,
           0.07183673469387755,
           0.06571428571428568,
           0.059591836734693884,
           0.05346938775510203,
           0.04734693877551019,
           0.04122448979591835,
           0.03510204081632653,
           0.028979591836734698,
           0.022857142857142836,
           0.01673469387755101,
           0.010612244897959165,
           0.004489795918367359,
           -0.0016326530612244955,
           -0.007755102040816336,
           -0.013877551020408191,
           -0.01999999999999999,
           -0.026122448979591845,
           -0.03224489795918367,
           -0.038367346938775526,
           -0.04448979591836738,
           -0.05061224489795918,
           -0.056734693877551035,
           -0.06285714285714283,
           -0.06897959183673469,
           -0.07510204081632654,
           -0.0812244897959184,
           -0.0873469387755102,
           -0.09346938775510205,
           -0.0995918367346938,
           -0.10571428571428565,
           -0.11183673469387756,
           -0.11795918367346936,
           -0.12408163265306127,
           -0.13020408163265307,
           -0.13632653061224498,
           -0.14244897959183678
          ],
          [
           0.14122448979591834,
           0.13510204081632649,
           0.12897959183673474,
           0.12285714285714283,
           0.11673469387755103,
           0.11061224489795918,
           0.10448979591836727,
           0.09836734693877547,
           0.09224489795918361,
           0.08612244897959187,
           0.08000000000000002,
           0.07387755102040816,
           0.0677551020408163,
           0.06163265306122448,
           0.055510204081632625,
           0.04938775510204081,
           0.043265306122448985,
           0.037142857142857144,
           0.031020408163265303,
           0.02489795918367347,
           0.01877551020408164,
           0.01265306122448981,
           0.006530612244897951,
           0.0004081632653061204,
           -0.005714285714285713,
           -0.01183673469387754,
           -0.01795918367346938,
           -0.024081632653061236,
           -0.030204081632653063,
           -0.03632653061224492,
           -0.042448979591836744,
           -0.0485714285714286,
           -0.0546938775510204,
           -0.06081632653061225,
           -0.06693877551020405,
           -0.0730612244897959,
           -0.07918367346938776,
           -0.08530612244897962,
           -0.09142857142857147,
           -0.09755102040816327,
           -0.10367346938775518,
           -0.10979591836734687,
           -0.11591836734693872,
           -0.12204081632653058,
           -0.1281632653061225,
           -0.13428571428571423,
           -0.14040816326530614,
           -0.14653061224489794,
           -0.15265306122448985,
           -0.15877551020408165
          ],
          [
           0.12489795918367347,
           0.11877551020408172,
           0.11265306122448981,
           0.10653061224489802,
           0.10040816326530616,
           0.0942857142857143,
           0.0881632653061224,
           0.0820408163265306,
           0.0759183673469388,
           0.069795918367347,
           0.06367346938775514,
           0.05755102040816329,
           0.05142857142857146,
           0.04530612244897961,
           0.03918367346938778,
           0.033061224489795926,
           0.026938775510204113,
           0.020816326530612272,
           0.014693877551020425,
           0.008571428571428594,
           0.0024489795918367662,
           -0.003673469387755063,
           -0.009795918367346924,
           -0.015918367346938744,
           -0.022040816326530585,
           -0.028163265306122426,
           -0.034285714285714225,
           -0.04040816326530611,
           -0.046530612244897934,
           -0.05265306122448976,
           -0.058775510204081616,
           -0.06489795918367347,
           -0.07102040816326533,
           -0.07714285714285707,
           -0.08326530612244892,
           -0.08938775510204078,
           -0.09551020408163263,
           -0.10163265306122443,
           -0.10775510204081629,
           -0.1138775510204082,
           -0.11999999999999994,
           -0.12612244897959174,
           -0.1322448979591836,
           -0.13836734693877545,
           -0.14448979591836736,
           -0.1506122448979592,
           -0.156734693877551,
           -0.1628571428571428,
           -0.16897959183673472,
           -0.17510204081632663
          ],
          [
           0.1085714285714286,
           0.10244897959183669,
           0.09632653061224489,
           0.09020408163265303,
           0.08408163265306118,
           0.07795918367346932,
           0.07183673469387741,
           0.06571428571428567,
           0.059591836734693815,
           0.053469387755102016,
           0.04734693877551016,
           0.041224489795918334,
           0.03510204081632648,
           0.028979591836734653,
           0.022857142857142812,
           0.01673469387755097,
           0.010612244897959144,
           0.004489795918367311,
           -0.0016326530612245371,
           -0.007755102040816366,
           -0.013877551020408194,
           -0.020000000000000025,
           -0.026122448979591886,
           -0.03224489795918371,
           -0.038367346938775554,
           -0.04448979591836738,
           -0.05061224489795921,
           -0.05673469387755106,
           -0.06285714285714289,
           -0.06897959183673474,
           -0.0751020408163266,
           -0.08122448979591845,
           -0.0873469387755102,
           -0.09346938775510205,
           -0.0995918367346939,
           -0.10571428571428576,
           -0.11183673469387762,
           -0.11795918367346941,
           -0.12408163265306132,
           -0.13020408163265307,
           -0.13632653061224492,
           -0.14244897959183672,
           -0.14857142857142858,
           -0.15469387755102043,
           -0.16081632653061229,
           -0.16693877551020408,
           -0.173061224489796,
           -0.1791836734693878,
           -0.1853061224489797,
           -0.1914285714285714
          ],
          [
           0.09224489795918367,
           0.08612244897959187,
           0.08000000000000002,
           0.07387755102040816,
           0.0677551020408163,
           0.06163265306122445,
           0.0555102040816326,
           0.0493877551020408,
           0.04326530612244894,
           0.037142857142857144,
           0.031020408163265317,
           0.024897959183673463,
           0.018775510204081636,
           0.012653061224489781,
           0.00653061224489794,
           0.0004081632653060857,
           -0.00571428571428572,
           -0.011836734693877565,
           -0.01795918367346941,
           -0.02408163265306124,
           -0.03020408163265307,
           -0.03632653061224489,
           -0.04244897959183676,
           -0.048571428571428585,
           -0.054693877551020426,
           -0.06081632653061225,
           -0.06693877551020408,
           -0.07306122448979593,
           -0.07918367346938776,
           -0.08530612244897962,
           -0.09142857142857147,
           -0.09755102040816327,
           -0.10367346938775512,
           -0.10979591836734692,
           -0.11591836734693878,
           -0.12204081632653063,
           -0.12816326530612243,
           -0.13428571428571434,
           -0.14040816326530609,
           -0.14653061224489794,
           -0.1526530612244898,
           -0.1587755102040816,
           -0.16489795918367345,
           -0.1710204081632653,
           -0.17714285714285727,
           -0.18326530612244907,
           -0.18938775510204087,
           -0.19551020408163267,
           -0.20163265306122446,
           -0.20775510204081638
          ],
          [
           0.0759183673469388,
           0.069795918367347,
           0.06367346938775509,
           0.05755102040816329,
           0.05142857142857138,
           0.045306122448979635,
           0.039183673469387725,
           0.0330612244897959,
           0.026938775510204044,
           0.020816326530612272,
           0.014693877551020418,
           0.008571428571428591,
           0.0024489795918367363,
           -0.0036734693877551045,
           -0.009795918367346945,
           -0.015918367346938793,
           -0.02204081632653061,
           -0.02816326530612245,
           -0.034285714285714294,
           -0.04040816326530613,
           -0.04653061224489795,
           -0.05265306122448979,
           -0.058775510204081644,
           -0.06489795918367348,
           -0.0710204081632653,
           -0.07714285714285715,
           -0.08326530612244895,
           -0.08938775510204083,
           -0.09551020408163269,
           -0.10163265306122451,
           -0.10775510204081631,
           -0.1138775510204082,
           -0.12,
           -0.12612244897959185,
           -0.13224489795918365,
           -0.1383673469387755,
           -0.14448979591836741,
           -0.1506122448979591,
           -0.156734693877551,
           -0.1628571428571428,
           -0.16897959183673472,
           -0.17510204081632652,
           -0.18122448979591832,
           -0.18734693877551023,
           -0.19346938775510214,
           -0.19959183673469394,
           -0.20571428571428574,
           -0.21183673469387754,
           -0.21795918367346934,
           -0.22408163265306125
          ],
          [
           0.05959183673469387,
           0.053469387755102016,
           0.04734693877551016,
           0.04122448979591831,
           0.03510204081632651,
           0.028979591836734653,
           0.022857142857142743,
           0.016734693877550944,
           0.010612244897959117,
           0.0044897959183673175,
           -0.0016326530612245371,
           -0.007755102040816364,
           -0.013877551020408205,
           -0.02000000000000006,
           -0.0261224489795919,
           -0.03224489795918374,
           -0.038367346938775554,
           -0.044489795918367395,
           -0.05061224489795924,
           -0.056734693877551076,
           -0.0628571428571429,
           -0.06897959183673473,
           -0.0751020408163266,
           -0.08122448979591841,
           -0.08734693877551025,
           -0.09346938775510208,
           -0.0995918367346939,
           -0.10571428571428579,
           -0.11183673469387762,
           -0.11795918367346941,
           -0.12408163265306127,
           -0.13020408163265312,
           -0.13632653061224498,
           -0.14244897959183678,
           -0.14857142857142858,
           -0.1546938775510205,
           -0.16081632653061223,
           -0.16693877551020408,
           -0.17306122448979594,
           -0.1791836734693878,
           -0.18530612244897965,
           -0.19142857142857145,
           -0.1975510204081633,
           -0.2036734693877551,
           -0.20979591836734712,
           -0.21591836734693892,
           -0.2220408163265306,
           -0.2281632653061224,
           -0.23428571428571432,
           -0.24040816326530623
          ],
          [
           0.04326530612244894,
           0.037142857142857144,
           0.031020408163265234,
           0.02489795918367349,
           0.01877551020408158,
           0.012653061224489781,
           0.006530612244897843,
           0.00040816326530607183,
           -0.005714285714285783,
           -0.011836734693877554,
           -0.01795918367346941,
           -0.02408163265306125,
           -0.030204081632653104,
           -0.03632653061224494,
           -0.042448979591836786,
           -0.048571428571428626,
           -0.05469387755102044,
           -0.06081632653061229,
           -0.06693877551020413,
           -0.07306122448979596,
           -0.07918367346938779,
           -0.08530612244897963,
           -0.09142857142857147,
           -0.09755102040816331,
           -0.10367346938775512,
           -0.10979591836734698,
           -0.1159183673469388,
           -0.12204081632653069,
           -0.1281632653061225,
           -0.1342857142857143,
           -0.14040816326530614,
           -0.14653061224489805,
           -0.15265306122448985,
           -0.15877551020408165,
           -0.16489795918367356,
           -0.1710204081632653,
           -0.17714285714285716,
           -0.18326530612244896,
           -0.18938775510204087,
           -0.19551020408163267,
           -0.20163265306122458,
           -0.20775510204081638,
           -0.21387755102040817,
           -0.22000000000000008,
           -0.226122448979592,
           -0.23224489795918368,
           -0.23836734693877548,
           -0.2444897959183674,
           -0.2506122448979592,
           -0.2567346938775511
          ],
          [
           0.02693877551020407,
           0.020816326530612217,
           0.014693877551020418,
           0.008571428571428563,
           0.0024489795918367085,
           -0.003673469387755146,
           -0.009795918367347028,
           -0.015918367346938828,
           -0.022040816326530654,
           -0.028163265306122454,
           -0.034285714285714294,
           -0.04040816326530615,
           -0.04653061224489798,
           -0.05265306122448983,
           -0.05877551020408167,
           -0.06489795918367351,
           -0.07102040816326533,
           -0.07714285714285717,
           -0.08326530612244902,
           -0.08938775510204085,
           -0.09551020408163269,
           -0.1016326530612245,
           -0.10775510204081637,
           -0.1138775510204082,
           -0.12000000000000002,
           -0.12612244897959188,
           -0.1322448979591837,
           -0.13836734693877553,
           -0.14448979591836736,
           -0.1506122448979592,
           -0.15673469387755107,
           -0.16285714285714292,
           -0.16897959183673467,
           -0.17510204081632663,
           -0.18122448979591832,
           -0.18734693877551023,
           -0.19346938775510203,
           -0.19959183673469388,
           -0.20571428571428574,
           -0.2118367346938776,
           -0.21795918367346945,
           -0.22408163265306125,
           -0.23020408163265305,
           -0.23632653061224496,
           -0.24244897959183676,
           -0.24857142857142855,
           -0.25469387755102035,
           -0.26081632653061226,
           -0.2669387755102042,
           -0.273061224489796
          ],
          [
           0.0106122448979592,
           0.004489795918367401,
           -0.0016326530612244539,
           -0.0077551020408163085,
           -0.013877551020408163,
           -0.01999999999999999,
           -0.0261224489795919,
           -0.03224489795918367,
           -0.038367346938775526,
           -0.04448979591836731,
           -0.05061224489795915,
           -0.056734693877551,
           -0.06285714285714285,
           -0.06897959183673469,
           -0.07510204081632653,
           -0.08122448979591837,
           -0.08734693877551018,
           -0.09346938775510204,
           -0.09959183673469388,
           -0.10571428571428572,
           -0.11183673469387753,
           -0.11795918367346937,
           -0.12408163265306121,
           -0.13020408163265307,
           -0.1363265306122449,
           -0.14244897959183675,
           -0.14857142857142852,
           -0.1546938775510204,
           -0.16081632653061223,
           -0.16693877551020408,
           -0.17306122448979594,
           -0.17918367346938774,
           -0.1853061224489796,
           -0.1914285714285714,
           -0.1975510204081632,
           -0.2036734693877551,
           -0.2097959183673469,
           -0.21591836734693876,
           -0.2220408163265306,
           -0.22816326530612246,
           -0.23428571428571432,
           -0.24040816326530612,
           -0.24653061224489803,
           -0.2526530612244897,
           -0.2587755102040816,
           -0.2648979591836734,
           -0.27102040816326534,
           -0.27714285714285714,
           -0.28326530612244893,
           -0.28938775510204084
          ],
          [
           -0.005714285714285616,
           -0.011836734693877526,
           -0.017959183673469326,
           -0.024081632653061236,
           -0.030204081632653035,
           -0.03632653061224489,
           -0.04244897959183677,
           -0.04857142857142857,
           -0.05469387755102041,
           -0.0608163265306122,
           -0.06693877551020405,
           -0.07306122448979589,
           -0.07918367346938773,
           -0.08530612244897957,
           -0.09142857142857141,
           -0.09755102040816326,
           -0.10367346938775508,
           -0.10979591836734692,
           -0.11591836734693875,
           -0.12204081632653059,
           -0.12816326530612243,
           -0.13428571428571423,
           -0.1404081632653061,
           -0.14653061224489797,
           -0.1526530612244898,
           -0.1587755102040816,
           -0.16489795918367342,
           -0.1710204081632653,
           -0.17714285714285716,
           -0.1832653061224489,
           -0.1893877551020408,
           -0.19551020408163267,
           -0.2016326530612244,
           -0.20775510204081626,
           -0.21387755102040806,
           -0.21999999999999997,
           -0.22612244897959177,
           -0.23224489795918368,
           -0.23836734693877548,
           -0.2444897959183674,
           -0.2506122448979592,
           -0.256734693877551,
           -0.2628571428571428,
           -0.2689795918367346,
           -0.2751020408163265,
           -0.2812244897959183,
           -0.2873469387755102,
           -0.293469387755102,
           -0.2995918367346939,
           -0.3057142857142857
          ],
          [
           -0.022040816326530543,
           -0.028163265306122398,
           -0.034285714285714225,
           -0.04040816326530608,
           -0.046530612244897934,
           -0.05265306122448976,
           -0.05877551020408167,
           -0.06489795918367346,
           -0.0710204081632653,
           -0.0771428571428571,
           -0.08326530612244892,
           -0.08938775510204078,
           -0.09551020408163262,
           -0.10163265306122446,
           -0.1077551020408163,
           -0.11387755102040815,
           -0.11999999999999997,
           -0.1261224489795918,
           -0.13224489795918365,
           -0.1383673469387755,
           -0.1444897959183673,
           -0.15061224489795916,
           -0.156734693877551,
           -0.16285714285714287,
           -0.16897959183673464,
           -0.1751020408163265,
           -0.18122448979591832,
           -0.1873469387755102,
           -0.19346938775510197,
           -0.19959183673469383,
           -0.20571428571428574,
           -0.21183673469387748,
           -0.21795918367346934,
           -0.22408163265306114,
           -0.230204081632653,
           -0.23632653061224485,
           -0.2424489795918367,
           -0.24857142857142855,
           -0.2546938775510204,
           -0.26081632653061226,
           -0.2669387755102042,
           -0.27306122448979586,
           -0.27918367346938766,
           -0.28530612244897946,
           -0.2914285714285715,
           -0.2975510204081633,
           -0.3036734693877551,
           -0.3097959183673469,
           -0.3159183673469388,
           -0.3220408163265307
          ],
          [
           -0.03836734693877558,
           -0.044489795918367436,
           -0.05061224489795926,
           -0.05673469387755112,
           -0.06285714285714297,
           -0.0689795918367348,
           -0.07510204081632671,
           -0.0812244897959185,
           -0.08734693877551034,
           -0.09346938775510212,
           -0.09959183673469396,
           -0.10571428571428582,
           -0.11183673469387764,
           -0.1179591836734695,
           -0.12408163265306134,
           -0.13020408163265318,
           -0.136326530612245,
           -0.14244897959183683,
           -0.1485714285714287,
           -0.15469387755102054,
           -0.16081632653061234,
           -0.1669387755102042,
           -0.17306122448979605,
           -0.17918367346938785,
           -0.18530612244897968,
           -0.19142857142857153,
           -0.19755102040816336,
           -0.2036734693877552,
           -0.209795918367347,
           -0.21591836734693892,
           -0.22204081632653078,
           -0.22816326530612252,
           -0.23428571428571432,
           -0.24040816326530623,
           -0.24653061224489803,
           -0.25265306122448994,
           -0.25877551020408174,
           -0.2648979591836736,
           -0.27102040816326545,
           -0.2771428571428573,
           -0.28326530612244905,
           -0.28938775510204084,
           -0.29551020408163264,
           -0.30163265306122455,
           -0.30775510204081646,
           -0.31387755102040826,
           -0.32000000000000006,
           -0.326122448979592,
           -0.3322448979591839,
           -0.33836734693877557
          ],
          [
           -0.05469387755102045,
           -0.06081632653061228,
           -0.06693877551020413,
           -0.07306122448979599,
           -0.07918367346938782,
           -0.08530612244897966,
           -0.09142857142857157,
           -0.09755102040816335,
           -0.1036734693877552,
           -0.10979591836734698,
           -0.11591836734693883,
           -0.12204081632653066,
           -0.12816326530612251,
           -0.13428571428571434,
           -0.1404081632653062,
           -0.14653061224489805,
           -0.15265306122448985,
           -0.1587755102040817,
           -0.16489795918367353,
           -0.17102040816326536,
           -0.1771428571428572,
           -0.18326530612244907,
           -0.18938775510204087,
           -0.19551020408163272,
           -0.20163265306122455,
           -0.2077551020408164,
           -0.21387755102040823,
           -0.22000000000000003,
           -0.22612244897959194,
           -0.23224489795918368,
           -0.23836734693877554,
           -0.2444897959183674,
           -0.2506122448979592,
           -0.2567346938775511,
           -0.2628571428571429,
           -0.2689795918367348,
           -0.2751020408163266,
           -0.28122448979591846,
           -0.2873469387755103,
           -0.293469387755102,
           -0.2995918367346939,
           -0.3057142857142857,
           -0.3118367346938776,
           -0.3179591836734694,
           -0.32408163265306134,
           -0.33020408163265313,
           -0.33632653061224504,
           -0.34244897959183684,
           -0.34857142857142853,
           -0.35469387755102055
          ],
          [
           -0.0710204081632653,
           -0.07714285714285721,
           -0.083265306122449,
           -0.08938775510204086,
           -0.0955102040816327,
           -0.10163265306122456,
           -0.10775510204081645,
           -0.11387755102040824,
           -0.12000000000000008,
           -0.12612244897959188,
           -0.1322448979591837,
           -0.13836734693877556,
           -0.14448979591836741,
           -0.15061224489795924,
           -0.1567346938775511,
           -0.16285714285714292,
           -0.16897959183673475,
           -0.17510204081632658,
           -0.18122448979591843,
           -0.18734693877551029,
           -0.1934693877551021,
           -0.19959183673469388,
           -0.20571428571428577,
           -0.21183673469387762,
           -0.21795918367346945,
           -0.2240816326530613,
           -0.2302040816326531,
           -0.236326530612245,
           -0.24244897959183676,
           -0.24857142857142855,
           -0.25469387755102046,
           -0.26081632653061226,
           -0.2669387755102041,
           -0.273061224489796,
           -0.27918367346938777,
           -0.2853061224489797,
           -0.2914285714285715,
           -0.2975510204081634,
           -0.3036734693877551,
           -0.309795918367347,
           -0.3159183673469388,
           -0.3220408163265306,
           -0.3281632653061225,
           -0.3342857142857143,
           -0.3404081632653062,
           -0.346530612244898,
           -0.3526530612244899,
           -0.3587755102040816,
           -0.3648979591836736,
           -0.3710204081632653
          ],
          [
           -0.08734693877551022,
           -0.09346938775510205,
           -0.0995918367346939,
           -0.10571428571428575,
           -0.1118367346938776,
           -0.11795918367346944,
           -0.12408163265306134,
           -0.13020408163265312,
           -0.13632653061224498,
           -0.14244897959183675,
           -0.1485714285714286,
           -0.15469387755102043,
           -0.16081632653061229,
           -0.16693877551020414,
           -0.17306122448979597,
           -0.17918367346938782,
           -0.18530612244897962,
           -0.19142857142857148,
           -0.19755102040816333,
           -0.20367346938775516,
           -0.20979591836734696,
           -0.2159183673469388,
           -0.22204081632653067,
           -0.22816326530612252,
           -0.23428571428571435,
           -0.24040816326530615,
           -0.24653061224489803,
           -0.25265306122448977,
           -0.2587755102040816,
           -0.2648979591836735,
           -0.27102040816326534,
           -0.2771428571428572,
           -0.28326530612244905,
           -0.28938775510204084,
           -0.2955102040816327,
           -0.30163265306122455,
           -0.3077551020408164,
           -0.31387755102040815,
           -0.31999999999999995,
           -0.32612244897959186,
           -0.33224489795918377,
           -0.33836734693877557,
           -0.34448979591836737,
           -0.35061224489795917,
           -0.3567346938775512,
           -0.362857142857143,
           -0.3689795918367347,
           -0.3751020408163266,
           -0.3812244897959184,
           -0.3873469387755104
          ],
          [
           -0.10367346938775512,
           -0.10979591836734695,
           -0.11591836734693879,
           -0.12204081632653065,
           -0.1281632653061225,
           -0.1342857142857143,
           -0.14040816326530622,
           -0.14653061224489802,
           -0.15265306122448985,
           -0.15877551020408165,
           -0.1648979591836735,
           -0.17102040816326533,
           -0.17714285714285719,
           -0.183265306122449,
           -0.18938775510204087,
           -0.1955102040816327,
           -0.20163265306122452,
           -0.20775510204081638,
           -0.21387755102040823,
           -0.22000000000000003,
           -0.22612244897959186,
           -0.23224489795918368,
           -0.23836734693877557,
           -0.24448979591836742,
           -0.2506122448979592,
           -0.2567346938775511,
           -0.26285714285714284,
           -0.2689795918367347,
           -0.27510204081632655,
           -0.2812244897959184,
           -0.2873469387755102,
           -0.2934693877551021,
           -0.2995918367346939,
           -0.30571428571428577,
           -0.3118367346938776,
           -0.3179591836734695,
           -0.3240816326530612,
           -0.330204081632653,
           -0.33632653061224493,
           -0.34244897959183673,
           -0.34857142857142864,
           -0.35469387755102044,
           -0.36081632653061224,
           -0.36693877551020415,
           -0.37306122448979606,
           -0.37918367346938775,
           -0.38530612244897966,
           -0.39142857142857146,
           -0.39755102040816337,
           -0.40367346938775517
          ],
          [
           -0.12,
           -0.12612244897959185,
           -0.13224489795918368,
           -0.13836734693877553,
           -0.14448979591836736,
           -0.1506122448979592,
           -0.15673469387755112,
           -0.1628571428571429,
           -0.16897959183673472,
           -0.17510204081632652,
           -0.18122448979591838,
           -0.18734693877551023,
           -0.19346938775510206,
           -0.1995918367346939,
           -0.20571428571428574,
           -0.2118367346938776,
           -0.21795918367346942,
           -0.22408163265306127,
           -0.23020408163265307,
           -0.2363265306122449,
           -0.24244897959183676,
           -0.2485714285714286,
           -0.25469387755102046,
           -0.26081632653061226,
           -0.2669387755102042,
           -0.27306122448979586,
           -0.2791836734693877,
           -0.28530612244897957,
           -0.2914285714285714,
           -0.2975510204081633,
           -0.30367346938775513,
           -0.309795918367347,
           -0.3159183673469388,
           -0.3220408163265307,
           -0.3281632653061225,
           -0.3342857142857143,
           -0.3404081632653061,
           -0.346530612244898,
           -0.3526530612244898,
           -0.3587755102040817,
           -0.3648979591836735,
           -0.3710204081632653,
           -0.3771428571428571,
           -0.383265306122449,
           -0.3893877551020408,
           -0.39551020408163273,
           -0.4016326530612244,
           -0.40775510204081644,
           -0.41387755102040824,
           -0.41999999999999993
          ]
         ]
        }
       ],
       "layout": {
        "scene": {
         "xaxis": {
          "title": {
           "text": "w1"
          }
         },
         "yaxis": {
          "title": {
           "text": "w2"
          }
         },
         "zaxis": {
          "title": {
           "text": "Expected Value"
          }
         }
        },
        "template": {
         "data": {
          "bar": [
           {
            "error_x": {
             "color": "#2a3f5f"
            },
            "error_y": {
             "color": "#2a3f5f"
            },
            "marker": {
             "line": {
              "color": "#E5ECF6",
              "width": 0.5
             }
            },
            "type": "bar"
           }
          ],
          "barpolar": [
           {
            "marker": {
             "line": {
              "color": "#E5ECF6",
              "width": 0.5
             }
            },
            "type": "barpolar"
           }
          ],
          "carpet": [
           {
            "aaxis": {
             "endlinecolor": "#2a3f5f",
             "gridcolor": "white",
             "linecolor": "white",
             "minorgridcolor": "white",
             "startlinecolor": "#2a3f5f"
            },
            "baxis": {
             "endlinecolor": "#2a3f5f",
             "gridcolor": "white",
             "linecolor": "white",
             "minorgridcolor": "white",
             "startlinecolor": "#2a3f5f"
            },
            "type": "carpet"
           }
          ],
          "choropleth": [
           {
            "colorbar": {
             "outlinewidth": 0,
             "ticks": ""
            },
            "type": "choropleth"
           }
          ],
          "contour": [
           {
            "colorbar": {
             "outlinewidth": 0,
             "ticks": ""
            },
            "colorscale": [
             [
              0,
              "#0d0887"
             ],
             [
              0.1111111111111111,
              "#46039f"
             ],
             [
              0.2222222222222222,
              "#7201a8"
             ],
             [
              0.3333333333333333,
              "#9c179e"
             ],
             [
              0.4444444444444444,
              "#bd3786"
             ],
             [
              0.5555555555555556,
              "#d8576b"
             ],
             [
              0.6666666666666666,
              "#ed7953"
             ],
             [
              0.7777777777777778,
              "#fb9f3a"
             ],
             [
              0.8888888888888888,
              "#fdca26"
             ],
             [
              1,
              "#f0f921"
             ]
            ],
            "type": "contour"
           }
          ],
          "contourcarpet": [
           {
            "colorbar": {
             "outlinewidth": 0,
             "ticks": ""
            },
            "type": "contourcarpet"
           }
          ],
          "heatmap": [
           {
            "colorbar": {
             "outlinewidth": 0,
             "ticks": ""
            },
            "colorscale": [
             [
              0,
              "#0d0887"
             ],
             [
              0.1111111111111111,
              "#46039f"
             ],
             [
              0.2222222222222222,
              "#7201a8"
             ],
             [
              0.3333333333333333,
              "#9c179e"
             ],
             [
              0.4444444444444444,
              "#bd3786"
             ],
             [
              0.5555555555555556,
              "#d8576b"
             ],
             [
              0.6666666666666666,
              "#ed7953"
             ],
             [
              0.7777777777777778,
              "#fb9f3a"
             ],
             [
              0.8888888888888888,
              "#fdca26"
             ],
             [
              1,
              "#f0f921"
             ]
            ],
            "type": "heatmap"
           }
          ],
          "heatmapgl": [
           {
            "colorbar": {
             "outlinewidth": 0,
             "ticks": ""
            },
            "colorscale": [
             [
              0,
              "#0d0887"
             ],
             [
              0.1111111111111111,
              "#46039f"
             ],
             [
              0.2222222222222222,
              "#7201a8"
             ],
             [
              0.3333333333333333,
              "#9c179e"
             ],
             [
              0.4444444444444444,
              "#bd3786"
             ],
             [
              0.5555555555555556,
              "#d8576b"
             ],
             [
              0.6666666666666666,
              "#ed7953"
             ],
             [
              0.7777777777777778,
              "#fb9f3a"
             ],
             [
              0.8888888888888888,
              "#fdca26"
             ],
             [
              1,
              "#f0f921"
             ]
            ],
            "type": "heatmapgl"
           }
          ],
          "histogram": [
           {
            "marker": {
             "colorbar": {
              "outlinewidth": 0,
              "ticks": ""
             }
            },
            "type": "histogram"
           }
          ],
          "histogram2d": [
           {
            "colorbar": {
             "outlinewidth": 0,
             "ticks": ""
            },
            "colorscale": [
             [
              0,
              "#0d0887"
             ],
             [
              0.1111111111111111,
              "#46039f"
             ],
             [
              0.2222222222222222,
              "#7201a8"
             ],
             [
              0.3333333333333333,
              "#9c179e"
             ],
             [
              0.4444444444444444,
              "#bd3786"
             ],
             [
              0.5555555555555556,
              "#d8576b"
             ],
             [
              0.6666666666666666,
              "#ed7953"
             ],
             [
              0.7777777777777778,
              "#fb9f3a"
             ],
             [
              0.8888888888888888,
              "#fdca26"
             ],
             [
              1,
              "#f0f921"
             ]
            ],
            "type": "histogram2d"
           }
          ],
          "histogram2dcontour": [
           {
            "colorbar": {
             "outlinewidth": 0,
             "ticks": ""
            },
            "colorscale": [
             [
              0,
              "#0d0887"
             ],
             [
              0.1111111111111111,
              "#46039f"
             ],
             [
              0.2222222222222222,
              "#7201a8"
             ],
             [
              0.3333333333333333,
              "#9c179e"
             ],
             [
              0.4444444444444444,
              "#bd3786"
             ],
             [
              0.5555555555555556,
              "#d8576b"
             ],
             [
              0.6666666666666666,
              "#ed7953"
             ],
             [
              0.7777777777777778,
              "#fb9f3a"
             ],
             [
              0.8888888888888888,
              "#fdca26"
             ],
             [
              1,
              "#f0f921"
             ]
            ],
            "type": "histogram2dcontour"
           }
          ],
          "mesh3d": [
           {
            "colorbar": {
             "outlinewidth": 0,
             "ticks": ""
            },
            "type": "mesh3d"
           }
          ],
          "parcoords": [
           {
            "line": {
             "colorbar": {
              "outlinewidth": 0,
              "ticks": ""
             }
            },
            "type": "parcoords"
           }
          ],
          "pie": [
           {
            "automargin": true,
            "type": "pie"
           }
          ],
          "scatter": [
           {
            "marker": {
             "colorbar": {
              "outlinewidth": 0,
              "ticks": ""
             }
            },
            "type": "scatter"
           }
          ],
          "scatter3d": [
           {
            "line": {
             "colorbar": {
              "outlinewidth": 0,
              "ticks": ""
             }
            },
            "marker": {
             "colorbar": {
              "outlinewidth": 0,
              "ticks": ""
             }
            },
            "type": "scatter3d"
           }
          ],
          "scattercarpet": [
           {
            "marker": {
             "colorbar": {
              "outlinewidth": 0,
              "ticks": ""
             }
            },
            "type": "scattercarpet"
           }
          ],
          "scattergeo": [
           {
            "marker": {
             "colorbar": {
              "outlinewidth": 0,
              "ticks": ""
             }
            },
            "type": "scattergeo"
           }
          ],
          "scattergl": [
           {
            "marker": {
             "colorbar": {
              "outlinewidth": 0,
              "ticks": ""
             }
            },
            "type": "scattergl"
           }
          ],
          "scattermapbox": [
           {
            "marker": {
             "colorbar": {
              "outlinewidth": 0,
              "ticks": ""
             }
            },
            "type": "scattermapbox"
           }
          ],
          "scatterpolar": [
           {
            "marker": {
             "colorbar": {
              "outlinewidth": 0,
              "ticks": ""
             }
            },
            "type": "scatterpolar"
           }
          ],
          "scatterpolargl": [
           {
            "marker": {
             "colorbar": {
              "outlinewidth": 0,
              "ticks": ""
             }
            },
            "type": "scatterpolargl"
           }
          ],
          "scatterternary": [
           {
            "marker": {
             "colorbar": {
              "outlinewidth": 0,
              "ticks": ""
             }
            },
            "type": "scatterternary"
           }
          ],
          "surface": [
           {
            "colorbar": {
             "outlinewidth": 0,
             "ticks": ""
            },
            "colorscale": [
             [
              0,
              "#0d0887"
             ],
             [
              0.1111111111111111,
              "#46039f"
             ],
             [
              0.2222222222222222,
              "#7201a8"
             ],
             [
              0.3333333333333333,
              "#9c179e"
             ],
             [
              0.4444444444444444,
              "#bd3786"
             ],
             [
              0.5555555555555556,
              "#d8576b"
             ],
             [
              0.6666666666666666,
              "#ed7953"
             ],
             [
              0.7777777777777778,
              "#fb9f3a"
             ],
             [
              0.8888888888888888,
              "#fdca26"
             ],
             [
              1,
              "#f0f921"
             ]
            ],
            "type": "surface"
           }
          ],
          "table": [
           {
            "cells": {
             "fill": {
              "color": "#EBF0F8"
             },
             "line": {
              "color": "white"
             }
            },
            "header": {
             "fill": {
              "color": "#C8D4E3"
             },
             "line": {
              "color": "white"
             }
            },
            "type": "table"
           }
          ]
         },
         "layout": {
          "annotationdefaults": {
           "arrowcolor": "#2a3f5f",
           "arrowhead": 0,
           "arrowwidth": 1
          },
          "coloraxis": {
           "colorbar": {
            "outlinewidth": 0,
            "ticks": ""
           }
          },
          "colorscale": {
           "diverging": [
            [
             0,
             "#8e0152"
            ],
            [
             0.1,
             "#c51b7d"
            ],
            [
             0.2,
             "#de77ae"
            ],
            [
             0.3,
             "#f1b6da"
            ],
            [
             0.4,
             "#fde0ef"
            ],
            [
             0.5,
             "#f7f7f7"
            ],
            [
             0.6,
             "#e6f5d0"
            ],
            [
             0.7,
             "#b8e186"
            ],
            [
             0.8,
             "#7fbc41"
            ],
            [
             0.9,
             "#4d9221"
            ],
            [
             1,
             "#276419"
            ]
           ],
           "sequential": [
            [
             0,
             "#0d0887"
            ],
            [
             0.1111111111111111,
             "#46039f"
            ],
            [
             0.2222222222222222,
             "#7201a8"
            ],
            [
             0.3333333333333333,
             "#9c179e"
            ],
            [
             0.4444444444444444,
             "#bd3786"
            ],
            [
             0.5555555555555556,
             "#d8576b"
            ],
            [
             0.6666666666666666,
             "#ed7953"
            ],
            [
             0.7777777777777778,
             "#fb9f3a"
            ],
            [
             0.8888888888888888,
             "#fdca26"
            ],
            [
             1,
             "#f0f921"
            ]
           ],
           "sequentialminus": [
            [
             0,
             "#0d0887"
            ],
            [
             0.1111111111111111,
             "#46039f"
            ],
            [
             0.2222222222222222,
             "#7201a8"
            ],
            [
             0.3333333333333333,
             "#9c179e"
            ],
            [
             0.4444444444444444,
             "#bd3786"
            ],
            [
             0.5555555555555556,
             "#d8576b"
            ],
            [
             0.6666666666666666,
             "#ed7953"
            ],
            [
             0.7777777777777778,
             "#fb9f3a"
            ],
            [
             0.8888888888888888,
             "#fdca26"
            ],
            [
             1,
             "#f0f921"
            ]
           ]
          },
          "colorway": [
           "#636efa",
           "#EF553B",
           "#00cc96",
           "#ab63fa",
           "#FFA15A",
           "#19d3f3",
           "#FF6692",
           "#B6E880",
           "#FF97FF",
           "#FECB52"
          ],
          "font": {
           "color": "#2a3f5f"
          },
          "geo": {
           "bgcolor": "white",
           "lakecolor": "white",
           "landcolor": "#E5ECF6",
           "showlakes": true,
           "showland": true,
           "subunitcolor": "white"
          },
          "hoverlabel": {
           "align": "left"
          },
          "hovermode": "closest",
          "mapbox": {
           "style": "light"
          },
          "paper_bgcolor": "white",
          "plot_bgcolor": "#E5ECF6",
          "polar": {
           "angularaxis": {
            "gridcolor": "white",
            "linecolor": "white",
            "ticks": ""
           },
           "bgcolor": "#E5ECF6",
           "radialaxis": {
            "gridcolor": "white",
            "linecolor": "white",
            "ticks": ""
           }
          },
          "scene": {
           "xaxis": {
            "backgroundcolor": "#E5ECF6",
            "gridcolor": "white",
            "gridwidth": 2,
            "linecolor": "white",
            "showbackground": true,
            "ticks": "",
            "zerolinecolor": "white"
           },
           "yaxis": {
            "backgroundcolor": "#E5ECF6",
            "gridcolor": "white",
            "gridwidth": 2,
            "linecolor": "white",
            "showbackground": true,
            "ticks": "",
            "zerolinecolor": "white"
           },
           "zaxis": {
            "backgroundcolor": "#E5ECF6",
            "gridcolor": "white",
            "gridwidth": 2,
            "linecolor": "white",
            "showbackground": true,
            "ticks": "",
            "zerolinecolor": "white"
           }
          },
          "shapedefaults": {
           "line": {
            "color": "#2a3f5f"
           }
          },
          "ternary": {
           "aaxis": {
            "gridcolor": "white",
            "linecolor": "white",
            "ticks": ""
           },
           "baxis": {
            "gridcolor": "white",
            "linecolor": "white",
            "ticks": ""
           },
           "bgcolor": "#E5ECF6",
           "caxis": {
            "gridcolor": "white",
            "linecolor": "white",
            "ticks": ""
           }
          },
          "title": {
           "x": 0.05
          },
          "xaxis": {
           "automargin": true,
           "gridcolor": "white",
           "linecolor": "white",
           "ticks": "",
           "title": {
            "standoff": 15
           },
           "zerolinecolor": "white",
           "zerolinewidth": 2
          },
          "yaxis": {
           "automargin": true,
           "gridcolor": "white",
           "linecolor": "white",
           "ticks": "",
           "title": {
            "standoff": 15
           },
           "zerolinecolor": "white",
           "zerolinewidth": 2
          }
         }
        }
       }
      },
      "text/html": [
       "<div>\n",
       "        \n",
       "        \n",
       "            <div id=\"71476bba-7ca8-462a-88bf-ef28a5a291b5\" class=\"plotly-graph-div\" style=\"height:525px; width:100%;\"></div>\n",
       "            <script type=\"text/javascript\">\n",
       "                require([\"plotly\"], function(Plotly) {\n",
       "                    window.PLOTLYENV=window.PLOTLYENV || {};\n",
       "                    \n",
       "                if (document.getElementById(\"71476bba-7ca8-462a-88bf-ef28a5a291b5\")) {\n",
       "                    Plotly.newPlot(\n",
       "                        '71476bba-7ca8-462a-88bf-ef28a5a291b5',\n",
       "                        [{\"contours\": {\"z\": {\"color\": \"white\", \"end\": 6, \"show\": true, \"size\": 0.08, \"start\": -2}}, \"type\": \"surface\", \"x\": [-5.0, -4.795918367346939, -4.591836734693878, -4.387755102040816, -4.183673469387755, -3.979591836734694, -3.7755102040816326, -3.571428571428571, -3.36734693877551, -3.163265306122449, -2.9591836734693877, -2.7551020408163263, -2.5510204081632653, -2.3469387755102042, -2.142857142857143, -1.9387755102040813, -1.7346938775510203, -1.5306122448979593, -1.3265306122448979, -1.1224489795918364, -0.9183673469387754, -0.7142857142857144, -0.5102040816326525, -0.3061224489795915, -0.1020408163265305, 0.1020408163265305, 0.3061224489795915, 0.5102040816326534, 0.7142857142857144, 0.9183673469387754, 1.1224489795918373, 1.3265306122448983, 1.5306122448979593, 1.7346938775510203, 1.9387755102040813, 2.1428571428571432, 2.3469387755102042, 2.5510204081632653, 2.755102040816327, 2.959183673469388, 3.163265306122449, 3.36734693877551, 3.571428571428571, 3.775510204081632, 3.979591836734695, 4.183673469387756, 4.387755102040817, 4.591836734693878, 4.795918367346939, 5.0], \"y\": [-5.0, -4.795918367346939, -4.591836734693878, -4.387755102040816, -4.183673469387755, -3.979591836734694, -3.7755102040816326, -3.571428571428571, -3.36734693877551, -3.163265306122449, -2.9591836734693877, -2.7551020408163263, -2.5510204081632653, -2.3469387755102042, -2.142857142857143, -1.9387755102040813, -1.7346938775510203, -1.5306122448979593, -1.3265306122448979, -1.1224489795918364, -0.9183673469387754, -0.7142857142857144, -0.5102040816326525, -0.3061224489795915, -0.1020408163265305, 0.1020408163265305, 0.3061224489795915, 0.5102040816326534, 0.7142857142857144, 0.9183673469387754, 1.1224489795918373, 1.3265306122448983, 1.5306122448979593, 1.7346938775510203, 1.9387755102040813, 2.1428571428571432, 2.3469387755102042, 2.5510204081632653, 2.755102040816327, 2.959183673469388, 3.163265306122449, 3.36734693877551, 3.571428571428571, 3.775510204081632, 3.979591836734695, 4.183673469387756, 4.387755102040817, 4.591836734693878, 4.795918367346939, 5.0], \"z\": [[0.6800000000000002, 0.6738775510204082, 0.6677551020408165, 0.6616326530612247, 0.6555102040816329, 0.6493877551020408, 0.6432653061224489, 0.637142857142857, 0.6310204081632653, 0.6248979591836734, 0.6187755102040817, 0.6126530612244898, 0.6065306122448979, 0.6004081632653061, 0.5942857142857142, 0.5881632653061225, 0.5820408163265306, 0.5759183673469388, 0.569795918367347, 0.5636734693877552, 0.5575510204081633, 0.5514285714285714, 0.5453061224489796, 0.5391836734693878, 0.5330612244897959, 0.5269387755102042, 0.5208163265306123, 0.5146938775510205, 0.5085714285714287, 0.5024489795918368, 0.4963265306122449, 0.49020408163265305, 0.48408163265306126, 0.47795918367346935, 0.47183673469387755, 0.46571428571428575, 0.4595918367346939, 0.4534693877551021, 0.44734693877551024, 0.4412244897959184, 0.43510204081632653, 0.42897959183673473, 0.42285714285714293, 0.4167346938775511, 0.41061224489795917, 0.40448979591836737, 0.3983673469387755, 0.3922448979591837, 0.38612244897959186, 0.38], [0.6636734693877552, 0.6575510204081634, 0.6514285714285715, 0.6453061224489798, 0.6391836734693879, 0.6330612244897961, 0.6269387755102039, 0.6208163265306123, 0.6146938775510203, 0.6085714285714287, 0.602448979591837, 0.5963265306122448, 0.590204081632653, 0.5840816326530611, 0.5779591836734694, 0.5718367346938775, 0.5657142857142858, 0.5595918367346939, 0.5534693877551021, 0.5473469387755102, 0.5412244897959184, 0.5351020408163265, 0.5289795918367347, 0.5228571428571429, 0.5167346938775511, 0.5106122448979593, 0.5044897959183674, 0.49836734693877555, 0.4922448979591837, 0.4861224489795919, 0.48, 0.4738775510204082, 0.46775510204081633, 0.4616326530612245, 0.4555102040816328, 0.4493877551020408, 0.4432653061224491, 0.43714285714285717, 0.43102040816326537, 0.42489795918367346, 0.41877551020408166, 0.41265306122448986, 0.40653061224489806, 0.40040816326530615, 0.39428571428571424, 0.3881632653061225, 0.38204081632653064, 0.37591836734693884, 0.36979591836734693, 0.36367346938775513], [0.6473469387755104, 0.6412244897959184, 0.6351020408163266, 0.6289795918367348, 0.622857142857143, 0.6167346938775511, 0.6106122448979592, 0.6044897959183673, 0.5983673469387756, 0.5922448979591839, 0.586122448979592, 0.5800000000000001, 0.573877551020408, 0.5677551020408163, 0.5616326530612243, 0.5555102040816327, 0.5493877551020409, 0.543265306122449, 0.5371428571428573, 0.5310204081632653, 0.5248979591836735, 0.5187755102040816, 0.5126530612244897, 0.506530612244898, 0.5004081632653062, 0.49428571428571433, 0.48816326530612253, 0.4820408163265306, 0.4759183673469388, 0.46979591836734697, 0.4636734693877551, 0.45755102040816326, 0.4514285714285714, 0.4453061224489797, 0.4391836734693878, 0.433061224489796, 0.42693877551020415, 0.4208163265306123, 0.41469387755102044, 0.4085714285714286, 0.4024489795918368, 0.396326530612245, 0.39020408163265313, 0.3840816326530613, 0.37795918367346937, 0.37183673469387757, 0.36571428571428577, 0.3595918367346939, 0.35346938775510206, 0.34734693877551026], [0.6310204081632654, 0.6248979591836736, 0.6187755102040817, 0.6126530612244898, 0.6065306122448979, 0.6004081632653061, 0.594285714285714, 0.5881632653061223, 0.5820408163265306, 0.5759183673469387, 0.569795918367347, 0.5636734693877551, 0.5575510204081633, 0.5514285714285714, 0.5453061224489797, 0.5391836734693878, 0.5330612244897959, 0.5269387755102041, 0.5208163265306122, 0.5146938775510204, 0.5085714285714286, 0.5024489795918368, 0.49632653061224496, 0.49020408163265305, 0.48408163265306126, 0.4779591836734694, 0.47183673469387755, 0.4657142857142857, 0.45959183673469384, 0.45346938775510204, 0.44734693877551013, 0.44122448979591833, 0.4351020408163266, 0.4289795918367347, 0.42285714285714293, 0.416734693877551, 0.4106122448979592, 0.4044897959183673, 0.3983673469387755, 0.3922448979591837, 0.3861224489795918, 0.38, 0.3738775510204082, 0.36775510204081635, 0.36163265306122444, 0.35551020408163264, 0.3493877551020408, 0.343265306122449, 0.3371428571428571, 0.33102040816326533], [0.6146938775510207, 0.6085714285714287, 0.6024489795918369, 0.5963265306122448, 0.590204081632653, 0.5840816326530611, 0.5779591836734692, 0.5718367346938775, 0.5657142857142856, 0.5595918367346939, 0.553469387755102, 0.5473469387755103, 0.5412244897959183, 0.5351020408163265, 0.5289795918367348, 0.5228571428571429, 0.516734693877551, 0.5106122448979592, 0.5044897959183673, 0.4983673469387755, 0.49224489795918364, 0.4861224489795919, 0.48000000000000004, 0.4738775510204082, 0.4677551020408164, 0.4616326530612245, 0.4555102040816327, 0.44938775510204076, 0.44326530612244897, 0.4371428571428571, 0.43102040816326526, 0.4248979591836735, 0.41877551020408166, 0.41265306122448986, 0.406530612244898, 0.40040816326530615, 0.3942857142857143, 0.38816326530612244, 0.38204081632653064, 0.3759183673469388, 0.36979591836734693, 0.36367346938775513, 0.35755102040816333, 0.3514285714285714, 0.3453061224489795, 0.33918367346938777, 0.3330612244897959, 0.32693877551020406, 0.32081632653061226, 0.3146938775510204], [0.5983673469387756, 0.5922448979591839, 0.5861224489795919, 0.5800000000000001, 0.573877551020408, 0.5677551020408164, 0.5616326530612245, 0.5555102040816325, 0.5493877551020407, 0.5432653061224488, 0.5371428571428571, 0.5310204081632652, 0.5248979591836735, 0.5187755102040816, 0.5126530612244898, 0.5065306122448979, 0.5004081632653061, 0.4942857142857143, 0.48816326530612236, 0.48204081632653056, 0.4759183673469388, 0.469795918367347, 0.4636734693877551, 0.4575510204081633, 0.45142857142857146, 0.4453061224489796, 0.4391836734693878, 0.4330612244897959, 0.42693877551020404, 0.4208163265306122, 0.4146938775510205, 0.4085714285714286, 0.4024489795918368, 0.39632653061224493, 0.3902040816326531, 0.3840816326530612, 0.37795918367346937, 0.37183673469387757, 0.36571428571428577, 0.35959183673469386, 0.35346938775510206, 0.34734693877551026, 0.3412244897959184, 0.33510204081632655, 0.32897959183673464, 0.3228571428571429, 0.31673469387755104, 0.3106122448979592, 0.3044897959183674, 0.2983673469387755], [0.5820408163265306, 0.5759183673469387, 0.5697959183673469, 0.5636734693877551, 0.5575510204081633, 0.5514285714285716, 0.5453061224489795, 0.5391836734693878, 0.5330612244897958, 0.5269387755102041, 0.5208163265306122, 0.5146938775510205, 0.5085714285714287, 0.5024489795918368, 0.49632653061224485, 0.49020408163265294, 0.48408163265306114, 0.4779591836734693, 0.4718367346938775, 0.4657142857142858, 0.45959183673469395, 0.45346938775510215, 0.44734693877551013, 0.44122448979591833, 0.4351020408163265, 0.4289795918367346, 0.4228571428571428, 0.416734693877551, 0.41061224489795917, 0.4044897959183673, 0.3983673469387755, 0.3922448979591837, 0.38612244897959186, 0.38, 0.3738775510204082, 0.3677551020408163, 0.3616326530612245, 0.3555102040816327, 0.3493877551020408, 0.343265306122449, 0.33714285714285713, 0.33102040816326533, 0.3248979591836735, 0.3187755102040817, 0.31265306122448977, 0.30653061224489797, 0.30040816326530617, 0.29428571428571426, 0.28816326530612246, 0.28204081632653055], [0.5657142857142856, 0.5595918367346939, 0.5534693877551019, 0.5473469387755101, 0.5412244897959183, 0.5351020408163264, 0.5289795918367347, 0.5228571428571428, 0.516734693877551, 0.5106122448979591, 0.5044897959183674, 0.4983673469387755, 0.4922448979591837, 0.4861224489795918, 0.47999999999999987, 0.47387755102040807, 0.4677551020408163, 0.4616326530612244, 0.45551020408163273, 0.4493877551020408, 0.44326530612244897, 0.43714285714285717, 0.43102040816326526, 0.42489795918367346, 0.4187755102040816, 0.41265306122448975, 0.40653061224489795, 0.40040816326530604, 0.3942857142857143, 0.38816326530612244, 0.38204081632653053, 0.37591836734693873, 0.36979591836734693, 0.3636734693877551, 0.3575510204081632, 0.3514285714285714, 0.3453061224489796, 0.3391836734693877, 0.3330612244897959, 0.32693877551020406, 0.3208163265306122, 0.3146938775510204, 0.3085714285714286, 0.30244897959183675, 0.29632653061224484, 0.29020408163265304, 0.28408163265306124, 0.27795918367346933, 0.27183673469387754, 0.2657142857142856], [0.5493877551020409, 0.5432653061224488, 0.5371428571428571, 0.5310204081632652, 0.5248979591836733, 0.5187755102040816, 0.5126530612244897, 0.506530612244898, 0.500408163265306, 0.49428571428571433, 0.48816326530612253, 0.4820408163265306, 0.47591836734693876, 0.4697959183673469, 0.463673469387755, 0.4575510204081632, 0.4514285714285714, 0.4453061224489796, 0.4391836734693878, 0.43306122448979595, 0.4269387755102041, 0.42081632653061224, 0.4146938775510204, 0.40857142857142853, 0.4024489795918367, 0.3963265306122449, 0.390204081632653, 0.3840816326530613, 0.37795918367346937, 0.37183673469387757, 0.3657142857142857, 0.35959183673469386, 0.35346938775510206, 0.34734693877551015, 0.3412244897959184, 0.33510204081632655, 0.3289795918367347, 0.32285714285714284, 0.31673469387755104, 0.31061224489795913, 0.30448979591836733, 0.29836734693877554, 0.2922448979591837, 0.2861224489795918, 0.2799999999999999, 0.27387755102040817, 0.2677551020408163, 0.26163265306122446, 0.2555102040816326, 0.2493877551020408], [0.5330612244897959, 0.5269387755102042, 0.5208163265306124, 0.5146938775510204, 0.5085714285714286, 0.5024489795918365, 0.49632653061224485, 0.49020408163265294, 0.48408163265306126, 0.47795918367346946, 0.47183673469387766, 0.46571428571428575, 0.4595918367346939, 0.45346938775510204, 0.44734693877551013, 0.44122448979591833, 0.43510204081632664, 0.42897959183673473, 0.42285714285714293, 0.4167346938775511, 0.4106122448979592, 0.40448979591836737, 0.3983673469387755, 0.39224489795918366, 0.3861224489795918, 0.38, 0.37387755102040826, 0.3677551020408163, 0.36163265306122455, 0.3555102040816327, 0.34938775510204084, 0.343265306122449, 0.3371428571428572, 0.3310204081632654, 0.32489795918367353, 0.3187755102040817, 0.3126530612244898, 0.30653061224489797, 0.30040816326530617, 0.2942857142857143, 0.28816326530612246, 0.28204081632653066, 0.27591836734693886, 0.269795918367347, 0.2636734693877551, 0.2575510204081633, 0.25142857142857145, 0.24530612244897962, 0.2391836734693878, 0.23306122448979594], [0.5167346938775511, 0.5106122448979593, 0.5044897959183674, 0.4983673469387755, 0.4922448979591836, 0.4861224489795919, 0.48, 0.4738775510204083, 0.4677551020408164, 0.4616326530612246, 0.4555102040816327, 0.44938775510204076, 0.4432653061224489, 0.43714285714285706, 0.43102040816326526, 0.42489795918367357, 0.41877551020408177, 0.41265306122448986, 0.40653061224489795, 0.4004081632653061, 0.39428571428571424, 0.3881632653061224, 0.38204081632653064, 0.3759183673469388, 0.36979591836734693, 0.36367346938775513, 0.3575510204081633, 0.3514285714285714, 0.3453061224489796, 0.33918367346938777, 0.3330612244897959, 0.32693877551020406, 0.3208163265306123, 0.3146938775510204, 0.3085714285714286, 0.3024489795918367, 0.2963265306122449, 0.2902040816326531, 0.2840816326530612, 0.2779591836734694, 0.27183673469387754, 0.2657142857142858, 0.25959183673469394, 0.2534693877551021, 0.24734693877551017, 0.24122448979591837, 0.23510204081632655, 0.2289795918367347, 0.22285714285714286, 0.216734693877551], [0.5004081632653061, 0.4942857142857142, 0.4881632653061224, 0.4820408163265306, 0.4759183673469388, 0.4697959183673468, 0.463673469387755, 0.45755102040816326, 0.4514285714285714, 0.4453061224489796, 0.4391836734693877, 0.4330612244897959, 0.42693877551020404, 0.4208163265306122, 0.4146938775510205, 0.4085714285714286, 0.4024489795918368, 0.3963265306122449, 0.39020408163265297, 0.3840816326530612, 0.37795918367346937, 0.3718367346938775, 0.36571428571428566, 0.3595918367346938, 0.35346938775510206, 0.34734693877551015, 0.3412244897959184, 0.33510204081632655, 0.3289795918367347, 0.32285714285714284, 0.316734693877551, 0.3106122448979592, 0.30448979591836733, 0.29836734693877554, 0.2922448979591837, 0.2861224489795918, 0.28, 0.27387755102040817, 0.2677551020408163, 0.26163265306122446, 0.2555102040816326, 0.24938775510204084, 0.243265306122449, 0.23714285714285716, 0.23102040816326525, 0.22489795918367347, 0.21877551020408162, 0.2126530612244898, 0.20653061224489794, 0.20040816326530608], [0.48408163265306114, 0.47795918367346935, 0.47183673469387744, 0.46571428571428575, 0.45959183673469384, 0.45346938775510204, 0.44734693877551013, 0.44122448979591833, 0.43510204081632653, 0.42897959183673473, 0.4228571428571428, 0.416734693877551, 0.4106122448979591, 0.4044897959183674, 0.3983673469387756, 0.3922448979591837, 0.38612244897959186, 0.38, 0.3738775510204081, 0.3677551020408163, 0.3616326530612245, 0.35551020408163264, 0.3493877551020408, 0.343265306122449, 0.33714285714285713, 0.33102040816326533, 0.3248979591836735, 0.3187755102040816, 0.31265306122448977, 0.30653061224489797, 0.30040816326530617, 0.29428571428571426, 0.28816326530612246, 0.2820408163265306, 0.2759183673469388, 0.26979591836734695, 0.26367346938775515, 0.25755102040816324, 0.25142857142857145, 0.2453061224489796, 0.23918367346938774, 0.23306122448979597, 0.2269387755102041, 0.22081632653061228, 0.2146938775510204, 0.2085714285714286, 0.20244897959183672, 0.19632653061224492, 0.190204081632653, 0.18408163265306124], [0.4677551020408164, 0.46163265306122436, 0.45551020408163256, 0.44938775510204076, 0.44326530612244897, 0.43714285714285717, 0.43102040816326526, 0.42489795918367346, 0.4187755102040816, 0.4126530612244898, 0.4065306122448979, 0.4004081632653061, 0.39428571428571435, 0.3881632653061225, 0.3820408163265307, 0.3759183673469388, 0.36979591836734693, 0.36367346938775513, 0.3575510204081632, 0.3514285714285714, 0.34530612244897957, 0.3391836734693877, 0.33306122448979597, 0.32693877551020406, 0.3208163265306123, 0.3146938775510204, 0.3085714285714286, 0.3024489795918367, 0.2963265306122449, 0.2902040816326531, 0.28408163265306124, 0.2779591836734694, 0.2718367346938776, 0.26571428571428574, 0.2595918367346939, 0.2534693877551021, 0.24734693877551023, 0.24122448979591837, 0.23510204081632652, 0.2289795918367347, 0.22285714285714286, 0.21673469387755107, 0.2106122448979592, 0.20448979591836738, 0.19836734693877547, 0.1922448979591837, 0.18612244897959185, 0.18, 0.17387755102040817, 0.1677551020408163], [0.4514285714285713, 0.4453061224489796, 0.4391836734693877, 0.433061224489796, 0.4269387755102042, 0.4208163265306123, 0.4146938775510203, 0.4085714285714285, 0.4024489795918366, 0.3963265306122448, 0.390204081632653, 0.38408163265306133, 0.3779591836734695, 0.3718367346938776, 0.3657142857142857, 0.3595918367346938, 0.35346938775510195, 0.34734693877551015, 0.34122448979591835, 0.33510204081632655, 0.3289795918367347, 0.32285714285714284, 0.316734693877551, 0.3106122448979592, 0.30448979591836733, 0.29836734693877554, 0.2922448979591837, 0.2861224489795918, 0.28, 0.27387755102040817, 0.2677551020408163, 0.26163265306122446, 0.25551020408163266, 0.2493877551020408, 0.243265306122449, 0.23714285714285713, 0.2310204081632653, 0.22489795918367347, 0.21877551020408162, 0.2126530612244898, 0.20653061224489794, 0.20040816326530614, 0.1942857142857143, 0.18816326530612248, 0.18204081632653057, 0.17591836734693878, 0.16979591836734692, 0.1636734693877551, 0.15755102040816324, 0.1514285714285714], [0.43510204081632664, 0.4289795918367346, 0.4228571428571428, 0.416734693877551, 0.4106122448979591, 0.4044897959183673, 0.3983673469387754, 0.3922448979591836, 0.38612244897959175, 0.37999999999999995, 0.37387755102040826, 0.36775510204081635, 0.3616326530612245, 0.35551020408163264, 0.34938775510204073, 0.34326530612244893, 0.3371428571428571, 0.3310204081632653, 0.3248979591836735, 0.31877551020408157, 0.3126530612244898, 0.3065306122448979, 0.30040816326530606, 0.29428571428571426, 0.28816326530612246, 0.28204081632653055, 0.27591836734693875, 0.26979591836734695, 0.2636734693877551, 0.25755102040816324, 0.2514285714285714, 0.24530612244897956, 0.23918367346938774, 0.2330612244897959, 0.22693877551020408, 0.22081632653061223, 0.21469387755102037, 0.20857142857142855, 0.20244897959183672, 0.19632653061224487, 0.190204081632653, 0.18408163265306124, 0.1779591836734694, 0.17183673469387756, 0.16571428571428565, 0.15959183673469385, 0.15346938775510202, 0.14734693877551017, 0.14122448979591834, 0.13510204081632649], [0.41877551020408155, 0.41265306122448986, 0.40653061224489795, 0.40040816326530615, 0.39428571428571424, 0.38816326530612244, 0.38204081632653053, 0.37591836734693873, 0.3697959183673469, 0.3636734693877552, 0.3575510204081634, 0.3514285714285715, 0.3453061224489796, 0.33918367346938777, 0.33306122448979586, 0.32693877551020406, 0.3208163265306122, 0.31469387755102035, 0.30857142857142855, 0.3024489795918368, 0.2963265306122449, 0.2902040816326531, 0.28408163265306124, 0.2779591836734694, 0.27183673469387754, 0.2657142857142857, 0.2595918367346939, 0.253469387755102, 0.2473469387755102, 0.24122448979591837, 0.23510204081632652, 0.22897959183673466, 0.22285714285714286, 0.216734693877551, 0.2106122448979592, 0.2044897959183673, 0.19836734693877553, 0.1922448979591837, 0.18612244897959185, 0.18, 0.17387755102040817, 0.1677551020408164, 0.16163265306122454, 0.15551020408163269, 0.14938775510204078, 0.143265306122449, 0.13714285714285715, 0.13102040816326532, 0.12489795918367347, 0.11877551020408161], [0.4024489795918368, 0.396326530612245, 0.3902040816326531, 0.3840816326530613, 0.37795918367346937, 0.3718367346938775, 0.3657142857142856, 0.3595918367346938, 0.35346938775510206, 0.34734693877551026, 0.34122448979591846, 0.33510204081632655, 0.3289795918367347, 0.32285714285714284, 0.31673469387755093, 0.31061224489795913, 0.30448979591836733, 0.2983673469387755, 0.2922448979591837, 0.2861224489795918, 0.28, 0.2738775510204082, 0.2677551020408163, 0.2616326530612245, 0.2555102040816326, 0.24938775510204086, 0.243265306122449, 0.23714285714285716, 0.2310204081632653, 0.2248979591836735, 0.21877551020408165, 0.2126530612244898, 0.206530612244898, 0.20040816326530614, 0.19428571428571434, 0.18816326530612246, 0.18204081632653063, 0.17591836734693878, 0.16979591836734692, 0.1636734693877551, 0.15755102040816327, 0.15142857142857147, 0.1453061224489796, 0.1391836734693878, 0.13306122448979588, 0.12693877551020408, 0.12081632653061225, 0.1146938775510204, 0.10857142857142854, 0.10244897959183669], [0.3861224489795919, 0.3800000000000001, 0.3738775510204082, 0.3677551020408163, 0.3616326530612244, 0.35551020408163253, 0.34938775510204073, 0.34326530612244904, 0.3371428571428572, 0.3310204081632654, 0.3248979591836735, 0.31877551020408157, 0.3126530612244897, 0.30653061224489786, 0.30040816326530606, 0.29428571428571426, 0.28816326530612246, 0.2820408163265306, 0.27591836734693875, 0.26979591836734695, 0.2636734693877551, 0.25755102040816324, 0.2514285714285714, 0.24530612244897956, 0.23918367346938776, 0.23306122448979594, 0.22693877551020408, 0.22081632653061223, 0.2146938775510204, 0.20857142857142857, 0.20244897959183672, 0.19632653061224487, 0.19020408163265307, 0.1840816326530612, 0.17795918367346938, 0.17183673469387756, 0.1657142857142857, 0.15959183673469385, 0.15346938775510202, 0.14734693877551017, 0.14122448979591834, 0.13510204081632654, 0.1289795918367347, 0.12285714285714286, 0.11673469387755095, 0.11061224489795918, 0.10448979591836732, 0.09836734693877547, 0.09224489795918361, 0.08612244897959181], [0.36979591836734693, 0.36367346938775513, 0.3575510204081632, 0.35142857142857137, 0.3453061224489795, 0.33918367346938766, 0.33306122448979586, 0.32693877551020406, 0.3208163265306122, 0.3146938775510204, 0.3085714285714285, 0.3024489795918367, 0.29632653061224484, 0.290204081632653, 0.2840816326530612, 0.2779591836734693, 0.2718367346938776, 0.2657142857142857, 0.2595918367346939, 0.253469387755102, 0.2473469387755102, 0.24122448979591835, 0.2351020408163265, 0.2289795918367347, 0.22285714285714286, 0.216734693877551, 0.21061224489795916, 0.20448979591836733, 0.19836734693877547, 0.19224489795918367, 0.18612244897959182, 0.18, 0.17387755102040814, 0.1677551020408163, 0.1616326530612245, 0.15551020408163263, 0.1493877551020408, 0.14326530612244898, 0.13714285714285712, 0.13102040816326527, 0.12489795918367341, 0.11877551020408161, 0.11265306122448979, 0.10653061224489793, 0.10040816326530602, 0.09428571428571425, 0.0881632653061224, 0.08204081632653054, 0.07591836734693874, 0.06979591836734689], [0.35346938775510206, 0.34734693877551026, 0.34122448979591835, 0.3351020408163265, 0.32897959183673464, 0.3228571428571429, 0.316734693877551, 0.3106122448979592, 0.30448979591836733, 0.29836734693877554, 0.2922448979591836, 0.2861224489795918, 0.27999999999999997, 0.2738775510204081, 0.2677551020408163, 0.2616326530612245, 0.2555102040816326, 0.24938775510204084, 0.24326530612244898, 0.23714285714285716, 0.2310204081632653, 0.22489795918367345, 0.21877551020408165, 0.2126530612244898, 0.20653061224489797, 0.2004081632653061, 0.1942857142857143, 0.18816326530612243, 0.18204081632653063, 0.17591836734693878, 0.16979591836734692, 0.16367346938775507, 0.15755102040816327, 0.15142857142857144, 0.1453061224489796, 0.13918367346938773, 0.13306122448979593, 0.1269387755102041, 0.12081632653061224, 0.1146938775510204, 0.10857142857142854, 0.10244897959183677, 0.09632653061224491, 0.09020408163265309, 0.08408163265306118, 0.07795918367346938, 0.07183673469387752, 0.06571428571428573, 0.05959183673469387, 0.053469387755102016], [0.3371428571428572, 0.3310204081632653, 0.3248979591836735, 0.3187755102040816, 0.3126530612244899, 0.306530612244898, 0.3004081632653061, 0.2942857142857143, 0.28816326530612246, 0.28204081632653066, 0.27591836734693875, 0.26979591836734695, 0.2636734693877551, 0.25755102040816324, 0.25142857142857145, 0.24530612244897956, 0.2391836734693878, 0.23306122448979594, 0.22693877551020408, 0.22081632653061226, 0.2146938775510204, 0.20857142857142863, 0.20244897959183675, 0.19632653061224492, 0.19020408163265307, 0.18408163265306127, 0.1779591836734694, 0.17183673469387756, 0.16571428571428573, 0.1595918367346939, 0.15346938775510205, 0.1473469387755102, 0.1412244897959184, 0.13510204081632654, 0.12897959183673474, 0.12285714285714286, 0.11673469387755105, 0.11061224489795919, 0.10448979591836735, 0.09836734693877552, 0.0922448979591837, 0.0861224489795919, 0.08000000000000007, 0.07387755102040822, 0.0677551020408163, 0.06163265306122451, 0.05551020408163271, 0.04938775510204085, 0.043265306122449, 0.037142857142857144], [0.3208163265306122, 0.3146938775510204, 0.3085714285714285, 0.30244897959183675, 0.2963265306122449, 0.29020408163265304, 0.28408163265306113, 0.27795918367346933, 0.2718367346938775, 0.2657142857142857, 0.2595918367346939, 0.25346938775510197, 0.24734693877551012, 0.24122448979591837, 0.23510204081632646, 0.2289795918367346, 0.22285714285714284, 0.21673469387755098, 0.21061224489795913, 0.2044897959183673, 0.1983673469387755, 0.19224489795918365, 0.1861224489795918, 0.17999999999999994, 0.17387755102040814, 0.16775510204081628, 0.16163265306122448, 0.1555102040816326, 0.14938775510204078, 0.14326530612244892, 0.1371428571428571, 0.13102040816326527, 0.12489795918367344, 0.1187755102040816, 0.11265306122448979, 0.1065306122448979, 0.10040816326530609, 0.09428571428571425, 0.0881632653061224, 0.08204081632653057, 0.07591836734693871, 0.06979591836734694, 0.06367346938775509, 0.057551020408163234, 0.051428571428571324, 0.04530612244897958, 0.039183673469387725, 0.03306122448979587, 0.026938775510204016, 0.02081632653061216], [0.30448979591836733, 0.2983673469387755, 0.29224489795918374, 0.2861224489795919, 0.28, 0.27387755102040817, 0.26775510204081626, 0.26163265306122446, 0.2555102040816326, 0.2493877551020408, 0.243265306122449, 0.2371428571428571, 0.23102040816326536, 0.22489795918367345, 0.21877551020408162, 0.21265306122448976, 0.20653061224489794, 0.20040816326530608, 0.19428571428571423, 0.18816326530612246, 0.1820408163265306, 0.17591836734693878, 0.1697959183673469, 0.16367346938775507, 0.15755102040816324, 0.1514285714285714, 0.14530612244897959, 0.13918367346938773, 0.13306122448979588, 0.12693877551020405, 0.12081632653061221, 0.11469387755102037, 0.10857142857142855, 0.10244897959183671, 0.0963265306122449, 0.09020408163265302, 0.0840816326530612, 0.07795918367346935, 0.07183673469387755, 0.0657142857142857, 0.05959183673469387, 0.05346938775510207, 0.04734693877551022, 0.04122448979591836, 0.03510204081632651, 0.02897959183673471, 0.022857142857142854, 0.016734693877551, 0.010612244897959144, 0.004489795918367345], [0.28816326530612246, 0.28204081632653066, 0.2759183673469388, 0.26979591836734695, 0.2636734693877551, 0.25755102040816324, 0.25142857142857133, 0.24530612244897954, 0.23918367346938768, 0.23306122448979588, 0.22693877551020408, 0.22081632653061228, 0.21469387755102037, 0.20857142857142857, 0.20244897959183672, 0.19632653061224487, 0.19020408163265304, 0.18408163265306118, 0.17795918367346938, 0.17183673469387756, 0.1657142857142857, 0.15959183673469388, 0.15346938775510205, 0.1473469387755102, 0.14122448979591837, 0.13510204081632654, 0.12897959183673469, 0.12285714285714283, 0.116734693877551, 0.11061224489795918, 0.10448979591836734, 0.09836734693877548, 0.09224489795918367, 0.08612244897959183, 0.08, 0.07387755102040813, 0.0677551020408163, 0.06163265306122448, 0.055510204081632625, 0.0493877551020408, 0.04326530612244894, 0.037142857142857144, 0.03102040816326529, 0.02489795918367349, 0.01877551020408158, 0.012653061224489781, 0.0065306122448979265, 0.00040816326530607183, -0.005714285714285727, -0.011836734693877637], [0.27183673469387765, 0.2657142857142858, 0.25959183673469394, 0.2534693877551021, 0.24734693877551023, 0.24122448979591837, 0.23510204081632646, 0.22897959183673466, 0.2228571428571428, 0.216734693877551, 0.2106122448979592, 0.20448979591836736, 0.19836734693877556, 0.1922448979591837, 0.18612244897959185, 0.18, 0.17387755102040817, 0.16775510204081637, 0.1616326530612245, 0.15551020408163266, 0.14938775510204083, 0.143265306122449, 0.13714285714285712, 0.13102040816326532, 0.12489795918367348, 0.11877551020408166, 0.11265306122448981, 0.10653061224489796, 0.10040816326530612, 0.09428571428571429, 0.08816326530612245, 0.08204081632653062, 0.07591836734693881, 0.06979591836734696, 0.06367346938775514, 0.05755102040816326, 0.05142857142857146, 0.04530612244897961, 0.03918367346938778, 0.033061224489795926, 0.02693877551020407, 0.020816326530612272, 0.014693877551020473, 0.008571428571428619, 0.0024489795918367085, -0.0036734693877550906, -0.009795918367346945, -0.015918367346938744, -0.022040816326530654, -0.028163265306122454], [0.2555102040816327, 0.24938775510204086, 0.243265306122449, 0.23714285714285716, 0.2310204081632653, 0.22489795918367345, 0.21877551020408154, 0.21265306122448974, 0.20653061224489788, 0.2004081632653062, 0.19428571428571428, 0.18816326530612248, 0.18204081632653066, 0.1759183673469388, 0.16979591836734695, 0.1636734693877551, 0.15755102040816332, 0.15142857142857147, 0.1453061224489796, 0.13918367346938776, 0.13306122448979596, 0.1269387755102041, 0.12081632653061228, 0.11469387755102042, 0.1085714285714286, 0.10244897959183677, 0.09632653061224494, 0.09020408163265307, 0.08408163265306125, 0.07795918367346942, 0.07183673469387758, 0.06571428571428574, 0.05959183673469391, 0.05346938775510207, 0.04734693877551027, 0.04122448979591839, 0.035102040816326535, 0.02897959183673471, 0.022857142857142854, 0.016734693877551, 0.010612244897959144, 0.004489795918367401, -0.0016326530612244539, -0.0077551020408163085, -0.013877551020408219, -0.020000000000000018, -0.026122448979591817, -0.03224489795918373, -0.03836734693877547, -0.044489795918367325], [0.2391836734693878, 0.23306122448979594, 0.22693877551020408, 0.22081632653061223, 0.21469387755102037, 0.20857142857142852, 0.2024489795918366, 0.1963265306122448, 0.19020408163265307, 0.1840816326530612, 0.1779591836734694, 0.17183673469387756, 0.1657142857142857, 0.15959183673469385, 0.153469387755102, 0.1473469387755102, 0.14122448979591837, 0.1351020408163265, 0.12897959183673463, 0.12285714285714283, 0.11673469387755099, 0.11061224489795918, 0.10448979591836731, 0.09836734693877548, 0.09224489795918364, 0.08612244897959181, 0.07999999999999999, 0.07387755102040813, 0.06775510204081629, 0.06163265306122446, 0.055510204081632625, 0.049387755102040784, 0.04326530612244897, 0.037142857142857116, 0.031020408163265317, 0.024897959183673435, 0.018775510204081636, 0.012653061224489781, 0.0065306122448979265, 0.00040816326530607183, -0.005714285714285727, -0.011836734693877526, -0.01795918367346938, -0.024081632653061236, -0.030204081632653146, -0.03632653061224489, -0.0424489795918368, -0.04857142857142854, -0.0546938775510204, -0.06081632653061231], [0.22285714285714286, 0.216734693877551, 0.21061224489795916, 0.2044897959183673, 0.19836734693877545, 0.1922448979591836, 0.18612244897959168, 0.18, 0.17387755102040808, 0.16775510204081634, 0.16163265306122448, 0.15551020408163266, 0.1493877551020408, 0.14326530612244895, 0.13714285714285715, 0.1310204081632653, 0.12489795918367347, 0.11877551020408161, 0.11265306122448979, 0.10653061224489793, 0.10040816326530613, 0.09428571428571428, 0.08816326530612242, 0.08204081632653058, 0.07591836734693877, 0.06979591836734693, 0.0636734693877551, 0.05755102040816325, 0.0514285714285714, 0.045306122448979594, 0.03918367346938774, 0.0330612244897959, 0.02693877551020407, 0.020816326530612245, 0.014693877551020418, 0.008571428571428563, 0.0024489795918367085, -0.003673469387755146, -0.009795918367347, -0.0159183673469388, -0.022040816326530654, -0.028163265306122454, -0.03428571428571431, -0.04040816326530611, -0.04653061224489802, -0.05265306122448987, -0.058775510204081616, -0.06489795918367347, -0.07102040816326527, -0.07714285714285718], [0.206530612244898, 0.20040816326530614, 0.19428571428571428, 0.18816326530612243, 0.18204081632653057, 0.17591836734693872, 0.16979591836734692, 0.16367346938775507, 0.15755102040816327, 0.15142857142857147, 0.1453061224489796, 0.13918367346938776, 0.1330612244897959, 0.1269387755102041, 0.12081632653061225, 0.1146938775510204, 0.10857142857142857, 0.10244897959183674, 0.09632653061224489, 0.09020408163265307, 0.08408163265306123, 0.0779591836734694, 0.07183673469387754, 0.06571428571428571, 0.059591836734693884, 0.05346938775510205, 0.04734693877551022, 0.041224489795918355, 0.035102040816326535, 0.028979591836734694, 0.022857142857142854, 0.016734693877551, 0.0106122448979592, 0.004489795918367345, -0.0016326530612244539, -0.007755102040816364, -0.013877551020408163, -0.020000000000000018, -0.026122448979591817, -0.03224489795918367, -0.038367346938775526, -0.044489795918367325, -0.050612244897959124, -0.05673469387755098, -0.06285714285714294, -0.06897959183673463, -0.07510204081632649, -0.08122448979591834, -0.08734693877551025, -0.09346938775510205], [0.190204081632653, 0.1840816326530612, 0.1779591836734693, 0.1718367346938775, 0.1657142857142856, 0.1595918367346939, 0.15346938775510194, 0.14734693877551014, 0.14122448979591828, 0.13510204081632649, 0.12897959183673466, 0.1228571428571428, 0.116734693877551, 0.11061224489795915, 0.1044897959183673, 0.09836734693877544, 0.09224489795918364, 0.08612244897959179, 0.07999999999999993, 0.07387755102040812, 0.06775510204081629, 0.06163265306122445, 0.0555102040816326, 0.04938775510204077, 0.043265306122448936, 0.0371428571428571, 0.03102040816326527, 0.024897959183673407, 0.018775510204081566, 0.012653061224489753, 0.006530612244897899, 0.00040816326530607183, -0.005714285714285755, -0.011836734693877582, -0.017959183673469437, -0.02408163265306129, -0.030204081632653146, -0.03632653061224489, -0.0424489795918368, -0.0485714285714286, -0.05469387755102051, -0.06081632653061231, -0.06693877551020405, -0.07306122448979602, -0.07918367346938793, -0.08530612244897962, -0.09142857142857141, -0.09755102040816332, -0.10367346938775512, -0.10979591836734703], [0.17387755102040814, 0.16775510204081628, 0.16163265306122443, 0.15551020408163257, 0.14938775510204083, 0.14326530612244892, 0.137142857142857, 0.13102040816326527, 0.12489795918367341, 0.11877551020408161, 0.11265306122448976, 0.10653061224489796, 0.1004081632653061, 0.09428571428571425, 0.0881632653061224, 0.08204081632653057, 0.07591836734693874, 0.06979591836734692, 0.06367346938775506, 0.057551020408163234, 0.05142857142857139, 0.04530612244897957, 0.03918367346938771, 0.033061224489795885, 0.026938775510204047, 0.02081632653061221, 0.01469387755102039, 0.008571428571428522, 0.0024489795918367085, -0.003673469387755146, -0.009795918367346973, -0.015918367346938828, -0.022040816326530627, -0.02816326530612248, -0.03428571428571431, -0.04040816326530622, -0.04653061224489796, -0.05265306122448982, -0.05877551020408167, -0.06489795918367353, -0.07102040816326538, -0.07714285714285712, -0.08326530612244903, -0.08938775510204078, -0.09551020408163269, -0.10163265306122449, -0.10775510204081629, -0.1138775510204082, -0.1200000000000001, -0.1261224489795919], [0.15755102040816327, 0.1514285714285714, 0.14530612244897956, 0.13918367346938781, 0.1330612244897959, 0.1269387755102041, 0.1208163265306122, 0.1146938775510204, 0.10857142857142854, 0.10244897959183674, 0.09632653061224494, 0.09020408163265309, 0.08408163265306123, 0.07795918367346938, 0.07183673469387755, 0.06571428571428568, 0.059591836734693884, 0.05346938775510203, 0.04734693877551019, 0.04122448979591835, 0.03510204081632653, 0.028979591836734698, 0.022857142857142836, 0.01673469387755101, 0.010612244897959165, 0.004489795918367359, -0.0016326530612244955, -0.007755102040816336, -0.013877551020408191, -0.01999999999999999, -0.026122448979591845, -0.03224489795918367, -0.038367346938775526, -0.04448979591836738, -0.05061224489795918, -0.056734693877551035, -0.06285714285714283, -0.06897959183673469, -0.07510204081632654, -0.0812244897959184, -0.0873469387755102, -0.09346938775510205, -0.0995918367346938, -0.10571428571428565, -0.11183673469387756, -0.11795918367346936, -0.12408163265306127, -0.13020408163265307, -0.13632653061224498, -0.14244897959183678], [0.14122448979591834, 0.13510204081632649, 0.12897959183673474, 0.12285714285714283, 0.11673469387755103, 0.11061224489795918, 0.10448979591836727, 0.09836734693877547, 0.09224489795918361, 0.08612244897959187, 0.08000000000000002, 0.07387755102040816, 0.0677551020408163, 0.06163265306122448, 0.055510204081632625, 0.04938775510204081, 0.043265306122448985, 0.037142857142857144, 0.031020408163265303, 0.02489795918367347, 0.01877551020408164, 0.01265306122448981, 0.006530612244897951, 0.0004081632653061204, -0.005714285714285713, -0.01183673469387754, -0.01795918367346938, -0.024081632653061236, -0.030204081632653063, -0.03632653061224492, -0.042448979591836744, -0.0485714285714286, -0.0546938775510204, -0.06081632653061225, -0.06693877551020405, -0.0730612244897959, -0.07918367346938776, -0.08530612244897962, -0.09142857142857147, -0.09755102040816327, -0.10367346938775518, -0.10979591836734687, -0.11591836734693872, -0.12204081632653058, -0.1281632653061225, -0.13428571428571423, -0.14040816326530614, -0.14653061224489794, -0.15265306122448985, -0.15877551020408165], [0.12489795918367347, 0.11877551020408172, 0.11265306122448981, 0.10653061224489802, 0.10040816326530616, 0.0942857142857143, 0.0881632653061224, 0.0820408163265306, 0.0759183673469388, 0.069795918367347, 0.06367346938775514, 0.05755102040816329, 0.05142857142857146, 0.04530612244897961, 0.03918367346938778, 0.033061224489795926, 0.026938775510204113, 0.020816326530612272, 0.014693877551020425, 0.008571428571428594, 0.0024489795918367662, -0.003673469387755063, -0.009795918367346924, -0.015918367346938744, -0.022040816326530585, -0.028163265306122426, -0.034285714285714225, -0.04040816326530611, -0.046530612244897934, -0.05265306122448976, -0.058775510204081616, -0.06489795918367347, -0.07102040816326533, -0.07714285714285707, -0.08326530612244892, -0.08938775510204078, -0.09551020408163263, -0.10163265306122443, -0.10775510204081629, -0.1138775510204082, -0.11999999999999994, -0.12612244897959174, -0.1322448979591836, -0.13836734693877545, -0.14448979591836736, -0.1506122448979592, -0.156734693877551, -0.1628571428571428, -0.16897959183673472, -0.17510204081632663], [0.1085714285714286, 0.10244897959183669, 0.09632653061224489, 0.09020408163265303, 0.08408163265306118, 0.07795918367346932, 0.07183673469387741, 0.06571428571428567, 0.059591836734693815, 0.053469387755102016, 0.04734693877551016, 0.041224489795918334, 0.03510204081632648, 0.028979591836734653, 0.022857142857142812, 0.01673469387755097, 0.010612244897959144, 0.004489795918367311, -0.0016326530612245371, -0.007755102040816366, -0.013877551020408194, -0.020000000000000025, -0.026122448979591886, -0.03224489795918371, -0.038367346938775554, -0.04448979591836738, -0.05061224489795921, -0.05673469387755106, -0.06285714285714289, -0.06897959183673474, -0.0751020408163266, -0.08122448979591845, -0.0873469387755102, -0.09346938775510205, -0.0995918367346939, -0.10571428571428576, -0.11183673469387762, -0.11795918367346941, -0.12408163265306132, -0.13020408163265307, -0.13632653061224492, -0.14244897959183672, -0.14857142857142858, -0.15469387755102043, -0.16081632653061229, -0.16693877551020408, -0.173061224489796, -0.1791836734693878, -0.1853061224489797, -0.1914285714285714], [0.09224489795918367, 0.08612244897959187, 0.08000000000000002, 0.07387755102040816, 0.0677551020408163, 0.06163265306122445, 0.0555102040816326, 0.0493877551020408, 0.04326530612244894, 0.037142857142857144, 0.031020408163265317, 0.024897959183673463, 0.018775510204081636, 0.012653061224489781, 0.00653061224489794, 0.0004081632653060857, -0.00571428571428572, -0.011836734693877565, -0.01795918367346941, -0.02408163265306124, -0.03020408163265307, -0.03632653061224489, -0.04244897959183676, -0.048571428571428585, -0.054693877551020426, -0.06081632653061225, -0.06693877551020408, -0.07306122448979593, -0.07918367346938776, -0.08530612244897962, -0.09142857142857147, -0.09755102040816327, -0.10367346938775512, -0.10979591836734692, -0.11591836734693878, -0.12204081632653063, -0.12816326530612243, -0.13428571428571434, -0.14040816326530609, -0.14653061224489794, -0.1526530612244898, -0.1587755102040816, -0.16489795918367345, -0.1710204081632653, -0.17714285714285727, -0.18326530612244907, -0.18938775510204087, -0.19551020408163267, -0.20163265306122446, -0.20775510204081638], [0.0759183673469388, 0.069795918367347, 0.06367346938775509, 0.05755102040816329, 0.05142857142857138, 0.045306122448979635, 0.039183673469387725, 0.0330612244897959, 0.026938775510204044, 0.020816326530612272, 0.014693877551020418, 0.008571428571428591, 0.0024489795918367363, -0.0036734693877551045, -0.009795918367346945, -0.015918367346938793, -0.02204081632653061, -0.02816326530612245, -0.034285714285714294, -0.04040816326530613, -0.04653061224489795, -0.05265306122448979, -0.058775510204081644, -0.06489795918367348, -0.0710204081632653, -0.07714285714285715, -0.08326530612244895, -0.08938775510204083, -0.09551020408163269, -0.10163265306122451, -0.10775510204081631, -0.1138775510204082, -0.12, -0.12612244897959185, -0.13224489795918365, -0.1383673469387755, -0.14448979591836741, -0.1506122448979591, -0.156734693877551, -0.1628571428571428, -0.16897959183673472, -0.17510204081632652, -0.18122448979591832, -0.18734693877551023, -0.19346938775510214, -0.19959183673469394, -0.20571428571428574, -0.21183673469387754, -0.21795918367346934, -0.22408163265306125], [0.05959183673469387, 0.053469387755102016, 0.04734693877551016, 0.04122448979591831, 0.03510204081632651, 0.028979591836734653, 0.022857142857142743, 0.016734693877550944, 0.010612244897959117, 0.0044897959183673175, -0.0016326530612245371, -0.007755102040816364, -0.013877551020408205, -0.02000000000000006, -0.0261224489795919, -0.03224489795918374, -0.038367346938775554, -0.044489795918367395, -0.05061224489795924, -0.056734693877551076, -0.0628571428571429, -0.06897959183673473, -0.0751020408163266, -0.08122448979591841, -0.08734693877551025, -0.09346938775510208, -0.0995918367346939, -0.10571428571428579, -0.11183673469387762, -0.11795918367346941, -0.12408163265306127, -0.13020408163265312, -0.13632653061224498, -0.14244897959183678, -0.14857142857142858, -0.1546938775510205, -0.16081632653061223, -0.16693877551020408, -0.17306122448979594, -0.1791836734693878, -0.18530612244897965, -0.19142857142857145, -0.1975510204081633, -0.2036734693877551, -0.20979591836734712, -0.21591836734693892, -0.2220408163265306, -0.2281632653061224, -0.23428571428571432, -0.24040816326530623], [0.04326530612244894, 0.037142857142857144, 0.031020408163265234, 0.02489795918367349, 0.01877551020408158, 0.012653061224489781, 0.006530612244897843, 0.00040816326530607183, -0.005714285714285783, -0.011836734693877554, -0.01795918367346941, -0.02408163265306125, -0.030204081632653104, -0.03632653061224494, -0.042448979591836786, -0.048571428571428626, -0.05469387755102044, -0.06081632653061229, -0.06693877551020413, -0.07306122448979596, -0.07918367346938779, -0.08530612244897963, -0.09142857142857147, -0.09755102040816331, -0.10367346938775512, -0.10979591836734698, -0.1159183673469388, -0.12204081632653069, -0.1281632653061225, -0.1342857142857143, -0.14040816326530614, -0.14653061224489805, -0.15265306122448985, -0.15877551020408165, -0.16489795918367356, -0.1710204081632653, -0.17714285714285716, -0.18326530612244896, -0.18938775510204087, -0.19551020408163267, -0.20163265306122458, -0.20775510204081638, -0.21387755102040817, -0.22000000000000008, -0.226122448979592, -0.23224489795918368, -0.23836734693877548, -0.2444897959183674, -0.2506122448979592, -0.2567346938775511], [0.02693877551020407, 0.020816326530612217, 0.014693877551020418, 0.008571428571428563, 0.0024489795918367085, -0.003673469387755146, -0.009795918367347028, -0.015918367346938828, -0.022040816326530654, -0.028163265306122454, -0.034285714285714294, -0.04040816326530615, -0.04653061224489798, -0.05265306122448983, -0.05877551020408167, -0.06489795918367351, -0.07102040816326533, -0.07714285714285717, -0.08326530612244902, -0.08938775510204085, -0.09551020408163269, -0.1016326530612245, -0.10775510204081637, -0.1138775510204082, -0.12000000000000002, -0.12612244897959188, -0.1322448979591837, -0.13836734693877553, -0.14448979591836736, -0.1506122448979592, -0.15673469387755107, -0.16285714285714292, -0.16897959183673467, -0.17510204081632663, -0.18122448979591832, -0.18734693877551023, -0.19346938775510203, -0.19959183673469388, -0.20571428571428574, -0.2118367346938776, -0.21795918367346945, -0.22408163265306125, -0.23020408163265305, -0.23632653061224496, -0.24244897959183676, -0.24857142857142855, -0.25469387755102035, -0.26081632653061226, -0.2669387755102042, -0.273061224489796], [0.0106122448979592, 0.004489795918367401, -0.0016326530612244539, -0.0077551020408163085, -0.013877551020408163, -0.01999999999999999, -0.0261224489795919, -0.03224489795918367, -0.038367346938775526, -0.04448979591836731, -0.05061224489795915, -0.056734693877551, -0.06285714285714285, -0.06897959183673469, -0.07510204081632653, -0.08122448979591837, -0.08734693877551018, -0.09346938775510204, -0.09959183673469388, -0.10571428571428572, -0.11183673469387753, -0.11795918367346937, -0.12408163265306121, -0.13020408163265307, -0.1363265306122449, -0.14244897959183675, -0.14857142857142852, -0.1546938775510204, -0.16081632653061223, -0.16693877551020408, -0.17306122448979594, -0.17918367346938774, -0.1853061224489796, -0.1914285714285714, -0.1975510204081632, -0.2036734693877551, -0.2097959183673469, -0.21591836734693876, -0.2220408163265306, -0.22816326530612246, -0.23428571428571432, -0.24040816326530612, -0.24653061224489803, -0.2526530612244897, -0.2587755102040816, -0.2648979591836734, -0.27102040816326534, -0.27714285714285714, -0.28326530612244893, -0.28938775510204084], [-0.005714285714285616, -0.011836734693877526, -0.017959183673469326, -0.024081632653061236, -0.030204081632653035, -0.03632653061224489, -0.04244897959183677, -0.04857142857142857, -0.05469387755102041, -0.0608163265306122, -0.06693877551020405, -0.07306122448979589, -0.07918367346938773, -0.08530612244897957, -0.09142857142857141, -0.09755102040816326, -0.10367346938775508, -0.10979591836734692, -0.11591836734693875, -0.12204081632653059, -0.12816326530612243, -0.13428571428571423, -0.1404081632653061, -0.14653061224489797, -0.1526530612244898, -0.1587755102040816, -0.16489795918367342, -0.1710204081632653, -0.17714285714285716, -0.1832653061224489, -0.1893877551020408, -0.19551020408163267, -0.2016326530612244, -0.20775510204081626, -0.21387755102040806, -0.21999999999999997, -0.22612244897959177, -0.23224489795918368, -0.23836734693877548, -0.2444897959183674, -0.2506122448979592, -0.256734693877551, -0.2628571428571428, -0.2689795918367346, -0.2751020408163265, -0.2812244897959183, -0.2873469387755102, -0.293469387755102, -0.2995918367346939, -0.3057142857142857], [-0.022040816326530543, -0.028163265306122398, -0.034285714285714225, -0.04040816326530608, -0.046530612244897934, -0.05265306122448976, -0.05877551020408167, -0.06489795918367346, -0.0710204081632653, -0.0771428571428571, -0.08326530612244892, -0.08938775510204078, -0.09551020408163262, -0.10163265306122446, -0.1077551020408163, -0.11387755102040815, -0.11999999999999997, -0.1261224489795918, -0.13224489795918365, -0.1383673469387755, -0.1444897959183673, -0.15061224489795916, -0.156734693877551, -0.16285714285714287, -0.16897959183673464, -0.1751020408163265, -0.18122448979591832, -0.1873469387755102, -0.19346938775510197, -0.19959183673469383, -0.20571428571428574, -0.21183673469387748, -0.21795918367346934, -0.22408163265306114, -0.230204081632653, -0.23632653061224485, -0.2424489795918367, -0.24857142857142855, -0.2546938775510204, -0.26081632653061226, -0.2669387755102042, -0.27306122448979586, -0.27918367346938766, -0.28530612244897946, -0.2914285714285715, -0.2975510204081633, -0.3036734693877551, -0.3097959183673469, -0.3159183673469388, -0.3220408163265307], [-0.03836734693877558, -0.044489795918367436, -0.05061224489795926, -0.05673469387755112, -0.06285714285714297, -0.0689795918367348, -0.07510204081632671, -0.0812244897959185, -0.08734693877551034, -0.09346938775510212, -0.09959183673469396, -0.10571428571428582, -0.11183673469387764, -0.1179591836734695, -0.12408163265306134, -0.13020408163265318, -0.136326530612245, -0.14244897959183683, -0.1485714285714287, -0.15469387755102054, -0.16081632653061234, -0.1669387755102042, -0.17306122448979605, -0.17918367346938785, -0.18530612244897968, -0.19142857142857153, -0.19755102040816336, -0.2036734693877552, -0.209795918367347, -0.21591836734693892, -0.22204081632653078, -0.22816326530612252, -0.23428571428571432, -0.24040816326530623, -0.24653061224489803, -0.25265306122448994, -0.25877551020408174, -0.2648979591836736, -0.27102040816326545, -0.2771428571428573, -0.28326530612244905, -0.28938775510204084, -0.29551020408163264, -0.30163265306122455, -0.30775510204081646, -0.31387755102040826, -0.32000000000000006, -0.326122448979592, -0.3322448979591839, -0.33836734693877557], [-0.05469387755102045, -0.06081632653061228, -0.06693877551020413, -0.07306122448979599, -0.07918367346938782, -0.08530612244897966, -0.09142857142857157, -0.09755102040816335, -0.1036734693877552, -0.10979591836734698, -0.11591836734693883, -0.12204081632653066, -0.12816326530612251, -0.13428571428571434, -0.1404081632653062, -0.14653061224489805, -0.15265306122448985, -0.1587755102040817, -0.16489795918367353, -0.17102040816326536, -0.1771428571428572, -0.18326530612244907, -0.18938775510204087, -0.19551020408163272, -0.20163265306122455, -0.2077551020408164, -0.21387755102040823, -0.22000000000000003, -0.22612244897959194, -0.23224489795918368, -0.23836734693877554, -0.2444897959183674, -0.2506122448979592, -0.2567346938775511, -0.2628571428571429, -0.2689795918367348, -0.2751020408163266, -0.28122448979591846, -0.2873469387755103, -0.293469387755102, -0.2995918367346939, -0.3057142857142857, -0.3118367346938776, -0.3179591836734694, -0.32408163265306134, -0.33020408163265313, -0.33632653061224504, -0.34244897959183684, -0.34857142857142853, -0.35469387755102055], [-0.0710204081632653, -0.07714285714285721, -0.083265306122449, -0.08938775510204086, -0.0955102040816327, -0.10163265306122456, -0.10775510204081645, -0.11387755102040824, -0.12000000000000008, -0.12612244897959188, -0.1322448979591837, -0.13836734693877556, -0.14448979591836741, -0.15061224489795924, -0.1567346938775511, -0.16285714285714292, -0.16897959183673475, -0.17510204081632658, -0.18122448979591843, -0.18734693877551029, -0.1934693877551021, -0.19959183673469388, -0.20571428571428577, -0.21183673469387762, -0.21795918367346945, -0.2240816326530613, -0.2302040816326531, -0.236326530612245, -0.24244897959183676, -0.24857142857142855, -0.25469387755102046, -0.26081632653061226, -0.2669387755102041, -0.273061224489796, -0.27918367346938777, -0.2853061224489797, -0.2914285714285715, -0.2975510204081634, -0.3036734693877551, -0.309795918367347, -0.3159183673469388, -0.3220408163265306, -0.3281632653061225, -0.3342857142857143, -0.3404081632653062, -0.346530612244898, -0.3526530612244899, -0.3587755102040816, -0.3648979591836736, -0.3710204081632653], [-0.08734693877551022, -0.09346938775510205, -0.0995918367346939, -0.10571428571428575, -0.1118367346938776, -0.11795918367346944, -0.12408163265306134, -0.13020408163265312, -0.13632653061224498, -0.14244897959183675, -0.1485714285714286, -0.15469387755102043, -0.16081632653061229, -0.16693877551020414, -0.17306122448979597, -0.17918367346938782, -0.18530612244897962, -0.19142857142857148, -0.19755102040816333, -0.20367346938775516, -0.20979591836734696, -0.2159183673469388, -0.22204081632653067, -0.22816326530612252, -0.23428571428571435, -0.24040816326530615, -0.24653061224489803, -0.25265306122448977, -0.2587755102040816, -0.2648979591836735, -0.27102040816326534, -0.2771428571428572, -0.28326530612244905, -0.28938775510204084, -0.2955102040816327, -0.30163265306122455, -0.3077551020408164, -0.31387755102040815, -0.31999999999999995, -0.32612244897959186, -0.33224489795918377, -0.33836734693877557, -0.34448979591836737, -0.35061224489795917, -0.3567346938775512, -0.362857142857143, -0.3689795918367347, -0.3751020408163266, -0.3812244897959184, -0.3873469387755104], [-0.10367346938775512, -0.10979591836734695, -0.11591836734693879, -0.12204081632653065, -0.1281632653061225, -0.1342857142857143, -0.14040816326530622, -0.14653061224489802, -0.15265306122448985, -0.15877551020408165, -0.1648979591836735, -0.17102040816326533, -0.17714285714285719, -0.183265306122449, -0.18938775510204087, -0.1955102040816327, -0.20163265306122452, -0.20775510204081638, -0.21387755102040823, -0.22000000000000003, -0.22612244897959186, -0.23224489795918368, -0.23836734693877557, -0.24448979591836742, -0.2506122448979592, -0.2567346938775511, -0.26285714285714284, -0.2689795918367347, -0.27510204081632655, -0.2812244897959184, -0.2873469387755102, -0.2934693877551021, -0.2995918367346939, -0.30571428571428577, -0.3118367346938776, -0.3179591836734695, -0.3240816326530612, -0.330204081632653, -0.33632653061224493, -0.34244897959183673, -0.34857142857142864, -0.35469387755102044, -0.36081632653061224, -0.36693877551020415, -0.37306122448979606, -0.37918367346938775, -0.38530612244897966, -0.39142857142857146, -0.39755102040816337, -0.40367346938775517], [-0.12, -0.12612244897959185, -0.13224489795918368, -0.13836734693877553, -0.14448979591836736, -0.1506122448979592, -0.15673469387755112, -0.1628571428571429, -0.16897959183673472, -0.17510204081632652, -0.18122448979591838, -0.18734693877551023, -0.19346938775510206, -0.1995918367346939, -0.20571428571428574, -0.2118367346938776, -0.21795918367346942, -0.22408163265306127, -0.23020408163265307, -0.2363265306122449, -0.24244897959183676, -0.2485714285714286, -0.25469387755102046, -0.26081632653061226, -0.2669387755102042, -0.27306122448979586, -0.2791836734693877, -0.28530612244897957, -0.2914285714285714, -0.2975510204081633, -0.30367346938775513, -0.309795918367347, -0.3159183673469388, -0.3220408163265307, -0.3281632653061225, -0.3342857142857143, -0.3404081632653061, -0.346530612244898, -0.3526530612244898, -0.3587755102040817, -0.3648979591836735, -0.3710204081632653, -0.3771428571428571, -0.383265306122449, -0.3893877551020408, -0.39551020408163273, -0.4016326530612244, -0.40775510204081644, -0.41387755102040824, -0.41999999999999993]]}],\n",
       "                        {\"scene\": {\"xaxis\": {\"title\": {\"text\": \"w1\"}}, \"yaxis\": {\"title\": {\"text\": \"w2\"}}, \"zaxis\": {\"title\": {\"text\": \"Expected Value\"}}}, \"template\": {\"data\": {\"bar\": [{\"error_x\": {\"color\": \"#2a3f5f\"}, \"error_y\": {\"color\": \"#2a3f5f\"}, \"marker\": {\"line\": {\"color\": \"#E5ECF6\", \"width\": 0.5}}, \"type\": \"bar\"}], \"barpolar\": [{\"marker\": {\"line\": {\"color\": \"#E5ECF6\", \"width\": 0.5}}, \"type\": \"barpolar\"}], \"carpet\": [{\"aaxis\": {\"endlinecolor\": \"#2a3f5f\", \"gridcolor\": \"white\", \"linecolor\": \"white\", \"minorgridcolor\": \"white\", \"startlinecolor\": \"#2a3f5f\"}, \"baxis\": {\"endlinecolor\": \"#2a3f5f\", \"gridcolor\": \"white\", \"linecolor\": \"white\", \"minorgridcolor\": \"white\", \"startlinecolor\": \"#2a3f5f\"}, \"type\": \"carpet\"}], \"choropleth\": [{\"colorbar\": {\"outlinewidth\": 0, \"ticks\": \"\"}, \"type\": \"choropleth\"}], \"contour\": [{\"colorbar\": {\"outlinewidth\": 0, \"ticks\": \"\"}, \"colorscale\": [[0.0, \"#0d0887\"], [0.1111111111111111, \"#46039f\"], [0.2222222222222222, \"#7201a8\"], [0.3333333333333333, \"#9c179e\"], [0.4444444444444444, \"#bd3786\"], [0.5555555555555556, \"#d8576b\"], [0.6666666666666666, \"#ed7953\"], [0.7777777777777778, \"#fb9f3a\"], [0.8888888888888888, \"#fdca26\"], [1.0, \"#f0f921\"]], \"type\": \"contour\"}], \"contourcarpet\": [{\"colorbar\": {\"outlinewidth\": 0, \"ticks\": \"\"}, \"type\": \"contourcarpet\"}], \"heatmap\": [{\"colorbar\": {\"outlinewidth\": 0, \"ticks\": \"\"}, \"colorscale\": [[0.0, \"#0d0887\"], [0.1111111111111111, \"#46039f\"], [0.2222222222222222, \"#7201a8\"], [0.3333333333333333, \"#9c179e\"], [0.4444444444444444, \"#bd3786\"], [0.5555555555555556, \"#d8576b\"], [0.6666666666666666, \"#ed7953\"], [0.7777777777777778, \"#fb9f3a\"], [0.8888888888888888, \"#fdca26\"], [1.0, \"#f0f921\"]], \"type\": \"heatmap\"}], \"heatmapgl\": [{\"colorbar\": {\"outlinewidth\": 0, \"ticks\": \"\"}, \"colorscale\": [[0.0, \"#0d0887\"], [0.1111111111111111, \"#46039f\"], [0.2222222222222222, \"#7201a8\"], [0.3333333333333333, \"#9c179e\"], [0.4444444444444444, \"#bd3786\"], [0.5555555555555556, \"#d8576b\"], [0.6666666666666666, \"#ed7953\"], [0.7777777777777778, \"#fb9f3a\"], [0.8888888888888888, \"#fdca26\"], [1.0, \"#f0f921\"]], \"type\": \"heatmapgl\"}], \"histogram\": [{\"marker\": {\"colorbar\": {\"outlinewidth\": 0, \"ticks\": \"\"}}, \"type\": \"histogram\"}], \"histogram2d\": [{\"colorbar\": {\"outlinewidth\": 0, \"ticks\": \"\"}, \"colorscale\": [[0.0, \"#0d0887\"], [0.1111111111111111, \"#46039f\"], [0.2222222222222222, \"#7201a8\"], [0.3333333333333333, \"#9c179e\"], [0.4444444444444444, \"#bd3786\"], [0.5555555555555556, \"#d8576b\"], [0.6666666666666666, \"#ed7953\"], [0.7777777777777778, \"#fb9f3a\"], [0.8888888888888888, \"#fdca26\"], [1.0, \"#f0f921\"]], \"type\": \"histogram2d\"}], \"histogram2dcontour\": [{\"colorbar\": {\"outlinewidth\": 0, \"ticks\": \"\"}, \"colorscale\": [[0.0, \"#0d0887\"], [0.1111111111111111, \"#46039f\"], [0.2222222222222222, \"#7201a8\"], [0.3333333333333333, \"#9c179e\"], [0.4444444444444444, \"#bd3786\"], [0.5555555555555556, \"#d8576b\"], [0.6666666666666666, \"#ed7953\"], [0.7777777777777778, \"#fb9f3a\"], [0.8888888888888888, \"#fdca26\"], [1.0, \"#f0f921\"]], \"type\": \"histogram2dcontour\"}], \"mesh3d\": [{\"colorbar\": {\"outlinewidth\": 0, \"ticks\": \"\"}, \"type\": \"mesh3d\"}], \"parcoords\": [{\"line\": {\"colorbar\": {\"outlinewidth\": 0, \"ticks\": \"\"}}, \"type\": \"parcoords\"}], \"pie\": [{\"automargin\": true, \"type\": \"pie\"}], \"scatter\": [{\"marker\": {\"colorbar\": {\"outlinewidth\": 0, \"ticks\": \"\"}}, \"type\": \"scatter\"}], \"scatter3d\": [{\"line\": {\"colorbar\": {\"outlinewidth\": 0, \"ticks\": \"\"}}, \"marker\": {\"colorbar\": {\"outlinewidth\": 0, \"ticks\": \"\"}}, \"type\": \"scatter3d\"}], \"scattercarpet\": [{\"marker\": {\"colorbar\": {\"outlinewidth\": 0, \"ticks\": \"\"}}, \"type\": \"scattercarpet\"}], \"scattergeo\": [{\"marker\": {\"colorbar\": {\"outlinewidth\": 0, \"ticks\": \"\"}}, \"type\": \"scattergeo\"}], \"scattergl\": [{\"marker\": {\"colorbar\": {\"outlinewidth\": 0, \"ticks\": \"\"}}, \"type\": \"scattergl\"}], \"scattermapbox\": [{\"marker\": {\"colorbar\": {\"outlinewidth\": 0, \"ticks\": \"\"}}, \"type\": \"scattermapbox\"}], \"scatterpolar\": [{\"marker\": {\"colorbar\": {\"outlinewidth\": 0, \"ticks\": \"\"}}, \"type\": \"scatterpolar\"}], \"scatterpolargl\": [{\"marker\": {\"colorbar\": {\"outlinewidth\": 0, \"ticks\": \"\"}}, \"type\": \"scatterpolargl\"}], \"scatterternary\": [{\"marker\": {\"colorbar\": {\"outlinewidth\": 0, \"ticks\": \"\"}}, \"type\": \"scatterternary\"}], \"surface\": [{\"colorbar\": {\"outlinewidth\": 0, \"ticks\": \"\"}, \"colorscale\": [[0.0, \"#0d0887\"], [0.1111111111111111, \"#46039f\"], [0.2222222222222222, \"#7201a8\"], [0.3333333333333333, \"#9c179e\"], [0.4444444444444444, \"#bd3786\"], [0.5555555555555556, \"#d8576b\"], [0.6666666666666666, \"#ed7953\"], [0.7777777777777778, \"#fb9f3a\"], [0.8888888888888888, \"#fdca26\"], [1.0, \"#f0f921\"]], \"type\": \"surface\"}], \"table\": [{\"cells\": {\"fill\": {\"color\": \"#EBF0F8\"}, \"line\": {\"color\": \"white\"}}, \"header\": {\"fill\": {\"color\": \"#C8D4E3\"}, \"line\": {\"color\": \"white\"}}, \"type\": \"table\"}]}, \"layout\": {\"annotationdefaults\": {\"arrowcolor\": \"#2a3f5f\", \"arrowhead\": 0, \"arrowwidth\": 1}, \"coloraxis\": {\"colorbar\": {\"outlinewidth\": 0, \"ticks\": \"\"}}, \"colorscale\": {\"diverging\": [[0, \"#8e0152\"], [0.1, \"#c51b7d\"], [0.2, \"#de77ae\"], [0.3, \"#f1b6da\"], [0.4, \"#fde0ef\"], [0.5, \"#f7f7f7\"], [0.6, \"#e6f5d0\"], [0.7, \"#b8e186\"], [0.8, \"#7fbc41\"], [0.9, \"#4d9221\"], [1, \"#276419\"]], \"sequential\": [[0.0, \"#0d0887\"], [0.1111111111111111, \"#46039f\"], [0.2222222222222222, \"#7201a8\"], [0.3333333333333333, \"#9c179e\"], [0.4444444444444444, \"#bd3786\"], [0.5555555555555556, \"#d8576b\"], [0.6666666666666666, \"#ed7953\"], [0.7777777777777778, \"#fb9f3a\"], [0.8888888888888888, \"#fdca26\"], [1.0, \"#f0f921\"]], \"sequentialminus\": [[0.0, \"#0d0887\"], [0.1111111111111111, \"#46039f\"], [0.2222222222222222, \"#7201a8\"], [0.3333333333333333, \"#9c179e\"], [0.4444444444444444, \"#bd3786\"], [0.5555555555555556, \"#d8576b\"], [0.6666666666666666, \"#ed7953\"], [0.7777777777777778, \"#fb9f3a\"], [0.8888888888888888, \"#fdca26\"], [1.0, \"#f0f921\"]]}, \"colorway\": [\"#636efa\", \"#EF553B\", \"#00cc96\", \"#ab63fa\", \"#FFA15A\", \"#19d3f3\", \"#FF6692\", \"#B6E880\", \"#FF97FF\", \"#FECB52\"], \"font\": {\"color\": \"#2a3f5f\"}, \"geo\": {\"bgcolor\": \"white\", \"lakecolor\": \"white\", \"landcolor\": \"#E5ECF6\", \"showlakes\": true, \"showland\": true, \"subunitcolor\": \"white\"}, \"hoverlabel\": {\"align\": \"left\"}, \"hovermode\": \"closest\", \"mapbox\": {\"style\": \"light\"}, \"paper_bgcolor\": \"white\", \"plot_bgcolor\": \"#E5ECF6\", \"polar\": {\"angularaxis\": {\"gridcolor\": \"white\", \"linecolor\": \"white\", \"ticks\": \"\"}, \"bgcolor\": \"#E5ECF6\", \"radialaxis\": {\"gridcolor\": \"white\", \"linecolor\": \"white\", \"ticks\": \"\"}}, \"scene\": {\"xaxis\": {\"backgroundcolor\": \"#E5ECF6\", \"gridcolor\": \"white\", \"gridwidth\": 2, \"linecolor\": \"white\", \"showbackground\": true, \"ticks\": \"\", \"zerolinecolor\": \"white\"}, \"yaxis\": {\"backgroundcolor\": \"#E5ECF6\", \"gridcolor\": \"white\", \"gridwidth\": 2, \"linecolor\": \"white\", \"showbackground\": true, \"ticks\": \"\", \"zerolinecolor\": \"white\"}, \"zaxis\": {\"backgroundcolor\": \"#E5ECF6\", \"gridcolor\": \"white\", \"gridwidth\": 2, \"linecolor\": \"white\", \"showbackground\": true, \"ticks\": \"\", \"zerolinecolor\": \"white\"}}, \"shapedefaults\": {\"line\": {\"color\": \"#2a3f5f\"}}, \"ternary\": {\"aaxis\": {\"gridcolor\": \"white\", \"linecolor\": \"white\", \"ticks\": \"\"}, \"baxis\": {\"gridcolor\": \"white\", \"linecolor\": \"white\", \"ticks\": \"\"}, \"bgcolor\": \"#E5ECF6\", \"caxis\": {\"gridcolor\": \"white\", \"linecolor\": \"white\", \"ticks\": \"\"}}, \"title\": {\"x\": 0.05}, \"xaxis\": {\"automargin\": true, \"gridcolor\": \"white\", \"linecolor\": \"white\", \"ticks\": \"\", \"title\": {\"standoff\": 15}, \"zerolinecolor\": \"white\", \"zerolinewidth\": 2}, \"yaxis\": {\"automargin\": true, \"gridcolor\": \"white\", \"linecolor\": \"white\", \"ticks\": \"\", \"title\": {\"standoff\": 15}, \"zerolinecolor\": \"white\", \"zerolinewidth\": 2}}}},\n",
       "                        {\"responsive\": true}\n",
       "                    ).then(function(){\n",
       "                            \n",
       "var gd = document.getElementById('71476bba-7ca8-462a-88bf-ef28a5a291b5');\n",
       "var x = new MutationObserver(function (mutations, observer) {{\n",
       "        var display = window.getComputedStyle(gd).display;\n",
       "        if (!display || display === 'none') {{\n",
       "            console.log([gd, 'removed!']);\n",
       "            Plotly.purge(gd);\n",
       "            observer.disconnect();\n",
       "        }}\n",
       "}});\n",
       "\n",
       "// Listen for the removal of the full notebook cells\n",
       "var notebookContainer = gd.closest('#notebook-container');\n",
       "if (notebookContainer) {{\n",
       "    x.observe(notebookContainer, {childList: true});\n",
       "}}\n",
       "\n",
       "// Listen for the clearing of the current output cell\n",
       "var outputEl = gd.closest('.output');\n",
       "if (outputEl) {{\n",
       "    x.observe(outputEl, {childList: true});\n",
       "}}\n",
       "\n",
       "                        })\n",
       "                };\n",
       "                });\n",
       "            </script>\n",
       "        </div>"
      ]
     },
     "metadata": {},
     "output_type": "display_data"
    }
   ],
   "source": [
    "fig1 = go.Figure(go.Surface(\n",
    "    contours = {\n",
    "        \"z\": {\"show\": True, \"start\": -2, \"end\": 6, \"size\": 0.08, \"color\":\"white\"}\n",
    "    },\n",
    "    x = w1,\n",
    "    y = w2,\n",
    "    z = mu_w))\n",
    "\n",
    "fig1.update_layout(\n",
    "        scene = dict(\n",
    "                    xaxis_title='w1',\n",
    "                    yaxis_title='w2',\n",
    "                    zaxis_title='Expected Value'),\n",
    "        )\n",
    "\n",
    "fig1.show()"
   ]
  },
  {
   "cell_type": "markdown",
   "metadata": {
    "hidden": true
   },
   "source": [
    "**Graph of the variance a portfolio of 3 Securities**"
   ]
  },
  {
   "cell_type": "code",
   "execution_count": 152,
   "metadata": {
    "hidden": true,
    "scrolled": true
   },
   "outputs": [
    {
     "data": {
      "application/vnd.plotly.v1+json": {
       "config": {
        "plotlyServerURL": "https://plot.ly"
       },
       "data": [
        {
         "contours": {
          "z": {
           "color": "white",
           "end": 14,
           "show": true,
           "size": 0.1,
           "start": -2
          }
         },
         "type": "surface",
         "x": [
          -5,
          -4.795918367346939,
          -4.591836734693878,
          -4.387755102040816,
          -4.183673469387755,
          -3.979591836734694,
          -3.7755102040816326,
          -3.571428571428571,
          -3.36734693877551,
          -3.163265306122449,
          -2.9591836734693877,
          -2.7551020408163263,
          -2.5510204081632653,
          -2.3469387755102042,
          -2.142857142857143,
          -1.9387755102040813,
          -1.7346938775510203,
          -1.5306122448979593,
          -1.3265306122448979,
          -1.1224489795918364,
          -0.9183673469387754,
          -0.7142857142857144,
          -0.5102040816326525,
          -0.3061224489795915,
          -0.1020408163265305,
          0.1020408163265305,
          0.3061224489795915,
          0.5102040816326534,
          0.7142857142857144,
          0.9183673469387754,
          1.1224489795918373,
          1.3265306122448983,
          1.5306122448979593,
          1.7346938775510203,
          1.9387755102040813,
          2.1428571428571432,
          2.3469387755102042,
          2.5510204081632653,
          2.755102040816327,
          2.959183673469388,
          3.163265306122449,
          3.36734693877551,
          3.571428571428571,
          3.775510204081632,
          3.979591836734695,
          4.183673469387756,
          4.387755102040817,
          4.591836734693878,
          4.795918367346939,
          5
         ],
         "y": [
          -5,
          -4.795918367346939,
          -4.591836734693878,
          -4.387755102040816,
          -4.183673469387755,
          -3.979591836734694,
          -3.7755102040816326,
          -3.571428571428571,
          -3.36734693877551,
          -3.163265306122449,
          -2.9591836734693877,
          -2.7551020408163263,
          -2.5510204081632653,
          -2.3469387755102042,
          -2.142857142857143,
          -1.9387755102040813,
          -1.7346938775510203,
          -1.5306122448979593,
          -1.3265306122448979,
          -1.1224489795918364,
          -0.9183673469387754,
          -0.7142857142857144,
          -0.5102040816326525,
          -0.3061224489795915,
          -0.1020408163265305,
          0.1020408163265305,
          0.3061224489795915,
          0.5102040816326534,
          0.7142857142857144,
          0.9183673469387754,
          1.1224489795918373,
          1.3265306122448983,
          1.5306122448979593,
          1.7346938775510203,
          1.9387755102040813,
          2.1428571428571432,
          2.3469387755102042,
          2.5510204081632653,
          2.755102040816327,
          2.959183673469388,
          3.163265306122449,
          3.36734693877551,
          3.571428571428571,
          3.775510204081632,
          3.979591836734695,
          4.183673469387756,
          4.387755102040817,
          4.591836734693878,
          4.795918367346939,
          5
         ],
         "z": [
          [
           15.439400000000003,
           14.586983506872137,
           13.758631986672224,
           12.954345439400255,
           12.174123865056231,
           11.41796726364015,
           10.68587563515202,
           9.977848979591837,
           9.2938872969596,
           8.633990587255312,
           7.9981588504789665,
           7.38639208663057,
           6.798690295710119,
           6.235053477717617,
           5.6954816326530615,
           5.179974760516451,
           4.68853286130779,
           4.221155935027072,
           3.7778439816743035,
           3.3585970012494797,
           2.963414993752604,
           2.5922979591836746,
           2.2452458975426905,
           1.9222588088296537,
           1.623336693044565,
           1.3484795501874225,
           1.0976873802582259,
           0.870960183256976,
           0.6682979591836742,
           0.48970070803831733,
           0.33516842982090767,
           0.20470112453144518,
           0.09829879216992898,
           0.015961432736359527,
           -0.04231095376926275,
           -0.07651836734693918,
           -0.08666080799666798,
           -0.07273827571845093,
           -0.0347507705122867,
           0.02730170762182449,
           0.11341915868388219,
           0.22360158267388552,
           0.35784897959183626,
           0.5161613494377335,
           0.6985386922115793,
           0.9049810079133707,
           1.135488296543108,
           1.3900605581007919,
           1.6686977925864226,
           1.9714
          ],
          [
           15.150748604748024,
           14.306570345689298,
           13.486457059558521,
           12.690408746355686,
           11.918425406080804,
           11.170507038733865,
           10.446653644314868,
           9.746865222823825,
           9.071141774260724,
           8.419483298625574,
           7.791889795918369,
           7.1883612661391085,
           6.6088977092877945,
           6.053499125364432,
           5.522165514369014,
           5.014896876301542,
           4.5316932111620165,
           4.072554518950439,
           3.6374807996668075,
           3.22647205331112,
           2.8395282798833823,
           2.4766494793835916,
           2.137835651811744,
           1.8230867971678473,
           1.532402915451895,
           1.2657840066638903,
           1.0232300708038324,
           0.8047411078717199,
           0.610317117867555,
           0.43995810079133735,
           0.2936640566430655,
           0.17143498542274038,
           0.07327088713036245,
           -0.0008282382340694117,
           -0.05086239067055409,
           -0.07683157017909159,
           -0.07873577675968368,
           -0.05657501041232815,
           -0.010349271137026106,
           0.05994144106622268,
           0.15429712619741776,
           0.27271778425655935,
           0.41520341524364857,
           0.5817540191586831,
           0.7723695960016668,
           0.9870501457725954,
           1.2257956684714708,
           1.488606164098293,
           1.7754816326530618,
           2.086422074135777
          ],
          [
           14.86471278633903,
           14.028772761349437,
           13.2168977092878,
           12.429087630154106,
           11.665342523948357,
           10.925662390670556,
           10.210047230320699,
           9.518497042898794,
           8.851011828404832,
           8.20759158683882,
           7.588236318200752,
           6.992946022490628,
           6.4217206997084535,
           5.874560349854231,
           5.351464972927946,
           4.852434568929613,
           4.377469137859227,
           3.926568679716786,
           3.499733194502292,
           3.0969626822157434,
           2.7182571428571443,
           2.363616576426489,
           2.033040982923782,
           1.726530362349021,
           1.444084714702207,
           1.185704039983341,
           0.95138833819242,
           0.7411376093294457,
           0.5549518533944187,
           0.3928310703873388,
           0.2547752603082043,
           0.1407844231570179,
           0.05085855893377755,
           -0.01500233236151538,
           -0.05679825072886313,
           -0.0745291961682637,
           -0.06819516867971687,
           -0.03779616826322396,
           0.016667805081216125,
           0.0951967513536025,
           0.19779067055393562,
           0.32444956268221503,
           0.47517342773844207,
           0.6499622657226151,
           0.8488160766347362,
           1.0717348604748032,
           1.318718617242816,
           1.5897673469387752,
           1.8848810495626827,
           2.2040597251145355
          ],
          [
           14.581292544773014,
           13.753590753852569,
           12.949953935860062,
           12.1703820907955,
           11.414875218658892,
           10.68343331945023,
           9.976056393169511,
           9.29274443981674,
           8.63349745939192,
           7.998315451895044,
           7.387198417326113,
           6.800146355685131,
           6.237159266972096,
           5.698237151187007,
           5.183380008329863,
           4.692587838400668,
           4.225860641399416,
           3.7831984173261137,
           3.364601166180757,
           2.9700688879633477,
           2.599601582673884,
           2.25319925031237,
           1.9308618908787993,
           1.6325895043731773,
           1.3583820907955015,
           1.108239650145773,
           0.8821621824239902,
           0.6801496876301538,
           0.5022021657642646,
           0.3483196168263225,
           0.21850204081632651,
           0.11274943773427681,
           0.03106180758017474,
           -0.026560849645981044,
           -0.06011853394419009,
           -0.0696112453144524,
           -0.05503898375676819,
           -0.016401749271137023,
           0.04630045814244044,
           0.1330676384839653,
           0.24389979175343635,
           0.3787969179508537,
           0.5377590170762179,
           0.7207860891295288,
           0.9278781341107886,
           1.1590351520199924,
           1.414257142857144,
           1.6935441066222414,
           1.9968960433152856,
           2.324312952936277
          ],
          [
           14.300487880049982,
           13.481024323198671,
           12.685625739275306,
           11.914292128279882,
           11.167023490212411,
           10.443819825072886,
           9.744681132861306,
           9.069607413577675,
           8.418598667221993,
           7.7916548937942505,
           7.188776093294459,
           6.609962265722616,
           6.055213411078718,
           5.524529529362766,
           5.017910620574763,
           4.535356684714703,
           4.076867721782592,
           3.6424437317784277,
           3.2320847147022076,
           2.8457906705539355,
           2.483561599333612,
           2.145397501041234,
           1.8312983756768006,
           1.541264223240316,
           1.2752950437317785,
           1.0333908371511868,
           0.8155516034985428,
           0.6217773427738438,
           0.45206805497709235,
           0.3064237401082883,
           0.18484439816742992,
           0.08733002915451826,
           0.013880633069554449,
           -0.035503790087463516,
           -0.060823240316534966,
           -0.062077717617659456,
           -0.03926722199083721,
           0.007608246563931553,
           0.07854868804664727,
           0.1735541024573095,
           0.2926244897959186,
           0.4357598500624741,
           0.6029601832569762,
           0.794225489379425,
           1.0095557684298222,
           1.2489510204081642,
           1.5124112453144534,
           1.7999364431486886,
           2.111526613910871,
           2.4471817576009998
          ],
          [
           14.022298792169936,
           13.21107346938776,
           12.423913119533534,
           11.660817742607245,
           10.921787338608915,
           10.20682190753853,
           9.515921449396085,
           8.849085964181588,
           8.206315451895044,
           7.587609912536443,
           6.992969346105789,
           6.422393752603082,
           5.875883132028321,
           5.3534374843815105,
           4.855056809662642,
           4.380741107871721,
           3.930490379008747,
           3.504304623073721,
           3.1021838400666386,
           2.7241280299875053,
           2.370137192836319,
           2.040211328613078,
           1.7343504373177838,
           1.452554518950437,
           1.1948235735110369,
           0.9611576009995837,
           0.7515566014160768,
           0.5660205747605163,
           0.40454952103290287,
           0.267143440233236,
           0.15380233236151564,
           0.06452619741774268,
           -0.0006849645980842034,
           -0.04183115368596435,
           -0.05891236984589776,
           -0.05192861307788421,
           -0.020879883381924147,
           0.03423381924198243,
           0.11341249479383608,
           0.21665614327363603,
           0.34396476468138315,
           0.495338359017076,
           0.6707769262807163,
           0.8702804664723026,
           1.0938489795918378,
           1.341482465639318,
           1.613180924614745,
           1.9089443565181177,
           2.2287727613494384,
           2.5726661391087045
          ],
          [
           13.746725281132864,
           12.943738192419827,
           12.164816076634738,
           11.409958933777592,
           10.679166763848396,
           9.972439566847148,
           9.289777342773844,
           8.631180091628487,
           7.996647813411078,
           7.386180508121616,
           6.7997781757601015,
           6.237440816326532,
           5.69916842982091,
           5.184961016243234,
           4.694818575593503,
           4.22874110787172,
           3.786728613077884,
           3.368781091211995,
           2.9748985422740524,
           2.605080966264057,
           2.2593283631820085,
           1.9376407330279064,
           1.640018075801748,
           1.3664603915035392,
           1.1169676801332775,
           0.8915399416909617,
           0.6901771761765931,
           0.5128793835901706,
           0.35964656393169525,
           0.23047871720116642,
           0.12537584339858343,
           0.04433794252394829,
           -0.012634985422740552,
           -0.04554294044148266,
           -0.05438592253227825,
           -0.039163931695126886,
           0.00012303206997099636,
           0.0634749687630155,
           0.15089187838400708,
           0.26237376093294473,
           0.39792061640982934,
           0.5575324448146605,
           0.7412092461474384,
           0.9489510204081629,
           1.1807577675968361,
           1.4366294877134538,
           1.7165661807580186,
           2.02056784673053,
           2.348634485630988,
           2.700766097459392
          ],
          [
           13.473767346938777,
           12.67901849229488,
           11.90833461057893,
           11.161715701790918,
           10.439161765930864,
           9.740672802998754,
           9.066248812994584,
           8.415889795918366,
           7.789595751770096,
           7.187366680549772,
           6.609202582257393,
           6.055103456892962,
           5.525069304456476,
           5.019100124947939,
           4.537195918367347,
           4.079356684714702,
           3.6455824239900037,
           3.235873136193254,
           2.850228821324449,
           2.48864947938359,
           2.1511351103706784,
           1.8376857142857144,
           1.548301291128696,
           1.282981840899625,
           1.0417273635985007,
           0.824537859225323,
           0.6314133277800922,
           0.4623537692628066,
           0.3173591836734695,
           0.19642957101207847,
           0.09956493127863353,
           0.026765264473135986,
           -0.02196942940441482,
           -0.04663915035401911,
           -0.047243898375676774,
           -0.023783673469388034,
           0.02374152436484811,
           0.09533169512703044,
           0.19098683881715994,
           0.31070695543523574,
           0.45449204498125795,
           0.6223421074552271,
           0.8142571428571426,
           1.030237151187005,
           1.2702821324448164,
           1.534392086630572,
           1.8225670137442742,
           2.1348069137859236,
           2.4711117867555195,
           2.8314816326530616
          ],
          [
           13.203424989587672,
           12.416914369012913,
           11.6544687213661,
           10.91608804664723,
           10.20177234485631,
           9.511521615993335,
           8.84533586005831,
           8.203215077051228,
           7.585159266972095,
           6.991168429820909,
           6.4212425655976695,
           5.875381674302373,
           5.353585755935029,
           4.855854810495627,
           4.382188837984172,
           3.932587838400666,
           3.5070518117451064,
           3.105580758017493,
           2.7281746772178264,
           2.374833569346105,
           2.0455574344023324,
           1.740346272386506,
           1.459200083298625,
           1.202118867138692,
           0.9691026239067053,
           0.7601513536026658,
           0.5752650562265724,
           0.41444373177842553,
           0.2776873802582258,
           0.16499600166597284,
           0.07636959600166571,
           0.011808163265305982,
           -0.028688296543107117,
           -0.04511978342357359,
           -0.037486297376093325,
           -0.005787838400666545,
           0.04997559350270708,
           0.12980399833402734,
           0.23369737609329488,
           0.3616557267805082,
           0.5136790503956685,
           0.6897673469387753,
           0.889920616409829,
           1.114138858808829,
           1.3624220741357784,
           1.6347702623906717,
           1.931183423573512,
           2.2516615576842995,
           2.5962046647230324,
           2.9648127446897132
          ],
          [
           12.93569820907955,
           12.15742582257393,
           11.403218408996256,
           10.673075968346522,
           9.96699850062474,
           9.284986005830904,
           8.627038483965014,
           7.993155935027074,
           7.383338359017077,
           6.797585755935028,
           6.235898125780926,
           5.698275468554769,
           5.184717784256561,
           4.6952250728862985,
           4.229797334443981,
           3.7884345689296124,
           3.37113677634319,
           2.977903956684716,
           2.6087361099541866,
           2.2636332361516036,
           1.9425953352769678,
           1.6456224073302794,
           1.3727144523115364,
           1.1238714702207413,
           0.8990934610578925,
           0.6983804248229906,
           0.5217323615160354,
           0.36914927113702634,
           0.240631153685964,
           0.13617800916284906,
           0.055789837567679745,
           -0.0005333610995418292,
           -0.03279158683881722,
           -0.04098483965014588,
           -0.025113119533527684,
           0.014823573511037136,
           0.0788252394835488,
           0.16689187838400654,
           0.27902349021241185,
           0.41522007496876334,
           0.5754816326530613,
           0.759808163265306,
           0.9681996668054973,
           1.2006561432736356,
           1.4571775926697224,
           1.737764014993754,
           2.0424154102457317,
           2.3711317784256565,
           2.723913119533528,
           3.100759433569346
          ],
          [
           12.670587005414411,
           11.900552852977928,
           11.154583673469391,
           10.432679466888796,
           9.73484023323615,
           9.061065972511456,
           8.411356684714702,
           7.7857123698459,
           7.184133027905042,
           6.606618658892129,
           6.053169262807163,
           5.523784839650145,
           5.018465389421074,
           4.537210912119951,
           4.080021407746772,
           3.6468968763015406,
           3.2378373177842574,
           2.8528427321949197,
           2.491913119533528,
           2.155048479800082,
           1.842248812994585,
           1.5535141191170343,
           1.28884439816743,
           1.0482396501457725,
           0.8316998750520619,
           0.6392250728862974,
           0.47081524364848004,
           0.326470387338609,
           0.20619050395668448,
           0.10997559350270703,
           0.03782565597667609,
           -0.01025930862140767,
           -0.034279300291545134,
           -0.03423431903373586,
           -0.010124364847980072,
           0.038050562265722676,
           0.11029046230737188,
           0.20659533527696783,
           0.326965181174511,
           0.4714000000000004,
           0.6398997917534363,
           0.8324645564348186,
           1.0490942940441481,
           1.289789004581424,
           1.5545486880466493,
           1.843373344439818,
           2.1562629737609345,
           2.4932175760099966,
           2.854237151187006,
           3.239321699291962
          ],
          [
           12.408091378592253,
           11.64629546022491,
           10.908564514785505,
           10.194898542274052,
           9.505297542690545,
           8.839761516034986,
           8.198290462307371,
           7.5808843815077065,
           6.9875432736359855,
           6.418267138692213,
           5.873055976676385,
           5.351909787588504,
           4.854828571428571,
           4.381812328196586,
           3.932861057892546,
           3.5079747605164515,
           3.1071534360683053,
           2.730397084548106,
           2.3777057059558513,
           2.0490793002915444,
           1.7445178675551851,
           1.4640214077467726,
           1.2075899208663055,
           0.9752234069137853,
           0.7669218658892127,
           0.5826852977925865,
           0.42251370262390686,
           0.2864070803831734,
           0.17436543107038704,
           0.08638875468554774,
           0.02247705122865462,
           -0.01736967930029165,
           -0.0331514369012913,
           -0.024868221574344096,
           0.007479966680549843,
           0.06389312786339035,
           0.1443712619741775,
           0.24891436901291125,
           0.37752244897959236,
           0.5301955018742194,
           0.7069335276967931,
           0.9077365264473135,
           1.1326044981257808,
           1.3815374427321947,
           1.6545353602665573,
           1.9515982507288645,
           2.272726114119118,
           2.6179189504373186,
           2.987176759683466,
           3.380499541857559
          ],
          [
           12.148211328613078,
           11.39465364431487,
           10.665160932944607,
           9.95973319450229,
           9.278370428987921,
           8.621072636401502,
           7.9878398167430245,
           7.378671970012494,
           6.793569096209913,
           6.232531195335278,
           5.695558267388587,
           5.182650312369845,
           4.693807330279052,
           4.229029321116202,
           3.7883162848813,
           3.3716682215743434,
           2.979085131195335,
           2.610567013744274,
           2.266113869221158,
           1.9457256976259887,
           1.6494024989587672,
           1.377144273219492,
           1.1289510204081625,
           0.9048227405247808,
           0.704759433569346,
           0.5287610995418576,
           0.3768277384423161,
           0.24895935027072014,
           0.14515593502707191,
           0.06541749271137043,
           0.009744023323614903,
           -0.02186447313619333,
           -0.029407996668055048,
           -0.012886547271970028,
           0.027699875052061507,
           0.09235127030404006,
           0.18106763848396507,
           0.2938489795918366,
           0.4306952936276557,
           0.5916065805914205,
           0.7765828404831321,
           0.9856240733027903,
           1.2187302790503953,
           1.475901457725947,
           1.7571376093294477,
           2.0624387338608927,
           2.391804831320284,
           2.745235901707623,
           3.122731945022908,
           3.5242929612661396
          ],
          [
           11.890946855476885,
           11.145627405247815,
           10.424372927946692,
           9.727183423573512,
           9.05405889212828,
           8.404999333610997,
           7.780004748021657,
           7.179075135360266,
           6.6022104956268235,
           6.049410828821327,
           5.5206761349437725,
           5.016006413994169,
           4.535401665972512,
           4.078861890878802,
           3.6463870887130376,
           3.237977259475219,
           2.8536324031653475,
           2.493352519783424,
           2.1571376093294456,
           1.844987671803415,
           1.5569027072053312,
           1.2928827155351938,
           1.0529276967930024,
           0.8370376509787589,
           0.6452125780924614,
           0.4774524781341112,
           0.33375735110370697,
           0.21412719700124927,
           0.11856201582673898,
           0.047061807580174864,
           -0.00037342773844240007,
           -0.023743690129112927,
           -0.02304897959183666,
           0.0017107038733860103,
           0.050535360266555585,
           0.12342498958767184,
           0.22037959183673472,
           0.3413991670137442,
           0.48648371511870103,
           0.6556332361516037,
           0.8488477301124533,
           1.0661271970012494,
           1.3074716368179922,
           1.5728810495626815,
           1.8623554352353202,
           2.1758947938359032,
           2.513499125364433,
           2.875168429820909,
           3.2609027072053314,
           3.670701957517701
          ],
          [
           11.636297959183674,
           10.899216743023741,
           10.186200499791754,
           9.497249229487714,
           8.832362932111621,
           8.191541607663478,
           7.574785256143272,
           6.982093877551019,
           6.4134674718867135,
           5.868906039150353,
           5.348409579341943,
           4.851978092461475,
           4.379611578508955,
           3.931310037484383,
           3.5070734693877554,
           3.106901874219074,
           2.730795251978342,
           2.3787536026655562,
           2.0507769262807165,
           1.7468652228238233,
           1.4670184922948777,
           1.2112367346938782,
           0.9795199500208241,
           0.7718681382757181,
           0.5882812994585589,
           0.4287594335693461,
           0.29330254060808025,
           0.18191062057476037,
           0.09458367346938767,
           0.03132169929196166,
           -0.007875301957517844,
           -0.023007330279050442,
           -0.014074385672636358,
           0.01892353186172424,
           0.07598642232403158,
           0.15711428571428587,
           0.26230712203248663,
           0.39156493127863384,
           0.5448877134527286,
           0.7222754685547693,
           0.9237281965847566,
           1.1492458975426907,
           1.398828571428571,
           1.6724762182423984,
           1.970188837984175,
           2.291966430653896,
           2.637808996251563,
           3.0077165347771775,
           3.4016890462307376,
           3.8197265306122454
          ],
          [
           11.384264639733447,
           10.65542165764265,
           9.9506436484798,
           9.269930612244899,
           8.613282548937944,
           7.980699458558934,
           7.372181341107873,
           6.787728196584756,
           6.227340024989587,
           5.691016826322366,
           5.178758600583091,
           4.690565347771762,
           4.22643706788838,
           3.7863737609329453,
           3.370375426905455,
           2.978442065805914,
           2.6105736776343185,
           2.266770262390671,
           1.9470318200749692,
           1.6513583506872132,
           1.3797498542274051,
           1.1322063306955439,
           0.9087277800916279,
           0.7093142024156598,
           0.5339655976676384,
           0.38268196584756364,
           0.2554633069554355,
           0.1523096209912534,
           0.07322090795501873,
           0.018197167846730533,
           -0.012761599333611096,
           -0.01965539358600593,
           -0.002484214910453919,
           0.03875193669304455,
           0.1040530612244897,
           0.19341915868388193,
           0.3068502290712206,
           0.44434627238650565,
           0.6059072886297382,
           0.7915332778009169,
           1.001224239900042,
           1.234980174927114,
           1.4928010828821323,
           1.7746869637650973,
           2.080637817576012,
           2.4106536443148707,
           2.7647344439816757,
           3.142880216576428,
           3.545090962099126,
           3.971366680549772
          ],
          [
           11.1348468971262,
           10.41424214910454,
           9.71770237401083,
           9.045227571845064,
           8.396817742607247,
           7.772472886297378,
           7.172193002915451,
           6.595978092461474,
           6.0438281549354445,
           5.515743190337361,
           5.011723198667223,
           4.53176817992503,
           4.075878134110788,
           3.6440530612244904,
           3.236292961266139,
           2.8525978342357345,
           2.4929676801332783,
           2.1574024989587675,
           1.8459022907122034,
           1.5584670553935855,
           1.2950967930029156,
           1.0557915035401917,
           0.8405511870054139,
           0.6493758433985838,
           0.4822654727197001,
           0.33922007496876316,
           0.22023965014577274,
           0.1253241982507287,
           0.05447371928363165,
           0.007688213244481545,
           -0.015032319866722321,
           -0.013687880049979118,
           0.011721532694710601,
           0.06119591836734692,
           0.13473527696792992,
           0.23233960849646007,
           0.35400891295293646,
           0.4997431903373595,
           0.6695424406497299,
           0.8634066638900463,
           1.0813358600583094,
           1.323330029154519,
           1.5893891711786754,
           1.8795132861307784,
           2.193702374010831,
           2.5319564348188273,
           2.8942754685547705,
           3.28065947521866,
           3.691108454810496,
           4.12562240733028
          ],
          [
           10.888044731361934,
           10.175678217409416,
           9.487376676384843,
           8.823140108288214,
           8.182968513119535,
           7.566861890878803,
           6.9748202415660145,
           6.406843565181174,
           5.862931861724282,
           5.343085131195337,
           4.847303373594337,
           4.3755865889212835,
           3.927934777176177,
           3.5043479383590173,
           3.1048260724698036,
           2.729369179508538,
           2.3779772594752187,
           2.0506503123698465,
           1.7473883381924202,
           1.4681913369429402,
           1.2130593086214077,
           0.981992253227822,
           0.774990170762182,
           0.5920530612244899,
           0.4331809246147439,
           0.29837376093294465,
           0.18763157017909216,
           0.10095435235318606,
           0.03834210745522698,
           -0.0002051645147856107,
           -0.014687463556851355,
           -0.005104789670970472,
           0.028542857142857148,
           0.08625547688463142,
           0.1680330695543522,
           0.2738756351520202,
           0.40378317367763444,
           0.5577556851311953,
           0.7357931695127036,
           0.9378956268221579,
           1.1640630570595587,
           1.4142954602249063,
           1.6885928363182006,
           1.9869551853394414,
           2.309382507288632,
           2.655874802165766,
           3.026432069970847,
           3.421054310703874,
           3.8397415243648485,
           4.282493710953769
          ],
          [
           10.643858142440653,
           9.939729862557272,
           9.259666555601838,
           8.603668221574345,
           7.971734860474802,
           7.363866472303207,
           6.780063057059559,
           6.220324614743857,
           5.684651145356103,
           5.173042648896294,
           4.685499125364432,
           4.222020574760516,
           3.782606997084548,
           3.367258392336526,
           2.975974760516452,
           2.6087561016243233,
           2.265602415660142,
           1.9465137026239074,
           1.6514899625156185,
           1.3805311953352768,
           1.1336374010828818,
           0.910808579758434,
           0.7120447313619321,
           0.5373458558933777,
           0.38671195335276976,
           0.26014302374010834,
           0.1576390670553937,
           0.07920008329862549,
           0.0248260724698042,
           -0.005482965431070408,
           -0.011727030403998362,
           0.006093877551020449,
           0.04797975843398587,
           0.11393061224489796,
           0.2039464389837567,
           0.31802723865056254,
           0.4561730112453146,
           0.6183837567680134,
           0.8046594752186595,
           1.0150001665972517,
           1.2494058309037903,
           1.507876468138276,
           1.790412078300708,
           2.0970126613910867,
           2.427678217409415,
           2.782408746355687,
           3.1612042482299056,
           3.5640647230320712,
           3.9909901707621835,
           4.441980591420242
          ],
          [
           10.40228713036235,
           9.706397084548106,
           9.034572011661812,
           8.386811911703457,
           7.763116784673054,
           7.163486630570596,
           6.5879214493960845,
           6.036421241149521,
           5.508986005830904,
           5.005615743440234,
           4.526310453977509,
           4.071070137442732,
           3.639894793835901,
           3.2327844231570184,
           2.8497390254060813,
           2.49075860058309,
           2.1558431486880467,
           1.84499266972095,
           1.5582071636817991,
           1.2954866305705952,
           1.0568310703873385,
           0.8422404831320287,
           0.6517148688046643,
           0.4852542274052476,
           0.3428585589337775,
           0.22452786339025405,
           0.13026214077467732,
           0.06006139108704689,
           0.013925614327363528,
           -0.008145189504373207,
           -0.006151020408163246,
           0.019908121615993424,
           0.0700322365680967,
           0.14422132444814662,
           0.24247538525614323,
           0.364794418992087,
           0.5111784256559769,
           0.6816274052478135,
           0.8761413577675976,
           1.0947202832153275,
           1.3373641815910042,
           1.6040730528946274,
           1.8948468971261974,
           2.209685714285714,
           2.5485895043731803,
           2.9115582673885902,
           3.298592003331947,
           3.70969071220325,
           4.1448543940025,
           4.604083048729697
          ],
          [
           10.163331695127033,
           9.475679883381925,
           8.812093044564767,
           8.172571178675552,
           7.557114285714286,
           6.965722365680968,
           6.398395418575594,
           5.855133444398167,
           5.335936443148688,
           4.840804414827156,
           4.369737359433569,
           3.9227352769679302,
           3.4997981674302374,
           3.1009260308204922,
           2.726118867138693,
           2.3753766763848394,
           2.048699458558934,
           1.7460872136609749,
           1.4675399416909618,
           1.213057642648896,
           0.9826403165347772,
           0.7762879633486051,
           0.5940005830903785,
           0.4357781757600997,
           0.3016207413577676,
           0.19152827988338197,
           0.10550079133694301,
           0.043538275718450564,
           0.005640733027904979,
           -0.00819183673469387,
           0.0020405664306539506,
           0.036337942523948424,
           0.09470029154518955,
           0.17712761349437736,
           0.28361990837151174,
           0.4141771761765934,
           0.5687994169096212,
           0.7474866305705956,
           0.9502388171595176,
           1.1770559766763855,
           1.4279381091212,
           1.702885214493961,
           2.0018972927946685,
           2.3249743440233233,
           2.6721163681799274,
           3.0433233652644747,
           3.4385953352769696,
           3.857932278217411,
           4.301334194085799,
           4.768801082882133
          ],
          [
           9.926991836734695,
           9.247578259058727,
           8.592229654310707,
           7.96094602249063,
           7.3537273635985025,
           6.770573677634319,
           6.211484964598084,
           5.676461224489796,
           5.165502457309455,
           4.6786086630570605,
           4.215779841732612,
           3.77701599333611,
           3.3623171178675553,
           2.971683215326948,
           2.605114285714286,
           2.262610329029571,
           1.9441713452728029,
           1.6497973344439822,
           1.3794882965431072,
           1.133244231570179,
           0.911065139525198,
           0.7129510204081634,
           0.538901874219075,
           0.3889177009579341,
           0.26299850062473973,
           0.16114427321949193,
           0.08335501874219088,
           0.029630737192836223,
           -2.8571428571447233e-05,
           -0.005622907122032485,
           0.012847730112453222,
           0.05538334027488555,
           0.12198392336526453,
           0.21264947938359013,
           0.32738000832986236,
           0.46617551020408193,
           0.6290359850062475,
           0.8159614327363598,
           1.0269518533944197,
           1.2620072469804253,
           1.5211276134943776,
           1.8043129529362765,
           2.1115632653061223,
           2.4428785506039143,
           2.7982588088296563,
           3.1777040399833427,
           3.5812142440649746,
           4.008789421074553,
           4.460429571012079,
           4.936134693877551
          ],
          [
           9.69326755518534,
           9.022092211578512,
           8.374981840899627,
           7.751936443148687,
           7.152956018325698,
           6.578040566430655,
           6.027190087463557,
           5.500404581424406,
           4.997684048313203,
           4.519028488129946,
           4.064437900874636,
           3.6339122865472717,
           3.2274516451478545,
           2.845055976676385,
           2.4867252811328613,
           2.1524595585172843,
           1.842258808829654,
           1.5561230320699706,
           1.294052228238234,
           1.0560463973344436,
           0.8421055393586004,
           0.6522296543107039,
           0.4864187421907533,
           0.34467280299875025,
           0.22699183673469375,
           0.13337584339858388,
           0.06382482299042071,
           0.018338775510204006,
           -0.003082299042065806,
           -0.00043840066638901193,
           0.026270470637234634,
           0.07704431486880486,
           0.1518831320283217,
           0.2507869221157852,
           0.3737556851311953,
           0.5207894210745527,
           0.6918881299458562,
           0.8870518117451065,
           1.106280466472304,
           1.3495740941274479,
           1.616932694710538,
           1.9083562682215747,
           2.2238448146605583,
           2.563398334027488,
           2.927016826322368,
           3.3147002915451913,
           3.7264487296959623,
           4.162262140774679,
           4.622140524781342,
           5.1060838817159535
          ],
          [
           9.462158850478966,
           8.799221740941276,
           8.16034960433153,
           7.545542440649729,
           6.954800249895877,
           6.388123032069972,
           5.84551078717201,
           5.3269635152019985,
           4.832481216159933,
           4.362063890045815,
           3.915711536859643,
           3.493424156601416,
           3.0952017492711366,
           2.7210443148688053,
           2.370951853394419,
           2.04492436484798,
           1.7429618492294876,
           1.4650643065389426,
           1.2112317367763432,
           0.9814641399416908,
           0.7757615160349853,
           0.5941238650562266,
           0.436551187005414,
           0.3030434818825487,
           0.19360074968763008,
           0.10822299042065808,
           0.04691020408163271,
           0.009662390670553883,
           -0.0035204498125781004,
           0.00736168263223658,
           0.042308788004998085,
           0.10132086630570615,
           0.18439791753436086,
           0.2915399416909622,
           0.4227469387755101,
           0.5780189087880054,
           0.7573558517284468,
           0.9607577675968348,
           1.1882246563931704,
           1.4397565181174516,
           1.7153533527696798,
           2.0150151603498547,
           2.338741940857976,
           2.6865336942940434,
           3.0583904206580623,
           3.454312119950023,
           3.8742987921699314,
           4.318350437317785,
           4.7864670553935875,
           5.278648646397335
          ],
          [
           9.233665722615578,
           8.578966847147024,
           7.948332944606416,
           7.341764014993752,
           6.759260058309038,
           6.2008210745522705,
           5.6664470637234485,
           5.156138025822574,
           4.669893960849646,
           4.207714868804666,
           3.7696007496876303,
           3.355551603498542,
           2.9655674302374013,
           2.599648229904207,
           2.257794002498959,
           1.9400047480216573,
           1.6462804664723032,
           1.3766211578508956,
           1.1310268221574344,
           0.9094974593919197,
           0.7120330695543522,
           0.5386336526447315,
           0.3892992086630567,
           0.26402973760932924,
           0.1628252394835485,
           0.08568571428571431,
           0.032611162015826804,
           0.003601582673885856,
           -0.001343023740108278,
           0.017777342773844237,
           0.06096268221574361,
           0.12821299458558952,
           0.21952827988338205,
           0.33490853810912125,
           0.4743537692628071,
           0.6378639733444403,
           0.8254391503540195,
           1.0370793002915453,
           1.272784423157019,
           1.5325545189504381,
           1.816389587671804,
           2.124289629321116,
           2.456254643898376,
           2.8122846314035814,
           3.1923795918367377,
           3.5965395251978367,
           4.024764431486883,
           4.477054310703876,
           4.953409162848815,
           5.453828987921701
          ],
          [
           9.00778817159517,
           8.361327530195753,
           7.738931861724284,
           7.140601166180758,
           6.566335443565182,
           6.016134693877553,
           5.489998917117867,
           4.98792811328613,
           4.50992228238234,
           4.055981424406498,
           3.626105539358601,
           3.2202946272386503,
           2.838548688046647,
           2.480867721782591,
           2.1472517284464807,
           1.8377007080383174,
           1.5522146605581009,
           1.2907935860058313,
           1.0534374843815075,
           0.840146355685131,
           0.6509201999167014,
           0.4857590170762184,
           0.34466280716368153,
           0.2276315701790919,
           0.13466530612244895,
           0.06576401499375266,
           0.02092769679300298,
           0.0001563515201999056,
           0.0034499791753436174,
           0.030808579758433974,
           0.08223215326947124,
           0.15772069970845495,
           0.25727421907538534,
           0.3808927113702623,
           0.528576176593086,
           0.7003246147438571,
           0.8961380258225742,
           1.116016409829238,
           1.3599597667638492,
           1.6279680966264063,
           1.92004139941691,
           2.23617967513536,
           2.5763829237817575,
           2.9406511453561013,
           3.328984339858395,
           3.7413825072886318,
           4.177845647646816,
           4.638373760932946,
           5.1229668471470236,
           5.631624906289047
          ],
          [
           8.784526197417744,
           8.146303790087465,
           7.532146355685134,
           6.942053894210745,
           6.376026405664308,
           5.834063890045815,
           5.316166347355269,
           4.82233377759267,
           4.352566180758018,
           3.906863556851313,
           3.485225905872553,
           3.087653227821741,
           2.714145522698876,
           2.3647027905039573,
           2.039325031236985,
           1.738012244897959,
           1.4607644314868806,
           1.2075815910037486,
           0.9784637234485632,
           0.7734108288213244,
           0.5924229071220325,
           0.4354999583506874,
           0.3026419825072884,
           0.19384897959183667,
           0.10912094960433152,
           0.048457892544773076,
           0.011859808413161234,
           -0.0006733027905039546,
           0.0108585589337776,
           0.0464553935860058,
           0.10611720116618094,
           0.1898439816743025,
           0.2976357351103708,
           0.42949246147438563,
           0.585414160766347,
           0.7654008329862562,
           0.969452478134111,
           1.1975690962099126,
           1.4497506872136618,
           1.7259972511453567,
           2.0263087880049984,
           2.3506852977925865,
           2.6991267805081214,
           3.071633236151602,
           3.4682046647230345,
           3.8888410662224095,
           4.3335424406497305,
           4.802308788005,
           5.295140108288214,
           5.812036401499376
          ],
          [
           8.563879800083297,
           7.933895626822159,
           7.327976426488965,
           6.746122199083715,
           6.1883329446064135,
           5.654608663057061,
           5.144949354435652,
           4.659355018742191,
           4.1978256559766765,
           3.7603612661391095,
           3.3469618492294875,
           2.9576274052478135,
           2.5923579341940854,
           2.251153436068305,
           1.9340139108704706,
           1.6409393586005827,
           1.371929779258642,
           1.1269851728446483,
           0.9061055393586004,
           0.7092908788004995,
           0.5365411911703455,
           0.3878564764681383,
           0.2632367346938772,
           0.16268196584756334,
           0.0861921699291961,
           0.03376734693877551,
           0.00540749687630156,
           0.0011126197417742833,
           0.02088271553519372,
           0.06471778425655979,
           0.13261782590587287,
           0.22458284048313232,
           0.3406128279883384,
           0.4807077884214913,
           0.6448677217825907,
           0.8330926280716374,
           1.0453825072886302,
           1.2817373594335697,
           1.5421571845064568,
           1.8266419825072895,
           2.135191753436069,
           2.467806497292795,
           2.824486214077468,
           3.2052309037900875,
           3.6100405664306563,
           4.038915201999169,
           4.491854810495629,
           4.968859391920035,
           5.469928946272388,
           5.995063473552688
          ],
          [
           8.345848979591837,
           7.724103040399834,
           7.126422074135778,
           6.552806080799666,
           6.003255060391504,
           5.477769012911288,
           4.976347938359017,
           4.498991836734693,
           4.045700708038318,
           3.6164745522698882,
           3.211313369429404,
           2.8302171595168675,
           2.4731859225322785,
           2.1402196584756354,
           1.831318367346939,
           1.5464820491461888,
           1.285710703873386,
           1.04900433152853,
           0.83636293211162,
           0.647786505622657,
           0.4832750520616409,
           0.34282857142857154,
           0.2264470637234483,
           0.13413052894627225,
           0.06587896709704286,
           0.021692378175760113,
           0.0015707621824240018,
           0.005514119117034602,
           0.033522448979591876,
           0.0855957517700958,
           0.16173402748854676,
           0.261937276134944,
           0.38620549770928797,
           0.5345386922115786,
           0.7069368596418159,
           0.9034000000000006,
           1.123928113286131,
           1.3685211995002082,
           1.6371792586422333,
           1.929902290712204,
           2.2466902957101214,
           2.5875432736359856,
           2.952461224489796,
           3.3414441482715533,
           3.7544920449812613,
           4.191604914618911,
           4.652782757184508,
           5.138025572678054,
           5.647333361099544,
           6.180706122448981
          ],
          [
           8.130433735943358,
           7.516926030820493,
           6.927483298625575,
           6.362105539358601,
           5.8207927530195755,
           5.303544939608497,
           4.8103620991253635,
           4.341244231570179,
           3.8961913369429406,
           3.4752034152436493,
           3.0782804664723034,
           2.705422490628904,
           2.356629487713453,
           2.031901457725948,
           1.731238400666389,
           1.454640316534777,
           1.2021072053311121,
           0.9736390670553938,
           0.7692359017076219,
           0.5888977092877966,
           0.43262448979591833,
           0.3004162432319868,
           0.19227296959600143,
           0.10819466888796325,
           0.0481813411078717,
           0.012232986255726799,
           0.0003496043315285302,
           0.01253119533527701,
           0.048777759266972136,
           0.10908929612661389,
           0.19346580591420265,
           0.30190728862973787,
           0.4344137442732196,
           0.590985172844648,
           0.7716215743440231,
           0.9763229487713457,
           1.2050892961266144,
           1.457920616409829,
           1.7348169096209922,
           2.035778175760101,
           2.3608044148271556,
           2.7098956268221577,
           3.083051811745106,
           3.480272969596001,
           3.9015591003748473,
           4.3469102040816345,
           4.816326280716369,
           5.309807330279052,
           5.827353352769681,
           6.368964348188255
          ],
          [
           7.9176340691378595,
           7.312364598084132,
           6.731160099958352,
           6.174020574760516,
           5.640946022490629,
           5.131936443148689,
           4.646991836734694,
           4.186112203248646,
           3.7492975426905457,
           3.3365478550603918,
           2.9478631403581836,
           2.5832433985839227,
           2.242688629737609,
           1.926198833819242,
           1.6337740108288212,
           1.3654141607663468,
           1.12111928363182,
           0.9008893794252395,
           0.7047244481466054,
           0.532624489795918,
           0.3845895043731777,
           0.26061949187838396,
           0.16071445231153653,
           0.08487438567263624,
           0.03309929196168258,
           0.005389171178675541,
           0.0017440233236151528,
           0.02216384839650154,
           0.06664864639733457,
           0.1351984173261142,
           0.2278131611828409,
           0.34449287796751404,
           0.4852375676801336,
           0.6500472303206999,
           0.8389218658892129,
           1.0518614743856736,
           1.2888660558100795,
           1.5499356101624326,
           1.8350701374427336,
           2.1442696376509804,
           2.477534110787173,
           2.8348635568513125,
           3.216257975843399,
           3.621717367763432,
           4.051241732611415,
           4.5048310703873415,
           4.982485381091214,
           5.484204664723035,
           6.009988921282801,
           6.5598381507705135
          ],
          [
           7.707449979175344,
           7.110418742190755,
           6.537452478134112,
           5.988551187005414,
           5.463714868804665,
           4.962943523531863,
           4.486237151187005,
           4.033595751770095,
           3.605019325281133,
           3.200507871720117,
           2.820061391087047,
           2.463679883381924,
           2.131363348604748,
           1.8231117867555189,
           1.5389251978342355,
           1.2788035818408994,
           1.0427469387755102,
           0.8307552686380675,
           0.6428285714285713,
           0.4789668471470218,
           0.3391700957934193,
           0.22343831736776346,
           0.13177151187005387,
           0.06416967930029141,
           0.020632819658475597,
           0.0011609329446063965,
           0.005754019158683871,
           0.03441207830070814,
           0.08713511037067895,
           0.1639231153685964,
           0.26477609329446106,
           0.3896940441482719,
           0.5386769679300296,
           0.7117248646397336,
           0.9088377342773846,
           1.1300155768429827,
           1.3752583923365267,
           1.6445661807580179,
           1.9379389421074567,
           2.2553766763848406,
           2.596879383590172,
           2.9624470637234492,
           3.3520797167846736,
           3.7657773427738435,
           4.203539941690965,
           4.665367513536029,
           5.15126005830904,
           5.661217576009999,
           6.1952400666389025,
           6.753327530195753
          ],
          [
           7.49988146605581,
           6.911088463140359,
           6.346360433152855,
           5.805697376093295,
           5.2890992919616835,
           4.796566180758018,
           4.328098042482298,
           3.883694877134527,
           3.4633566847147024,
           3.067083465222824,
           2.6948752186588925,
           2.3467319450229067,
           2.022653644314869,
           1.7226403165347774,
           1.4466919616826321,
           1.1948085797584338,
           0.9669901707621824,
           0.7632367346938778,
           0.5835482715535193,
           0.4279247813411077,
           0.296366264056643,
           0.18887271970012498,
           0.10544414827155332,
           0.046080549770928694,
           0.01078192419825072,
           -0.0004517284464806426,
           0.01237959183673465,
           0.04927588504789682,
           0.11023715118700547,
           0.1952633902540608,
           0.30435460224906324,
           0.43751078717201214,
           0.5947319450229075,
           0.7760180758017493,
           0.9813691795085377,
           1.2107852561432741,
           1.4642663057059564,
           1.741812328196585,
           2.0434233236151615,
           2.3690992919616836,
           2.7188402332361528,
           3.092646147438568,
           3.4905170345689296,
           3.912452894627238,
           4.358453727613497,
           4.8285195335277,
           5.322650312369848,
           5.840846064139944,
           6.383106788837987,
           6.949432486463974
          ],
          [
           7.29492852977926,
           6.714373760932945,
           6.157883965014579,
           5.625459142024156,
           5.117099291961683,
           4.632804414827157,
           4.172574510620574,
           3.7364095793419407,
           3.324309620991254,
           2.9362746355685134,
           2.5723046230737197,
           2.2323995835068717,
           1.9165595168679719,
           1.6247844231570183,
           1.3570743023740108,
           1.11342915451895,
           0.8938489795918367,
           0.6983337775926699,
           0.5268835485214494,
           0.37949829237817556,
           0.2561780091628488,
           0.1569226988754686,
           0.0817323615160348,
           0.030606997084548018,
           0.003546605581007903,
           0.0005511870054143997,
           0.021620741357767537,
           0.06675526863806758,
           0.13595476884631413,
           0.22921924198250726,
           0.3465486880466476,
           0.4879431070387342,
           0.6534024989587675,
           0.8429268638067471,
           1.0565162015826737,
           1.2941705122865481,
           1.5558897959183675,
           1.8416740524781336,
           2.151523281965849,
           2.4854374843815084,
           2.843416659725115,
           3.225460807996668,
           3.6315699291961683,
           4.061744023323615,
           4.515983090379012,
           4.994287130362351,
           5.496656143273638,
           6.023090129112871,
           6.573589087880051,
           7.148153019575179
          ],
          [
           7.09259117034569,
           6.520274635568516,
           5.972023073719286,
           5.447836484798001,
           4.947714868804665,
           4.471658225739277,
           4.019666555601832,
           3.5917398583923363,
           3.1878781341107874,
           2.808081382757185,
           2.4523496043315287,
           2.120682798833819,
           1.8130809662640566,
           1.5295441066222415,
           1.2700722199083716,
           1.0346653061224487,
           0.8233233652644733,
           0.6360463973344443,
           0.47283440233236157,
           0.33368738025822564,
           0.21860533111203664,
           0.12758825489379433,
           0.0606361516034984,
           0.01774902124114945,
           -0.0010731361932528327,
           0.004169679300291551,
           0.03347746772178253,
           0.08685022907122036,
           0.1642879633486048,
           0.26579067055393585,
           0.3913583506872142,
           0.5409910037484384,
           0.7146886297376094,
           0.9124512286547274,
           1.1342788004997915,
           1.3801713452728037,
           1.6501288629737616,
           1.9441513536026656,
           2.262238817159518,
           2.604391253644316,
           2.97060866305706,
           3.360891045397751,
           3.7752384006663893,
           4.213650728862973,
           4.676128029987508,
           5.162670304039986,
           5.67327755102041,
           6.207949770928781,
           6.766686963765098,
           7.349489129529364
          ],
          [
           6.892869387755102,
           6.328791087047065,
           5.788777759266973,
           5.272829404414827,
           4.780946022490629,
           4.313127613494378,
           3.869374177426072,
           3.449685714285714,
           3.054062224073302,
           2.682503706788838,
           2.3350101624323196,
           2.0115815910037482,
           1.7122179925031236,
           1.4369193669304459,
           1.185685714285714,
           0.9585170345689292,
           0.7554133277800915,
           0.5763745939192004,
           0.4214008329862555,
           0.2904920449812576,
           0.18364822990420648,
           0.10086938775510201,
           0.04215551853394403,
           0.00750662224073298,
           -0.0030773011245314452,
           0.010403748438150728,
           0.04794977092877961,
           0.10956076634735551,
           0.1952367346938776,
           0.3049776759683465,
           0.4387835901707627,
           0.5966544773011251,
           0.7785903373594341,
           0.9845911703456897,
           1.2146569762598918,
           1.468787755102042,
           1.7469835068721373,
           2.0492442315701798,
           2.3755699291961703,
           2.7259605997501057,
           3.1004162432319884,
           3.4989368596418173,
           3.9215224489795917,
           4.368173011245314,
           4.838888546438987,
           5.333669054560604,
           5.852514535610165,
           6.395424989587673,
           6.9624004164931295,
           7.55344081632653
          ],
          [
           6.6957631820074965,
           6.139923115368598,
           5.6081480216576445,
           5.100437900874635,
           4.616792753019576,
           4.157212578092462,
           3.721697376093294,
           3.3102471470220736,
           2.9228618908788007,
           2.559541607663474,
           2.2202862973760933,
           1.9050959600166597,
           1.6139705955851729,
           1.3469102040816328,
           1.103914785506039,
           0.8849843398583921,
           0.690118867138692,
           0.5193183673469389,
           0.3725828404831319,
           0.24991228654727182,
           0.1513067055393585,
           0.07676609745939195,
           0.026290462307371837,
           -0.00012019991670142449,
           -0.0024658892128279764,
           0.019253394418992098,
           0.0650376509787588,
           0.13488688046647257,
           0.22880108288213252,
           0.3467802582257392,
           0.4888244064972933,
           0.6549335276967932,
           0.8451076218242404,
           1.0593466888796335,
           1.2976507288629737,
           1.560019741774262,
           1.846453727613495,
           2.156952686380675,
           2.4915166180758033,
           2.8501455226988774,
           3.2328394002498966,
           3.639598250728864,
           4.070422074135776,
           4.525310870470637,
           5.0042646397334485,
           5.507283381924201,
           6.034367097042901,
           6.585515785089548,
           7.160729446064142,
           7.760008079966682
          ],
          [
           6.501272553102875,
           5.953670720533113,
           5.4301338608912975,
           4.930661974177426,
           4.455255060391504,
           4.003913119533529,
           3.5766361516034983,
           3.1734241566014156,
           2.7942771345272805,
           2.4391950853810918,
           2.1081780091628493,
           1.8012259058725528,
           1.518338775510204,
           1.2595166180758022,
           1.0247594335693462,
           0.8140672219908369,
           0.627439983340275,
           0.4648777176176594,
           0.3263804248229904,
           0.21194810495626804,
           0.12158075801749268,
           0.055278384006663905,
           0.013040982923781641,
           -0.005131445231153664,
           0.0007610995418575461,
           0.030718617242815494,
           0.0847411078717199,
           0.16282857142857166,
           0.26498100791336954,
           0.39119841732611405,
           0.5414807996668061,
           0.7158281549354439,
           0.9142404831320284,
           1.13671778425656,
           1.383260058309038,
           1.6538673052894637,
           1.948539525197835,
           2.267276718034153,
           2.610078883798419,
           2.9769460224906292,
           3.367878134110788,
           3.7828752186588916,
           4.221937276134944,
           4.6850643065389415,
           5.172256309870891,
           5.683513286130781,
           6.218835235318619,
           6.778222157434403,
           7.361674052478136,
           7.9691909204498135
          ],
          [
           6.309397501041233,
           5.770033902540608,
           5.254735276967931,
           4.763501624323197,
           4.296332944606414,
           3.853229237817576,
           3.4341905039566845,
           3.0392167430237396,
           2.668307955018742,
           2.321464139941691,
           1.9986852977925862,
           1.6999714285714276,
           1.4253225322782173,
           1.174738608912953,
           0.9482196584756349,
           0.7457656809662636,
           0.5673766763848395,
           0.41305264473136183,
           0.28279358600583077,
           0.1765995002082463,
           0.0944703873386088,
           0.03640624739691789,
           0.0024070803831735543,
           -0.007527113702623933,
           0.006603665139525261,
           0.04479941690962097,
           0.10706014160766342,
           0.19338583923365293,
           0.30377650978758897,
           0.43823215326947107,
           0.5967527696793011,
           0.7793383590170768,
           0.9859889212827997,
           1.2167044564764686,
           1.4714849645980845,
           1.7503304456476478,
           2.0532408996251563,
           2.380216326530613,
           2.7312567263640166,
           3.1063620991253664,
           3.505532444814662,
           3.928767763431904,
           4.376068054977093,
           4.847433319450229,
           5.342863556851316,
           5.8623587671803445,
           6.40591895043732,
           6.973544106622245,
           7.5652342357351126,
           8.18098933777593
          ],
          [
           6.120138025822574,
           5.589012661391087,
           5.081952269887548,
           4.598956851311954,
           4.140026405664306,
           3.7051609329446067,
           3.294360433152853,
           2.907624906289046,
           2.544954352353186,
           2.206348771345273,
           1.8918081632653059,
           1.6013325281132857,
           1.3349218658892126,
           1.0925761765930861,
           0.8742954602249061,
           0.6800797167846727,
           0.5099289462723864,
           0.3638431486880467,
           0.2418223240316533,
           0.14386647230320682,
           0.0699755935027071,
           0.020149687630154067,
           -0.00561124531445234,
           -0.00730720533111201,
           0.015061807580174946,
           0.061495793419408695,
           0.13199475218658874,
           0.22655868388171618,
           0.3451875885047899,
           0.4878814660558103,
           0.6546403165347779,
           0.8454641399416918,
           1.0603529362765522,
           1.2993067055393588,
           1.5623254477301125,
           1.8494091628488136,
           2.1605578508954615,
           2.4957715118700543,
           2.855050145772596,
           3.238393752603084,
           3.6458023323615176,
           4.077275885047898,
           4.532814410662225,
           5.012417909204498,
           5.5160863806747225,
           6.04381982507289,
           6.595618242399002,
           7.171481632653064,
           7.77140999583507,
           8.395403331945024
          ],
          [
           5.933494127446898,
           5.41060699708455,
           4.911784839650147,
           4.43702765514369,
           3.9863354435651814,
           3.559708204914619,
           3.1571459391920027,
           2.778648646397334,
           2.4242163265306123,
           2.093848979591837,
           1.7875466055810074,
           1.505309204498125,
           1.2471367763431902,
           1.0130293211162018,
           0.8029868388171594,
           0.6170093294460638,
           0.4550967930029154,
           0.3172492294877136,
           0.20346663890045807,
           0.11374902124114938,
           0.0480963765097876,
           0.006508704706372326,
           -0.011013994169095986,
           -0.004471720116618005,
           0.026135526863806713,
           0.08080774677217828,
           0.15954493960849636,
           0.2623471053727615,
           0.3892142440649734,
           0.5401463556851311,
           0.7151434402332371,
           0.9142054977092884,
           1.1373325281132864,
           1.3845245314452315,
           1.6557815077051226,
           1.9511034568929626,
           2.2704903790087467,
           2.6139422740524787,
           2.9814591420241587,
           3.373040982923783,
           3.788687796751355,
           4.228399583506872,
           4.692176343190337,
           5.1800180758017484,
           5.691924781341112,
           6.2278964598084166,
           6.787933111203668,
           7.372034735526865,
           7.980201332778011,
           8.612432902957101
          ],
          [
           5.749465805914204,
           5.234816909620992,
           4.744232986255728,
           4.277714035818409,
           3.8352600583090384,
           3.4168710537276143,
           3.0225470220741357,
           2.6522879633486043,
           2.3060938775510205,
           1.9839647646813834,
           1.6859006247396917,
           1.4119014577259472,
           1.16196726364015,
           0.9360980424822993,
           0.7342937942523947,
           0.5565545189504371,
           0.4028802165764265,
           0.27327088713036246,
           0.16772653061224474,
           0.08624714702207381,
           0.028832736359850064,
           -0.004516701374427501,
           -0.013801166180758107,
           0.000979341940858025,
           0.03982482299042067,
           0.10273527696792972,
           0.18971070387338596,
           0.30075110370678937,
           0.4358564764681385,
           0.5950268221574346,
           0.7782621407746777,
           0.9855624323198668,
           1.2169276967930036,
           1.4723579341940858,
           1.7518531445231154,
           2.055413327780092,
           2.383038483965015,
           2.734728613077884,
           3.1104837151187024,
           3.510303790087465,
           3.934188837984174,
           4.38213885880883,
           4.854153852561432,
           5.350233819241983,
           5.870378758850482,
           6.414588671386925,
           6.982863556851314,
           7.575203415243651,
           8.191608246563932,
           8.832078050812164
          ],
          [
           5.56805306122449,
           5.061642399000418,
           4.579296709704291,
           4.12101599333611,
           3.686800249895877,
           3.276649479383591,
           2.89056368179925,
           2.528542857142857,
           2.190587005414411,
           1.8766961266139115,
           1.586870220741358,
           1.3211092877967512,
           1.0794133277800915,
           0.8617823406913789,
           0.6682163265306121,
           0.49871528529779263,
           0.3532792169929197,
           0.2319081216159934,
           0.13460199916701376,
           0.06136084964598065,
           0.012184673052894612,
           -0.012926530612244802,
           -0.013972761349437701,
           0.009045980841316137,
           0.05612969596001649,
           0.1272783840066638,
           0.22249204498125752,
           0.3417706788837984,
           0.48511428571428605,
           0.6525228654727195,
           0.8439964181591009,
           1.0595349437734285,
           1.2991384423157022,
           1.5628069137859226,
           1.8505403581840902,
           2.162338775510205,
           2.4982021657642655,
           2.8581305289462726,
           3.242123865056228,
           3.6501821740941285,
           4.082305456059975,
           4.5384937109537695,
           5.018746938775511,
           5.5230651395251975,
           6.051448313202837,
           6.603896459808416,
           7.180409579341944,
           7.780987671803418,
           8.40563073719284,
           9.054338775510205
          ],
          [
           5.38925589337776,
           4.891083465222826,
           4.416976009995837,
           3.966933527696793,
           3.540956018325698,
           3.13904348188255,
           2.7611959183673465,
           2.4074133277800915,
           2.077695710120783,
           1.7720430653894217,
           1.490455393586006,
           1.2329326947105372,
           0.9994749687630154,
           0.7900822157434406,
           0.604754435651812,
           0.44349162848812984,
           0.3062937942523949,
           0.19316093294460662,
           0.10409304456476465,
           0.039090129112869465,
           -0.001847813411078758,
           -0.018720783007080244,
           -0.011528779675135548,
           0.01972819658475622,
           0.0750501457725945,
           0.15443706788837974,
           0.2578889629321115,
           0.3854058309037902,
           0.5369876718034152,
           0.7126344856309867,
           0.9123462723865061,
           1.1361230320699711,
           1.3839647646813829,
           1.6558714702207413,
           1.951843148688046,
           2.2718798000832994,
           2.615981424406498,
           2.984148021657643,
           3.3763795918367356,
           3.792676134943775,
           4.233037650978758,
           4.697464139941692,
           5.185955601832569,
           5.698512036651394,
           6.235133444398171,
           6.795819825072889,
           7.380571178675554,
           7.9893875052061665,
           8.622268804664724,
           9.27921507705123
          ],
          [
           5.21307430237401,
           4.723140108288213,
           4.257270887130362,
           3.8154666389004572,
           3.3977273635985,
           3.00405306122449,
           2.6344437317784246,
           2.2888993752603075,
           1.967419991670137,
           1.6700055810079129,
           1.3966561432736355,
           1.1473716784673045,
           0.9221521865889207,
           0.7209976676384835,
           0.5439081216159929,
           0.390883548521449,
           0.26192394835485194,
           0.1570293211162015,
           0.07619966680549761,
           0.01943498542274036,
           -0.013264723032070047,
           -0.021899458558933937,
           -0.0064692211578508685,
           0.03302598917117883,
           0.09658617242815515,
           0.1842113286130782,
           0.2959014577259478,
           0.43165655976676454,
           0.5914766347355271,
           0.7753616826322371,
           0.9833117034568937,
           1.2153266972094972,
           1.471406663890047,
           1.7515516034985428,
           2.055761516034986,
           2.384036401499377,
           2.736376259891714,
           3.1127810912119958,
           3.5132508954602266,
           3.9377856726364047,
           4.386385422740527,
           4.859050145772596,
           5.355779841732613,
           5.876574510620575,
           6.421434152436488,
           6.990358767180346,
           7.5833483548521485,
           8.2004029154519,
           8.841522448979596,
           9.506706955435238
          ],
          [
           5.039508288213244,
           4.557812328196585,
           4.100181341107872,
           3.6666153269471047,
           3.2571142857142856,
           2.8716782174094124,
           2.5103071220324855,
           2.1730009995835062,
           1.8597598500624735,
           1.5705836734693877,
           1.3054724698042475,
           1.0644262390670547,
           0.8474449812578089,
           0.6545286963765097,
           0.4856773844231569,
           0.3408910453977505,
           0.2201696793002913,
           0.12351328613077883,
           0.05092186588921266,
           0.0023954185755934443,
           -0.022066055810079144,
           -0.022462557267805217,
           0.00120591420241567,
           0.048939358600583516,
           0.12073777592669721,
           0.2166011661807581,
           0.3365295293627655,
           0.4805228654727205,
           0.6485811745106211,
           0.8407044564764687,
           1.0568927113702633,
           1.2971459391920042,
           1.561464139941692,
           1.849847313619326,
           2.162295460224907,
           2.498808579758436,
           2.8593866722199097,
           3.2440297376093303,
           3.6527377759267,
           4.085510787172014,
           4.542348771345273,
           5.023251728446482,
           5.528219658475637,
           6.057252561432735,
           6.610350437317789,
           7.187513286130782,
           7.788741107871726,
           8.414033902540613,
           9.063391670137445,
           9.736814410662225
          ],
          [
           4.86855785089546,
           4.395100124947939,
           3.9457073719283637,
           3.520379591836734,
           3.1191167846730528,
           2.741918950437318,
           2.3887860891295283,
           2.059718200749687,
           1.754715285297792,
           1.473777342773844,
           1.2169043731778422,
           0.984096376509787,
           0.7753533527696788,
           0.5906753019575177,
           0.4300622240733023,
           0.29351411911703407,
           0.1810309870887128,
           0.09261282798833803,
           0.028259641815910008,
           -0.01202857142857161,
           -0.028251811745106492,
           -0.02041007913369408,
           0.0114966264056644,
           0.06746830487296962,
           0.1475049562682218,
           0.25160658059142027,
           0.3797731778425657,
           0.5320047480216585,
           0.708301291128697,
           0.908662807163682,
           1.1330892961266144,
           1.3815807580174937,
           1.6541371928363193,
           1.9507586005830908,
           2.271444981257809,
           2.6161963348604758,
           2.9850126613910875,
           3.3778939608496463,
           3.7948402332361546,
           4.235851478550606,
           4.700927696793005,
           5.190068887963349,
           5.703275052061642,
           6.24054618908788,
           6.80188229904207,
           7.387283381924204,
           7.996749437734279,
           8.630280466472307,
           9.287876468138279,
           9.969537442732197
          ],
          [
           4.700222990420658,
           4.235003498542274,
           3.793848979591837,
           3.3767594335693456,
           2.9837348604748017,
           2.614775260308205,
           2.2698806330695542,
           1.94905097875885,
           1.652286297376093,
           1.3795865889212826,
           1.1309518533944185,
           0.9063820907955014,
           0.7058773011245311,
           0.5294374843815075,
           0.3770626405664306,
           0.24875276967930005,
           0.1445078717201167,
           0.06432794668887953,
           0.008212994585589106,
           -0.023836984589754362,
           -0.031821990837151315,
           -0.01574202415660131,
           0.024402915451895213,
           0.08861282798833847,
           0.17688771345272825,
           0.2892275718450643,
           0.4256324031653478,
           0.5861022074135778,
           0.7706369845897547,
           0.9792367346938771,
           1.2119014577259488,
           1.4686311536859655,
           1.7494258225739285,
           2.0542854643898383,
           2.3832100791336943,
           2.736199666805499,
           3.113254227405249,
           3.5143737609329455,
           3.93955826738859,
           4.38880774677218,
           4.862122199083716,
           5.359501624323199,
           5.880946022490629,
           6.426455393586007,
           6.996029737609335,
           7.589669054560604,
           8.207373344439821,
           8.849142607246982,
           9.514976842982092,
           10.204876051645149
          ],
          [
           4.534503706788838,
           4.077522448979592,
           3.644606164098293,
           3.235754852144939,
           2.8509685131195335,
           2.4902471470220746,
           2.1535907538525607,
           1.840999333610995,
           1.5524728862973758,
           1.2880114119117037,
           1.0476149104539774,
           0.831283381924198,
           0.6390168263223657,
           0.4708152436484796,
           0.32667863390254037,
           0.20660699708454788,
           0.11060033319450235,
           0.03865864223240334,
           -0.009218075801749048,
           -0.03302982090795514,
           -0.032776593086214056,
           -0.008458392336526455,
           0.039924781341108107,
           0.11237292794668918,
           0.208886047480217,
           0.3294641399416909,
           0.4741072053311117,
           0.6428152436484806,
           0.8355882548937945,
           1.0524262390670556,
           1.2933291961682643,
           1.5582971261974192,
           1.8473300291545196,
           2.1604279050395676,
           2.497590753852561,
           2.8588185755935034,
           3.2441113702623907,
           3.6534691378592257,
           4.086891878384009,
           4.544379591836737,
           5.025932278217413,
           5.531549937526031,
           6.061232569762598,
           6.614980174927115,
           7.192792753019578,
           7.794670304039988,
           8.420612827988343,
           9.070620324864642,
           9.74469279466889,
           10.442830237401086
          ],
          [
           4.3714,
           3.9226569762598924,
           3.497978925447731,
           3.097365847563515,
           2.720817742607247,
           2.3683346105789256,
           2.03991645147855,
           1.735563265306122,
           1.4552750520616407,
           1.1990518117451066,
           0.9668935443565181,
           0.7588002498958764,
           0.574771928363182,
           0.4148085797584339,
           0.27891020408163236,
           0.1670768013327777,
           0.07930837151186987,
           0.015604914618908783,
           -0.024033569346105788,
           -0.03960708038317384,
           -0.031115618492294717,
           0.0014408163265309248,
           0.05806222407330308,
           0.13874860474802198,
           0.24349995835068738,
           0.3723162848812991,
           0.5251975843398582,
           0.702143856726364,
           0.9031551020408171,
           1.1282313202832146,
           1.377372511453562,
           1.6505786755518548,
           1.9478498125780934,
           2.2691859225322784,
           2.6145870054144105,
           2.98405306122449,
           3.3775840899625176,
           3.7951800916284895,
           4.23684106622241,
           4.702567013744275,
           5.192357934194088,
           5.706213827571846,
           6.244134693877551,
           6.806120533111201,
           7.392171345272807,
           8.002287130362353,
           8.636467888379846,
           9.294713619325284,
           9.97702432319867,
           10.683400000000002
          ]
         ]
        }
       ],
       "layout": {
        "scene": {
         "xaxis": {
          "title": {
           "text": "w1"
          }
         },
         "yaxis": {
          "title": {
           "text": "w2"
          }
         },
         "zaxis": {
          "title": {
           "text": "Expected Value"
          }
         }
        },
        "template": {
         "data": {
          "bar": [
           {
            "error_x": {
             "color": "#2a3f5f"
            },
            "error_y": {
             "color": "#2a3f5f"
            },
            "marker": {
             "line": {
              "color": "#E5ECF6",
              "width": 0.5
             }
            },
            "type": "bar"
           }
          ],
          "barpolar": [
           {
            "marker": {
             "line": {
              "color": "#E5ECF6",
              "width": 0.5
             }
            },
            "type": "barpolar"
           }
          ],
          "carpet": [
           {
            "aaxis": {
             "endlinecolor": "#2a3f5f",
             "gridcolor": "white",
             "linecolor": "white",
             "minorgridcolor": "white",
             "startlinecolor": "#2a3f5f"
            },
            "baxis": {
             "endlinecolor": "#2a3f5f",
             "gridcolor": "white",
             "linecolor": "white",
             "minorgridcolor": "white",
             "startlinecolor": "#2a3f5f"
            },
            "type": "carpet"
           }
          ],
          "choropleth": [
           {
            "colorbar": {
             "outlinewidth": 0,
             "ticks": ""
            },
            "type": "choropleth"
           }
          ],
          "contour": [
           {
            "colorbar": {
             "outlinewidth": 0,
             "ticks": ""
            },
            "colorscale": [
             [
              0,
              "#0d0887"
             ],
             [
              0.1111111111111111,
              "#46039f"
             ],
             [
              0.2222222222222222,
              "#7201a8"
             ],
             [
              0.3333333333333333,
              "#9c179e"
             ],
             [
              0.4444444444444444,
              "#bd3786"
             ],
             [
              0.5555555555555556,
              "#d8576b"
             ],
             [
              0.6666666666666666,
              "#ed7953"
             ],
             [
              0.7777777777777778,
              "#fb9f3a"
             ],
             [
              0.8888888888888888,
              "#fdca26"
             ],
             [
              1,
              "#f0f921"
             ]
            ],
            "type": "contour"
           }
          ],
          "contourcarpet": [
           {
            "colorbar": {
             "outlinewidth": 0,
             "ticks": ""
            },
            "type": "contourcarpet"
           }
          ],
          "heatmap": [
           {
            "colorbar": {
             "outlinewidth": 0,
             "ticks": ""
            },
            "colorscale": [
             [
              0,
              "#0d0887"
             ],
             [
              0.1111111111111111,
              "#46039f"
             ],
             [
              0.2222222222222222,
              "#7201a8"
             ],
             [
              0.3333333333333333,
              "#9c179e"
             ],
             [
              0.4444444444444444,
              "#bd3786"
             ],
             [
              0.5555555555555556,
              "#d8576b"
             ],
             [
              0.6666666666666666,
              "#ed7953"
             ],
             [
              0.7777777777777778,
              "#fb9f3a"
             ],
             [
              0.8888888888888888,
              "#fdca26"
             ],
             [
              1,
              "#f0f921"
             ]
            ],
            "type": "heatmap"
           }
          ],
          "heatmapgl": [
           {
            "colorbar": {
             "outlinewidth": 0,
             "ticks": ""
            },
            "colorscale": [
             [
              0,
              "#0d0887"
             ],
             [
              0.1111111111111111,
              "#46039f"
             ],
             [
              0.2222222222222222,
              "#7201a8"
             ],
             [
              0.3333333333333333,
              "#9c179e"
             ],
             [
              0.4444444444444444,
              "#bd3786"
             ],
             [
              0.5555555555555556,
              "#d8576b"
             ],
             [
              0.6666666666666666,
              "#ed7953"
             ],
             [
              0.7777777777777778,
              "#fb9f3a"
             ],
             [
              0.8888888888888888,
              "#fdca26"
             ],
             [
              1,
              "#f0f921"
             ]
            ],
            "type": "heatmapgl"
           }
          ],
          "histogram": [
           {
            "marker": {
             "colorbar": {
              "outlinewidth": 0,
              "ticks": ""
             }
            },
            "type": "histogram"
           }
          ],
          "histogram2d": [
           {
            "colorbar": {
             "outlinewidth": 0,
             "ticks": ""
            },
            "colorscale": [
             [
              0,
              "#0d0887"
             ],
             [
              0.1111111111111111,
              "#46039f"
             ],
             [
              0.2222222222222222,
              "#7201a8"
             ],
             [
              0.3333333333333333,
              "#9c179e"
             ],
             [
              0.4444444444444444,
              "#bd3786"
             ],
             [
              0.5555555555555556,
              "#d8576b"
             ],
             [
              0.6666666666666666,
              "#ed7953"
             ],
             [
              0.7777777777777778,
              "#fb9f3a"
             ],
             [
              0.8888888888888888,
              "#fdca26"
             ],
             [
              1,
              "#f0f921"
             ]
            ],
            "type": "histogram2d"
           }
          ],
          "histogram2dcontour": [
           {
            "colorbar": {
             "outlinewidth": 0,
             "ticks": ""
            },
            "colorscale": [
             [
              0,
              "#0d0887"
             ],
             [
              0.1111111111111111,
              "#46039f"
             ],
             [
              0.2222222222222222,
              "#7201a8"
             ],
             [
              0.3333333333333333,
              "#9c179e"
             ],
             [
              0.4444444444444444,
              "#bd3786"
             ],
             [
              0.5555555555555556,
              "#d8576b"
             ],
             [
              0.6666666666666666,
              "#ed7953"
             ],
             [
              0.7777777777777778,
              "#fb9f3a"
             ],
             [
              0.8888888888888888,
              "#fdca26"
             ],
             [
              1,
              "#f0f921"
             ]
            ],
            "type": "histogram2dcontour"
           }
          ],
          "mesh3d": [
           {
            "colorbar": {
             "outlinewidth": 0,
             "ticks": ""
            },
            "type": "mesh3d"
           }
          ],
          "parcoords": [
           {
            "line": {
             "colorbar": {
              "outlinewidth": 0,
              "ticks": ""
             }
            },
            "type": "parcoords"
           }
          ],
          "pie": [
           {
            "automargin": true,
            "type": "pie"
           }
          ],
          "scatter": [
           {
            "marker": {
             "colorbar": {
              "outlinewidth": 0,
              "ticks": ""
             }
            },
            "type": "scatter"
           }
          ],
          "scatter3d": [
           {
            "line": {
             "colorbar": {
              "outlinewidth": 0,
              "ticks": ""
             }
            },
            "marker": {
             "colorbar": {
              "outlinewidth": 0,
              "ticks": ""
             }
            },
            "type": "scatter3d"
           }
          ],
          "scattercarpet": [
           {
            "marker": {
             "colorbar": {
              "outlinewidth": 0,
              "ticks": ""
             }
            },
            "type": "scattercarpet"
           }
          ],
          "scattergeo": [
           {
            "marker": {
             "colorbar": {
              "outlinewidth": 0,
              "ticks": ""
             }
            },
            "type": "scattergeo"
           }
          ],
          "scattergl": [
           {
            "marker": {
             "colorbar": {
              "outlinewidth": 0,
              "ticks": ""
             }
            },
            "type": "scattergl"
           }
          ],
          "scattermapbox": [
           {
            "marker": {
             "colorbar": {
              "outlinewidth": 0,
              "ticks": ""
             }
            },
            "type": "scattermapbox"
           }
          ],
          "scatterpolar": [
           {
            "marker": {
             "colorbar": {
              "outlinewidth": 0,
              "ticks": ""
             }
            },
            "type": "scatterpolar"
           }
          ],
          "scatterpolargl": [
           {
            "marker": {
             "colorbar": {
              "outlinewidth": 0,
              "ticks": ""
             }
            },
            "type": "scatterpolargl"
           }
          ],
          "scatterternary": [
           {
            "marker": {
             "colorbar": {
              "outlinewidth": 0,
              "ticks": ""
             }
            },
            "type": "scatterternary"
           }
          ],
          "surface": [
           {
            "colorbar": {
             "outlinewidth": 0,
             "ticks": ""
            },
            "colorscale": [
             [
              0,
              "#0d0887"
             ],
             [
              0.1111111111111111,
              "#46039f"
             ],
             [
              0.2222222222222222,
              "#7201a8"
             ],
             [
              0.3333333333333333,
              "#9c179e"
             ],
             [
              0.4444444444444444,
              "#bd3786"
             ],
             [
              0.5555555555555556,
              "#d8576b"
             ],
             [
              0.6666666666666666,
              "#ed7953"
             ],
             [
              0.7777777777777778,
              "#fb9f3a"
             ],
             [
              0.8888888888888888,
              "#fdca26"
             ],
             [
              1,
              "#f0f921"
             ]
            ],
            "type": "surface"
           }
          ],
          "table": [
           {
            "cells": {
             "fill": {
              "color": "#EBF0F8"
             },
             "line": {
              "color": "white"
             }
            },
            "header": {
             "fill": {
              "color": "#C8D4E3"
             },
             "line": {
              "color": "white"
             }
            },
            "type": "table"
           }
          ]
         },
         "layout": {
          "annotationdefaults": {
           "arrowcolor": "#2a3f5f",
           "arrowhead": 0,
           "arrowwidth": 1
          },
          "coloraxis": {
           "colorbar": {
            "outlinewidth": 0,
            "ticks": ""
           }
          },
          "colorscale": {
           "diverging": [
            [
             0,
             "#8e0152"
            ],
            [
             0.1,
             "#c51b7d"
            ],
            [
             0.2,
             "#de77ae"
            ],
            [
             0.3,
             "#f1b6da"
            ],
            [
             0.4,
             "#fde0ef"
            ],
            [
             0.5,
             "#f7f7f7"
            ],
            [
             0.6,
             "#e6f5d0"
            ],
            [
             0.7,
             "#b8e186"
            ],
            [
             0.8,
             "#7fbc41"
            ],
            [
             0.9,
             "#4d9221"
            ],
            [
             1,
             "#276419"
            ]
           ],
           "sequential": [
            [
             0,
             "#0d0887"
            ],
            [
             0.1111111111111111,
             "#46039f"
            ],
            [
             0.2222222222222222,
             "#7201a8"
            ],
            [
             0.3333333333333333,
             "#9c179e"
            ],
            [
             0.4444444444444444,
             "#bd3786"
            ],
            [
             0.5555555555555556,
             "#d8576b"
            ],
            [
             0.6666666666666666,
             "#ed7953"
            ],
            [
             0.7777777777777778,
             "#fb9f3a"
            ],
            [
             0.8888888888888888,
             "#fdca26"
            ],
            [
             1,
             "#f0f921"
            ]
           ],
           "sequentialminus": [
            [
             0,
             "#0d0887"
            ],
            [
             0.1111111111111111,
             "#46039f"
            ],
            [
             0.2222222222222222,
             "#7201a8"
            ],
            [
             0.3333333333333333,
             "#9c179e"
            ],
            [
             0.4444444444444444,
             "#bd3786"
            ],
            [
             0.5555555555555556,
             "#d8576b"
            ],
            [
             0.6666666666666666,
             "#ed7953"
            ],
            [
             0.7777777777777778,
             "#fb9f3a"
            ],
            [
             0.8888888888888888,
             "#fdca26"
            ],
            [
             1,
             "#f0f921"
            ]
           ]
          },
          "colorway": [
           "#636efa",
           "#EF553B",
           "#00cc96",
           "#ab63fa",
           "#FFA15A",
           "#19d3f3",
           "#FF6692",
           "#B6E880",
           "#FF97FF",
           "#FECB52"
          ],
          "font": {
           "color": "#2a3f5f"
          },
          "geo": {
           "bgcolor": "white",
           "lakecolor": "white",
           "landcolor": "#E5ECF6",
           "showlakes": true,
           "showland": true,
           "subunitcolor": "white"
          },
          "hoverlabel": {
           "align": "left"
          },
          "hovermode": "closest",
          "mapbox": {
           "style": "light"
          },
          "paper_bgcolor": "white",
          "plot_bgcolor": "#E5ECF6",
          "polar": {
           "angularaxis": {
            "gridcolor": "white",
            "linecolor": "white",
            "ticks": ""
           },
           "bgcolor": "#E5ECF6",
           "radialaxis": {
            "gridcolor": "white",
            "linecolor": "white",
            "ticks": ""
           }
          },
          "scene": {
           "xaxis": {
            "backgroundcolor": "#E5ECF6",
            "gridcolor": "white",
            "gridwidth": 2,
            "linecolor": "white",
            "showbackground": true,
            "ticks": "",
            "zerolinecolor": "white"
           },
           "yaxis": {
            "backgroundcolor": "#E5ECF6",
            "gridcolor": "white",
            "gridwidth": 2,
            "linecolor": "white",
            "showbackground": true,
            "ticks": "",
            "zerolinecolor": "white"
           },
           "zaxis": {
            "backgroundcolor": "#E5ECF6",
            "gridcolor": "white",
            "gridwidth": 2,
            "linecolor": "white",
            "showbackground": true,
            "ticks": "",
            "zerolinecolor": "white"
           }
          },
          "shapedefaults": {
           "line": {
            "color": "#2a3f5f"
           }
          },
          "ternary": {
           "aaxis": {
            "gridcolor": "white",
            "linecolor": "white",
            "ticks": ""
           },
           "baxis": {
            "gridcolor": "white",
            "linecolor": "white",
            "ticks": ""
           },
           "bgcolor": "#E5ECF6",
           "caxis": {
            "gridcolor": "white",
            "linecolor": "white",
            "ticks": ""
           }
          },
          "title": {
           "x": 0.05
          },
          "xaxis": {
           "automargin": true,
           "gridcolor": "white",
           "linecolor": "white",
           "ticks": "",
           "title": {
            "standoff": 15
           },
           "zerolinecolor": "white",
           "zerolinewidth": 2
          },
          "yaxis": {
           "automargin": true,
           "gridcolor": "white",
           "linecolor": "white",
           "ticks": "",
           "title": {
            "standoff": 15
           },
           "zerolinecolor": "white",
           "zerolinewidth": 2
          }
         }
        }
       }
      },
      "text/html": [
       "<div>\n",
       "        \n",
       "        \n",
       "            <div id=\"5950b9df-7bd6-45b3-adb3-e942ccbee358\" class=\"plotly-graph-div\" style=\"height:525px; width:100%;\"></div>\n",
       "            <script type=\"text/javascript\">\n",
       "                require([\"plotly\"], function(Plotly) {\n",
       "                    window.PLOTLYENV=window.PLOTLYENV || {};\n",
       "                    \n",
       "                if (document.getElementById(\"5950b9df-7bd6-45b3-adb3-e942ccbee358\")) {\n",
       "                    Plotly.newPlot(\n",
       "                        '5950b9df-7bd6-45b3-adb3-e942ccbee358',\n",
       "                        [{\"contours\": {\"z\": {\"color\": \"white\", \"end\": 14, \"show\": true, \"size\": 0.1, \"start\": -2}}, \"type\": \"surface\", \"x\": [-5.0, -4.795918367346939, -4.591836734693878, -4.387755102040816, -4.183673469387755, -3.979591836734694, -3.7755102040816326, -3.571428571428571, -3.36734693877551, -3.163265306122449, -2.9591836734693877, -2.7551020408163263, -2.5510204081632653, -2.3469387755102042, -2.142857142857143, -1.9387755102040813, -1.7346938775510203, -1.5306122448979593, -1.3265306122448979, -1.1224489795918364, -0.9183673469387754, -0.7142857142857144, -0.5102040816326525, -0.3061224489795915, -0.1020408163265305, 0.1020408163265305, 0.3061224489795915, 0.5102040816326534, 0.7142857142857144, 0.9183673469387754, 1.1224489795918373, 1.3265306122448983, 1.5306122448979593, 1.7346938775510203, 1.9387755102040813, 2.1428571428571432, 2.3469387755102042, 2.5510204081632653, 2.755102040816327, 2.959183673469388, 3.163265306122449, 3.36734693877551, 3.571428571428571, 3.775510204081632, 3.979591836734695, 4.183673469387756, 4.387755102040817, 4.591836734693878, 4.795918367346939, 5.0], \"y\": [-5.0, -4.795918367346939, -4.591836734693878, -4.387755102040816, -4.183673469387755, -3.979591836734694, -3.7755102040816326, -3.571428571428571, -3.36734693877551, -3.163265306122449, -2.9591836734693877, -2.7551020408163263, -2.5510204081632653, -2.3469387755102042, -2.142857142857143, -1.9387755102040813, -1.7346938775510203, -1.5306122448979593, -1.3265306122448979, -1.1224489795918364, -0.9183673469387754, -0.7142857142857144, -0.5102040816326525, -0.3061224489795915, -0.1020408163265305, 0.1020408163265305, 0.3061224489795915, 0.5102040816326534, 0.7142857142857144, 0.9183673469387754, 1.1224489795918373, 1.3265306122448983, 1.5306122448979593, 1.7346938775510203, 1.9387755102040813, 2.1428571428571432, 2.3469387755102042, 2.5510204081632653, 2.755102040816327, 2.959183673469388, 3.163265306122449, 3.36734693877551, 3.571428571428571, 3.775510204081632, 3.979591836734695, 4.183673469387756, 4.387755102040817, 4.591836734693878, 4.795918367346939, 5.0], \"z\": [[15.439400000000003, 14.586983506872137, 13.758631986672224, 12.954345439400255, 12.174123865056231, 11.41796726364015, 10.68587563515202, 9.977848979591837, 9.2938872969596, 8.633990587255312, 7.9981588504789665, 7.38639208663057, 6.798690295710119, 6.235053477717617, 5.6954816326530615, 5.179974760516451, 4.68853286130779, 4.221155935027072, 3.7778439816743035, 3.3585970012494797, 2.963414993752604, 2.5922979591836746, 2.2452458975426905, 1.9222588088296537, 1.623336693044565, 1.3484795501874225, 1.0976873802582259, 0.870960183256976, 0.6682979591836742, 0.48970070803831733, 0.33516842982090767, 0.20470112453144518, 0.09829879216992898, 0.015961432736359527, -0.04231095376926275, -0.07651836734693918, -0.08666080799666798, -0.07273827571845093, -0.0347507705122867, 0.02730170762182449, 0.11341915868388219, 0.22360158267388552, 0.35784897959183626, 0.5161613494377335, 0.6985386922115793, 0.9049810079133707, 1.135488296543108, 1.3900605581007919, 1.6686977925864226, 1.9714], [15.150748604748024, 14.306570345689298, 13.486457059558521, 12.690408746355686, 11.918425406080804, 11.170507038733865, 10.446653644314868, 9.746865222823825, 9.071141774260724, 8.419483298625574, 7.791889795918369, 7.1883612661391085, 6.6088977092877945, 6.053499125364432, 5.522165514369014, 5.014896876301542, 4.5316932111620165, 4.072554518950439, 3.6374807996668075, 3.22647205331112, 2.8395282798833823, 2.4766494793835916, 2.137835651811744, 1.8230867971678473, 1.532402915451895, 1.2657840066638903, 1.0232300708038324, 0.8047411078717199, 0.610317117867555, 0.43995810079133735, 0.2936640566430655, 0.17143498542274038, 0.07327088713036245, -0.0008282382340694117, -0.05086239067055409, -0.07683157017909159, -0.07873577675968368, -0.05657501041232815, -0.010349271137026106, 0.05994144106622268, 0.15429712619741776, 0.27271778425655935, 0.41520341524364857, 0.5817540191586831, 0.7723695960016668, 0.9870501457725954, 1.2257956684714708, 1.488606164098293, 1.7754816326530618, 2.086422074135777], [14.86471278633903, 14.028772761349437, 13.2168977092878, 12.429087630154106, 11.665342523948357, 10.925662390670556, 10.210047230320699, 9.518497042898794, 8.851011828404832, 8.20759158683882, 7.588236318200752, 6.992946022490628, 6.4217206997084535, 5.874560349854231, 5.351464972927946, 4.852434568929613, 4.377469137859227, 3.926568679716786, 3.499733194502292, 3.0969626822157434, 2.7182571428571443, 2.363616576426489, 2.033040982923782, 1.726530362349021, 1.444084714702207, 1.185704039983341, 0.95138833819242, 0.7411376093294457, 0.5549518533944187, 0.3928310703873388, 0.2547752603082043, 0.1407844231570179, 0.05085855893377755, -0.01500233236151538, -0.05679825072886313, -0.0745291961682637, -0.06819516867971687, -0.03779616826322396, 0.016667805081216125, 0.0951967513536025, 0.19779067055393562, 0.32444956268221503, 0.47517342773844207, 0.6499622657226151, 0.8488160766347362, 1.0717348604748032, 1.318718617242816, 1.5897673469387752, 1.8848810495626827, 2.2040597251145355], [14.581292544773014, 13.753590753852569, 12.949953935860062, 12.1703820907955, 11.414875218658892, 10.68343331945023, 9.976056393169511, 9.29274443981674, 8.63349745939192, 7.998315451895044, 7.387198417326113, 6.800146355685131, 6.237159266972096, 5.698237151187007, 5.183380008329863, 4.692587838400668, 4.225860641399416, 3.7831984173261137, 3.364601166180757, 2.9700688879633477, 2.599601582673884, 2.25319925031237, 1.9308618908787993, 1.6325895043731773, 1.3583820907955015, 1.108239650145773, 0.8821621824239902, 0.6801496876301538, 0.5022021657642646, 0.3483196168263225, 0.21850204081632651, 0.11274943773427681, 0.03106180758017474, -0.026560849645981044, -0.06011853394419009, -0.0696112453144524, -0.05503898375676819, -0.016401749271137023, 0.04630045814244044, 0.1330676384839653, 0.24389979175343635, 0.3787969179508537, 0.5377590170762179, 0.7207860891295288, 0.9278781341107886, 1.1590351520199924, 1.414257142857144, 1.6935441066222414, 1.9968960433152856, 2.324312952936277], [14.300487880049982, 13.481024323198671, 12.685625739275306, 11.914292128279882, 11.167023490212411, 10.443819825072886, 9.744681132861306, 9.069607413577675, 8.418598667221993, 7.7916548937942505, 7.188776093294459, 6.609962265722616, 6.055213411078718, 5.524529529362766, 5.017910620574763, 4.535356684714703, 4.076867721782592, 3.6424437317784277, 3.2320847147022076, 2.8457906705539355, 2.483561599333612, 2.145397501041234, 1.8312983756768006, 1.541264223240316, 1.2752950437317785, 1.0333908371511868, 0.8155516034985428, 0.6217773427738438, 0.45206805497709235, 0.3064237401082883, 0.18484439816742992, 0.08733002915451826, 0.013880633069554449, -0.035503790087463516, -0.060823240316534966, -0.062077717617659456, -0.03926722199083721, 0.007608246563931553, 0.07854868804664727, 0.1735541024573095, 0.2926244897959186, 0.4357598500624741, 0.6029601832569762, 0.794225489379425, 1.0095557684298222, 1.2489510204081642, 1.5124112453144534, 1.7999364431486886, 2.111526613910871, 2.4471817576009998], [14.022298792169936, 13.21107346938776, 12.423913119533534, 11.660817742607245, 10.921787338608915, 10.20682190753853, 9.515921449396085, 8.849085964181588, 8.206315451895044, 7.587609912536443, 6.992969346105789, 6.422393752603082, 5.875883132028321, 5.3534374843815105, 4.855056809662642, 4.380741107871721, 3.930490379008747, 3.504304623073721, 3.1021838400666386, 2.7241280299875053, 2.370137192836319, 2.040211328613078, 1.7343504373177838, 1.452554518950437, 1.1948235735110369, 0.9611576009995837, 0.7515566014160768, 0.5660205747605163, 0.40454952103290287, 0.267143440233236, 0.15380233236151564, 0.06452619741774268, -0.0006849645980842034, -0.04183115368596435, -0.05891236984589776, -0.05192861307788421, -0.020879883381924147, 0.03423381924198243, 0.11341249479383608, 0.21665614327363603, 0.34396476468138315, 0.495338359017076, 0.6707769262807163, 0.8702804664723026, 1.0938489795918378, 1.341482465639318, 1.613180924614745, 1.9089443565181177, 2.2287727613494384, 2.5726661391087045], [13.746725281132864, 12.943738192419827, 12.164816076634738, 11.409958933777592, 10.679166763848396, 9.972439566847148, 9.289777342773844, 8.631180091628487, 7.996647813411078, 7.386180508121616, 6.7997781757601015, 6.237440816326532, 5.69916842982091, 5.184961016243234, 4.694818575593503, 4.22874110787172, 3.786728613077884, 3.368781091211995, 2.9748985422740524, 2.605080966264057, 2.2593283631820085, 1.9376407330279064, 1.640018075801748, 1.3664603915035392, 1.1169676801332775, 0.8915399416909617, 0.6901771761765931, 0.5128793835901706, 0.35964656393169525, 0.23047871720116642, 0.12537584339858343, 0.04433794252394829, -0.012634985422740552, -0.04554294044148266, -0.05438592253227825, -0.039163931695126886, 0.00012303206997099636, 0.0634749687630155, 0.15089187838400708, 0.26237376093294473, 0.39792061640982934, 0.5575324448146605, 0.7412092461474384, 0.9489510204081629, 1.1807577675968361, 1.4366294877134538, 1.7165661807580186, 2.02056784673053, 2.348634485630988, 2.700766097459392], [13.473767346938777, 12.67901849229488, 11.90833461057893, 11.161715701790918, 10.439161765930864, 9.740672802998754, 9.066248812994584, 8.415889795918366, 7.789595751770096, 7.187366680549772, 6.609202582257393, 6.055103456892962, 5.525069304456476, 5.019100124947939, 4.537195918367347, 4.079356684714702, 3.6455824239900037, 3.235873136193254, 2.850228821324449, 2.48864947938359, 2.1511351103706784, 1.8376857142857144, 1.548301291128696, 1.282981840899625, 1.0417273635985007, 0.824537859225323, 0.6314133277800922, 0.4623537692628066, 0.3173591836734695, 0.19642957101207847, 0.09956493127863353, 0.026765264473135986, -0.02196942940441482, -0.04663915035401911, -0.047243898375676774, -0.023783673469388034, 0.02374152436484811, 0.09533169512703044, 0.19098683881715994, 0.31070695543523574, 0.45449204498125795, 0.6223421074552271, 0.8142571428571426, 1.030237151187005, 1.2702821324448164, 1.534392086630572, 1.8225670137442742, 2.1348069137859236, 2.4711117867555195, 2.8314816326530616], [13.203424989587672, 12.416914369012913, 11.6544687213661, 10.91608804664723, 10.20177234485631, 9.511521615993335, 8.84533586005831, 8.203215077051228, 7.585159266972095, 6.991168429820909, 6.4212425655976695, 5.875381674302373, 5.353585755935029, 4.855854810495627, 4.382188837984172, 3.932587838400666, 3.5070518117451064, 3.105580758017493, 2.7281746772178264, 2.374833569346105, 2.0455574344023324, 1.740346272386506, 1.459200083298625, 1.202118867138692, 0.9691026239067053, 0.7601513536026658, 0.5752650562265724, 0.41444373177842553, 0.2776873802582258, 0.16499600166597284, 0.07636959600166571, 0.011808163265305982, -0.028688296543107117, -0.04511978342357359, -0.037486297376093325, -0.005787838400666545, 0.04997559350270708, 0.12980399833402734, 0.23369737609329488, 0.3616557267805082, 0.5136790503956685, 0.6897673469387753, 0.889920616409829, 1.114138858808829, 1.3624220741357784, 1.6347702623906717, 1.931183423573512, 2.2516615576842995, 2.5962046647230324, 2.9648127446897132], [12.93569820907955, 12.15742582257393, 11.403218408996256, 10.673075968346522, 9.96699850062474, 9.284986005830904, 8.627038483965014, 7.993155935027074, 7.383338359017077, 6.797585755935028, 6.235898125780926, 5.698275468554769, 5.184717784256561, 4.6952250728862985, 4.229797334443981, 3.7884345689296124, 3.37113677634319, 2.977903956684716, 2.6087361099541866, 2.2636332361516036, 1.9425953352769678, 1.6456224073302794, 1.3727144523115364, 1.1238714702207413, 0.8990934610578925, 0.6983804248229906, 0.5217323615160354, 0.36914927113702634, 0.240631153685964, 0.13617800916284906, 0.055789837567679745, -0.0005333610995418292, -0.03279158683881722, -0.04098483965014588, -0.025113119533527684, 0.014823573511037136, 0.0788252394835488, 0.16689187838400654, 0.27902349021241185, 0.41522007496876334, 0.5754816326530613, 0.759808163265306, 0.9681996668054973, 1.2006561432736356, 1.4571775926697224, 1.737764014993754, 2.0424154102457317, 2.3711317784256565, 2.723913119533528, 3.100759433569346], [12.670587005414411, 11.900552852977928, 11.154583673469391, 10.432679466888796, 9.73484023323615, 9.061065972511456, 8.411356684714702, 7.7857123698459, 7.184133027905042, 6.606618658892129, 6.053169262807163, 5.523784839650145, 5.018465389421074, 4.537210912119951, 4.080021407746772, 3.6468968763015406, 3.2378373177842574, 2.8528427321949197, 2.491913119533528, 2.155048479800082, 1.842248812994585, 1.5535141191170343, 1.28884439816743, 1.0482396501457725, 0.8316998750520619, 0.6392250728862974, 0.47081524364848004, 0.326470387338609, 0.20619050395668448, 0.10997559350270703, 0.03782565597667609, -0.01025930862140767, -0.034279300291545134, -0.03423431903373586, -0.010124364847980072, 0.038050562265722676, 0.11029046230737188, 0.20659533527696783, 0.326965181174511, 0.4714000000000004, 0.6398997917534363, 0.8324645564348186, 1.0490942940441481, 1.289789004581424, 1.5545486880466493, 1.843373344439818, 2.1562629737609345, 2.4932175760099966, 2.854237151187006, 3.239321699291962], [12.408091378592253, 11.64629546022491, 10.908564514785505, 10.194898542274052, 9.505297542690545, 8.839761516034986, 8.198290462307371, 7.5808843815077065, 6.9875432736359855, 6.418267138692213, 5.873055976676385, 5.351909787588504, 4.854828571428571, 4.381812328196586, 3.932861057892546, 3.5079747605164515, 3.1071534360683053, 2.730397084548106, 2.3777057059558513, 2.0490793002915444, 1.7445178675551851, 1.4640214077467726, 1.2075899208663055, 0.9752234069137853, 0.7669218658892127, 0.5826852977925865, 0.42251370262390686, 0.2864070803831734, 0.17436543107038704, 0.08638875468554774, 0.02247705122865462, -0.01736967930029165, -0.0331514369012913, -0.024868221574344096, 0.007479966680549843, 0.06389312786339035, 0.1443712619741775, 0.24891436901291125, 0.37752244897959236, 0.5301955018742194, 0.7069335276967931, 0.9077365264473135, 1.1326044981257808, 1.3815374427321947, 1.6545353602665573, 1.9515982507288645, 2.272726114119118, 2.6179189504373186, 2.987176759683466, 3.380499541857559], [12.148211328613078, 11.39465364431487, 10.665160932944607, 9.95973319450229, 9.278370428987921, 8.621072636401502, 7.9878398167430245, 7.378671970012494, 6.793569096209913, 6.232531195335278, 5.695558267388587, 5.182650312369845, 4.693807330279052, 4.229029321116202, 3.7883162848813, 3.3716682215743434, 2.979085131195335, 2.610567013744274, 2.266113869221158, 1.9457256976259887, 1.6494024989587672, 1.377144273219492, 1.1289510204081625, 0.9048227405247808, 0.704759433569346, 0.5287610995418576, 0.3768277384423161, 0.24895935027072014, 0.14515593502707191, 0.06541749271137043, 0.009744023323614903, -0.02186447313619333, -0.029407996668055048, -0.012886547271970028, 0.027699875052061507, 0.09235127030404006, 0.18106763848396507, 0.2938489795918366, 0.4306952936276557, 0.5916065805914205, 0.7765828404831321, 0.9856240733027903, 1.2187302790503953, 1.475901457725947, 1.7571376093294477, 2.0624387338608927, 2.391804831320284, 2.745235901707623, 3.122731945022908, 3.5242929612661396], [11.890946855476885, 11.145627405247815, 10.424372927946692, 9.727183423573512, 9.05405889212828, 8.404999333610997, 7.780004748021657, 7.179075135360266, 6.6022104956268235, 6.049410828821327, 5.5206761349437725, 5.016006413994169, 4.535401665972512, 4.078861890878802, 3.6463870887130376, 3.237977259475219, 2.8536324031653475, 2.493352519783424, 2.1571376093294456, 1.844987671803415, 1.5569027072053312, 1.2928827155351938, 1.0529276967930024, 0.8370376509787589, 0.6452125780924614, 0.4774524781341112, 0.33375735110370697, 0.21412719700124927, 0.11856201582673898, 0.047061807580174864, -0.00037342773844240007, -0.023743690129112927, -0.02304897959183666, 0.0017107038733860103, 0.050535360266555585, 0.12342498958767184, 0.22037959183673472, 0.3413991670137442, 0.48648371511870103, 0.6556332361516037, 0.8488477301124533, 1.0661271970012494, 1.3074716368179922, 1.5728810495626815, 1.8623554352353202, 2.1758947938359032, 2.513499125364433, 2.875168429820909, 3.2609027072053314, 3.670701957517701], [11.636297959183674, 10.899216743023741, 10.186200499791754, 9.497249229487714, 8.832362932111621, 8.191541607663478, 7.574785256143272, 6.982093877551019, 6.4134674718867135, 5.868906039150353, 5.348409579341943, 4.851978092461475, 4.379611578508955, 3.931310037484383, 3.5070734693877554, 3.106901874219074, 2.730795251978342, 2.3787536026655562, 2.0507769262807165, 1.7468652228238233, 1.4670184922948777, 1.2112367346938782, 0.9795199500208241, 0.7718681382757181, 0.5882812994585589, 0.4287594335693461, 0.29330254060808025, 0.18191062057476037, 0.09458367346938767, 0.03132169929196166, -0.007875301957517844, -0.023007330279050442, -0.014074385672636358, 0.01892353186172424, 0.07598642232403158, 0.15711428571428587, 0.26230712203248663, 0.39156493127863384, 0.5448877134527286, 0.7222754685547693, 0.9237281965847566, 1.1492458975426907, 1.398828571428571, 1.6724762182423984, 1.970188837984175, 2.291966430653896, 2.637808996251563, 3.0077165347771775, 3.4016890462307376, 3.8197265306122454], [11.384264639733447, 10.65542165764265, 9.9506436484798, 9.269930612244899, 8.613282548937944, 7.980699458558934, 7.372181341107873, 6.787728196584756, 6.227340024989587, 5.691016826322366, 5.178758600583091, 4.690565347771762, 4.22643706788838, 3.7863737609329453, 3.370375426905455, 2.978442065805914, 2.6105736776343185, 2.266770262390671, 1.9470318200749692, 1.6513583506872132, 1.3797498542274051, 1.1322063306955439, 0.9087277800916279, 0.7093142024156598, 0.5339655976676384, 0.38268196584756364, 0.2554633069554355, 0.1523096209912534, 0.07322090795501873, 0.018197167846730533, -0.012761599333611096, -0.01965539358600593, -0.002484214910453919, 0.03875193669304455, 0.1040530612244897, 0.19341915868388193, 0.3068502290712206, 0.44434627238650565, 0.6059072886297382, 0.7915332778009169, 1.001224239900042, 1.234980174927114, 1.4928010828821323, 1.7746869637650973, 2.080637817576012, 2.4106536443148707, 2.7647344439816757, 3.142880216576428, 3.545090962099126, 3.971366680549772], [11.1348468971262, 10.41424214910454, 9.71770237401083, 9.045227571845064, 8.396817742607247, 7.772472886297378, 7.172193002915451, 6.595978092461474, 6.0438281549354445, 5.515743190337361, 5.011723198667223, 4.53176817992503, 4.075878134110788, 3.6440530612244904, 3.236292961266139, 2.8525978342357345, 2.4929676801332783, 2.1574024989587675, 1.8459022907122034, 1.5584670553935855, 1.2950967930029156, 1.0557915035401917, 0.8405511870054139, 0.6493758433985838, 0.4822654727197001, 0.33922007496876316, 0.22023965014577274, 0.1253241982507287, 0.05447371928363165, 0.007688213244481545, -0.015032319866722321, -0.013687880049979118, 0.011721532694710601, 0.06119591836734692, 0.13473527696792992, 0.23233960849646007, 0.35400891295293646, 0.4997431903373595, 0.6695424406497299, 0.8634066638900463, 1.0813358600583094, 1.323330029154519, 1.5893891711786754, 1.8795132861307784, 2.193702374010831, 2.5319564348188273, 2.8942754685547705, 3.28065947521866, 3.691108454810496, 4.12562240733028], [10.888044731361934, 10.175678217409416, 9.487376676384843, 8.823140108288214, 8.182968513119535, 7.566861890878803, 6.9748202415660145, 6.406843565181174, 5.862931861724282, 5.343085131195337, 4.847303373594337, 4.3755865889212835, 3.927934777176177, 3.5043479383590173, 3.1048260724698036, 2.729369179508538, 2.3779772594752187, 2.0506503123698465, 1.7473883381924202, 1.4681913369429402, 1.2130593086214077, 0.981992253227822, 0.774990170762182, 0.5920530612244899, 0.4331809246147439, 0.29837376093294465, 0.18763157017909216, 0.10095435235318606, 0.03834210745522698, -0.0002051645147856107, -0.014687463556851355, -0.005104789670970472, 0.028542857142857148, 0.08625547688463142, 0.1680330695543522, 0.2738756351520202, 0.40378317367763444, 0.5577556851311953, 0.7357931695127036, 0.9378956268221579, 1.1640630570595587, 1.4142954602249063, 1.6885928363182006, 1.9869551853394414, 2.309382507288632, 2.655874802165766, 3.026432069970847, 3.421054310703874, 3.8397415243648485, 4.282493710953769], [10.643858142440653, 9.939729862557272, 9.259666555601838, 8.603668221574345, 7.971734860474802, 7.363866472303207, 6.780063057059559, 6.220324614743857, 5.684651145356103, 5.173042648896294, 4.685499125364432, 4.222020574760516, 3.782606997084548, 3.367258392336526, 2.975974760516452, 2.6087561016243233, 2.265602415660142, 1.9465137026239074, 1.6514899625156185, 1.3805311953352768, 1.1336374010828818, 0.910808579758434, 0.7120447313619321, 0.5373458558933777, 0.38671195335276976, 0.26014302374010834, 0.1576390670553937, 0.07920008329862549, 0.0248260724698042, -0.005482965431070408, -0.011727030403998362, 0.006093877551020449, 0.04797975843398587, 0.11393061224489796, 0.2039464389837567, 0.31802723865056254, 0.4561730112453146, 0.6183837567680134, 0.8046594752186595, 1.0150001665972517, 1.2494058309037903, 1.507876468138276, 1.790412078300708, 2.0970126613910867, 2.427678217409415, 2.782408746355687, 3.1612042482299056, 3.5640647230320712, 3.9909901707621835, 4.441980591420242], [10.40228713036235, 9.706397084548106, 9.034572011661812, 8.386811911703457, 7.763116784673054, 7.163486630570596, 6.5879214493960845, 6.036421241149521, 5.508986005830904, 5.005615743440234, 4.526310453977509, 4.071070137442732, 3.639894793835901, 3.2327844231570184, 2.8497390254060813, 2.49075860058309, 2.1558431486880467, 1.84499266972095, 1.5582071636817991, 1.2954866305705952, 1.0568310703873385, 0.8422404831320287, 0.6517148688046643, 0.4852542274052476, 0.3428585589337775, 0.22452786339025405, 0.13026214077467732, 0.06006139108704689, 0.013925614327363528, -0.008145189504373207, -0.006151020408163246, 0.019908121615993424, 0.0700322365680967, 0.14422132444814662, 0.24247538525614323, 0.364794418992087, 0.5111784256559769, 0.6816274052478135, 0.8761413577675976, 1.0947202832153275, 1.3373641815910042, 1.6040730528946274, 1.8948468971261974, 2.209685714285714, 2.5485895043731803, 2.9115582673885902, 3.298592003331947, 3.70969071220325, 4.1448543940025, 4.604083048729697], [10.163331695127033, 9.475679883381925, 8.812093044564767, 8.172571178675552, 7.557114285714286, 6.965722365680968, 6.398395418575594, 5.855133444398167, 5.335936443148688, 4.840804414827156, 4.369737359433569, 3.9227352769679302, 3.4997981674302374, 3.1009260308204922, 2.726118867138693, 2.3753766763848394, 2.048699458558934, 1.7460872136609749, 1.4675399416909618, 1.213057642648896, 0.9826403165347772, 0.7762879633486051, 0.5940005830903785, 0.4357781757600997, 0.3016207413577676, 0.19152827988338197, 0.10550079133694301, 0.043538275718450564, 0.005640733027904979, -0.00819183673469387, 0.0020405664306539506, 0.036337942523948424, 0.09470029154518955, 0.17712761349437736, 0.28361990837151174, 0.4141771761765934, 0.5687994169096212, 0.7474866305705956, 0.9502388171595176, 1.1770559766763855, 1.4279381091212, 1.702885214493961, 2.0018972927946685, 2.3249743440233233, 2.6721163681799274, 3.0433233652644747, 3.4385953352769696, 3.857932278217411, 4.301334194085799, 4.768801082882133], [9.926991836734695, 9.247578259058727, 8.592229654310707, 7.96094602249063, 7.3537273635985025, 6.770573677634319, 6.211484964598084, 5.676461224489796, 5.165502457309455, 4.6786086630570605, 4.215779841732612, 3.77701599333611, 3.3623171178675553, 2.971683215326948, 2.605114285714286, 2.262610329029571, 1.9441713452728029, 1.6497973344439822, 1.3794882965431072, 1.133244231570179, 0.911065139525198, 0.7129510204081634, 0.538901874219075, 0.3889177009579341, 0.26299850062473973, 0.16114427321949193, 0.08335501874219088, 0.029630737192836223, -2.8571428571447233e-05, -0.005622907122032485, 0.012847730112453222, 0.05538334027488555, 0.12198392336526453, 0.21264947938359013, 0.32738000832986236, 0.46617551020408193, 0.6290359850062475, 0.8159614327363598, 1.0269518533944197, 1.2620072469804253, 1.5211276134943776, 1.8043129529362765, 2.1115632653061223, 2.4428785506039143, 2.7982588088296563, 3.1777040399833427, 3.5812142440649746, 4.008789421074553, 4.460429571012079, 4.936134693877551], [9.69326755518534, 9.022092211578512, 8.374981840899627, 7.751936443148687, 7.152956018325698, 6.578040566430655, 6.027190087463557, 5.500404581424406, 4.997684048313203, 4.519028488129946, 4.064437900874636, 3.6339122865472717, 3.2274516451478545, 2.845055976676385, 2.4867252811328613, 2.1524595585172843, 1.842258808829654, 1.5561230320699706, 1.294052228238234, 1.0560463973344436, 0.8421055393586004, 0.6522296543107039, 0.4864187421907533, 0.34467280299875025, 0.22699183673469375, 0.13337584339858388, 0.06382482299042071, 0.018338775510204006, -0.003082299042065806, -0.00043840066638901193, 0.026270470637234634, 0.07704431486880486, 0.1518831320283217, 0.2507869221157852, 0.3737556851311953, 0.5207894210745527, 0.6918881299458562, 0.8870518117451065, 1.106280466472304, 1.3495740941274479, 1.616932694710538, 1.9083562682215747, 2.2238448146605583, 2.563398334027488, 2.927016826322368, 3.3147002915451913, 3.7264487296959623, 4.162262140774679, 4.622140524781342, 5.1060838817159535], [9.462158850478966, 8.799221740941276, 8.16034960433153, 7.545542440649729, 6.954800249895877, 6.388123032069972, 5.84551078717201, 5.3269635152019985, 4.832481216159933, 4.362063890045815, 3.915711536859643, 3.493424156601416, 3.0952017492711366, 2.7210443148688053, 2.370951853394419, 2.04492436484798, 1.7429618492294876, 1.4650643065389426, 1.2112317367763432, 0.9814641399416908, 0.7757615160349853, 0.5941238650562266, 0.436551187005414, 0.3030434818825487, 0.19360074968763008, 0.10822299042065808, 0.04691020408163271, 0.009662390670553883, -0.0035204498125781004, 0.00736168263223658, 0.042308788004998085, 0.10132086630570615, 0.18439791753436086, 0.2915399416909622, 0.4227469387755101, 0.5780189087880054, 0.7573558517284468, 0.9607577675968348, 1.1882246563931704, 1.4397565181174516, 1.7153533527696798, 2.0150151603498547, 2.338741940857976, 2.6865336942940434, 3.0583904206580623, 3.454312119950023, 3.8742987921699314, 4.318350437317785, 4.7864670553935875, 5.278648646397335], [9.233665722615578, 8.578966847147024, 7.948332944606416, 7.341764014993752, 6.759260058309038, 6.2008210745522705, 5.6664470637234485, 5.156138025822574, 4.669893960849646, 4.207714868804666, 3.7696007496876303, 3.355551603498542, 2.9655674302374013, 2.599648229904207, 2.257794002498959, 1.9400047480216573, 1.6462804664723032, 1.3766211578508956, 1.1310268221574344, 0.9094974593919197, 0.7120330695543522, 0.5386336526447315, 0.3892992086630567, 0.26402973760932924, 0.1628252394835485, 0.08568571428571431, 0.032611162015826804, 0.003601582673885856, -0.001343023740108278, 0.017777342773844237, 0.06096268221574361, 0.12821299458558952, 0.21952827988338205, 0.33490853810912125, 0.4743537692628071, 0.6378639733444403, 0.8254391503540195, 1.0370793002915453, 1.272784423157019, 1.5325545189504381, 1.816389587671804, 2.124289629321116, 2.456254643898376, 2.8122846314035814, 3.1923795918367377, 3.5965395251978367, 4.024764431486883, 4.477054310703876, 4.953409162848815, 5.453828987921701], [9.00778817159517, 8.361327530195753, 7.738931861724284, 7.140601166180758, 6.566335443565182, 6.016134693877553, 5.489998917117867, 4.98792811328613, 4.50992228238234, 4.055981424406498, 3.626105539358601, 3.2202946272386503, 2.838548688046647, 2.480867721782591, 2.1472517284464807, 1.8377007080383174, 1.5522146605581009, 1.2907935860058313, 1.0534374843815075, 0.840146355685131, 0.6509201999167014, 0.4857590170762184, 0.34466280716368153, 0.2276315701790919, 0.13466530612244895, 0.06576401499375266, 0.02092769679300298, 0.0001563515201999056, 0.0034499791753436174, 0.030808579758433974, 0.08223215326947124, 0.15772069970845495, 0.25727421907538534, 0.3808927113702623, 0.528576176593086, 0.7003246147438571, 0.8961380258225742, 1.116016409829238, 1.3599597667638492, 1.6279680966264063, 1.92004139941691, 2.23617967513536, 2.5763829237817575, 2.9406511453561013, 3.328984339858395, 3.7413825072886318, 4.177845647646816, 4.638373760932946, 5.1229668471470236, 5.631624906289047], [8.784526197417744, 8.146303790087465, 7.532146355685134, 6.942053894210745, 6.376026405664308, 5.834063890045815, 5.316166347355269, 4.82233377759267, 4.352566180758018, 3.906863556851313, 3.485225905872553, 3.087653227821741, 2.714145522698876, 2.3647027905039573, 2.039325031236985, 1.738012244897959, 1.4607644314868806, 1.2075815910037486, 0.9784637234485632, 0.7734108288213244, 0.5924229071220325, 0.4354999583506874, 0.3026419825072884, 0.19384897959183667, 0.10912094960433152, 0.048457892544773076, 0.011859808413161234, -0.0006733027905039546, 0.0108585589337776, 0.0464553935860058, 0.10611720116618094, 0.1898439816743025, 0.2976357351103708, 0.42949246147438563, 0.585414160766347, 0.7654008329862562, 0.969452478134111, 1.1975690962099126, 1.4497506872136618, 1.7259972511453567, 2.0263087880049984, 2.3506852977925865, 2.6991267805081214, 3.071633236151602, 3.4682046647230345, 3.8888410662224095, 4.3335424406497305, 4.802308788005, 5.295140108288214, 5.812036401499376], [8.563879800083297, 7.933895626822159, 7.327976426488965, 6.746122199083715, 6.1883329446064135, 5.654608663057061, 5.144949354435652, 4.659355018742191, 4.1978256559766765, 3.7603612661391095, 3.3469618492294875, 2.9576274052478135, 2.5923579341940854, 2.251153436068305, 1.9340139108704706, 1.6409393586005827, 1.371929779258642, 1.1269851728446483, 0.9061055393586004, 0.7092908788004995, 0.5365411911703455, 0.3878564764681383, 0.2632367346938772, 0.16268196584756334, 0.0861921699291961, 0.03376734693877551, 0.00540749687630156, 0.0011126197417742833, 0.02088271553519372, 0.06471778425655979, 0.13261782590587287, 0.22458284048313232, 0.3406128279883384, 0.4807077884214913, 0.6448677217825907, 0.8330926280716374, 1.0453825072886302, 1.2817373594335697, 1.5421571845064568, 1.8266419825072895, 2.135191753436069, 2.467806497292795, 2.824486214077468, 3.2052309037900875, 3.6100405664306563, 4.038915201999169, 4.491854810495629, 4.968859391920035, 5.469928946272388, 5.995063473552688], [8.345848979591837, 7.724103040399834, 7.126422074135778, 6.552806080799666, 6.003255060391504, 5.477769012911288, 4.976347938359017, 4.498991836734693, 4.045700708038318, 3.6164745522698882, 3.211313369429404, 2.8302171595168675, 2.4731859225322785, 2.1402196584756354, 1.831318367346939, 1.5464820491461888, 1.285710703873386, 1.04900433152853, 0.83636293211162, 0.647786505622657, 0.4832750520616409, 0.34282857142857154, 0.2264470637234483, 0.13413052894627225, 0.06587896709704286, 0.021692378175760113, 0.0015707621824240018, 0.005514119117034602, 0.033522448979591876, 0.0855957517700958, 0.16173402748854676, 0.261937276134944, 0.38620549770928797, 0.5345386922115786, 0.7069368596418159, 0.9034000000000006, 1.123928113286131, 1.3685211995002082, 1.6371792586422333, 1.929902290712204, 2.2466902957101214, 2.5875432736359856, 2.952461224489796, 3.3414441482715533, 3.7544920449812613, 4.191604914618911, 4.652782757184508, 5.138025572678054, 5.647333361099544, 6.180706122448981], [8.130433735943358, 7.516926030820493, 6.927483298625575, 6.362105539358601, 5.8207927530195755, 5.303544939608497, 4.8103620991253635, 4.341244231570179, 3.8961913369429406, 3.4752034152436493, 3.0782804664723034, 2.705422490628904, 2.356629487713453, 2.031901457725948, 1.731238400666389, 1.454640316534777, 1.2021072053311121, 0.9736390670553938, 0.7692359017076219, 0.5888977092877966, 0.43262448979591833, 0.3004162432319868, 0.19227296959600143, 0.10819466888796325, 0.0481813411078717, 0.012232986255726799, 0.0003496043315285302, 0.01253119533527701, 0.048777759266972136, 0.10908929612661389, 0.19346580591420265, 0.30190728862973787, 0.4344137442732196, 0.590985172844648, 0.7716215743440231, 0.9763229487713457, 1.2050892961266144, 1.457920616409829, 1.7348169096209922, 2.035778175760101, 2.3608044148271556, 2.7098956268221577, 3.083051811745106, 3.480272969596001, 3.9015591003748473, 4.3469102040816345, 4.816326280716369, 5.309807330279052, 5.827353352769681, 6.368964348188255], [7.9176340691378595, 7.312364598084132, 6.731160099958352, 6.174020574760516, 5.640946022490629, 5.131936443148689, 4.646991836734694, 4.186112203248646, 3.7492975426905457, 3.3365478550603918, 2.9478631403581836, 2.5832433985839227, 2.242688629737609, 1.926198833819242, 1.6337740108288212, 1.3654141607663468, 1.12111928363182, 0.9008893794252395, 0.7047244481466054, 0.532624489795918, 0.3845895043731777, 0.26061949187838396, 0.16071445231153653, 0.08487438567263624, 0.03309929196168258, 0.005389171178675541, 0.0017440233236151528, 0.02216384839650154, 0.06664864639733457, 0.1351984173261142, 0.2278131611828409, 0.34449287796751404, 0.4852375676801336, 0.6500472303206999, 0.8389218658892129, 1.0518614743856736, 1.2888660558100795, 1.5499356101624326, 1.8350701374427336, 2.1442696376509804, 2.477534110787173, 2.8348635568513125, 3.216257975843399, 3.621717367763432, 4.051241732611415, 4.5048310703873415, 4.982485381091214, 5.484204664723035, 6.009988921282801, 6.5598381507705135], [7.707449979175344, 7.110418742190755, 6.537452478134112, 5.988551187005414, 5.463714868804665, 4.962943523531863, 4.486237151187005, 4.033595751770095, 3.605019325281133, 3.200507871720117, 2.820061391087047, 2.463679883381924, 2.131363348604748, 1.8231117867555189, 1.5389251978342355, 1.2788035818408994, 1.0427469387755102, 0.8307552686380675, 0.6428285714285713, 0.4789668471470218, 0.3391700957934193, 0.22343831736776346, 0.13177151187005387, 0.06416967930029141, 0.020632819658475597, 0.0011609329446063965, 0.005754019158683871, 0.03441207830070814, 0.08713511037067895, 0.1639231153685964, 0.26477609329446106, 0.3896940441482719, 0.5386769679300296, 0.7117248646397336, 0.9088377342773846, 1.1300155768429827, 1.3752583923365267, 1.6445661807580179, 1.9379389421074567, 2.2553766763848406, 2.596879383590172, 2.9624470637234492, 3.3520797167846736, 3.7657773427738435, 4.203539941690965, 4.665367513536029, 5.15126005830904, 5.661217576009999, 6.1952400666389025, 6.753327530195753], [7.49988146605581, 6.911088463140359, 6.346360433152855, 5.805697376093295, 5.2890992919616835, 4.796566180758018, 4.328098042482298, 3.883694877134527, 3.4633566847147024, 3.067083465222824, 2.6948752186588925, 2.3467319450229067, 2.022653644314869, 1.7226403165347774, 1.4466919616826321, 1.1948085797584338, 0.9669901707621824, 0.7632367346938778, 0.5835482715535193, 0.4279247813411077, 0.296366264056643, 0.18887271970012498, 0.10544414827155332, 0.046080549770928694, 0.01078192419825072, -0.0004517284464806426, 0.01237959183673465, 0.04927588504789682, 0.11023715118700547, 0.1952633902540608, 0.30435460224906324, 0.43751078717201214, 0.5947319450229075, 0.7760180758017493, 0.9813691795085377, 1.2107852561432741, 1.4642663057059564, 1.741812328196585, 2.0434233236151615, 2.3690992919616836, 2.7188402332361528, 3.092646147438568, 3.4905170345689296, 3.912452894627238, 4.358453727613497, 4.8285195335277, 5.322650312369848, 5.840846064139944, 6.383106788837987, 6.949432486463974], [7.29492852977926, 6.714373760932945, 6.157883965014579, 5.625459142024156, 5.117099291961683, 4.632804414827157, 4.172574510620574, 3.7364095793419407, 3.324309620991254, 2.9362746355685134, 2.5723046230737197, 2.2323995835068717, 1.9165595168679719, 1.6247844231570183, 1.3570743023740108, 1.11342915451895, 0.8938489795918367, 0.6983337775926699, 0.5268835485214494, 0.37949829237817556, 0.2561780091628488, 0.1569226988754686, 0.0817323615160348, 0.030606997084548018, 0.003546605581007903, 0.0005511870054143997, 0.021620741357767537, 0.06675526863806758, 0.13595476884631413, 0.22921924198250726, 0.3465486880466476, 0.4879431070387342, 0.6534024989587675, 0.8429268638067471, 1.0565162015826737, 1.2941705122865481, 1.5558897959183675, 1.8416740524781336, 2.151523281965849, 2.4854374843815084, 2.843416659725115, 3.225460807996668, 3.6315699291961683, 4.061744023323615, 4.515983090379012, 4.994287130362351, 5.496656143273638, 6.023090129112871, 6.573589087880051, 7.148153019575179], [7.09259117034569, 6.520274635568516, 5.972023073719286, 5.447836484798001, 4.947714868804665, 4.471658225739277, 4.019666555601832, 3.5917398583923363, 3.1878781341107874, 2.808081382757185, 2.4523496043315287, 2.120682798833819, 1.8130809662640566, 1.5295441066222415, 1.2700722199083716, 1.0346653061224487, 0.8233233652644733, 0.6360463973344443, 0.47283440233236157, 0.33368738025822564, 0.21860533111203664, 0.12758825489379433, 0.0606361516034984, 0.01774902124114945, -0.0010731361932528327, 0.004169679300291551, 0.03347746772178253, 0.08685022907122036, 0.1642879633486048, 0.26579067055393585, 0.3913583506872142, 0.5409910037484384, 0.7146886297376094, 0.9124512286547274, 1.1342788004997915, 1.3801713452728037, 1.6501288629737616, 1.9441513536026656, 2.262238817159518, 2.604391253644316, 2.97060866305706, 3.360891045397751, 3.7752384006663893, 4.213650728862973, 4.676128029987508, 5.162670304039986, 5.67327755102041, 6.207949770928781, 6.766686963765098, 7.349489129529364], [6.892869387755102, 6.328791087047065, 5.788777759266973, 5.272829404414827, 4.780946022490629, 4.313127613494378, 3.869374177426072, 3.449685714285714, 3.054062224073302, 2.682503706788838, 2.3350101624323196, 2.0115815910037482, 1.7122179925031236, 1.4369193669304459, 1.185685714285714, 0.9585170345689292, 0.7554133277800915, 0.5763745939192004, 0.4214008329862555, 0.2904920449812576, 0.18364822990420648, 0.10086938775510201, 0.04215551853394403, 0.00750662224073298, -0.0030773011245314452, 0.010403748438150728, 0.04794977092877961, 0.10956076634735551, 0.1952367346938776, 0.3049776759683465, 0.4387835901707627, 0.5966544773011251, 0.7785903373594341, 0.9845911703456897, 1.2146569762598918, 1.468787755102042, 1.7469835068721373, 2.0492442315701798, 2.3755699291961703, 2.7259605997501057, 3.1004162432319884, 3.4989368596418173, 3.9215224489795917, 4.368173011245314, 4.838888546438987, 5.333669054560604, 5.852514535610165, 6.395424989587673, 6.9624004164931295, 7.55344081632653], [6.6957631820074965, 6.139923115368598, 5.6081480216576445, 5.100437900874635, 4.616792753019576, 4.157212578092462, 3.721697376093294, 3.3102471470220736, 2.9228618908788007, 2.559541607663474, 2.2202862973760933, 1.9050959600166597, 1.6139705955851729, 1.3469102040816328, 1.103914785506039, 0.8849843398583921, 0.690118867138692, 0.5193183673469389, 0.3725828404831319, 0.24991228654727182, 0.1513067055393585, 0.07676609745939195, 0.026290462307371837, -0.00012019991670142449, -0.0024658892128279764, 0.019253394418992098, 0.0650376509787588, 0.13488688046647257, 0.22880108288213252, 0.3467802582257392, 0.4888244064972933, 0.6549335276967932, 0.8451076218242404, 1.0593466888796335, 1.2976507288629737, 1.560019741774262, 1.846453727613495, 2.156952686380675, 2.4915166180758033, 2.8501455226988774, 3.2328394002498966, 3.639598250728864, 4.070422074135776, 4.525310870470637, 5.0042646397334485, 5.507283381924201, 6.034367097042901, 6.585515785089548, 7.160729446064142, 7.760008079966682], [6.501272553102875, 5.953670720533113, 5.4301338608912975, 4.930661974177426, 4.455255060391504, 4.003913119533529, 3.5766361516034983, 3.1734241566014156, 2.7942771345272805, 2.4391950853810918, 2.1081780091628493, 1.8012259058725528, 1.518338775510204, 1.2595166180758022, 1.0247594335693462, 0.8140672219908369, 0.627439983340275, 0.4648777176176594, 0.3263804248229904, 0.21194810495626804, 0.12158075801749268, 0.055278384006663905, 0.013040982923781641, -0.005131445231153664, 0.0007610995418575461, 0.030718617242815494, 0.0847411078717199, 0.16282857142857166, 0.26498100791336954, 0.39119841732611405, 0.5414807996668061, 0.7158281549354439, 0.9142404831320284, 1.13671778425656, 1.383260058309038, 1.6538673052894637, 1.948539525197835, 2.267276718034153, 2.610078883798419, 2.9769460224906292, 3.367878134110788, 3.7828752186588916, 4.221937276134944, 4.6850643065389415, 5.172256309870891, 5.683513286130781, 6.218835235318619, 6.778222157434403, 7.361674052478136, 7.9691909204498135], [6.309397501041233, 5.770033902540608, 5.254735276967931, 4.763501624323197, 4.296332944606414, 3.853229237817576, 3.4341905039566845, 3.0392167430237396, 2.668307955018742, 2.321464139941691, 1.9986852977925862, 1.6999714285714276, 1.4253225322782173, 1.174738608912953, 0.9482196584756349, 0.7457656809662636, 0.5673766763848395, 0.41305264473136183, 0.28279358600583077, 0.1765995002082463, 0.0944703873386088, 0.03640624739691789, 0.0024070803831735543, -0.007527113702623933, 0.006603665139525261, 0.04479941690962097, 0.10706014160766342, 0.19338583923365293, 0.30377650978758897, 0.43823215326947107, 0.5967527696793011, 0.7793383590170768, 0.9859889212827997, 1.2167044564764686, 1.4714849645980845, 1.7503304456476478, 2.0532408996251563, 2.380216326530613, 2.7312567263640166, 3.1063620991253664, 3.505532444814662, 3.928767763431904, 4.376068054977093, 4.847433319450229, 5.342863556851316, 5.8623587671803445, 6.40591895043732, 6.973544106622245, 7.5652342357351126, 8.18098933777593], [6.120138025822574, 5.589012661391087, 5.081952269887548, 4.598956851311954, 4.140026405664306, 3.7051609329446067, 3.294360433152853, 2.907624906289046, 2.544954352353186, 2.206348771345273, 1.8918081632653059, 1.6013325281132857, 1.3349218658892126, 1.0925761765930861, 0.8742954602249061, 0.6800797167846727, 0.5099289462723864, 0.3638431486880467, 0.2418223240316533, 0.14386647230320682, 0.0699755935027071, 0.020149687630154067, -0.00561124531445234, -0.00730720533111201, 0.015061807580174946, 0.061495793419408695, 0.13199475218658874, 0.22655868388171618, 0.3451875885047899, 0.4878814660558103, 0.6546403165347779, 0.8454641399416918, 1.0603529362765522, 1.2993067055393588, 1.5623254477301125, 1.8494091628488136, 2.1605578508954615, 2.4957715118700543, 2.855050145772596, 3.238393752603084, 3.6458023323615176, 4.077275885047898, 4.532814410662225, 5.012417909204498, 5.5160863806747225, 6.04381982507289, 6.595618242399002, 7.171481632653064, 7.77140999583507, 8.395403331945024], [5.933494127446898, 5.41060699708455, 4.911784839650147, 4.43702765514369, 3.9863354435651814, 3.559708204914619, 3.1571459391920027, 2.778648646397334, 2.4242163265306123, 2.093848979591837, 1.7875466055810074, 1.505309204498125, 1.2471367763431902, 1.0130293211162018, 0.8029868388171594, 0.6170093294460638, 0.4550967930029154, 0.3172492294877136, 0.20346663890045807, 0.11374902124114938, 0.0480963765097876, 0.006508704706372326, -0.011013994169095986, -0.004471720116618005, 0.026135526863806713, 0.08080774677217828, 0.15954493960849636, 0.2623471053727615, 0.3892142440649734, 0.5401463556851311, 0.7151434402332371, 0.9142054977092884, 1.1373325281132864, 1.3845245314452315, 1.6557815077051226, 1.9511034568929626, 2.2704903790087467, 2.6139422740524787, 2.9814591420241587, 3.373040982923783, 3.788687796751355, 4.228399583506872, 4.692176343190337, 5.1800180758017484, 5.691924781341112, 6.2278964598084166, 6.787933111203668, 7.372034735526865, 7.980201332778011, 8.612432902957101], [5.749465805914204, 5.234816909620992, 4.744232986255728, 4.277714035818409, 3.8352600583090384, 3.4168710537276143, 3.0225470220741357, 2.6522879633486043, 2.3060938775510205, 1.9839647646813834, 1.6859006247396917, 1.4119014577259472, 1.16196726364015, 0.9360980424822993, 0.7342937942523947, 0.5565545189504371, 0.4028802165764265, 0.27327088713036246, 0.16772653061224474, 0.08624714702207381, 0.028832736359850064, -0.004516701374427501, -0.013801166180758107, 0.000979341940858025, 0.03982482299042067, 0.10273527696792972, 0.18971070387338596, 0.30075110370678937, 0.4358564764681385, 0.5950268221574346, 0.7782621407746777, 0.9855624323198668, 1.2169276967930036, 1.4723579341940858, 1.7518531445231154, 2.055413327780092, 2.383038483965015, 2.734728613077884, 3.1104837151187024, 3.510303790087465, 3.934188837984174, 4.38213885880883, 4.854153852561432, 5.350233819241983, 5.870378758850482, 6.414588671386925, 6.982863556851314, 7.575203415243651, 8.191608246563932, 8.832078050812164], [5.56805306122449, 5.061642399000418, 4.579296709704291, 4.12101599333611, 3.686800249895877, 3.276649479383591, 2.89056368179925, 2.528542857142857, 2.190587005414411, 1.8766961266139115, 1.586870220741358, 1.3211092877967512, 1.0794133277800915, 0.8617823406913789, 0.6682163265306121, 0.49871528529779263, 0.3532792169929197, 0.2319081216159934, 0.13460199916701376, 0.06136084964598065, 0.012184673052894612, -0.012926530612244802, -0.013972761349437701, 0.009045980841316137, 0.05612969596001649, 0.1272783840066638, 0.22249204498125752, 0.3417706788837984, 0.48511428571428605, 0.6525228654727195, 0.8439964181591009, 1.0595349437734285, 1.2991384423157022, 1.5628069137859226, 1.8505403581840902, 2.162338775510205, 2.4982021657642655, 2.8581305289462726, 3.242123865056228, 3.6501821740941285, 4.082305456059975, 4.5384937109537695, 5.018746938775511, 5.5230651395251975, 6.051448313202837, 6.603896459808416, 7.180409579341944, 7.780987671803418, 8.40563073719284, 9.054338775510205], [5.38925589337776, 4.891083465222826, 4.416976009995837, 3.966933527696793, 3.540956018325698, 3.13904348188255, 2.7611959183673465, 2.4074133277800915, 2.077695710120783, 1.7720430653894217, 1.490455393586006, 1.2329326947105372, 0.9994749687630154, 0.7900822157434406, 0.604754435651812, 0.44349162848812984, 0.3062937942523949, 0.19316093294460662, 0.10409304456476465, 0.039090129112869465, -0.001847813411078758, -0.018720783007080244, -0.011528779675135548, 0.01972819658475622, 0.0750501457725945, 0.15443706788837974, 0.2578889629321115, 0.3854058309037902, 0.5369876718034152, 0.7126344856309867, 0.9123462723865061, 1.1361230320699711, 1.3839647646813829, 1.6558714702207413, 1.951843148688046, 2.2718798000832994, 2.615981424406498, 2.984148021657643, 3.3763795918367356, 3.792676134943775, 4.233037650978758, 4.697464139941692, 5.185955601832569, 5.698512036651394, 6.235133444398171, 6.795819825072889, 7.380571178675554, 7.9893875052061665, 8.622268804664724, 9.27921507705123], [5.21307430237401, 4.723140108288213, 4.257270887130362, 3.8154666389004572, 3.3977273635985, 3.00405306122449, 2.6344437317784246, 2.2888993752603075, 1.967419991670137, 1.6700055810079129, 1.3966561432736355, 1.1473716784673045, 0.9221521865889207, 0.7209976676384835, 0.5439081216159929, 0.390883548521449, 0.26192394835485194, 0.1570293211162015, 0.07619966680549761, 0.01943498542274036, -0.013264723032070047, -0.021899458558933937, -0.0064692211578508685, 0.03302598917117883, 0.09658617242815515, 0.1842113286130782, 0.2959014577259478, 0.43165655976676454, 0.5914766347355271, 0.7753616826322371, 0.9833117034568937, 1.2153266972094972, 1.471406663890047, 1.7515516034985428, 2.055761516034986, 2.384036401499377, 2.736376259891714, 3.1127810912119958, 3.5132508954602266, 3.9377856726364047, 4.386385422740527, 4.859050145772596, 5.355779841732613, 5.876574510620575, 6.421434152436488, 6.990358767180346, 7.5833483548521485, 8.2004029154519, 8.841522448979596, 9.506706955435238], [5.039508288213244, 4.557812328196585, 4.100181341107872, 3.6666153269471047, 3.2571142857142856, 2.8716782174094124, 2.5103071220324855, 2.1730009995835062, 1.8597598500624735, 1.5705836734693877, 1.3054724698042475, 1.0644262390670547, 0.8474449812578089, 0.6545286963765097, 0.4856773844231569, 0.3408910453977505, 0.2201696793002913, 0.12351328613077883, 0.05092186588921266, 0.0023954185755934443, -0.022066055810079144, -0.022462557267805217, 0.00120591420241567, 0.048939358600583516, 0.12073777592669721, 0.2166011661807581, 0.3365295293627655, 0.4805228654727205, 0.6485811745106211, 0.8407044564764687, 1.0568927113702633, 1.2971459391920042, 1.561464139941692, 1.849847313619326, 2.162295460224907, 2.498808579758436, 2.8593866722199097, 3.2440297376093303, 3.6527377759267, 4.085510787172014, 4.542348771345273, 5.023251728446482, 5.528219658475637, 6.057252561432735, 6.610350437317789, 7.187513286130782, 7.788741107871726, 8.414033902540613, 9.063391670137445, 9.736814410662225], [4.86855785089546, 4.395100124947939, 3.9457073719283637, 3.520379591836734, 3.1191167846730528, 2.741918950437318, 2.3887860891295283, 2.059718200749687, 1.754715285297792, 1.473777342773844, 1.2169043731778422, 0.984096376509787, 0.7753533527696788, 0.5906753019575177, 0.4300622240733023, 0.29351411911703407, 0.1810309870887128, 0.09261282798833803, 0.028259641815910008, -0.01202857142857161, -0.028251811745106492, -0.02041007913369408, 0.0114966264056644, 0.06746830487296962, 0.1475049562682218, 0.25160658059142027, 0.3797731778425657, 0.5320047480216585, 0.708301291128697, 0.908662807163682, 1.1330892961266144, 1.3815807580174937, 1.6541371928363193, 1.9507586005830908, 2.271444981257809, 2.6161963348604758, 2.9850126613910875, 3.3778939608496463, 3.7948402332361546, 4.235851478550606, 4.700927696793005, 5.190068887963349, 5.703275052061642, 6.24054618908788, 6.80188229904207, 7.387283381924204, 7.996749437734279, 8.630280466472307, 9.287876468138279, 9.969537442732197], [4.700222990420658, 4.235003498542274, 3.793848979591837, 3.3767594335693456, 2.9837348604748017, 2.614775260308205, 2.2698806330695542, 1.94905097875885, 1.652286297376093, 1.3795865889212826, 1.1309518533944185, 0.9063820907955014, 0.7058773011245311, 0.5294374843815075, 0.3770626405664306, 0.24875276967930005, 0.1445078717201167, 0.06432794668887953, 0.008212994585589106, -0.023836984589754362, -0.031821990837151315, -0.01574202415660131, 0.024402915451895213, 0.08861282798833847, 0.17688771345272825, 0.2892275718450643, 0.4256324031653478, 0.5861022074135778, 0.7706369845897547, 0.9792367346938771, 1.2119014577259488, 1.4686311536859655, 1.7494258225739285, 2.0542854643898383, 2.3832100791336943, 2.736199666805499, 3.113254227405249, 3.5143737609329455, 3.93955826738859, 4.38880774677218, 4.862122199083716, 5.359501624323199, 5.880946022490629, 6.426455393586007, 6.996029737609335, 7.589669054560604, 8.207373344439821, 8.849142607246982, 9.514976842982092, 10.204876051645149], [4.534503706788838, 4.077522448979592, 3.644606164098293, 3.235754852144939, 2.8509685131195335, 2.4902471470220746, 2.1535907538525607, 1.840999333610995, 1.5524728862973758, 1.2880114119117037, 1.0476149104539774, 0.831283381924198, 0.6390168263223657, 0.4708152436484796, 0.32667863390254037, 0.20660699708454788, 0.11060033319450235, 0.03865864223240334, -0.009218075801749048, -0.03302982090795514, -0.032776593086214056, -0.008458392336526455, 0.039924781341108107, 0.11237292794668918, 0.208886047480217, 0.3294641399416909, 0.4741072053311117, 0.6428152436484806, 0.8355882548937945, 1.0524262390670556, 1.2933291961682643, 1.5582971261974192, 1.8473300291545196, 2.1604279050395676, 2.497590753852561, 2.8588185755935034, 3.2441113702623907, 3.6534691378592257, 4.086891878384009, 4.544379591836737, 5.025932278217413, 5.531549937526031, 6.061232569762598, 6.614980174927115, 7.192792753019578, 7.794670304039988, 8.420612827988343, 9.070620324864642, 9.74469279466889, 10.442830237401086], [4.3714, 3.9226569762598924, 3.497978925447731, 3.097365847563515, 2.720817742607247, 2.3683346105789256, 2.03991645147855, 1.735563265306122, 1.4552750520616407, 1.1990518117451066, 0.9668935443565181, 0.7588002498958764, 0.574771928363182, 0.4148085797584339, 0.27891020408163236, 0.1670768013327777, 0.07930837151186987, 0.015604914618908783, -0.024033569346105788, -0.03960708038317384, -0.031115618492294717, 0.0014408163265309248, 0.05806222407330308, 0.13874860474802198, 0.24349995835068738, 0.3723162848812991, 0.5251975843398582, 0.702143856726364, 0.9031551020408171, 1.1282313202832146, 1.377372511453562, 1.6505786755518548, 1.9478498125780934, 2.2691859225322784, 2.6145870054144105, 2.98405306122449, 3.3775840899625176, 3.7951800916284895, 4.23684106622241, 4.702567013744275, 5.192357934194088, 5.706213827571846, 6.244134693877551, 6.806120533111201, 7.392171345272807, 8.002287130362353, 8.636467888379846, 9.294713619325284, 9.97702432319867, 10.683400000000002]]}],\n",
       "                        {\"scene\": {\"xaxis\": {\"title\": {\"text\": \"w1\"}}, \"yaxis\": {\"title\": {\"text\": \"w2\"}}, \"zaxis\": {\"title\": {\"text\": \"Expected Value\"}}}, \"template\": {\"data\": {\"bar\": [{\"error_x\": {\"color\": \"#2a3f5f\"}, \"error_y\": {\"color\": \"#2a3f5f\"}, \"marker\": {\"line\": {\"color\": \"#E5ECF6\", \"width\": 0.5}}, \"type\": \"bar\"}], \"barpolar\": [{\"marker\": {\"line\": {\"color\": \"#E5ECF6\", \"width\": 0.5}}, \"type\": \"barpolar\"}], \"carpet\": [{\"aaxis\": {\"endlinecolor\": \"#2a3f5f\", \"gridcolor\": \"white\", \"linecolor\": \"white\", \"minorgridcolor\": \"white\", \"startlinecolor\": \"#2a3f5f\"}, \"baxis\": {\"endlinecolor\": \"#2a3f5f\", \"gridcolor\": \"white\", \"linecolor\": \"white\", \"minorgridcolor\": \"white\", \"startlinecolor\": \"#2a3f5f\"}, \"type\": \"carpet\"}], \"choropleth\": [{\"colorbar\": {\"outlinewidth\": 0, \"ticks\": \"\"}, \"type\": \"choropleth\"}], \"contour\": [{\"colorbar\": {\"outlinewidth\": 0, \"ticks\": \"\"}, \"colorscale\": [[0.0, \"#0d0887\"], [0.1111111111111111, \"#46039f\"], [0.2222222222222222, \"#7201a8\"], [0.3333333333333333, \"#9c179e\"], [0.4444444444444444, \"#bd3786\"], [0.5555555555555556, \"#d8576b\"], [0.6666666666666666, \"#ed7953\"], [0.7777777777777778, \"#fb9f3a\"], [0.8888888888888888, \"#fdca26\"], [1.0, \"#f0f921\"]], \"type\": \"contour\"}], \"contourcarpet\": [{\"colorbar\": {\"outlinewidth\": 0, \"ticks\": \"\"}, \"type\": \"contourcarpet\"}], \"heatmap\": [{\"colorbar\": {\"outlinewidth\": 0, \"ticks\": \"\"}, \"colorscale\": [[0.0, \"#0d0887\"], [0.1111111111111111, \"#46039f\"], [0.2222222222222222, \"#7201a8\"], [0.3333333333333333, \"#9c179e\"], [0.4444444444444444, \"#bd3786\"], [0.5555555555555556, \"#d8576b\"], [0.6666666666666666, \"#ed7953\"], [0.7777777777777778, \"#fb9f3a\"], [0.8888888888888888, \"#fdca26\"], [1.0, \"#f0f921\"]], \"type\": \"heatmap\"}], \"heatmapgl\": [{\"colorbar\": {\"outlinewidth\": 0, \"ticks\": \"\"}, \"colorscale\": [[0.0, \"#0d0887\"], [0.1111111111111111, \"#46039f\"], [0.2222222222222222, \"#7201a8\"], [0.3333333333333333, \"#9c179e\"], [0.4444444444444444, \"#bd3786\"], [0.5555555555555556, \"#d8576b\"], [0.6666666666666666, \"#ed7953\"], [0.7777777777777778, \"#fb9f3a\"], [0.8888888888888888, \"#fdca26\"], [1.0, \"#f0f921\"]], \"type\": \"heatmapgl\"}], \"histogram\": [{\"marker\": {\"colorbar\": {\"outlinewidth\": 0, \"ticks\": \"\"}}, \"type\": \"histogram\"}], \"histogram2d\": [{\"colorbar\": {\"outlinewidth\": 0, \"ticks\": \"\"}, \"colorscale\": [[0.0, \"#0d0887\"], [0.1111111111111111, \"#46039f\"], [0.2222222222222222, \"#7201a8\"], [0.3333333333333333, \"#9c179e\"], [0.4444444444444444, \"#bd3786\"], [0.5555555555555556, \"#d8576b\"], [0.6666666666666666, \"#ed7953\"], [0.7777777777777778, \"#fb9f3a\"], [0.8888888888888888, \"#fdca26\"], [1.0, \"#f0f921\"]], \"type\": \"histogram2d\"}], \"histogram2dcontour\": [{\"colorbar\": {\"outlinewidth\": 0, \"ticks\": \"\"}, \"colorscale\": [[0.0, \"#0d0887\"], [0.1111111111111111, \"#46039f\"], [0.2222222222222222, \"#7201a8\"], [0.3333333333333333, \"#9c179e\"], [0.4444444444444444, \"#bd3786\"], [0.5555555555555556, \"#d8576b\"], [0.6666666666666666, \"#ed7953\"], [0.7777777777777778, \"#fb9f3a\"], [0.8888888888888888, \"#fdca26\"], [1.0, \"#f0f921\"]], \"type\": \"histogram2dcontour\"}], \"mesh3d\": [{\"colorbar\": {\"outlinewidth\": 0, \"ticks\": \"\"}, \"type\": \"mesh3d\"}], \"parcoords\": [{\"line\": {\"colorbar\": {\"outlinewidth\": 0, \"ticks\": \"\"}}, \"type\": \"parcoords\"}], \"pie\": [{\"automargin\": true, \"type\": \"pie\"}], \"scatter\": [{\"marker\": {\"colorbar\": {\"outlinewidth\": 0, \"ticks\": \"\"}}, \"type\": \"scatter\"}], \"scatter3d\": [{\"line\": {\"colorbar\": {\"outlinewidth\": 0, \"ticks\": \"\"}}, \"marker\": {\"colorbar\": {\"outlinewidth\": 0, \"ticks\": \"\"}}, \"type\": \"scatter3d\"}], \"scattercarpet\": [{\"marker\": {\"colorbar\": {\"outlinewidth\": 0, \"ticks\": \"\"}}, \"type\": \"scattercarpet\"}], \"scattergeo\": [{\"marker\": {\"colorbar\": {\"outlinewidth\": 0, \"ticks\": \"\"}}, \"type\": \"scattergeo\"}], \"scattergl\": [{\"marker\": {\"colorbar\": {\"outlinewidth\": 0, \"ticks\": \"\"}}, \"type\": \"scattergl\"}], \"scattermapbox\": [{\"marker\": {\"colorbar\": {\"outlinewidth\": 0, \"ticks\": \"\"}}, \"type\": \"scattermapbox\"}], \"scatterpolar\": [{\"marker\": {\"colorbar\": {\"outlinewidth\": 0, \"ticks\": \"\"}}, \"type\": \"scatterpolar\"}], \"scatterpolargl\": [{\"marker\": {\"colorbar\": {\"outlinewidth\": 0, \"ticks\": \"\"}}, \"type\": \"scatterpolargl\"}], \"scatterternary\": [{\"marker\": {\"colorbar\": {\"outlinewidth\": 0, \"ticks\": \"\"}}, \"type\": \"scatterternary\"}], \"surface\": [{\"colorbar\": {\"outlinewidth\": 0, \"ticks\": \"\"}, \"colorscale\": [[0.0, \"#0d0887\"], [0.1111111111111111, \"#46039f\"], [0.2222222222222222, \"#7201a8\"], [0.3333333333333333, \"#9c179e\"], [0.4444444444444444, \"#bd3786\"], [0.5555555555555556, \"#d8576b\"], [0.6666666666666666, \"#ed7953\"], [0.7777777777777778, \"#fb9f3a\"], [0.8888888888888888, \"#fdca26\"], [1.0, \"#f0f921\"]], \"type\": \"surface\"}], \"table\": [{\"cells\": {\"fill\": {\"color\": \"#EBF0F8\"}, \"line\": {\"color\": \"white\"}}, \"header\": {\"fill\": {\"color\": \"#C8D4E3\"}, \"line\": {\"color\": \"white\"}}, \"type\": \"table\"}]}, \"layout\": {\"annotationdefaults\": {\"arrowcolor\": \"#2a3f5f\", \"arrowhead\": 0, \"arrowwidth\": 1}, \"coloraxis\": {\"colorbar\": {\"outlinewidth\": 0, \"ticks\": \"\"}}, \"colorscale\": {\"diverging\": [[0, \"#8e0152\"], [0.1, \"#c51b7d\"], [0.2, \"#de77ae\"], [0.3, \"#f1b6da\"], [0.4, \"#fde0ef\"], [0.5, \"#f7f7f7\"], [0.6, \"#e6f5d0\"], [0.7, \"#b8e186\"], [0.8, \"#7fbc41\"], [0.9, \"#4d9221\"], [1, \"#276419\"]], \"sequential\": [[0.0, \"#0d0887\"], [0.1111111111111111, \"#46039f\"], [0.2222222222222222, \"#7201a8\"], [0.3333333333333333, \"#9c179e\"], [0.4444444444444444, \"#bd3786\"], [0.5555555555555556, \"#d8576b\"], [0.6666666666666666, \"#ed7953\"], [0.7777777777777778, \"#fb9f3a\"], [0.8888888888888888, \"#fdca26\"], [1.0, \"#f0f921\"]], \"sequentialminus\": [[0.0, \"#0d0887\"], [0.1111111111111111, \"#46039f\"], [0.2222222222222222, \"#7201a8\"], [0.3333333333333333, \"#9c179e\"], [0.4444444444444444, \"#bd3786\"], [0.5555555555555556, \"#d8576b\"], [0.6666666666666666, \"#ed7953\"], [0.7777777777777778, \"#fb9f3a\"], [0.8888888888888888, \"#fdca26\"], [1.0, \"#f0f921\"]]}, \"colorway\": [\"#636efa\", \"#EF553B\", \"#00cc96\", \"#ab63fa\", \"#FFA15A\", \"#19d3f3\", \"#FF6692\", \"#B6E880\", \"#FF97FF\", \"#FECB52\"], \"font\": {\"color\": \"#2a3f5f\"}, \"geo\": {\"bgcolor\": \"white\", \"lakecolor\": \"white\", \"landcolor\": \"#E5ECF6\", \"showlakes\": true, \"showland\": true, \"subunitcolor\": \"white\"}, \"hoverlabel\": {\"align\": \"left\"}, \"hovermode\": \"closest\", \"mapbox\": {\"style\": \"light\"}, \"paper_bgcolor\": \"white\", \"plot_bgcolor\": \"#E5ECF6\", \"polar\": {\"angularaxis\": {\"gridcolor\": \"white\", \"linecolor\": \"white\", \"ticks\": \"\"}, \"bgcolor\": \"#E5ECF6\", \"radialaxis\": {\"gridcolor\": \"white\", \"linecolor\": \"white\", \"ticks\": \"\"}}, \"scene\": {\"xaxis\": {\"backgroundcolor\": \"#E5ECF6\", \"gridcolor\": \"white\", \"gridwidth\": 2, \"linecolor\": \"white\", \"showbackground\": true, \"ticks\": \"\", \"zerolinecolor\": \"white\"}, \"yaxis\": {\"backgroundcolor\": \"#E5ECF6\", \"gridcolor\": \"white\", \"gridwidth\": 2, \"linecolor\": \"white\", \"showbackground\": true, \"ticks\": \"\", \"zerolinecolor\": \"white\"}, \"zaxis\": {\"backgroundcolor\": \"#E5ECF6\", \"gridcolor\": \"white\", \"gridwidth\": 2, \"linecolor\": \"white\", \"showbackground\": true, \"ticks\": \"\", \"zerolinecolor\": \"white\"}}, \"shapedefaults\": {\"line\": {\"color\": \"#2a3f5f\"}}, \"ternary\": {\"aaxis\": {\"gridcolor\": \"white\", \"linecolor\": \"white\", \"ticks\": \"\"}, \"baxis\": {\"gridcolor\": \"white\", \"linecolor\": \"white\", \"ticks\": \"\"}, \"bgcolor\": \"#E5ECF6\", \"caxis\": {\"gridcolor\": \"white\", \"linecolor\": \"white\", \"ticks\": \"\"}}, \"title\": {\"x\": 0.05}, \"xaxis\": {\"automargin\": true, \"gridcolor\": \"white\", \"linecolor\": \"white\", \"ticks\": \"\", \"title\": {\"standoff\": 15}, \"zerolinecolor\": \"white\", \"zerolinewidth\": 2}, \"yaxis\": {\"automargin\": true, \"gridcolor\": \"white\", \"linecolor\": \"white\", \"ticks\": \"\", \"title\": {\"standoff\": 15}, \"zerolinecolor\": \"white\", \"zerolinewidth\": 2}}}},\n",
       "                        {\"responsive\": true}\n",
       "                    ).then(function(){\n",
       "                            \n",
       "var gd = document.getElementById('5950b9df-7bd6-45b3-adb3-e942ccbee358');\n",
       "var x = new MutationObserver(function (mutations, observer) {{\n",
       "        var display = window.getComputedStyle(gd).display;\n",
       "        if (!display || display === 'none') {{\n",
       "            console.log([gd, 'removed!']);\n",
       "            Plotly.purge(gd);\n",
       "            observer.disconnect();\n",
       "        }}\n",
       "}});\n",
       "\n",
       "// Listen for the removal of the full notebook cells\n",
       "var notebookContainer = gd.closest('#notebook-container');\n",
       "if (notebookContainer) {{\n",
       "    x.observe(notebookContainer, {childList: true});\n",
       "}}\n",
       "\n",
       "// Listen for the clearing of the current output cell\n",
       "var outputEl = gd.closest('.output');\n",
       "if (outputEl) {{\n",
       "    x.observe(outputEl, {childList: true});\n",
       "}}\n",
       "\n",
       "                        })\n",
       "                };\n",
       "                });\n",
       "            </script>\n",
       "        </div>"
      ]
     },
     "metadata": {},
     "output_type": "display_data"
    }
   ],
   "source": [
    "fig2 = go.Figure(go.Surface(\n",
    "    contours = {\n",
    "        \"z\": {\"show\": True, \"start\": -2, \"end\": 14, \"size\": 0.1, \"color\":\"white\"}\n",
    "    },\n",
    "    x = w1,\n",
    "    y = w2,\n",
    "    z = var_w))\n",
    "\n",
    "fig2.update_layout(\n",
    "        scene = dict(\n",
    "                    xaxis_title='w1',\n",
    "                    yaxis_title='w2',\n",
    "                    zaxis_title='Expected Value'),\n",
    "        )\n",
    "\n",
    "fig2.show()"
   ]
  },
  {
   "cell_type": "code",
   "execution_count": null,
   "metadata": {
    "hidden": true
   },
   "outputs": [],
   "source": [
    "fig2 = go.Figure(data=[\n",
    "    go.Surface(x = w1, y = w2, z = var_w),\n",
    "])"
   ]
  },
  {
   "cell_type": "code",
   "execution_count": 120,
   "metadata": {
    "hidden": true
   },
   "outputs": [],
   "source": [
    "## Plot of a plane parallel to z,  for a expected value  = m \n",
    "\n",
    "# fig = go.Figure(data=[\n",
    "#     go.Surface(x = x_m, y = y_m[0], z = z_m, showscale=False, opacity=0.9)\n",
    "# ])\n",
    "\n",
    "# fig.show()"
   ]
  },
  {
   "cell_type": "code",
   "execution_count": 156,
   "metadata": {
    "hidden": true
   },
   "outputs": [
    {
     "data": {
      "application/vnd.plotly.v1+json": {
       "config": {
        "plotlyServerURL": "https://plot.ly"
       },
       "data": [
        {
         "type": "scatter",
         "x": [
          -5,
          -4.795918367346939,
          -4.591836734693878,
          -4.387755102040816,
          -4.183673469387755,
          -3.979591836734694,
          -3.7755102040816326,
          -3.571428571428571,
          -3.36734693877551,
          -3.163265306122449,
          -2.9591836734693877,
          -2.7551020408163263,
          -2.5510204081632653,
          -2.3469387755102042,
          -2.142857142857143,
          -1.9387755102040813,
          -1.7346938775510203,
          -1.5306122448979593,
          -1.3265306122448979,
          -1.1224489795918364,
          -0.9183673469387754,
          -0.7142857142857144,
          -0.5102040816326525,
          -0.3061224489795915,
          -0.1020408163265305,
          0.1020408163265305,
          0.3061224489795915,
          0.5102040816326534,
          0.7142857142857144,
          0.9183673469387754,
          1.1224489795918373,
          1.3265306122448983,
          1.5306122448979593,
          1.7346938775510203,
          1.9387755102040813,
          2.1428571428571432,
          2.3469387755102042,
          2.5510204081632653,
          2.755102040816327,
          2.959183673469388,
          3.163265306122449,
          3.36734693877551,
          3.571428571428571,
          3.775510204081632,
          3.979591836734695,
          4.183673469387756,
          4.387755102040817,
          4.591836734693878,
          4.795918367346939,
          5
         ],
         "y": [
          -0.6249999999999991,
          -0.701530612244898,
          -0.7780612244897969,
          -0.8545918367346944,
          -0.9311224489795933,
          -1.0076530612244894,
          -1.0841836734693882,
          -1.1607142857142865,
          -1.2372448979591832,
          -1.3137755102040807,
          -1.3903061224489797,
          -1.4668367346938778,
          -1.5433673469387759,
          -1.6198979591836735,
          -1.6964285714285716,
          -1.7729591836734697,
          -1.8494897959183676,
          -1.926020408163265,
          -2.002551020408163,
          -2.079081632653061,
          -2.1556122448979593,
          -2.2321428571428577,
          -2.3086734693877555,
          -2.3852040816326534,
          -2.461734693877551,
          -2.538265306122449,
          -2.6147959183673466,
          -2.6913265306122454,
          -2.767857142857143,
          -2.8443877551020407,
          -2.920918367346939,
          -2.997448979591837,
          -3.0739795918367347,
          -3.150510204081633,
          -3.2270408163265305,
          -3.3035714285714293,
          -3.3801020408163267,
          -3.456632653061224,
          -3.5331632653061225,
          -3.609693877551021,
          -3.6862244897959187,
          -3.762755102040816,
          -3.839285714285714,
          -3.915816326530612,
          -3.9923469387755115,
          -4.068877551020408,
          -4.145408163265306,
          -4.221938775510204,
          -4.298469387755103,
          -4.375
         ]
        }
       ],
       "layout": {
        "template": {
         "data": {
          "bar": [
           {
            "error_x": {
             "color": "#2a3f5f"
            },
            "error_y": {
             "color": "#2a3f5f"
            },
            "marker": {
             "line": {
              "color": "#E5ECF6",
              "width": 0.5
             }
            },
            "type": "bar"
           }
          ],
          "barpolar": [
           {
            "marker": {
             "line": {
              "color": "#E5ECF6",
              "width": 0.5
             }
            },
            "type": "barpolar"
           }
          ],
          "carpet": [
           {
            "aaxis": {
             "endlinecolor": "#2a3f5f",
             "gridcolor": "white",
             "linecolor": "white",
             "minorgridcolor": "white",
             "startlinecolor": "#2a3f5f"
            },
            "baxis": {
             "endlinecolor": "#2a3f5f",
             "gridcolor": "white",
             "linecolor": "white",
             "minorgridcolor": "white",
             "startlinecolor": "#2a3f5f"
            },
            "type": "carpet"
           }
          ],
          "choropleth": [
           {
            "colorbar": {
             "outlinewidth": 0,
             "ticks": ""
            },
            "type": "choropleth"
           }
          ],
          "contour": [
           {
            "colorbar": {
             "outlinewidth": 0,
             "ticks": ""
            },
            "colorscale": [
             [
              0,
              "#0d0887"
             ],
             [
              0.1111111111111111,
              "#46039f"
             ],
             [
              0.2222222222222222,
              "#7201a8"
             ],
             [
              0.3333333333333333,
              "#9c179e"
             ],
             [
              0.4444444444444444,
              "#bd3786"
             ],
             [
              0.5555555555555556,
              "#d8576b"
             ],
             [
              0.6666666666666666,
              "#ed7953"
             ],
             [
              0.7777777777777778,
              "#fb9f3a"
             ],
             [
              0.8888888888888888,
              "#fdca26"
             ],
             [
              1,
              "#f0f921"
             ]
            ],
            "type": "contour"
           }
          ],
          "contourcarpet": [
           {
            "colorbar": {
             "outlinewidth": 0,
             "ticks": ""
            },
            "type": "contourcarpet"
           }
          ],
          "heatmap": [
           {
            "colorbar": {
             "outlinewidth": 0,
             "ticks": ""
            },
            "colorscale": [
             [
              0,
              "#0d0887"
             ],
             [
              0.1111111111111111,
              "#46039f"
             ],
             [
              0.2222222222222222,
              "#7201a8"
             ],
             [
              0.3333333333333333,
              "#9c179e"
             ],
             [
              0.4444444444444444,
              "#bd3786"
             ],
             [
              0.5555555555555556,
              "#d8576b"
             ],
             [
              0.6666666666666666,
              "#ed7953"
             ],
             [
              0.7777777777777778,
              "#fb9f3a"
             ],
             [
              0.8888888888888888,
              "#fdca26"
             ],
             [
              1,
              "#f0f921"
             ]
            ],
            "type": "heatmap"
           }
          ],
          "heatmapgl": [
           {
            "colorbar": {
             "outlinewidth": 0,
             "ticks": ""
            },
            "colorscale": [
             [
              0,
              "#0d0887"
             ],
             [
              0.1111111111111111,
              "#46039f"
             ],
             [
              0.2222222222222222,
              "#7201a8"
             ],
             [
              0.3333333333333333,
              "#9c179e"
             ],
             [
              0.4444444444444444,
              "#bd3786"
             ],
             [
              0.5555555555555556,
              "#d8576b"
             ],
             [
              0.6666666666666666,
              "#ed7953"
             ],
             [
              0.7777777777777778,
              "#fb9f3a"
             ],
             [
              0.8888888888888888,
              "#fdca26"
             ],
             [
              1,
              "#f0f921"
             ]
            ],
            "type": "heatmapgl"
           }
          ],
          "histogram": [
           {
            "marker": {
             "colorbar": {
              "outlinewidth": 0,
              "ticks": ""
             }
            },
            "type": "histogram"
           }
          ],
          "histogram2d": [
           {
            "colorbar": {
             "outlinewidth": 0,
             "ticks": ""
            },
            "colorscale": [
             [
              0,
              "#0d0887"
             ],
             [
              0.1111111111111111,
              "#46039f"
             ],
             [
              0.2222222222222222,
              "#7201a8"
             ],
             [
              0.3333333333333333,
              "#9c179e"
             ],
             [
              0.4444444444444444,
              "#bd3786"
             ],
             [
              0.5555555555555556,
              "#d8576b"
             ],
             [
              0.6666666666666666,
              "#ed7953"
             ],
             [
              0.7777777777777778,
              "#fb9f3a"
             ],
             [
              0.8888888888888888,
              "#fdca26"
             ],
             [
              1,
              "#f0f921"
             ]
            ],
            "type": "histogram2d"
           }
          ],
          "histogram2dcontour": [
           {
            "colorbar": {
             "outlinewidth": 0,
             "ticks": ""
            },
            "colorscale": [
             [
              0,
              "#0d0887"
             ],
             [
              0.1111111111111111,
              "#46039f"
             ],
             [
              0.2222222222222222,
              "#7201a8"
             ],
             [
              0.3333333333333333,
              "#9c179e"
             ],
             [
              0.4444444444444444,
              "#bd3786"
             ],
             [
              0.5555555555555556,
              "#d8576b"
             ],
             [
              0.6666666666666666,
              "#ed7953"
             ],
             [
              0.7777777777777778,
              "#fb9f3a"
             ],
             [
              0.8888888888888888,
              "#fdca26"
             ],
             [
              1,
              "#f0f921"
             ]
            ],
            "type": "histogram2dcontour"
           }
          ],
          "mesh3d": [
           {
            "colorbar": {
             "outlinewidth": 0,
             "ticks": ""
            },
            "type": "mesh3d"
           }
          ],
          "parcoords": [
           {
            "line": {
             "colorbar": {
              "outlinewidth": 0,
              "ticks": ""
             }
            },
            "type": "parcoords"
           }
          ],
          "pie": [
           {
            "automargin": true,
            "type": "pie"
           }
          ],
          "scatter": [
           {
            "marker": {
             "colorbar": {
              "outlinewidth": 0,
              "ticks": ""
             }
            },
            "type": "scatter"
           }
          ],
          "scatter3d": [
           {
            "line": {
             "colorbar": {
              "outlinewidth": 0,
              "ticks": ""
             }
            },
            "marker": {
             "colorbar": {
              "outlinewidth": 0,
              "ticks": ""
             }
            },
            "type": "scatter3d"
           }
          ],
          "scattercarpet": [
           {
            "marker": {
             "colorbar": {
              "outlinewidth": 0,
              "ticks": ""
             }
            },
            "type": "scattercarpet"
           }
          ],
          "scattergeo": [
           {
            "marker": {
             "colorbar": {
              "outlinewidth": 0,
              "ticks": ""
             }
            },
            "type": "scattergeo"
           }
          ],
          "scattergl": [
           {
            "marker": {
             "colorbar": {
              "outlinewidth": 0,
              "ticks": ""
             }
            },
            "type": "scattergl"
           }
          ],
          "scattermapbox": [
           {
            "marker": {
             "colorbar": {
              "outlinewidth": 0,
              "ticks": ""
             }
            },
            "type": "scattermapbox"
           }
          ],
          "scatterpolar": [
           {
            "marker": {
             "colorbar": {
              "outlinewidth": 0,
              "ticks": ""
             }
            },
            "type": "scatterpolar"
           }
          ],
          "scatterpolargl": [
           {
            "marker": {
             "colorbar": {
              "outlinewidth": 0,
              "ticks": ""
             }
            },
            "type": "scatterpolargl"
           }
          ],
          "scatterternary": [
           {
            "marker": {
             "colorbar": {
              "outlinewidth": 0,
              "ticks": ""
             }
            },
            "type": "scatterternary"
           }
          ],
          "surface": [
           {
            "colorbar": {
             "outlinewidth": 0,
             "ticks": ""
            },
            "colorscale": [
             [
              0,
              "#0d0887"
             ],
             [
              0.1111111111111111,
              "#46039f"
             ],
             [
              0.2222222222222222,
              "#7201a8"
             ],
             [
              0.3333333333333333,
              "#9c179e"
             ],
             [
              0.4444444444444444,
              "#bd3786"
             ],
             [
              0.5555555555555556,
              "#d8576b"
             ],
             [
              0.6666666666666666,
              "#ed7953"
             ],
             [
              0.7777777777777778,
              "#fb9f3a"
             ],
             [
              0.8888888888888888,
              "#fdca26"
             ],
             [
              1,
              "#f0f921"
             ]
            ],
            "type": "surface"
           }
          ],
          "table": [
           {
            "cells": {
             "fill": {
              "color": "#EBF0F8"
             },
             "line": {
              "color": "white"
             }
            },
            "header": {
             "fill": {
              "color": "#C8D4E3"
             },
             "line": {
              "color": "white"
             }
            },
            "type": "table"
           }
          ]
         },
         "layout": {
          "annotationdefaults": {
           "arrowcolor": "#2a3f5f",
           "arrowhead": 0,
           "arrowwidth": 1
          },
          "coloraxis": {
           "colorbar": {
            "outlinewidth": 0,
            "ticks": ""
           }
          },
          "colorscale": {
           "diverging": [
            [
             0,
             "#8e0152"
            ],
            [
             0.1,
             "#c51b7d"
            ],
            [
             0.2,
             "#de77ae"
            ],
            [
             0.3,
             "#f1b6da"
            ],
            [
             0.4,
             "#fde0ef"
            ],
            [
             0.5,
             "#f7f7f7"
            ],
            [
             0.6,
             "#e6f5d0"
            ],
            [
             0.7,
             "#b8e186"
            ],
            [
             0.8,
             "#7fbc41"
            ],
            [
             0.9,
             "#4d9221"
            ],
            [
             1,
             "#276419"
            ]
           ],
           "sequential": [
            [
             0,
             "#0d0887"
            ],
            [
             0.1111111111111111,
             "#46039f"
            ],
            [
             0.2222222222222222,
             "#7201a8"
            ],
            [
             0.3333333333333333,
             "#9c179e"
            ],
            [
             0.4444444444444444,
             "#bd3786"
            ],
            [
             0.5555555555555556,
             "#d8576b"
            ],
            [
             0.6666666666666666,
             "#ed7953"
            ],
            [
             0.7777777777777778,
             "#fb9f3a"
            ],
            [
             0.8888888888888888,
             "#fdca26"
            ],
            [
             1,
             "#f0f921"
            ]
           ],
           "sequentialminus": [
            [
             0,
             "#0d0887"
            ],
            [
             0.1111111111111111,
             "#46039f"
            ],
            [
             0.2222222222222222,
             "#7201a8"
            ],
            [
             0.3333333333333333,
             "#9c179e"
            ],
            [
             0.4444444444444444,
             "#bd3786"
            ],
            [
             0.5555555555555556,
             "#d8576b"
            ],
            [
             0.6666666666666666,
             "#ed7953"
            ],
            [
             0.7777777777777778,
             "#fb9f3a"
            ],
            [
             0.8888888888888888,
             "#fdca26"
            ],
            [
             1,
             "#f0f921"
            ]
           ]
          },
          "colorway": [
           "#636efa",
           "#EF553B",
           "#00cc96",
           "#ab63fa",
           "#FFA15A",
           "#19d3f3",
           "#FF6692",
           "#B6E880",
           "#FF97FF",
           "#FECB52"
          ],
          "font": {
           "color": "#2a3f5f"
          },
          "geo": {
           "bgcolor": "white",
           "lakecolor": "white",
           "landcolor": "#E5ECF6",
           "showlakes": true,
           "showland": true,
           "subunitcolor": "white"
          },
          "hoverlabel": {
           "align": "left"
          },
          "hovermode": "closest",
          "mapbox": {
           "style": "light"
          },
          "paper_bgcolor": "white",
          "plot_bgcolor": "#E5ECF6",
          "polar": {
           "angularaxis": {
            "gridcolor": "white",
            "linecolor": "white",
            "ticks": ""
           },
           "bgcolor": "#E5ECF6",
           "radialaxis": {
            "gridcolor": "white",
            "linecolor": "white",
            "ticks": ""
           }
          },
          "scene": {
           "xaxis": {
            "backgroundcolor": "#E5ECF6",
            "gridcolor": "white",
            "gridwidth": 2,
            "linecolor": "white",
            "showbackground": true,
            "ticks": "",
            "zerolinecolor": "white"
           },
           "yaxis": {
            "backgroundcolor": "#E5ECF6",
            "gridcolor": "white",
            "gridwidth": 2,
            "linecolor": "white",
            "showbackground": true,
            "ticks": "",
            "zerolinecolor": "white"
           },
           "zaxis": {
            "backgroundcolor": "#E5ECF6",
            "gridcolor": "white",
            "gridwidth": 2,
            "linecolor": "white",
            "showbackground": true,
            "ticks": "",
            "zerolinecolor": "white"
           }
          },
          "shapedefaults": {
           "line": {
            "color": "#2a3f5f"
           }
          },
          "ternary": {
           "aaxis": {
            "gridcolor": "white",
            "linecolor": "white",
            "ticks": ""
           },
           "baxis": {
            "gridcolor": "white",
            "linecolor": "white",
            "ticks": ""
           },
           "bgcolor": "#E5ECF6",
           "caxis": {
            "gridcolor": "white",
            "linecolor": "white",
            "ticks": ""
           }
          },
          "title": {
           "x": 0.05
          },
          "xaxis": {
           "automargin": true,
           "gridcolor": "white",
           "linecolor": "white",
           "ticks": "",
           "title": {
            "standoff": 15
           },
           "zerolinecolor": "white",
           "zerolinewidth": 2
          },
          "yaxis": {
           "automargin": true,
           "gridcolor": "white",
           "linecolor": "white",
           "ticks": "",
           "title": {
            "standoff": 15
           },
           "zerolinecolor": "white",
           "zerolinewidth": 2
          }
         }
        },
        "title": {
         "text": "Line for Expected value of Portfolio = m"
        },
        "xaxis": {
         "title": {
          "text": "w1"
         }
        },
        "yaxis": {
         "title": {
          "text": "w2"
         }
        }
       }
      },
      "text/html": [
       "<div>\n",
       "        \n",
       "        \n",
       "            <div id=\"361d6843-84ef-4824-b7ca-f39df3ccaec1\" class=\"plotly-graph-div\" style=\"height:525px; width:100%;\"></div>\n",
       "            <script type=\"text/javascript\">\n",
       "                require([\"plotly\"], function(Plotly) {\n",
       "                    window.PLOTLYENV=window.PLOTLYENV || {};\n",
       "                    \n",
       "                if (document.getElementById(\"361d6843-84ef-4824-b7ca-f39df3ccaec1\")) {\n",
       "                    Plotly.newPlot(\n",
       "                        '361d6843-84ef-4824-b7ca-f39df3ccaec1',\n",
       "                        [{\"type\": \"scatter\", \"x\": [-5.0, -4.795918367346939, -4.591836734693878, -4.387755102040816, -4.183673469387755, -3.979591836734694, -3.7755102040816326, -3.571428571428571, -3.36734693877551, -3.163265306122449, -2.9591836734693877, -2.7551020408163263, -2.5510204081632653, -2.3469387755102042, -2.142857142857143, -1.9387755102040813, -1.7346938775510203, -1.5306122448979593, -1.3265306122448979, -1.1224489795918364, -0.9183673469387754, -0.7142857142857144, -0.5102040816326525, -0.3061224489795915, -0.1020408163265305, 0.1020408163265305, 0.3061224489795915, 0.5102040816326534, 0.7142857142857144, 0.9183673469387754, 1.1224489795918373, 1.3265306122448983, 1.5306122448979593, 1.7346938775510203, 1.9387755102040813, 2.1428571428571432, 2.3469387755102042, 2.5510204081632653, 2.755102040816327, 2.959183673469388, 3.163265306122449, 3.36734693877551, 3.571428571428571, 3.775510204081632, 3.979591836734695, 4.183673469387756, 4.387755102040817, 4.591836734693878, 4.795918367346939, 5.0], \"y\": [-0.6249999999999991, -0.701530612244898, -0.7780612244897969, -0.8545918367346944, -0.9311224489795933, -1.0076530612244894, -1.0841836734693882, -1.1607142857142865, -1.2372448979591832, -1.3137755102040807, -1.3903061224489797, -1.4668367346938778, -1.5433673469387759, -1.6198979591836735, -1.6964285714285716, -1.7729591836734697, -1.8494897959183676, -1.926020408163265, -2.002551020408163, -2.079081632653061, -2.1556122448979593, -2.2321428571428577, -2.3086734693877555, -2.3852040816326534, -2.461734693877551, -2.538265306122449, -2.6147959183673466, -2.6913265306122454, -2.767857142857143, -2.8443877551020407, -2.920918367346939, -2.997448979591837, -3.0739795918367347, -3.150510204081633, -3.2270408163265305, -3.3035714285714293, -3.3801020408163267, -3.456632653061224, -3.5331632653061225, -3.609693877551021, -3.6862244897959187, -3.762755102040816, -3.839285714285714, -3.915816326530612, -3.9923469387755115, -4.068877551020408, -4.145408163265306, -4.221938775510204, -4.298469387755103, -4.375]}],\n",
       "                        {\"template\": {\"data\": {\"bar\": [{\"error_x\": {\"color\": \"#2a3f5f\"}, \"error_y\": {\"color\": \"#2a3f5f\"}, \"marker\": {\"line\": {\"color\": \"#E5ECF6\", \"width\": 0.5}}, \"type\": \"bar\"}], \"barpolar\": [{\"marker\": {\"line\": {\"color\": \"#E5ECF6\", \"width\": 0.5}}, \"type\": \"barpolar\"}], \"carpet\": [{\"aaxis\": {\"endlinecolor\": \"#2a3f5f\", \"gridcolor\": \"white\", \"linecolor\": \"white\", \"minorgridcolor\": \"white\", \"startlinecolor\": \"#2a3f5f\"}, \"baxis\": {\"endlinecolor\": \"#2a3f5f\", \"gridcolor\": \"white\", \"linecolor\": \"white\", \"minorgridcolor\": \"white\", \"startlinecolor\": \"#2a3f5f\"}, \"type\": \"carpet\"}], \"choropleth\": [{\"colorbar\": {\"outlinewidth\": 0, \"ticks\": \"\"}, \"type\": \"choropleth\"}], \"contour\": [{\"colorbar\": {\"outlinewidth\": 0, \"ticks\": \"\"}, \"colorscale\": [[0.0, \"#0d0887\"], [0.1111111111111111, \"#46039f\"], [0.2222222222222222, \"#7201a8\"], [0.3333333333333333, \"#9c179e\"], [0.4444444444444444, \"#bd3786\"], [0.5555555555555556, \"#d8576b\"], [0.6666666666666666, \"#ed7953\"], [0.7777777777777778, \"#fb9f3a\"], [0.8888888888888888, \"#fdca26\"], [1.0, \"#f0f921\"]], \"type\": \"contour\"}], \"contourcarpet\": [{\"colorbar\": {\"outlinewidth\": 0, \"ticks\": \"\"}, \"type\": \"contourcarpet\"}], \"heatmap\": [{\"colorbar\": {\"outlinewidth\": 0, \"ticks\": \"\"}, \"colorscale\": [[0.0, \"#0d0887\"], [0.1111111111111111, \"#46039f\"], [0.2222222222222222, \"#7201a8\"], [0.3333333333333333, \"#9c179e\"], [0.4444444444444444, \"#bd3786\"], [0.5555555555555556, \"#d8576b\"], [0.6666666666666666, \"#ed7953\"], [0.7777777777777778, \"#fb9f3a\"], [0.8888888888888888, \"#fdca26\"], [1.0, \"#f0f921\"]], \"type\": \"heatmap\"}], \"heatmapgl\": [{\"colorbar\": {\"outlinewidth\": 0, \"ticks\": \"\"}, \"colorscale\": [[0.0, \"#0d0887\"], [0.1111111111111111, \"#46039f\"], [0.2222222222222222, \"#7201a8\"], [0.3333333333333333, \"#9c179e\"], [0.4444444444444444, \"#bd3786\"], [0.5555555555555556, \"#d8576b\"], [0.6666666666666666, \"#ed7953\"], [0.7777777777777778, \"#fb9f3a\"], [0.8888888888888888, \"#fdca26\"], [1.0, \"#f0f921\"]], \"type\": \"heatmapgl\"}], \"histogram\": [{\"marker\": {\"colorbar\": {\"outlinewidth\": 0, \"ticks\": \"\"}}, \"type\": \"histogram\"}], \"histogram2d\": [{\"colorbar\": {\"outlinewidth\": 0, \"ticks\": \"\"}, \"colorscale\": [[0.0, \"#0d0887\"], [0.1111111111111111, \"#46039f\"], [0.2222222222222222, \"#7201a8\"], [0.3333333333333333, \"#9c179e\"], [0.4444444444444444, \"#bd3786\"], [0.5555555555555556, \"#d8576b\"], [0.6666666666666666, \"#ed7953\"], [0.7777777777777778, \"#fb9f3a\"], [0.8888888888888888, \"#fdca26\"], [1.0, \"#f0f921\"]], \"type\": \"histogram2d\"}], \"histogram2dcontour\": [{\"colorbar\": {\"outlinewidth\": 0, \"ticks\": \"\"}, \"colorscale\": [[0.0, \"#0d0887\"], [0.1111111111111111, \"#46039f\"], [0.2222222222222222, \"#7201a8\"], [0.3333333333333333, \"#9c179e\"], [0.4444444444444444, \"#bd3786\"], [0.5555555555555556, \"#d8576b\"], [0.6666666666666666, \"#ed7953\"], [0.7777777777777778, \"#fb9f3a\"], [0.8888888888888888, \"#fdca26\"], [1.0, \"#f0f921\"]], \"type\": \"histogram2dcontour\"}], \"mesh3d\": [{\"colorbar\": {\"outlinewidth\": 0, \"ticks\": \"\"}, \"type\": \"mesh3d\"}], \"parcoords\": [{\"line\": {\"colorbar\": {\"outlinewidth\": 0, \"ticks\": \"\"}}, \"type\": \"parcoords\"}], \"pie\": [{\"automargin\": true, \"type\": \"pie\"}], \"scatter\": [{\"marker\": {\"colorbar\": {\"outlinewidth\": 0, \"ticks\": \"\"}}, \"type\": \"scatter\"}], \"scatter3d\": [{\"line\": {\"colorbar\": {\"outlinewidth\": 0, \"ticks\": \"\"}}, \"marker\": {\"colorbar\": {\"outlinewidth\": 0, \"ticks\": \"\"}}, \"type\": \"scatter3d\"}], \"scattercarpet\": [{\"marker\": {\"colorbar\": {\"outlinewidth\": 0, \"ticks\": \"\"}}, \"type\": \"scattercarpet\"}], \"scattergeo\": [{\"marker\": {\"colorbar\": {\"outlinewidth\": 0, \"ticks\": \"\"}}, \"type\": \"scattergeo\"}], \"scattergl\": [{\"marker\": {\"colorbar\": {\"outlinewidth\": 0, \"ticks\": \"\"}}, \"type\": \"scattergl\"}], \"scattermapbox\": [{\"marker\": {\"colorbar\": {\"outlinewidth\": 0, \"ticks\": \"\"}}, \"type\": \"scattermapbox\"}], \"scatterpolar\": [{\"marker\": {\"colorbar\": {\"outlinewidth\": 0, \"ticks\": \"\"}}, \"type\": \"scatterpolar\"}], \"scatterpolargl\": [{\"marker\": {\"colorbar\": {\"outlinewidth\": 0, \"ticks\": \"\"}}, \"type\": \"scatterpolargl\"}], \"scatterternary\": [{\"marker\": {\"colorbar\": {\"outlinewidth\": 0, \"ticks\": \"\"}}, \"type\": \"scatterternary\"}], \"surface\": [{\"colorbar\": {\"outlinewidth\": 0, \"ticks\": \"\"}, \"colorscale\": [[0.0, \"#0d0887\"], [0.1111111111111111, \"#46039f\"], [0.2222222222222222, \"#7201a8\"], [0.3333333333333333, \"#9c179e\"], [0.4444444444444444, \"#bd3786\"], [0.5555555555555556, \"#d8576b\"], [0.6666666666666666, \"#ed7953\"], [0.7777777777777778, \"#fb9f3a\"], [0.8888888888888888, \"#fdca26\"], [1.0, \"#f0f921\"]], \"type\": \"surface\"}], \"table\": [{\"cells\": {\"fill\": {\"color\": \"#EBF0F8\"}, \"line\": {\"color\": \"white\"}}, \"header\": {\"fill\": {\"color\": \"#C8D4E3\"}, \"line\": {\"color\": \"white\"}}, \"type\": \"table\"}]}, \"layout\": {\"annotationdefaults\": {\"arrowcolor\": \"#2a3f5f\", \"arrowhead\": 0, \"arrowwidth\": 1}, \"coloraxis\": {\"colorbar\": {\"outlinewidth\": 0, \"ticks\": \"\"}}, \"colorscale\": {\"diverging\": [[0, \"#8e0152\"], [0.1, \"#c51b7d\"], [0.2, \"#de77ae\"], [0.3, \"#f1b6da\"], [0.4, \"#fde0ef\"], [0.5, \"#f7f7f7\"], [0.6, \"#e6f5d0\"], [0.7, \"#b8e186\"], [0.8, \"#7fbc41\"], [0.9, \"#4d9221\"], [1, \"#276419\"]], \"sequential\": [[0.0, \"#0d0887\"], [0.1111111111111111, \"#46039f\"], [0.2222222222222222, \"#7201a8\"], [0.3333333333333333, \"#9c179e\"], [0.4444444444444444, \"#bd3786\"], [0.5555555555555556, \"#d8576b\"], [0.6666666666666666, \"#ed7953\"], [0.7777777777777778, \"#fb9f3a\"], [0.8888888888888888, \"#fdca26\"], [1.0, \"#f0f921\"]], \"sequentialminus\": [[0.0, \"#0d0887\"], [0.1111111111111111, \"#46039f\"], [0.2222222222222222, \"#7201a8\"], [0.3333333333333333, \"#9c179e\"], [0.4444444444444444, \"#bd3786\"], [0.5555555555555556, \"#d8576b\"], [0.6666666666666666, \"#ed7953\"], [0.7777777777777778, \"#fb9f3a\"], [0.8888888888888888, \"#fdca26\"], [1.0, \"#f0f921\"]]}, \"colorway\": [\"#636efa\", \"#EF553B\", \"#00cc96\", \"#ab63fa\", \"#FFA15A\", \"#19d3f3\", \"#FF6692\", \"#B6E880\", \"#FF97FF\", \"#FECB52\"], \"font\": {\"color\": \"#2a3f5f\"}, \"geo\": {\"bgcolor\": \"white\", \"lakecolor\": \"white\", \"landcolor\": \"#E5ECF6\", \"showlakes\": true, \"showland\": true, \"subunitcolor\": \"white\"}, \"hoverlabel\": {\"align\": \"left\"}, \"hovermode\": \"closest\", \"mapbox\": {\"style\": \"light\"}, \"paper_bgcolor\": \"white\", \"plot_bgcolor\": \"#E5ECF6\", \"polar\": {\"angularaxis\": {\"gridcolor\": \"white\", \"linecolor\": \"white\", \"ticks\": \"\"}, \"bgcolor\": \"#E5ECF6\", \"radialaxis\": {\"gridcolor\": \"white\", \"linecolor\": \"white\", \"ticks\": \"\"}}, \"scene\": {\"xaxis\": {\"backgroundcolor\": \"#E5ECF6\", \"gridcolor\": \"white\", \"gridwidth\": 2, \"linecolor\": \"white\", \"showbackground\": true, \"ticks\": \"\", \"zerolinecolor\": \"white\"}, \"yaxis\": {\"backgroundcolor\": \"#E5ECF6\", \"gridcolor\": \"white\", \"gridwidth\": 2, \"linecolor\": \"white\", \"showbackground\": true, \"ticks\": \"\", \"zerolinecolor\": \"white\"}, \"zaxis\": {\"backgroundcolor\": \"#E5ECF6\", \"gridcolor\": \"white\", \"gridwidth\": 2, \"linecolor\": \"white\", \"showbackground\": true, \"ticks\": \"\", \"zerolinecolor\": \"white\"}}, \"shapedefaults\": {\"line\": {\"color\": \"#2a3f5f\"}}, \"ternary\": {\"aaxis\": {\"gridcolor\": \"white\", \"linecolor\": \"white\", \"ticks\": \"\"}, \"baxis\": {\"gridcolor\": \"white\", \"linecolor\": \"white\", \"ticks\": \"\"}, \"bgcolor\": \"#E5ECF6\", \"caxis\": {\"gridcolor\": \"white\", \"linecolor\": \"white\", \"ticks\": \"\"}}, \"title\": {\"x\": 0.05}, \"xaxis\": {\"automargin\": true, \"gridcolor\": \"white\", \"linecolor\": \"white\", \"ticks\": \"\", \"title\": {\"standoff\": 15}, \"zerolinecolor\": \"white\", \"zerolinewidth\": 2}, \"yaxis\": {\"automargin\": true, \"gridcolor\": \"white\", \"linecolor\": \"white\", \"ticks\": \"\", \"title\": {\"standoff\": 15}, \"zerolinecolor\": \"white\", \"zerolinewidth\": 2}}}, \"title\": {\"text\": \"Line for Expected value of Portfolio = m\"}, \"xaxis\": {\"title\": {\"text\": \"w1\"}}, \"yaxis\": {\"title\": {\"text\": \"w2\"}}},\n",
       "                        {\"responsive\": true}\n",
       "                    ).then(function(){\n",
       "                            \n",
       "var gd = document.getElementById('361d6843-84ef-4824-b7ca-f39df3ccaec1');\n",
       "var x = new MutationObserver(function (mutations, observer) {{\n",
       "        var display = window.getComputedStyle(gd).display;\n",
       "        if (!display || display === 'none') {{\n",
       "            console.log([gd, 'removed!']);\n",
       "            Plotly.purge(gd);\n",
       "            observer.disconnect();\n",
       "        }}\n",
       "}});\n",
       "\n",
       "// Listen for the removal of the full notebook cells\n",
       "var notebookContainer = gd.closest('#notebook-container');\n",
       "if (notebookContainer) {{\n",
       "    x.observe(notebookContainer, {childList: true});\n",
       "}}\n",
       "\n",
       "// Listen for the clearing of the current output cell\n",
       "var outputEl = gd.closest('.output');\n",
       "if (outputEl) {{\n",
       "    x.observe(outputEl, {childList: true});\n",
       "}}\n",
       "\n",
       "                        })\n",
       "                };\n",
       "                });\n",
       "            </script>\n",
       "        </div>"
      ]
     },
     "metadata": {},
     "output_type": "display_data"
    }
   ],
   "source": [
    "## Plot of a plane parallel to z, in 2D  for a expected value  = m \n",
    "\n",
    "fig = go.Figure(data=[\n",
    "    go.Scatter(x = x_m, y = y_m[0])\n",
    "])\n",
    "\n",
    "\n",
    "fig.layout.title = \"Line for Expected value of Portfolio = m\"\n",
    "fig.layout.xaxis.title = \"w1\"\n",
    "fig.layout.yaxis.title = \"w2\"\n",
    "\n",
    "fig.show()"
   ]
  },
  {
   "cell_type": "code",
   "execution_count": 58,
   "metadata": {
    "hidden": true
   },
   "outputs": [],
   "source": [
    "# Try to manually create a plane parallel to z\n",
    "\n",
    "# _x , _y = [(0,1),(1,0)]\n",
    "\n",
    "# _z = [[-1,-1],\n",
    "#       [0,0],\n",
    "#       [1,1]]"
   ]
  },
  {
   "cell_type": "code",
   "execution_count": 132,
   "metadata": {
    "hidden": true
   },
   "outputs": [],
   "source": [
    "# fig = go.Figure(data=[\n",
    "#     go.Surface(x = _x, y = _y, z = _z)\n",
    "# ])\n",
    "\n",
    "# fig.show()"
   ]
  },
  {
   "cell_type": "markdown",
   "metadata": {
    "hidden": true
   },
   "source": [
    "<img src=\"img/Expected_Value_and_Var_3D.jpg\" aligment = 'center' width=\"600\" height=\"400\">"
   ]
  },
  {
   "cell_type": "markdown",
   "metadata": {
    "hidden": true
   },
   "source": [
    "**Attainable Portfolio**"
   ]
  },
  {
   "cell_type": "markdown",
   "metadata": {
    "hidden": true
   },
   "source": [
    "<img src=\"img/Attainable_Portfolio.jpg\" aligment = 'center' width=\"300\" height=\"300\">"
   ]
  },
  {
   "cell_type": "markdown",
   "metadata": {},
   "source": [
    "## Minimum Variance Portfolio"
   ]
  },
  {
   "cell_type": "markdown",
   "metadata": {},
   "source": [
    "The following formalea holds for the gradients computed with respect to $\\mathbf{w}$, we will call them $\\textbf{Lemma 3}$"
   ]
  },
  {
   "cell_type": "markdown",
   "metadata": {},
   "source": [
    "<center> $\\mathbf{\\nabla (w^{T} \\mu) = \\mu}$\n",
    "<center> $\\mathbf{\\nabla (w^{T}) = 1}$\n",
    "<center> $\\mathbf{\\nabla (w^{T} C w) = 2Cw}$"
   ]
  },
  {
   "cell_type": "markdown",
   "metadata": {},
   "source": [
    "and the Hessian of $\\mathbf{w^{T} C w}$ is equal to $\\mathbf{2C}$"
   ]
  },
  {
   "cell_type": "markdown",
   "metadata": {},
   "source": [
    "The porftolio with the smallest variance in the attainable set has weights:"
   ]
  },
  {
   "cell_type": "markdown",
   "metadata": {},
   "source": [
    "<center> $ \\mathbf{w_{min} = \\frac{{C}^{-1} 1 }{ 1^{T} {C}^{-1} 1 }} $"
   ]
  },
  {
   "cell_type": "markdown",
   "metadata": {},
   "source": [
    "**Proof**"
   ]
  },
  {
   "cell_type": "markdown",
   "metadata": {},
   "source": [
    "We need to find the minimum of $\\sigma_{w}^{2} = \\mathbf{w^{T} C w}$ subject to the constraint:"
   ]
  },
  {
   "cell_type": "markdown",
   "metadata": {},
   "source": [
    "<center> $\\mathbf{w^{T}1 = 1}$"
   ]
  },
  {
   "cell_type": "markdown",
   "metadata": {},
   "source": [
    "To this end we use the method of Lagrange multipliers taking the Lagrangian"
   ]
  },
  {
   "cell_type": "markdown",
   "metadata": {},
   "source": [
    "<center> $L( \\mathbf{w} ) = \\mathbf{\\nabla(w^{T} C w)- \\nabla(\\lambda(1^{T}w -1))} $"
   ]
  },
  {
   "cell_type": "markdown",
   "metadata": {},
   "source": [
    "By Lemma 4.3"
   ]
  },
  {
   "cell_type": "markdown",
   "metadata": {},
   "source": [
    "<center> $L( \\mathbf{w}) = \\mathbf{2Cw - \\lambda 1} $"
   ]
  },
  {
   "cell_type": "markdown",
   "metadata": {},
   "source": [
    "hence"
   ]
  },
  {
   "cell_type": "markdown",
   "metadata": {},
   "source": [
    "<center> $\\mathbf{w} = \\frac{\\lambda}{2} C^{-1} \\mathbf{1}$"
   ]
  },
  {
   "cell_type": "markdown",
   "metadata": {},
   "source": [
    "Substituting this into the constraint, we obtain\n",
    "\n"
   ]
  },
  {
   "cell_type": "markdown",
   "metadata": {},
   "source": [
    "<center> $1 = \\mathbf{ w^{T} 1 } = \\mathbf{ w^{T} 1 } = \\frac{\\lambda}{2} \\mathbf{1^{T} C^{-1} 1} $"
   ]
  },
  {
   "cell_type": "markdown",
   "metadata": {},
   "source": [
    "<center> $ \\lambda = \\frac{2 }{ \\mathbf{ 1^{T} C^{-1} 1 }  }$"
   ]
  },
  {
   "cell_type": "markdown",
   "metadata": {},
   "source": [
    "Substituing this result back into the value of $\\mathbf{w}$ obtained from the Lagrangian, we prove that: "
   ]
  },
  {
   "cell_type": "markdown",
   "metadata": {},
   "source": [
    "<center> $ \\mathbf{w_{min} = \\frac{{C}^{-1} 1 }{ 1^{T} {C}^{-1} 1 }} $"
   ]
  },
  {
   "cell_type": "markdown",
   "metadata": {},
   "source": [
    "We know that the Hessian of $\\mathbf{w^{T} C w}$, which is positive semidefinite. This makes sure that $ \\mathbf{w_{min}}$ is a global minimum."
   ]
  },
  {
   "cell_type": "markdown",
   "metadata": {},
   "source": [
    "## Minimum Variance Line"
   ]
  },
  {
   "cell_type": "markdown",
   "metadata": {},
   "source": [
    "To find the efficient frontier, we have to recognise and eliminate the dominated portfolios. To this end we fix a level of expected return, denote it by $m$, and consider all portfolios with $\\mu_{w} = m$. All of these are redundant except the one with the smalles variance. The family of such portfolios, parameterised by $m$, is called the $\\textbf{minimum variance line}$."
   ]
  },
  {
   "cell_type": "markdown",
   "metadata": {},
   "source": [
    "More precisely, portfolios on the minimum variance line are solutions of the following problem:"
   ]
  },
  {
   "cell_type": "markdown",
   "metadata": {},
   "source": [
    "<center> min ${ \\mathbf{ w^{T} C w } }$"
   ]
  },
  {
   "cell_type": "markdown",
   "metadata": {},
   "source": [
    "<center> subject to: \n",
    "<center> $\\mathbf{w^{T} \\mu } = m$\n",
    "<center> $\\mathbf{w^{T} 1} = 1$"
   ]
  },
  {
   "cell_type": "markdown",
   "metadata": {},
   "source": [
    "Let $M$ be a $2x2$ matrix of the form"
   ]
  },
  {
   "cell_type": "markdown",
   "metadata": {},
   "source": [
    "<center> $\\mathbf{M} = \\begin{bmatrix} \n",
    "\\mathbf{\\mu^{T} C^{-1} \\mu} & \\mathbf{\\mu^{T} C^{-1} 1} \\\\\n",
    "\\mathbf{\\mu^{T} C^{-1} 1} & \\mathbf{1 C^{-1} 1} \\\\\n",
    "\\end{bmatrix}$ "
   ]
  },
  {
   "cell_type": "markdown",
   "metadata": {},
   "source": [
    "If $C$ and $M$ are invertible, then the solution of the minimization problem is given by:"
   ]
  },
  {
   "cell_type": "markdown",
   "metadata": {},
   "source": [
    "<center> $ \\mathbf{w} = \\frac{1}{ \\mathbf{det(M)}} \\mathbf{C^{-1}} ( det( \\mathbf{M_{1}}) \\mu + det(\\mathbf{M_{2}}) \\mathbf{1} ) $"
   ]
  },
  {
   "cell_type": "markdown",
   "metadata": {},
   "source": [
    "where"
   ]
  },
  {
   "cell_type": "markdown",
   "metadata": {},
   "source": [
    "<center> $\\mathbf{M_{1}} = \\begin{bmatrix} \n",
    "\\mathbf{m} & \\mathbf{\\mu^{T} C^{-1} 1} \\\\\n",
    "\\mathbf{1} & \\mathbf{1 C^{-1} 1} \\\\\n",
    "\\end{bmatrix}$ "
   ]
  },
  {
   "cell_type": "markdown",
   "metadata": {},
   "source": [
    "<center> $\\mathbf{M_{2}} = \\begin{bmatrix} \n",
    "\\mathbf{\\mu^{T} C^{-1} \\mu} & \\mathbf{m} \\\\\n",
    "\\mathbf{\\mu^{T} C^{-1} 1} & \\mathbf{1} \\\\\n",
    "\\end{bmatrix}$ "
   ]
  },
  {
   "cell_type": "markdown",
   "metadata": {},
   "source": [
    "**Proof**"
   ]
  },
  {
   "cell_type": "markdown",
   "metadata": {},
   "source": [
    "We introduce the Lagrange multiplier $\\lambda = (\\lambda_{1} , \\lambda_{2})$, and the Lagrangian"
   ]
  },
  {
   "cell_type": "markdown",
   "metadata": {},
   "source": [
    "<center> $L(\\mathbf{w}) = \\nabla( w^{T} C w ) - \\lambda_{1} \\nabla (\\mathbf{w^{T} \\mu} - m) + \\lambda_{2} \\nabla (w^{T} \\mu - 1) = 0$"
   ]
  },
  {
   "cell_type": "markdown",
   "metadata": {},
   "source": [
    "Using Lemma 4.3 we can compute:"
   ]
  },
  {
   "cell_type": "markdown",
   "metadata": {},
   "source": [
    "<center> $L(\\mathbf{w}) = 2 \\mathbf{ C w} - \\lambda_{1} \\mathbf{\\mu} - \\lambda_{2} \\mathbf{ 1} = 0 $"
   ]
  },
  {
   "cell_type": "markdown",
   "metadata": {},
   "source": [
    "We solve this for $\\mathbf{w}$"
   ]
  },
  {
   "cell_type": "markdown",
   "metadata": {},
   "source": [
    "<center> $ \\mathbf{w} = \\frac{1}{2} \\lambda_{1} \\mathbf{C^{-1} \\mu} - \\frac{1}{2} \\lambda_{2} \\mathbf{C^{-1} 1} $"
   ]
  },
  {
   "cell_type": "markdown",
   "metadata": {},
   "source": [
    "Since $\\mathbf{w^{T} \\mu} = \\mathbf{\\mu^{T} w}$ and $ \\mathbf{w^{T} 1} = \\mathbf{1^{T} w} $, substuing the above result into the constraints, we obtain a system of linear equations:"
   ]
  },
  {
   "cell_type": "markdown",
   "metadata": {},
   "source": [
    "<center> $ \\frac{1}{2} \\lambda_{1} \\mathbf{\\mu^{T} C^{-1} \\mu} - \\frac{1}{2} \\lambda_{2} \\mathbf{\\mu^{T} C^{-1} 1} = m$"
   ]
  },
  {
   "cell_type": "markdown",
   "metadata": {},
   "source": [
    "<center> $ \\frac{1}{2} \\lambda_{1} \\mathbf{1^{T} C^{-1} \\mu} - \\frac{1}{2} \\lambda_{2} \\mathbf{1^{T} C^{-1} 1} = m$\n",
    "\n"
   ]
  },
  {
   "cell_type": "markdown",
   "metadata": {},
   "source": [
    "We can sove this system for $\\lambda_{1}$ and $\\lambda_{2}$ to obtain:"
   ]
  },
  {
   "cell_type": "markdown",
   "metadata": {},
   "source": [
    "<center> $ \\frac{1}{2} \\lambda_{1} = \\frac{det(M_{1})}{det(M)}$ , $ \\frac{1}{2} \\lambda_{2} = \\frac{det(M_{2})}{det(M)}$ "
   ]
  },
  {
   "cell_type": "markdown",
   "metadata": {},
   "source": [
    "Substituing it back to the equation solved for $\\mathbf{w}$, we obtain"
   ]
  },
  {
   "cell_type": "markdown",
   "metadata": {},
   "source": [
    "<center> $ \\mathbf{w} = \\frac{1}{ \\mathbf{det(M)}} \\mathbf{C^{-1}} ( det( \\mathbf{M_{1}}) \\mu + det(\\mathbf{M_{2}}) \\mathbf{1} ) $"
   ]
  },
  {
   "cell_type": "markdown",
   "metadata": {},
   "source": [
    "By Lemma 4.3 we know that the Hessian of $\\mathbf{w^{T} C w}$ is equal to 2C, which is a positive semidefinite matrix. By Theorem 3.4 this ensures that we have found a global minimum. "
   ]
  },
  {
   "cell_type": "markdown",
   "metadata": {},
   "source": [
    "### Collorally 4.7"
   ]
  },
  {
   "cell_type": "markdown",
   "metadata": {},
   "source": [
    " To simplify the formula above: There exist two vector $\\mathbf{a}$ and $\\mathbf{b}$, which depend only on $\\mathbf{C}$ and $\\mathbf{C}$ and $\\mu$, such that fro any real $m$ the soluction of the problem is: "
   ]
  },
  {
   "cell_type": "markdown",
   "metadata": {},
   "source": [
    "<center> $ \\mathbf{w} = m \\mathbf{a +b}$"
   ]
  },
  {
   "cell_type": "markdown",
   "metadata": {},
   "source": [
    "Since\n",
    "\n"
   ]
  },
  {
   "cell_type": "markdown",
   "metadata": {},
   "source": [
    "<center> $\\mathbf{det(M_{1})} = m \\mathbf{1^{T} C^{-1} 1} - \\mathbf{ \\mu^{T} C^{-1} 1} $\n",
    "<center> $\\mathbf{det(M_{2})} = \\mathbf{\\mu^{T} C^{-1} \\mu} - m \\mathbf{ \\mu^{T} C^{-1} 1} $"
   ]
  },
  {
   "cell_type": "markdown",
   "metadata": {},
   "source": [
    "therefore from the equation of $\\mathbf{w}$"
   ]
  },
  {
   "cell_type": "markdown",
   "metadata": {},
   "source": [
    "<center> $\\mathbf{a} = \\frac{1}{\\mathbf{det(M)}} \\mathbf{ C^{-1} ((1^{T} C^{-1} 1) \\mu - (\\mu^{T} C^{-1} 1)) 1 }$"
   ]
  },
  {
   "cell_type": "markdown",
   "metadata": {},
   "source": [
    "<center> $\\mathbf{b} = \\frac{1}{\\mathbf{det(M)}} \\mathbf{ C^{-1} ((\\mu^{T} C^{-1} \\mu) 1 - (\\mu^{T} C^{-1} 1)) \\mu }$"
   ]
  },
  {
   "cell_type": "markdown",
   "metadata": {},
   "source": [
    "**Example**"
   ]
  },
  {
   "cell_type": "markdown",
   "metadata": {},
   "source": [
    "Consider three uncorrelated assets with following variances and means: "
   ]
  },
  {
   "cell_type": "code",
   "execution_count": 38,
   "metadata": {},
   "outputs": [],
   "source": [
    "import numpy as np\n",
    "\n",
    "# Contruct them as column vector\n",
    "variances = np.matrix([[0.01], [0.02], [0.04]])\n",
    "means = np.matrix([[0.1], [0.2], [0.3]])\n",
    "m = 0.25\n",
    "C = np.matrix([[0.01, 0, 0],[0, 0.02, 0], [0, 0, 0.04]])"
   ]
  },
  {
   "cell_type": "markdown",
   "metadata": {},
   "source": [
    "Compute the portfolio for m = 25%"
   ]
  },
  {
   "cell_type": "code",
   "execution_count": 63,
   "metadata": {},
   "outputs": [],
   "source": [
    "def portfolio(variances, means, m, C ):\n",
    "    \n",
    "    unit_vect = np.matrix([[1],[1],[1]])\n",
    "    \n",
    "    # Calculate matrix M\n",
    "\n",
    "    m11 = (means.T * np.linalg.inv(C) * means).tolist()[0][0]\n",
    "    m12 = (means.T * np.linalg.inv(C) * unit_vect).tolist()[0][0]\n",
    "    m21 = m12\n",
    "    m22 = (unit_vect.T * np.linalg.inv(C) * unit_vect).tolist()[0][0]\n",
    "    \n",
    "    # Create matrix M\n",
    "    M = np.matrix([[m11, m12],[m21, m22]])\n",
    "    \n",
    "    M1 = np.matrix([[m, m12], [1,m22]])\n",
    "    M2 = np.matrix([[m11,m],[m21,1]])\n",
    "    \n",
    "    return (1 / np.linalg.det(M)) * np.linalg.inv(C) *(np.linalg.det(M1) * means + np.linalg.det(M2) * unit_vect)"
   ]
  },
  {
   "cell_type": "code",
   "execution_count": 64,
   "metadata": {},
   "outputs": [
    {
     "data": {
      "text/plain": [
       "matrix([[-6.83214169e-16],\n",
       "        [ 5.00000000e-01],\n",
       "        [ 5.00000000e-01]])"
      ]
     },
     "execution_count": 64,
     "metadata": {},
     "output_type": "execute_result"
    }
   ],
   "source": [
    "portfolio(variances, means, m, C )"
   ]
  }
 ],
 "metadata": {
  "kernelspec": {
   "display_name": "Python 3",
   "language": "python",
   "name": "python3"
  },
  "language_info": {
   "codemirror_mode": {
    "name": "ipython",
    "version": 3
   },
   "file_extension": ".py",
   "mimetype": "text/x-python",
   "name": "python",
   "nbconvert_exporter": "python",
   "pygments_lexer": "ipython3",
   "version": "3.7.4"
  },
  "toc": {
   "base_numbering": 1,
   "nav_menu": {},
   "number_sections": true,
   "sideBar": true,
   "skip_h1_title": false,
   "title_cell": "Table of Contents",
   "title_sidebar": "Contents",
   "toc_cell": false,
   "toc_position": {},
   "toc_section_display": true,
   "toc_window_display": false
  }
 },
 "nbformat": 4,
 "nbformat_minor": 2
}
