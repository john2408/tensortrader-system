{
 "cells": [
  {
   "cell_type": "markdown",
   "metadata": {},
   "source": [
    "## Simple Regression Tree with Time Series Data\n",
    "\n",
    "Regression trees make predictions based on the mean outcome value for the training samples assigned to a given node and typically rely on the mean-squared error to select optimal rules during recursive binary splitting.\n",
    "\n",
    "Given a training set, the algorithm iterates over the predictors, $X_1, X_2, ..., X_p$, and possible cutpoints, $s_1, s_2, ..., s_N$, to find an optimal combination. The optimal rule splits the feature space into two regions, $\\{X\\mid X_i &lt; s_j\\}$ and $\\{X\\mid X_i &gt; s_j\\}$, with values for the $X_i$ feature either below or above the $s_j$ threshold so that predictions based on the training subsets maximize the reduction of the squared residuals relative to the current node."
   ]
  },
  {
   "cell_type": "code",
   "execution_count": 1,
   "metadata": {},
   "outputs": [],
   "source": [
    "import warnings\n",
    "warnings.filterwarnings('ignore')\n",
    "\n",
    "\n",
    "%matplotlib inline\n",
    "\n",
    "import os, sys\n",
    "from pathlib import Path\n",
    "\n",
    "import numpy as np\n",
    "from scipy.stats import spearmanr\n",
    "import pandas as pd\n",
    "\n",
    "import matplotlib.pyplot as plt\n",
    "from matplotlib.ticker import FuncFormatter\n",
    "from matplotlib import cm\n",
    "import seaborn as sns\n",
    "\n",
    "\n",
    "from sklearn.tree import DecisionTreeClassifier, DecisionTreeRegressor, export_graphviz, _tree\n",
    "from sklearn.linear_model import LinearRegression, LogisticRegression\n",
    "from sklearn.model_selection import train_test_split, GridSearchCV, learning_curve\n",
    "from sklearn.metrics import roc_auc_score, roc_curve, mean_squared_error, make_scorer\n",
    "import graphviz\n",
    "\n",
    "from joblib import parallel_backend\n",
    "\n",
    "import xgboost as xgb\n",
    "\n",
    "import statsmodels.api as sm"
   ]
  },
  {
   "cell_type": "code",
   "execution_count": 2,
   "metadata": {},
   "outputs": [],
   "source": [
    "sys.path.insert(1, os.path.join(sys.path[0], '..'))\n",
    "from utils import MultipleTimeSeriesCV"
   ]
  },
  {
   "cell_type": "code",
   "execution_count": 3,
   "metadata": {},
   "outputs": [],
   "source": [
    "results_path = Path('results', 'decision_trees')\n",
    "if not results_path.exists():\n",
    "    results_path.mkdir(parents=True)"
   ]
  },
  {
   "cell_type": "markdown",
   "metadata": {},
   "source": [
    "## Data Load"
   ]
  },
  {
   "cell_type": "code",
   "execution_count": 10,
   "metadata": {},
   "outputs": [],
   "source": [
    "file_name = r'..\\..\\data\\Experiments\\ES_NQ\\Feature_Engineering_2020_2021_ES_NQ.parquet'\n",
    "data = pd.read_parquet(file_name).reset_index().drop(columns = ['Date','Time'])"
   ]
  },
  {
   "cell_type": "code",
   "execution_count": 5,
   "metadata": {},
   "outputs": [
    {
     "name": "stdout",
     "output_type": "stream",
     "text": [
      "<class 'pandas.core.frame.DataFrame'>\n",
      "Int64Index: 1021863 entries, 1 to 1021864\n",
      "Data columns (total 3 columns):\n",
      " #   Column  Non-Null Count    Dtype  \n",
      "---  ------  --------------    -----  \n",
      " 0   y       1021863 non-null  float64\n",
      " 1   t-1     1021863 non-null  float64\n",
      " 2   t-2     1021863 non-null  float64\n",
      "dtypes: float64(3)\n",
      "memory usage: 31.2 MB\n"
     ]
    }
   ],
   "source": [
    "X2 = data.loc[:, ['target', 'return_1m']]\n",
    "X2.columns = ['y', 't-1']\n",
    "X2['t-2'] = data.groupby('ticker').return_1m.shift()\n",
    "X2 = X2.dropna()\n",
    "X2.info()"
   ]
  },
  {
   "cell_type": "code",
   "execution_count": 6,
   "metadata": {},
   "outputs": [],
   "source": [
    "y2 = X2.y\n",
    "X2 = X2.drop('y', axis=1)"
   ]
  },
  {
   "cell_type": "code",
   "execution_count": 7,
   "metadata": {},
   "outputs": [
    {
     "data": {
      "image/png": "[encoded data removed]",
      "text/plain": [
       "<Figure size 432x288 with 1 Axes>"
      ]
     },
     "metadata": {
      "needs_background": "light"
     },
     "output_type": "display_data"
    }
   ],
   "source": [
    "\n",
    "sns.distplot(y2)\n",
    "sns.despine();"
   ]
  },
  {
   "cell_type": "markdown",
   "metadata": {},
   "source": [
    "Let's start with a simplified example to facilitate visualization and only use two months of lagged returns to predict the following month, in the vein of an AR(2) model from the last chapter:"
   ]
  },
  {
   "cell_type": "code",
   "execution_count": 9,
   "metadata": {},
   "outputs": [],
   "source": [
    "reg_tree_t2 = DecisionTreeRegressor(criterion='mse',\n",
    "                                    splitter='best',\n",
    "                                    max_depth=6,\n",
    "                                    min_samples_split=2,\n",
    "                                    min_samples_leaf=50,\n",
    "                                    min_weight_fraction_leaf=0.0,\n",
    "                                    max_features=None,\n",
    "                                    random_state=42,\n",
    "                                    max_leaf_nodes=None,\n",
    "                                    min_impurity_decrease=0.0,\n",
    "                                    min_impurity_split=None)"
   ]
  },
  {
   "cell_type": "code",
   "execution_count": 10,
   "metadata": {},
   "outputs": [
    {
     "name": "stdout",
     "output_type": "stream",
     "text": [
      "1.85 s ± 56.5 ms per loop (mean ± std. dev. of 7 runs, 1 loop each)\n"
     ]
    }
   ],
   "source": [
    "%%timeit\n",
    "reg_tree_t2.fit(X=X2, y=y2)"
   ]
  },
  {
   "cell_type": "code",
   "execution_count": 11,
   "metadata": {},
   "outputs": [
    {
     "data": {
      "text/plain": [
       "DecisionTreeRegressor(max_depth=6, min_samples_leaf=50, random_state=42)"
      ]
     },
     "execution_count": 11,
     "metadata": {},
     "output_type": "execute_result"
    }
   ],
   "source": [
    "reg_tree_t2.fit(X=X2, y=y2)"
   ]
  },
  {
   "cell_type": "code",
   "execution_count": null,
   "metadata": {},
   "outputs": [],
   "source": [
    "out_file = results_path / 'reg_tree_t2.dot'\n",
    "dot_data = export_graphviz(reg_tree_t2,\n",
    "                          out_file=out_file.as_posix(),\n",
    "                          feature_names=X2.columns,\n",
    "                          max_depth=2,\n",
    "                          filled=True,\n",
    "                          rounded=True,\n",
    "                          special_characters=True)\n",
    "if out_file is not None:\n",
    "    dot_data = Path(out_file).read_text()\n",
    "\n"
   ]
  },
  {
   "cell_type": "code",
   "execution_count": 16,
   "metadata": {},
   "outputs": [],
   "source": [
    "#graphviz.Source(dot_data)"
   ]
  },
  {
   "cell_type": "code",
   "execution_count": null,
   "metadata": {},
   "outputs": [],
   "source": [
    "## Cross Validation Time Series ML"
   ]
  },
  {
   "cell_type": "code",
   "execution_count": 11,
   "metadata": {},
   "outputs": [],
   "source": [
    "n_splits = 10\n",
    "train_period_length = 60\n",
    "test_period_length = 1\n",
    "lookahead = 1\n",
    "\n",
    "cv = MultipleTimeSeriesCV(n_splits=n_splits,\n",
    "                          train_period_length=train_period_length,\n",
    "                          test_period_length=test_period_length,\n",
    "                          lookahead=lookahead)"
   ]
  },
  {
   "cell_type": "code",
   "execution_count": 12,
   "metadata": {},
   "outputs": [],
   "source": [
    "data = data.rename(columns = {'timestamp':'date'}).set_index(['ticker','date'])"
   ]
  },
  {
   "cell_type": "code",
   "execution_count": 17,
   "metadata": {},
   "outputs": [],
   "source": [
    "data['hour'] = data['hour'].astype(int)\n",
    "data['minute'] = data['minute'].astype(int)"
   ]
  },
  {
   "cell_type": "code",
   "execution_count": 33,
   "metadata": {},
   "outputs": [],
   "source": [
    "X = data.drop(columns= ['Open', 'High', 'Low','target'])\n",
    "Y = data['target']"
   ]
  },
  {
   "cell_type": "code",
   "execution_count": 34,
   "metadata": {},
   "outputs": [
    {
     "name": "stdout",
     "output_type": "stream",
     "text": [
      "Fitting 10 folds for each of 24 candidates, totalling 240 fits\n",
      "{'mean_fit_time': array([0.16680157, 0.30389953, 0.72418234, 1.39644167, 0.1552068 ,\n",
      "       0.30980041, 0.69640009, 1.39482298, 0.15979984, 0.30489917,\n",
      "       0.68992069, 1.36849978, 0.16030061, 0.30910258, 0.72599857,\n",
      "       1.41074061, 0.18056643, 0.30899906, 0.67910147, 1.36990032,\n",
      "       0.15789986, 0.31060333, 0.7166163 , 1.11912756]), 'std_fit_time': array([0.01182227, 0.01719484, 0.02814397, 0.06561156, 0.01170067,\n",
      "       0.02630466, 0.02566315, 0.0622959 , 0.01170366, 0.01369212,\n",
      "       0.02540649, 0.0544595 , 0.01536858, 0.01398897, 0.02462937,\n",
      "       0.05409072, 0.03984742, 0.01232063, 0.0230757 , 0.07091462,\n",
      "       0.01986767, 0.0226777 , 0.03008149, 0.2975305 ]), 'mean_score_time': array([0.03199904, 0.01260114, 0.01080122, 0.01070082, 0.0140003 ,\n",
      "       0.01280007, 0.0106004 , 0.00910106, 0.01070092, 0.00990031,\n",
      "       0.00960178, 0.00980172, 0.01009979, 0.01279864, 0.0088007 ,\n",
      "       0.0103533 , 0.01589971, 0.00990076, 0.01029932, 0.01429996,\n",
      "       0.01720078, 0.0111969 , 0.00990009, 0.00711153]), 'std_score_time': array([0.01328086, 0.00558805, 0.0035723 , 0.00511906, 0.00855531,\n",
      "       0.0059447 , 0.00473828, 0.00169819, 0.00337623, 0.00151472,\n",
      "       0.00185431, 0.00199105, 0.00326931, 0.00497619, 0.00125069,\n",
      "       0.00427325, 0.01384714, 0.00121999, 0.00184662, 0.00843847,\n",
      "       0.00877326, 0.00345989, 0.00137387, 0.00257656]), 'param_eta': masked_array(data=[0.01, 0.01, 0.01, 0.01, 0.03, 0.03, 0.03, 0.03, 0.05,\n",
      "                   0.05, 0.05, 0.05, 0.1, 0.1, 0.1, 0.1, 0.15, 0.15, 0.15,\n",
      "                   0.15, 0.3, 0.3, 0.3, 0.3],\n",
      "             mask=[False, False, False, False, False, False, False, False,\n",
      "                   False, False, False, False, False, False, False, False,\n",
      "                   False, False, False, False, False, False, False, False],\n",
      "       fill_value='?',\n",
      "            dtype=object), 'param_n_estimators': masked_array(data=[100, 200, 500, 1000, 100, 200, 500, 1000, 100, 200,\n",
      "                   500, 1000, 100, 200, 500, 1000, 100, 200, 500, 1000,\n",
      "                   100, 200, 500, 1000],\n",
      "             mask=[False, False, False, False, False, False, False, False,\n",
      "                   False, False, False, False, False, False, False, False,\n",
      "                   False, False, False, False, False, False, False, False],\n",
      "       fill_value='?',\n",
      "            dtype=object), 'params': [{'eta': 0.01, 'n_estimators': 100}, {'eta': 0.01, 'n_estimators': 200}, {'eta': 0.01, 'n_estimators': 500}, {'eta': 0.01, 'n_estimators': 1000}, {'eta': 0.03, 'n_estimators': 100}, {'eta': 0.03, 'n_estimators': 200}, {'eta': 0.03, 'n_estimators': 500}, {'eta': 0.03, 'n_estimators': 1000}, {'eta': 0.05, 'n_estimators': 100}, {'eta': 0.05, 'n_estimators': 200}, {'eta': 0.05, 'n_estimators': 500}, {'eta': 0.05, 'n_estimators': 1000}, {'eta': 0.1, 'n_estimators': 100}, {'eta': 0.1, 'n_estimators': 200}, {'eta': 0.1, 'n_estimators': 500}, {'eta': 0.1, 'n_estimators': 1000}, {'eta': 0.15, 'n_estimators': 100}, {'eta': 0.15, 'n_estimators': 200}, {'eta': 0.15, 'n_estimators': 500}, {'eta': 0.15, 'n_estimators': 1000}, {'eta': 0.3, 'n_estimators': 100}, {'eta': 0.3, 'n_estimators': 200}, {'eta': 0.3, 'n_estimators': 500}, {'eta': 0.3, 'n_estimators': 1000}], 'split0_test_score': array([-3.41435408e-02, -4.67148741e-03, -1.41117470e-05, -9.69838076e-07,\n",
      "       -6.06607945e-04, -2.82510379e-06, -9.54682567e-07, -9.54623762e-07,\n",
      "       -1.17939117e-05, -9.72067922e-07, -9.63490664e-07, -9.63490664e-07,\n",
      "       -9.83817743e-07, -9.77314952e-07, -9.77314772e-07, -9.77314772e-07,\n",
      "       -9.73935022e-07, -9.73913385e-07, -9.73913385e-07, -9.73913385e-07,\n",
      "       -9.69988829e-07, -9.69988829e-07, -9.69988829e-07, -9.69988829e-07]), 'split1_test_score': array([-3.41075834e-02, -4.65803364e-03, -1.28282268e-05, -3.08708294e-07,\n",
      "       -6.01405766e-04, -1.95792265e-06, -3.05250224e-07, -3.05214072e-07,\n",
      "       -1.05725038e-05, -3.18844074e-07, -3.13611832e-07, -3.13611832e-07,\n",
      "       -3.01156574e-07, -2.97239630e-07, -2.97239527e-07, -2.97239527e-07,\n",
      "       -2.97862901e-07, -2.97849413e-07, -2.97849413e-07, -2.97849413e-07,\n",
      "       -4.24686540e-07, -4.24686540e-07, -4.24686540e-07, -4.24686540e-07]), 'split2_test_score': array([-3.40814486e-02, -4.64840591e-03, -1.21148259e-05, -1.71118002e-08,\n",
      "       -5.97822521e-04, -1.54948521e-06, -1.39920359e-08, -1.39744279e-08,\n",
      "       -9.90460808e-06, -1.77965546e-08, -1.47760691e-08, -1.47760691e-08,\n",
      "       -1.74403170e-08, -1.49086261e-08, -1.49085643e-08, -1.49085643e-08,\n",
      "       -2.20423787e-08, -2.20357903e-08, -2.20357903e-08, -2.20357903e-08,\n",
      "       -5.82715226e-08, -5.82715226e-08, -5.82715226e-08, -5.82715226e-08]), 'split3_test_score': array([-3.41098569e-02, -4.65932622e-03, -1.26951328e-05, -3.93983491e-08,\n",
      "       -6.01802901e-04, -1.76128329e-06, -3.08184178e-08, -3.07749220e-08,\n",
      "       -1.04304678e-05, -3.57756365e-08, -2.94608015e-08, -2.94608015e-08,\n",
      "       -3.67612295e-08, -3.17726484e-08, -3.17725136e-08, -3.17725136e-08,\n",
      "       -3.62314355e-08, -3.62124795e-08, -3.62124795e-08, -3.62124795e-08,\n",
      "       -3.57384729e-08, -3.57384729e-08, -3.57384729e-08, -3.57384729e-08]), 'split4_test_score': array([-3.39865813e-02, -4.61341767e-03, -1.06250004e-05, -2.39366118e-07,\n",
      "       -5.85458127e-04, -1.22013278e-06, -2.45081717e-07, -2.45141125e-07,\n",
      "       -8.58785929e-06, -2.36967178e-07, -2.39518899e-07, -2.39518899e-07,\n",
      "       -2.37584934e-07, -2.33235836e-07, -2.33236021e-07, -2.33236021e-07,\n",
      "       -2.20145875e-07, -2.20167662e-07, -2.20167662e-07, -2.20167662e-07,\n",
      "       -1.87438143e-07, -1.87438143e-07, -1.87438143e-07, -1.87438143e-07]), 'split5_test_score': array([-3.41350210e-02, -4.66846425e-03, -1.31963261e-05, -1.27879736e-07,\n",
      "       -6.05082694e-04, -2.01771993e-06, -1.21532570e-07, -1.21470378e-07,\n",
      "       -1.08876509e-05, -1.24247390e-07, -1.15378451e-07, -1.15378451e-07,\n",
      "       -1.35588144e-07, -1.28663185e-07, -1.28663017e-07, -1.28663017e-07,\n",
      "       -1.10097231e-07, -1.10075226e-07, -1.10075226e-07, -1.10075226e-07,\n",
      "       -1.09957909e-07, -1.09957909e-07, -1.09957909e-07, -1.09957909e-07]), 'split6_test_score': array([-3.39589709e-02, -4.60327965e-03, -9.91984427e-06, -4.17565336e-08,\n",
      "       -5.81715881e-04, -8.61840514e-07, -5.00336514e-08, -5.00907130e-08,\n",
      "       -7.93080246e-06, -4.06368915e-08, -4.78013287e-08, -4.78013287e-08,\n",
      "       -4.44907056e-08, -5.01385944e-08, -5.01387594e-08, -5.01387594e-08,\n",
      "       -4.91854636e-08, -4.92065773e-08, -4.92065773e-08, -4.92065773e-08,\n",
      "       -4.32260425e-08, -4.32260425e-08, -4.32260425e-08, -4.32260425e-08]), 'split7_test_score': array([-3.42828658e-02, -4.72319826e-03, -1.63138339e-05, -5.12305549e-07,\n",
      "       -6.24919783e-04, -3.31110253e-06, -4.78541570e-07, -4.78373763e-07,\n",
      "       -1.37393086e-05, -5.03184265e-07, -4.79712303e-07, -4.79712303e-07,\n",
      "       -4.69722396e-07, -4.52484549e-07, -4.52484057e-07, -4.52484057e-07,\n",
      "       -4.89678445e-07, -4.89617262e-07, -4.89617262e-07, -4.89617262e-07,\n",
      "       -4.05387747e-07, -4.05387745e-07, -4.05387745e-07, -4.05387745e-07]), 'split8_test_score': array([-3.40469427e-02, -4.63540437e-03, -1.15294715e-05, -1.00664341e-07,\n",
      "       -5.93176592e-04, -1.39900910e-06, -9.50482117e-08, -9.50295098e-08,\n",
      "       -9.38408680e-06, -9.76208757e-08, -9.46658195e-08, -9.46658195e-08,\n",
      "       -1.02652727e-07, -1.00302275e-07, -1.00302230e-07, -1.00302230e-07,\n",
      "       -8.45562781e-08, -8.45514170e-08, -8.45514170e-08, -8.45514170e-08,\n",
      "       -8.28446020e-08, -8.28446020e-08, -8.28446020e-08, -8.28446020e-08]), 'split9_test_score': array([-3.40881516e-02, -4.65017216e-03, -1.21895989e-05, -5.42652880e-09,\n",
      "       -5.98364937e-04, -1.57898996e-06, -4.54228613e-09, -4.53313677e-09,\n",
      "       -9.97258089e-06, -4.31284375e-09, -2.88438910e-09, -2.88439178e-09,\n",
      "       -8.14407388e-09, -6.57076336e-09, -6.57072022e-09, -6.57072022e-09,\n",
      "       -2.76404142e-09, -2.75994177e-09, -2.75994161e-09, -2.75994149e-09,\n",
      "       -6.79989330e-09, -6.79989330e-09, -6.79989330e-09, -6.79989330e-09]), 'mean_test_score': array([-3.40940963e-02, -4.65311895e-03, -1.25524008e-05, -2.36245533e-07,\n",
      "       -5.99635715e-04, -1.84825898e-06, -2.29952325e-07, -2.29922581e-07,\n",
      "       -1.03203780e-05, -2.35145363e-07, -2.30130056e-07, -2.30130056e-07,\n",
      "       -2.33735884e-07, -2.29263106e-07, -2.29263018e-07, -2.29263018e-07,\n",
      "       -2.28649907e-07, -2.28638915e-07, -2.28638915e-07, -2.28638915e-07,\n",
      "       -2.32433970e-07, -2.32433970e-07, -2.32433970e-07, -2.32433970e-07]), 'std_test_score': array([8.51004922e-05, 3.15460334e-05, 1.70604042e-06, 2.87684713e-07,\n",
      "       1.13760393e-05, 6.98112160e-07, 2.81488321e-07, 2.81462524e-07,\n",
      "       1.55370635e-06, 2.88309875e-07, 2.84642719e-07, 2.84642719e-07,\n",
      "       2.86701370e-07, 2.84152248e-07, 2.84152175e-07, 2.84152175e-07,\n",
      "       2.87438640e-07, 2.87428983e-07, 2.87428983e-07, 2.87428983e-07,\n",
      "       2.83900559e-07, 2.83900559e-07, 2.83900559e-07, 2.83900559e-07]), 'rank_test_score': array([24, 23, 21, 18, 22, 19,  9,  8, 20, 17, 10, 11, 16,  7,  5,  5,  4,\n",
      "        3,  2,  1, 15, 12, 12, 12])}\n"
     ]
    }
   ],
   "source": [
    "params = {'eta' : [0.01, 0.03, 0.05, 0.1, 0.15, 0.3], \n",
    "         'n_estimators' : [100, 200, 500, 1000]\n",
    "         }\n",
    "        \n",
    "n_jobs = -1\n",
    "verbose = 0\n",
    "\n",
    "xgb_regressor = xgb.XGBRegressor()\n",
    "\n",
    "grid_search = GridSearchCV(estimator = xgb_regressor, param_grid = params, cv = cv, scoring= 'neg_mean_squared_error', verbose = verbose)\n",
    "\n",
    "with parallel_backend('threading', n_jobs = n_jobs):\n",
    "    \n",
    "    grid_search.fit(X, Y)\n",
    "\n",
    "    results = grid_search.cv_results_\n",
    "\n",
    "    print(results)"
   ]
  },
  {
   "cell_type": "code",
   "execution_count": 35,
   "metadata": {},
   "outputs": [
    {
     "data": {
      "text/plain": [
       "XGBRegressor(base_score=0.5, booster='gbtree', colsample_bylevel=1,\n",
       "             colsample_bynode=1, colsample_bytree=1, eta=0.15, gamma=0,\n",
       "             gpu_id=-1, importance_type='gain', interaction_constraints='',\n",
       "             learning_rate=0.150000006, max_delta_step=0, max_depth=6,\n",
       "             min_child_weight=1, missing=nan, monotone_constraints='()',\n",
       "             n_estimators=1000, n_jobs=8, num_parallel_tree=1, random_state=0,\n",
       "             reg_alpha=0, reg_lambda=1, scale_pos_weight=1, subsample=1,\n",
       "             tree_method='exact', validate_parameters=1, verbosity=None)"
      ]
     },
     "execution_count": 35,
     "metadata": {},
     "output_type": "execute_result"
    }
   ],
   "source": [
    "grid_search.best_estimator_"
   ]
  },
  {
   "cell_type": "code",
   "execution_count": 36,
   "metadata": {},
   "outputs": [
    {
     "data": {
      "text/plain": [
       "-2.2863891529887504e-07"
      ]
     },
     "execution_count": 36,
     "metadata": {},
     "output_type": "execute_result"
    }
   ],
   "source": [
    "grid_search.best_score_"
   ]
  },
  {
   "cell_type": "code",
   "execution_count": 46,
   "metadata": {},
   "outputs": [],
   "source": [
    "X_test = X.groupby(level = 'ticker', group_keys=False)\n",
    "Y_test = Y.groupby(level = 'ticker', group_keys=False)"
   ]
  },
  {
   "cell_type": "code",
   "execution_count": 67,
   "metadata": {},
   "outputs": [
    {
     "data": {
      "text/plain": [
       "<pandas.core.groupby.generic.DataFrameGroupBy object at 0x000001506B72A608>"
      ]
     },
     "execution_count": 67,
     "metadata": {},
     "output_type": "execute_result"
    }
   ],
   "source": [
    "X_test"
   ]
  },
  {
   "cell_type": "code",
   "execution_count": 52,
   "metadata": {},
   "outputs": [
    {
     "data": {
      "text/plain": [
       "ticker  date               \n",
       "MNQ     2021-06-18 13:29:00    0.000709\n",
       "MES     2021-06-18 13:29:00   -0.001134\n",
       "Name: target, dtype: float64"
      ]
     },
     "execution_count": 52,
     "metadata": {},
     "output_type": "execute_result"
    }
   ],
   "source": [
    "Y_test.tail(1)"
   ]
  },
  {
   "cell_type": "code",
   "execution_count": 66,
   "metadata": {},
   "outputs": [
    {
     "ename": "AttributeError",
     "evalue": "'DataFrameGroupBy' object has no attribute 'info'",
     "output_type": "error",
     "traceback": [
      "\u001b[1;31m---------------------------------------------------------------------------\u001b[0m",
      "\u001b[1;31mAttributeError\u001b[0m                            Traceback (most recent call last)",
      "\u001b[1;32m<ipython-input-66-1e20b5674908>\u001b[0m in \u001b[0;36m<module>\u001b[1;34m\u001b[0m\n\u001b[1;32m----> 1\u001b[1;33m \u001b[0mX_test\u001b[0m\u001b[1;33m.\u001b[0m\u001b[0minfo\u001b[0m\u001b[1;33m(\u001b[0m\u001b[1;33m)\u001b[0m\u001b[1;33m\u001b[0m\u001b[1;33m\u001b[0m\u001b[0m\n\u001b[0m",
      "\u001b[1;32m~\\Anaconda3\\envs\\AlgoTrading\\lib\\site-packages\\pandas\\core\\groupby\\groupby.py\u001b[0m in \u001b[0;36m__getattr__\u001b[1;34m(self, attr)\u001b[0m\n\u001b[0;32m    751\u001b[0m \u001b[1;33m\u001b[0m\u001b[0m\n\u001b[0;32m    752\u001b[0m         raise AttributeError(\n\u001b[1;32m--> 753\u001b[1;33m             \u001b[1;34mf\"'{type(self).__name__}' object has no attribute '{attr}'\"\u001b[0m\u001b[1;33m\u001b[0m\u001b[1;33m\u001b[0m\u001b[0m\n\u001b[0m\u001b[0;32m    754\u001b[0m         )\n\u001b[0;32m    755\u001b[0m \u001b[1;33m\u001b[0m\u001b[0m\n",
      "\u001b[1;31mAttributeError\u001b[0m: 'DataFrameGroupBy' object has no attribute 'info'"
     ]
    }
   ],
   "source": [
    "X_test.info()"
   ]
  },
  {
   "cell_type": "code",
   "execution_count": 65,
   "metadata": {},
   "outputs": [
    {
     "ename": "AttributeError",
     "evalue": "'DataFrameGroupBy' object has no attribute 'iloc'",
     "output_type": "error",
     "traceback": [
      "\u001b[1;31m---------------------------------------------------------------------------\u001b[0m",
      "\u001b[1;31mAttributeError\u001b[0m                            Traceback (most recent call last)",
      "\u001b[1;32m<ipython-input-65-6aebd47a924c>\u001b[0m in \u001b[0;36m<module>\u001b[1;34m\u001b[0m\n\u001b[1;32m----> 1\u001b[1;33m \u001b[0mX_test\u001b[0m\u001b[1;33m.\u001b[0m\u001b[0miloc\u001b[0m\u001b[1;33m[\u001b[0m\u001b[1;33m-\u001b[0m\u001b[1;36m2\u001b[0m\u001b[1;33m,\u001b[0m\u001b[1;33m]\u001b[0m\u001b[1;33m\u001b[0m\u001b[1;33m\u001b[0m\u001b[0m\n\u001b[0m",
      "\u001b[1;32m~\\Anaconda3\\envs\\AlgoTrading\\lib\\site-packages\\pandas\\core\\groupby\\groupby.py\u001b[0m in \u001b[0;36m__getattr__\u001b[1;34m(self, attr)\u001b[0m\n\u001b[0;32m    751\u001b[0m \u001b[1;33m\u001b[0m\u001b[0m\n\u001b[0;32m    752\u001b[0m         raise AttributeError(\n\u001b[1;32m--> 753\u001b[1;33m             \u001b[1;34mf\"'{type(self).__name__}' object has no attribute '{attr}'\"\u001b[0m\u001b[1;33m\u001b[0m\u001b[1;33m\u001b[0m\u001b[0m\n\u001b[0m\u001b[0;32m    754\u001b[0m         )\n\u001b[0;32m    755\u001b[0m \u001b[1;33m\u001b[0m\u001b[0m\n",
      "\u001b[1;31mAttributeError\u001b[0m: 'DataFrameGroupBy' object has no attribute 'iloc'"
     ]
    }
   ],
   "source": [
    "X_test.iloc[,]"
   ]
  },
  {
   "cell_type": "code",
   "execution_count": 55,
   "metadata": {},
   "outputs": [
    {
     "data": {
      "text/plain": [
       "1.00001"
      ]
     },
     "execution_count": 55,
     "metadata": {},
     "output_type": "execute_result"
    }
   ],
   "source": [
    "np.round(9.9960253e-06, 5) +1"
   ]
  },
  {
   "cell_type": "code",
   "execution_count": 53,
   "metadata": {},
   "outputs": [
    {
     "data": {
      "text/plain": [
       "array([ 9.9960253e-06, -2.6582036e-06], dtype=float32)"
      ]
     },
     "execution_count": 53,
     "metadata": {},
     "output_type": "execute_result"
    }
   ],
   "source": [
    "grid_search.predict(X_test.tail(1))"
   ]
  },
  {
   "cell_type": "code",
   "execution_count": 38,
   "metadata": {},
   "outputs": [
    {
     "data": {
      "text/plain": [
       "-0.00113371919565608"
      ]
     },
     "execution_count": 38,
     "metadata": {},
     "output_type": "execute_result"
    }
   ],
   "source": [
    "Y.iloc[-1]"
   ]
  },
  {
   "cell_type": "code",
   "execution_count": null,
   "metadata": {},
   "outputs": [],
   "source": []
  }
 ],
 "metadata": {
  "interpreter": {
   "hash": "2d6665af479ab98ef4acca01ca45d4d57a52903c594eb1765faf156f4475f423"
  },
  "kernelspec": {
   "display_name": "Python 3 (ipykernel)",
   "language": "python",
   "name": "python3"
  },
  "language_info": {
   "codemirror_mode": {
    "name": "ipython",
    "version": 3
   },
   "file_extension": ".py",
   "mimetype": "text/x-python",
   "name": "python",
   "nbconvert_exporter": "python",
   "pygments_lexer": "ipython3",
   "version": "3.7.11"
  }
 },
 "nbformat": 4,
 "nbformat_minor": 4
}
