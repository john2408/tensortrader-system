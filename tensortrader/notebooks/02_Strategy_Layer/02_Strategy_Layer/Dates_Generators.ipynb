{
 "cells": [
  {
   "cell_type": "code",
   "execution_count": 1,
   "id": "05e40184-c61e-4749-b910-82d755b5d499",
   "metadata": {},
   "outputs": [],
   "source": [
    "from datetime import datetime, timedelta"
   ]
  },
  {
   "cell_type": "code",
   "execution_count": 20,
   "id": "0eba423d-dbed-4392-b5a5-f0d6cfb3e8c6",
   "metadata": {},
   "outputs": [],
   "source": [
    "import_timestamps = []\n",
    "\n",
    "end_timestamp = datetime.utcnow() - timedelta(minutes = 1)\n",
    "total_days = None\n",
    "\n",
    "start_timestamp = datetime(2022,4,1)\n",
    "load_size_days = 1"
   ]
  },
  {
   "cell_type": "code",
   "execution_count": 21,
   "id": "cdf02517-b2d7-44aa-b736-96cd6d492ec6",
   "metadata": {},
   "outputs": [
    {
     "data": {
      "text/plain": [
       "datetime.datetime(2022, 5, 28, 9, 33, 2, 915884)"
      ]
     },
     "execution_count": 21,
     "metadata": {},
     "output_type": "execute_result"
    }
   ],
   "source": [
    "end_timestamp"
   ]
  },
  {
   "cell_type": "code",
   "execution_count": 23,
   "id": "a8f80b0d-8690-45bd-a3b6-eca745f48309",
   "metadata": {},
   "outputs": [],
   "source": [
    "\n",
    "if total_days is not None:\n",
    "\n",
    "    for lot in range(1, int(total_days/load_size_days)):\n",
    "        import_timestamps.append((end_timestamp - timedelta(days = lot * load_size_days), \n",
    "                                    end_timestamp - timedelta(days = (lot -1) * load_size_days)))\n",
    "\n",
    "else:\n",
    "\n",
    "    # To create daily updates for appending to historical data\n",
    "    lot = 1\n",
    "    end_time = start_timestamp\n",
    "    while(end_time < end_timestamp):\n",
    "\n",
    "        start_time = start_timestamp + timedelta(days = (lot -1)  * load_size_days)\n",
    "        end_time =  start_timestamp + timedelta(days = lot * load_size_days)\n",
    "\n",
    "        if end_time > end_timestamp:\n",
    "            end_time = end_timestamp\n",
    "\n",
    "        import_timestamps.append((start_time, \n",
    "                                        end_time))\n",
    "\n",
    "        lot += 1"
   ]
  },
  {
   "cell_type": "code",
   "execution_count": 25,
   "id": "23b83c13-dc9a-41fc-acc2-5becdbb3dd4e",
   "metadata": {},
   "outputs": [
    {
     "name": "stdout",
     "output_type": "stream",
     "text": [
      "Getting data from  2022-04-01 00:00:00  until  2022-04-02 00:00:00\n",
      "Getting data from  2022-04-02 00:00:00  until  2022-04-03 00:00:00\n",
      "Getting data from  2022-04-03 00:00:00  until  2022-04-04 00:00:00\n",
      "Getting data from  2022-04-04 00:00:00  until  2022-04-05 00:00:00\n",
      "Getting data from  2022-04-05 00:00:00  until  2022-04-06 00:00:00\n",
      "Getting data from  2022-04-06 00:00:00  until  2022-04-07 00:00:00\n",
      "Getting data from  2022-04-07 00:00:00  until  2022-04-08 00:00:00\n",
      "Getting data from  2022-04-08 00:00:00  until  2022-04-09 00:00:00\n",
      "Getting data from  2022-04-09 00:00:00  until  2022-04-10 00:00:00\n",
      "Getting data from  2022-04-10 00:00:00  until  2022-04-11 00:00:00\n",
      "Getting data from  2022-04-11 00:00:00  until  2022-04-12 00:00:00\n",
      "Getting data from  2022-04-12 00:00:00  until  2022-04-13 00:00:00\n",
      "Getting data from  2022-04-13 00:00:00  until  2022-04-14 00:00:00\n",
      "Getting data from  2022-04-14 00:00:00  until  2022-04-15 00:00:00\n",
      "Getting data from  2022-04-15 00:00:00  until  2022-04-16 00:00:00\n",
      "Getting data from  2022-04-16 00:00:00  until  2022-04-17 00:00:00\n",
      "Getting data from  2022-04-17 00:00:00  until  2022-04-18 00:00:00\n",
      "Getting data from  2022-04-18 00:00:00  until  2022-04-19 00:00:00\n",
      "Getting data from  2022-04-19 00:00:00  until  2022-04-20 00:00:00\n",
      "Getting data from  2022-04-20 00:00:00  until  2022-04-21 00:00:00\n",
      "Getting data from  2022-04-21 00:00:00  until  2022-04-22 00:00:00\n",
      "Getting data from  2022-04-22 00:00:00  until  2022-04-23 00:00:00\n",
      "Getting data from  2022-04-23 00:00:00  until  2022-04-24 00:00:00\n",
      "Getting data from  2022-04-24 00:00:00  until  2022-04-25 00:00:00\n",
      "Getting data from  2022-04-25 00:00:00  until  2022-04-26 00:00:00\n",
      "Getting data from  2022-04-26 00:00:00  until  2022-04-27 00:00:00\n",
      "Getting data from  2022-04-27 00:00:00  until  2022-04-28 00:00:00\n",
      "Getting data from  2022-04-28 00:00:00  until  2022-04-29 00:00:00\n",
      "Getting data from  2022-04-29 00:00:00  until  2022-04-30 00:00:00\n",
      "Getting data from  2022-04-30 00:00:00  until  2022-05-01 00:00:00\n",
      "Getting data from  2022-05-01 00:00:00  until  2022-05-02 00:00:00\n",
      "Getting data from  2022-05-02 00:00:00  until  2022-05-03 00:00:00\n",
      "Getting data from  2022-05-03 00:00:00  until  2022-05-04 00:00:00\n",
      "Getting data from  2022-05-04 00:00:00  until  2022-05-05 00:00:00\n",
      "Getting data from  2022-05-05 00:00:00  until  2022-05-06 00:00:00\n",
      "Getting data from  2022-05-06 00:00:00  until  2022-05-07 00:00:00\n",
      "Getting data from  2022-05-07 00:00:00  until  2022-05-08 00:00:00\n",
      "Getting data from  2022-05-08 00:00:00  until  2022-05-09 00:00:00\n",
      "Getting data from  2022-05-09 00:00:00  until  2022-05-10 00:00:00\n",
      "Getting data from  2022-05-10 00:00:00  until  2022-05-11 00:00:00\n",
      "Getting data from  2022-05-11 00:00:00  until  2022-05-12 00:00:00\n",
      "Getting data from  2022-05-12 00:00:00  until  2022-05-13 00:00:00\n",
      "Getting data from  2022-05-13 00:00:00  until  2022-05-14 00:00:00\n",
      "Getting data from  2022-05-14 00:00:00  until  2022-05-15 00:00:00\n",
      "Getting data from  2022-05-15 00:00:00  until  2022-05-16 00:00:00\n",
      "Getting data from  2022-05-16 00:00:00  until  2022-05-17 00:00:00\n",
      "Getting data from  2022-05-17 00:00:00  until  2022-05-18 00:00:00\n",
      "Getting data from  2022-05-18 00:00:00  until  2022-05-19 00:00:00\n",
      "Getting data from  2022-05-19 00:00:00  until  2022-05-20 00:00:00\n",
      "Getting data from  2022-05-20 00:00:00  until  2022-05-21 00:00:00\n",
      "Getting data from  2022-05-21 00:00:00  until  2022-05-22 00:00:00\n",
      "Getting data from  2022-05-22 00:00:00  until  2022-05-23 00:00:00\n",
      "Getting data from  2022-05-23 00:00:00  until  2022-05-24 00:00:00\n",
      "Getting data from  2022-05-24 00:00:00  until  2022-05-25 00:00:00\n",
      "Getting data from  2022-05-25 00:00:00  until  2022-05-26 00:00:00\n",
      "Getting data from  2022-05-26 00:00:00  until  2022-05-27 00:00:00\n",
      "Getting data from  2022-05-27 00:00:00  until  2022-05-28 00:00:00\n",
      "Getting data from  2022-05-28 00:00:00  until  2022-05-28 09:33:02.915884\n"
     ]
    }
   ],
   "source": [
    "for start_date, end_date in import_timestamps:\n",
    "    print(\"Getting data from \", start_date, \" until \", end_date)"
   ]
  },
  {
   "cell_type": "code",
   "execution_count": null,
   "id": "a444eba6-3ddf-4265-bd97-10131c6984c7",
   "metadata": {},
   "outputs": [],
   "source": []
  }
 ],
 "metadata": {
  "kernelspec": {
   "display_name": "Python 3 (ipykernel)",
   "language": "python",
   "name": "python3"
  },
  "language_info": {
   "codemirror_mode": {
    "name": "ipython",
    "version": 3
   },
   "file_extension": ".py",
   "mimetype": "text/x-python",
   "name": "python",
   "nbconvert_exporter": "python",
   "pygments_lexer": "ipython3",
   "version": "3.7.11"
  }
 },
 "nbformat": 4,
 "nbformat_minor": 5
}
