{
 "cells": [
  {
   "cell_type": "code",
   "execution_count": 2,
   "id": "b8bd3b87-3100-4c7e-a3c6-22f14c9add1a",
   "metadata": {},
   "outputs": [],
   "source": [
    "import pymongo\n",
    "\n",
    "MONGO_PASSWORD = \"sTIhAzn9UMlPtrrm\"\n",
    "MONGO_USER = \"johtorr\"\n",
    "MONGO_URL = \"mongodb+srv://{}:{}@tensor-database.rjyvv.mongodb.net/?retryWrites=true&w=majority\".format(MONGO_USER,MONGO_PASSWORD)\n",
    "\n",
    "client = pymongo.MongoClient(MONGO_URL)\n",
    "\n",
    "\n",
    "backtesting = client[\"backtesting\"]\n",
    "\n",
    "print(backtesting.list_collection_names())\n",
    "\n",
    "mydict = { \"name\": \"John\", \"address\": \"Highway 37\" }\n",
    "\n",
    "x = backtesting.insert_one(mydict)"
   ]
  },
  {
   "cell_type": "code",
   "execution_count": 4,
   "id": "1432cf75-ae42-4483-a6a2-66b2ee37172f",
   "metadata": {},
   "outputs": [
    {
     "name": "stdout",
     "output_type": "stream",
     "text": [
      "['admin', 'local']\n"
     ]
    }
   ],
   "source": []
  },
  {
   "cell_type": "code",
   "execution_count": 6,
   "id": "86a42382-7dce-4755-87fa-a3a3ab84fe86",
   "metadata": {},
   "outputs": [],
   "source": []
  },
  {
   "cell_type": "code",
   "execution_count": 8,
   "id": "aa4d940a-dae3-43eb-8447-269fe8c22702",
   "metadata": {},
   "outputs": [
    {
     "data": {
      "text/plain": [
       "[]"
      ]
     },
     "execution_count": 8,
     "metadata": {},
     "output_type": "execute_result"
    }
   ],
   "source": []
  },
  {
   "cell_type": "code",
   "execution_count": null,
   "id": "b424151b-01e5-4e40-81df-4c44b952a0f2",
   "metadata": {},
   "outputs": [],
   "source": []
  }
 ],
 "metadata": {
  "kernelspec": {
   "display_name": "Python 3 (ipykernel)",
   "language": "python",
   "name": "python3"
  },
  "language_info": {
   "codemirror_mode": {
    "name": "ipython",
    "version": 3
   },
   "file_extension": ".py",
   "mimetype": "text/x-python",
   "name": "python",
   "nbconvert_exporter": "python",
   "pygments_lexer": "ipython3",
   "version": "3.7.11"
  }
 },
 "nbformat": 4,
 "nbformat_minor": 5
}
